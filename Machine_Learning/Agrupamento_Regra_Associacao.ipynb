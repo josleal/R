{
 "cells": [
  {
   "cell_type": "markdown",
   "id": "39cc47b2",
   "metadata": {},
   "source": [
    "    \n",
    "Especialização em Inteligência Artificial Aplicada - Universidade Federal do Paraná - UFPR \n",
    "    \n",
    "IAA007 – Aprendizado de Máquina e Laboratório de IA    \n",
    "**Prof. Dr. Jaime Wojciechowski**\n",
    "    \n",
    "Josué Leal Evangelista"
   ]
  },
  {
   "cell_type": "markdown",
   "id": "983be15b",
   "metadata": {},
   "source": [
    "### AGRUPAMENTO E REGRAS DE ASSOCIAÇÃO"
   ]
  },
  {
   "cell_type": "code",
   "execution_count": 1,
   "id": "8fc2c5a4",
   "metadata": {},
   "outputs": [],
   "source": [
    "# DESATIVAR MENSAGENS DE WARNINGS (warn = -1) E ATIVAR (warn = 0)\n",
    "options(warn = -1)"
   ]
  },
  {
   "cell_type": "code",
   "execution_count": 2,
   "id": "713fbfd4",
   "metadata": {},
   "outputs": [],
   "source": [
    "# CARREGAR BIBLIOTECAS\n",
    "suppressPackageStartupMessages({\n",
    "library(caret)\n",
    "library(e1071)\n",
    "library(data.table)\n",
    "library(dplyr)\n",
    "library(ggplot2)\n",
    "library(cowplot)\n",
    "library(tidyr)\n",
    "library(klaR)\n",
    "library(arules)\n",
    "library(datasets)\n",
    "})"
   ]
  },
  {
   "cell_type": "markdown",
   "id": "8ad54e23",
   "metadata": {},
   "source": [
    "### 1 - AGRUPAMENTO"
   ]
  },
  {
   "cell_type": "markdown",
   "id": "066531c8",
   "metadata": {},
   "source": [
    "#### 1.1 - ÍRIS"
   ]
  },
  {
   "cell_type": "code",
   "execution_count": 3,
   "id": "b70d9e86",
   "metadata": {},
   "outputs": [],
   "source": [
    "# CARREGAR O DATASET ÍRIS\n",
    "data(iris)\n",
    "df_iris <- as.data.frame(iris)"
   ]
  },
  {
   "cell_type": "code",
   "execution_count": 4,
   "id": "5a334ef6",
   "metadata": {},
   "outputs": [
    {
     "data": {
      "text/html": [
       "<table>\n",
       "<thead><tr><th scope=col>Sepal.Length</th><th scope=col>Sepal.Width</th><th scope=col>Petal.Length</th><th scope=col>Petal.Width</th><th scope=col>Species</th></tr></thead>\n",
       "<tbody>\n",
       "\t<tr><td>5.1   </td><td>3.5   </td><td>1.4   </td><td>0.2   </td><td>setosa</td></tr>\n",
       "\t<tr><td>4.9   </td><td>3.0   </td><td>1.4   </td><td>0.2   </td><td>setosa</td></tr>\n",
       "\t<tr><td>4.7   </td><td>3.2   </td><td>1.3   </td><td>0.2   </td><td>setosa</td></tr>\n",
       "\t<tr><td>4.6   </td><td>3.1   </td><td>1.5   </td><td>0.2   </td><td>setosa</td></tr>\n",
       "\t<tr><td>5.0   </td><td>3.6   </td><td>1.4   </td><td>0.2   </td><td>setosa</td></tr>\n",
       "\t<tr><td>5.4   </td><td>3.9   </td><td>1.7   </td><td>0.4   </td><td>setosa</td></tr>\n",
       "</tbody>\n",
       "</table>\n"
      ],
      "text/latex": [
       "\\begin{tabular}{r|lllll}\n",
       " Sepal.Length & Sepal.Width & Petal.Length & Petal.Width & Species\\\\\n",
       "\\hline\n",
       "\t 5.1    & 3.5    & 1.4    & 0.2    & setosa\\\\\n",
       "\t 4.9    & 3.0    & 1.4    & 0.2    & setosa\\\\\n",
       "\t 4.7    & 3.2    & 1.3    & 0.2    & setosa\\\\\n",
       "\t 4.6    & 3.1    & 1.5    & 0.2    & setosa\\\\\n",
       "\t 5.0    & 3.6    & 1.4    & 0.2    & setosa\\\\\n",
       "\t 5.4    & 3.9    & 1.7    & 0.4    & setosa\\\\\n",
       "\\end{tabular}\n"
      ],
      "text/markdown": [
       "\n",
       "| Sepal.Length | Sepal.Width | Petal.Length | Petal.Width | Species |\n",
       "|---|---|---|---|---|\n",
       "| 5.1    | 3.5    | 1.4    | 0.2    | setosa |\n",
       "| 4.9    | 3.0    | 1.4    | 0.2    | setosa |\n",
       "| 4.7    | 3.2    | 1.3    | 0.2    | setosa |\n",
       "| 4.6    | 3.1    | 1.5    | 0.2    | setosa |\n",
       "| 5.0    | 3.6    | 1.4    | 0.2    | setosa |\n",
       "| 5.4    | 3.9    | 1.7    | 0.4    | setosa |\n",
       "\n"
      ],
      "text/plain": [
       "  Sepal.Length Sepal.Width Petal.Length Petal.Width Species\n",
       "1 5.1          3.5         1.4          0.2         setosa \n",
       "2 4.9          3.0         1.4          0.2         setosa \n",
       "3 4.7          3.2         1.3          0.2         setosa \n",
       "4 4.6          3.1         1.5          0.2         setosa \n",
       "5 5.0          3.6         1.4          0.2         setosa \n",
       "6 5.4          3.9         1.7          0.4         setosa "
      ]
     },
     "metadata": {},
     "output_type": "display_data"
    }
   ],
   "source": [
    "head(df_iris)"
   ]
  },
  {
   "cell_type": "code",
   "execution_count": 5,
   "id": "ac5690e4",
   "metadata": {},
   "outputs": [
    {
     "data": {
      "text/plain": [
       "\n",
       "    setosa versicolor  virginica \n",
       "        50         50         50 "
      ]
     },
     "metadata": {},
     "output_type": "display_data"
    }
   ],
   "source": [
    "# QUANTIDADE DE OBSERVAÇÕES DE CADA CLASSE\n",
    "table(df_iris$Species)"
   ]
  },
  {
   "cell_type": "code",
   "execution_count": 6,
   "id": "3f846850",
   "metadata": {},
   "outputs": [
    {
     "name": "stdout",
     "output_type": "stream",
     "text": [
      "Rows: 150\n",
      "Columns: 5\n",
      "$ Sepal.Length <dbl> 5.1, 4.9, 4.7, 4.6, 5.0, 5.4, 4.6, 5.0, 4.4, 4.9, 5.4, 4.~\n",
      "$ Sepal.Width  <dbl> 3.5, 3.0, 3.2, 3.1, 3.6, 3.9, 3.4, 3.4, 2.9, 3.1, 3.7, 3.~\n",
      "$ Petal.Length <dbl> 1.4, 1.4, 1.3, 1.5, 1.4, 1.7, 1.4, 1.5, 1.4, 1.5, 1.5, 1.~\n",
      "$ Petal.Width  <dbl> 0.2, 0.2, 0.2, 0.2, 0.2, 0.4, 0.3, 0.2, 0.2, 0.1, 0.2, 0.~\n",
      "$ Species      <fct> setosa, setosa, setosa, setosa, setosa, setosa, setosa, s~\n"
     ]
    }
   ],
   "source": [
    "glimpse(df_iris)"
   ]
  },
  {
   "cell_type": "code",
   "execution_count": 7,
   "id": "17998021",
   "metadata": {},
   "outputs": [],
   "source": [
    "set.seed(1971)"
   ]
  },
  {
   "cell_type": "markdown",
   "id": "7e0e7643",
   "metadata": {},
   "source": [
    "#### APRENDIZADO - K-MEANS"
   ]
  },
  {
   "cell_type": "code",
   "execution_count": 8,
   "id": "63bd3262",
   "metadata": {},
   "outputs": [],
   "source": [
    "# APRENDIZADO NÃO SUPERVISIONADO \n",
    "modelo_kmeans_iris <- kmeans(df_iris[, 3:4], centers = 3)"
   ]
  },
  {
   "cell_type": "code",
   "execution_count": 9,
   "id": "f9546d6f",
   "metadata": {},
   "outputs": [
    {
     "name": "stdout",
     "output_type": "stream",
     "text": [
      "K-means clustering with 3 clusters of sizes 50, 52, 48\n",
      "\n",
      "Cluster means:\n",
      "  Petal.Length Petal.Width\n",
      "1     1.462000    0.246000\n",
      "2     4.269231    1.342308\n",
      "3     5.595833    2.037500\n",
      "\n",
      "Clustering vector:\n",
      "  [1] 1 1 1 1 1 1 1 1 1 1 1 1 1 1 1 1 1 1 1 1 1 1 1 1 1 1 1 1 1 1 1 1 1 1 1 1 1\n",
      " [38] 1 1 1 1 1 1 1 1 1 1 1 1 1 2 2 2 2 2 2 2 2 2 2 2 2 2 2 2 2 2 2 2 2 2 2 2 2\n",
      " [75] 2 2 2 3 2 2 2 2 2 3 2 2 2 2 2 2 2 2 2 2 2 2 2 2 2 2 3 3 3 3 3 3 2 3 3 3 3\n",
      "[112] 3 3 3 3 3 3 3 3 2 3 3 3 3 3 3 2 3 3 3 3 3 3 3 3 3 3 3 2 3 3 3 3 3 3 3 3 3\n",
      "[149] 3 3\n",
      "\n",
      "Within cluster sum of squares by cluster:\n",
      "[1]  2.02200 13.05769 16.29167\n",
      " (between_SS / total_SS =  94.3 %)\n",
      "\n",
      "Available components:\n",
      "\n",
      "[1] \"cluster\"      \"centers\"      \"totss\"        \"withinss\"     \"tot.withinss\"\n",
      "[6] \"betweenss\"    \"size\"         \"iter\"         \"ifault\"      \n"
     ]
    }
   ],
   "source": [
    "print(modelo_kmeans_iris)"
   ]
  },
  {
   "cell_type": "code",
   "execution_count": 10,
   "id": "63ce4928",
   "metadata": {},
   "outputs": [],
   "source": [
    "# COLOCAR A COLUNA DE RESULTADOS DOS CLUSTERS NO DATASET ORIGINAL \n",
    "Cluster_iris <- modelo_kmeans_iris$cluster\n",
    "Cluster_iris <- as.factor(Cluster_iris)\n",
    "resultado_iris <- cbind(df_iris, Cluster_iris)"
   ]
  },
  {
   "cell_type": "code",
   "execution_count": 11,
   "id": "c72b07ac",
   "metadata": {},
   "outputs": [],
   "source": [
    "for (i in 1:nrow(resultado_iris)){\n",
    "    specie <- resultado_iris[i,6]\n",
    "    if (specie == '1'){\n",
    "        resultado_iris$Cluster.Species[i] <- \"setosa\"\n",
    "        }\n",
    "    if (specie == '2'){\n",
    "        resultado_iris$Cluster.Species[i] <- \"versicolor\"\n",
    "        }  \n",
    "    if (specie == '3'){\n",
    "        resultado_iris$Cluster.Species[i] <- \"virginica\"\n",
    "        }\n",
    "}"
   ]
  },
  {
   "cell_type": "code",
   "execution_count": 12,
   "id": "01b2bbb9",
   "metadata": {},
   "outputs": [
    {
     "data": {
      "text/html": [
       "<table>\n",
       "<thead><tr><th scope=col>Sepal.Length</th><th scope=col>Sepal.Width</th><th scope=col>Petal.Length</th><th scope=col>Petal.Width</th><th scope=col>Species</th><th scope=col>Cluster_iris</th><th scope=col>Cluster.Species</th></tr></thead>\n",
       "<tbody>\n",
       "\t<tr><td>5.1   </td><td>3.5   </td><td>1.4   </td><td>0.2   </td><td>setosa</td><td>1     </td><td>setosa</td></tr>\n",
       "\t<tr><td>4.9   </td><td>3.0   </td><td>1.4   </td><td>0.2   </td><td>setosa</td><td>1     </td><td>setosa</td></tr>\n",
       "\t<tr><td>4.7   </td><td>3.2   </td><td>1.3   </td><td>0.2   </td><td>setosa</td><td>1     </td><td>setosa</td></tr>\n",
       "\t<tr><td>4.6   </td><td>3.1   </td><td>1.5   </td><td>0.2   </td><td>setosa</td><td>1     </td><td>setosa</td></tr>\n",
       "\t<tr><td>5.0   </td><td>3.6   </td><td>1.4   </td><td>0.2   </td><td>setosa</td><td>1     </td><td>setosa</td></tr>\n",
       "\t<tr><td>5.4   </td><td>3.9   </td><td>1.7   </td><td>0.4   </td><td>setosa</td><td>1     </td><td>setosa</td></tr>\n",
       "\t<tr><td>4.6   </td><td>3.4   </td><td>1.4   </td><td>0.3   </td><td>setosa</td><td>1     </td><td>setosa</td></tr>\n",
       "\t<tr><td>5.0   </td><td>3.4   </td><td>1.5   </td><td>0.2   </td><td>setosa</td><td>1     </td><td>setosa</td></tr>\n",
       "\t<tr><td>4.4   </td><td>2.9   </td><td>1.4   </td><td>0.2   </td><td>setosa</td><td>1     </td><td>setosa</td></tr>\n",
       "\t<tr><td>4.9   </td><td>3.1   </td><td>1.5   </td><td>0.1   </td><td>setosa</td><td>1     </td><td>setosa</td></tr>\n",
       "</tbody>\n",
       "</table>\n"
      ],
      "text/latex": [
       "\\begin{tabular}{r|lllllll}\n",
       " Sepal.Length & Sepal.Width & Petal.Length & Petal.Width & Species & Cluster\\_iris & Cluster.Species\\\\\n",
       "\\hline\n",
       "\t 5.1    & 3.5    & 1.4    & 0.2    & setosa & 1      & setosa\\\\\n",
       "\t 4.9    & 3.0    & 1.4    & 0.2    & setosa & 1      & setosa\\\\\n",
       "\t 4.7    & 3.2    & 1.3    & 0.2    & setosa & 1      & setosa\\\\\n",
       "\t 4.6    & 3.1    & 1.5    & 0.2    & setosa & 1      & setosa\\\\\n",
       "\t 5.0    & 3.6    & 1.4    & 0.2    & setosa & 1      & setosa\\\\\n",
       "\t 5.4    & 3.9    & 1.7    & 0.4    & setosa & 1      & setosa\\\\\n",
       "\t 4.6    & 3.4    & 1.4    & 0.3    & setosa & 1      & setosa\\\\\n",
       "\t 5.0    & 3.4    & 1.5    & 0.2    & setosa & 1      & setosa\\\\\n",
       "\t 4.4    & 2.9    & 1.4    & 0.2    & setosa & 1      & setosa\\\\\n",
       "\t 4.9    & 3.1    & 1.5    & 0.1    & setosa & 1      & setosa\\\\\n",
       "\\end{tabular}\n"
      ],
      "text/markdown": [
       "\n",
       "| Sepal.Length | Sepal.Width | Petal.Length | Petal.Width | Species | Cluster_iris | Cluster.Species |\n",
       "|---|---|---|---|---|---|---|\n",
       "| 5.1    | 3.5    | 1.4    | 0.2    | setosa | 1      | setosa |\n",
       "| 4.9    | 3.0    | 1.4    | 0.2    | setosa | 1      | setosa |\n",
       "| 4.7    | 3.2    | 1.3    | 0.2    | setosa | 1      | setosa |\n",
       "| 4.6    | 3.1    | 1.5    | 0.2    | setosa | 1      | setosa |\n",
       "| 5.0    | 3.6    | 1.4    | 0.2    | setosa | 1      | setosa |\n",
       "| 5.4    | 3.9    | 1.7    | 0.4    | setosa | 1      | setosa |\n",
       "| 4.6    | 3.4    | 1.4    | 0.3    | setosa | 1      | setosa |\n",
       "| 5.0    | 3.4    | 1.5    | 0.2    | setosa | 1      | setosa |\n",
       "| 4.4    | 2.9    | 1.4    | 0.2    | setosa | 1      | setosa |\n",
       "| 4.9    | 3.1    | 1.5    | 0.1    | setosa | 1      | setosa |\n",
       "\n"
      ],
      "text/plain": [
       "   Sepal.Length Sepal.Width Petal.Length Petal.Width Species Cluster_iris\n",
       "1  5.1          3.5         1.4          0.2         setosa  1           \n",
       "2  4.9          3.0         1.4          0.2         setosa  1           \n",
       "3  4.7          3.2         1.3          0.2         setosa  1           \n",
       "4  4.6          3.1         1.5          0.2         setosa  1           \n",
       "5  5.0          3.6         1.4          0.2         setosa  1           \n",
       "6  5.4          3.9         1.7          0.4         setosa  1           \n",
       "7  4.6          3.4         1.4          0.3         setosa  1           \n",
       "8  5.0          3.4         1.5          0.2         setosa  1           \n",
       "9  4.4          2.9         1.4          0.2         setosa  1           \n",
       "10 4.9          3.1         1.5          0.1         setosa  1           \n",
       "   Cluster.Species\n",
       "1  setosa         \n",
       "2  setosa         \n",
       "3  setosa         \n",
       "4  setosa         \n",
       "5  setosa         \n",
       "6  setosa         \n",
       "7  setosa         \n",
       "8  setosa         \n",
       "9  setosa         \n",
       "10 setosa         "
      ]
     },
     "metadata": {},
     "output_type": "display_data"
    }
   ],
   "source": [
    "head(resultado_iris, 10)"
   ]
  },
  {
   "cell_type": "code",
   "execution_count": 13,
   "id": "27f20a96",
   "metadata": {},
   "outputs": [
    {
     "data": {
      "image/png": "[encoded data removed]",
      "text/plain": [
       "plot without title"
      ]
     },
     "metadata": {},
     "output_type": "display_data"
    }
   ],
   "source": [
    "# GRÁFICO 1 ANTES DA GERAÇÃO DOS CLUSTERS\n",
    "options(repr.plot.width = 4.5, repr.plot.height = 6.5)\n",
    "grafico1 <- ggplot(df_iris, aes(Petal.Length, Petal.Width, color = Species)) + \n",
    "            geom_point() +\n",
    "            labs(title = 'Dados Íris') +\n",
    "            theme(plot.title = element_text(hjust = 0.5), text = element_text(size = 9)) \n",
    "\n",
    "\n",
    "# GRÁFICO 2 COM OS CLUSTERS GERADOS\n",
    "grafico2 <- ggplot(resultado_iris, aes(Petal.Length, Petal.Width, color = Cluster.Species)) + \n",
    "            geom_point() +\n",
    "            labs(title = 'Modelo K-means') +\n",
    "            theme(plot.title = element_text(hjust = 0.5), text = element_text(size = 9)) \n",
    "\n",
    "plot_grid(grafico1, grafico2, ncol = 1, nrow = 2, align = \"hv\")"
   ]
  },
  {
   "cell_type": "code",
   "execution_count": 14,
   "id": "6d9cacb3",
   "metadata": {},
   "outputs": [
    {
     "data": {
      "text/plain": [
       "   real\n",
       "    setosa versicolor virginica\n",
       "  1     50          0         0\n",
       "  2      0         48         4\n",
       "  3      0          2        46"
      ]
     },
     "metadata": {},
     "output_type": "display_data"
    }
   ],
   "source": [
    "# COMPARATIVO ENTRE A CLUSTERIZAÇÃO E A CLASSIFICAÇÃO REAL\n",
    "table(resultado_iris$Cluster_iris, real = df_iris$Species)"
   ]
  },
  {
   "cell_type": "markdown",
   "id": "a544b52d",
   "metadata": {},
   "source": [
    "Conforme os gráficos e a tabela acima percebe-se que ocorreram alguns erros do algoritmo na geração de clusters. Suponhamos que o dataset original não tivesse a coluna Species (se não soubessemos as classes originais) e que a partir dos dados com os atributos Petal.Width e Petal.Length quisessemos que o algoritmo gerasse 3 clusters referentes a setosa, versicolor e virginica. Conforme visto no gráfico 2 e na tabela, o resultado seria uma definição muito próxima das classes reais. Note que o segundo gráfico ficou muito próximo do primeiro. Percebe-se alguns erros, mas está bem próximo do original. Em aprendizagem não supervisionada não temos a saída (classes: setosa, versicolor e virginica), mas com o exemplo acima e a comparação feita, percebe-se como o k-means pode ser útil, pois apresentou um ótimo desempenho chegando bem próximo do agrupamento real."
   ]
  },
  {
   "cell_type": "markdown",
   "id": "089fce76",
   "metadata": {},
   "source": [
    "#### 1.2 - MÓVEIS"
   ]
  },
  {
   "cell_type": "code",
   "execution_count": 15,
   "id": "1077e879",
   "metadata": {},
   "outputs": [],
   "source": [
    "# CARREGAR DATASET\n",
    "dados_moveis <- fread(\"Material 07 - 2 - Moveis - Dados.csv\")\n",
    "df_moveis <- as.data.frame(dados_moveis)"
   ]
  },
  {
   "cell_type": "code",
   "execution_count": 16,
   "id": "68bd4ad7",
   "metadata": {},
   "outputs": [
    {
     "data": {
      "text/html": [
       "<table>\n",
       "<thead><tr><th scope=col>categoria</th><th scope=col>cor</th><th scope=col>estilo</th></tr></thead>\n",
       "<tbody>\n",
       "\t<tr><td>Quarto Juvenil / Guarda-roupas / Guarda-roupas juvenil com portas de bater</td><td>Branco Linho Gelo/Azul/Branco Linho                                       </td><td>tradicional                                                               </td></tr>\n",
       "\t<tr><td>Quarto Juvenil / Guarda-roupas / Guarda-roupas juvenil com portas de bater</td><td>Branco Linho Gelo/Rosa/Azul                                               </td><td>tradicional                                                               </td></tr>\n",
       "\t<tr><td>Quarto Juvenil / Guarda-roupas / Guarda-roupas juvenil com portas de bater</td><td>Branco Linho Gelo/Azul/Branco Linho                                       </td><td>tradicional                                                               </td></tr>\n",
       "\t<tr><td>Quarto Juvenil / Guarda-roupas / Guarda-roupas juvenil com portas de bater</td><td>Branco Linho Gelo/Rosa/Azul                                               </td><td>tradicional                                                               </td></tr>\n",
       "\t<tr><td>Quarto Infantil / Comoda                                                  </td><td>Branco Linho Gelo/Azul/Branco Linho                                       </td><td>tradicional                                                               </td></tr>\n",
       "\t<tr><td>Quarto Infantil / Comoda                                                  </td><td>Branco Linho Gelo/Rosa/Azul                                               </td><td>tradicional                                                               </td></tr>\n",
       "</tbody>\n",
       "</table>\n"
      ],
      "text/latex": [
       "\\begin{tabular}{r|lll}\n",
       " categoria & cor & estilo\\\\\n",
       "\\hline\n",
       "\t Quarto Juvenil / Guarda-roupas / Guarda-roupas juvenil com portas de bater & Branco Linho Gelo/Azul/Branco Linho                                        & tradicional                                                               \\\\\n",
       "\t Quarto Juvenil / Guarda-roupas / Guarda-roupas juvenil com portas de bater & Branco Linho Gelo/Rosa/Azul                                                & tradicional                                                               \\\\\n",
       "\t Quarto Juvenil / Guarda-roupas / Guarda-roupas juvenil com portas de bater & Branco Linho Gelo/Azul/Branco Linho                                        & tradicional                                                               \\\\\n",
       "\t Quarto Juvenil / Guarda-roupas / Guarda-roupas juvenil com portas de bater & Branco Linho Gelo/Rosa/Azul                                                & tradicional                                                               \\\\\n",
       "\t Quarto Infantil / Comoda                                                   & Branco Linho Gelo/Azul/Branco Linho                                        & tradicional                                                               \\\\\n",
       "\t Quarto Infantil / Comoda                                                   & Branco Linho Gelo/Rosa/Azul                                                & tradicional                                                               \\\\\n",
       "\\end{tabular}\n"
      ],
      "text/markdown": [
       "\n",
       "| categoria | cor | estilo |\n",
       "|---|---|---|\n",
       "| Quarto Juvenil / Guarda-roupas / Guarda-roupas juvenil com portas de bater | Branco Linho Gelo/Azul/Branco Linho                                        | tradicional                                                                |\n",
       "| Quarto Juvenil / Guarda-roupas / Guarda-roupas juvenil com portas de bater | Branco Linho Gelo/Rosa/Azul                                                | tradicional                                                                |\n",
       "| Quarto Juvenil / Guarda-roupas / Guarda-roupas juvenil com portas de bater | Branco Linho Gelo/Azul/Branco Linho                                        | tradicional                                                                |\n",
       "| Quarto Juvenil / Guarda-roupas / Guarda-roupas juvenil com portas de bater | Branco Linho Gelo/Rosa/Azul                                                | tradicional                                                                |\n",
       "| Quarto Infantil / Comoda                                                   | Branco Linho Gelo/Azul/Branco Linho                                        | tradicional                                                                |\n",
       "| Quarto Infantil / Comoda                                                   | Branco Linho Gelo/Rosa/Azul                                                | tradicional                                                                |\n",
       "\n"
      ],
      "text/plain": [
       "  categoria                                                                 \n",
       "1 Quarto Juvenil / Guarda-roupas / Guarda-roupas juvenil com portas de bater\n",
       "2 Quarto Juvenil / Guarda-roupas / Guarda-roupas juvenil com portas de bater\n",
       "3 Quarto Juvenil / Guarda-roupas / Guarda-roupas juvenil com portas de bater\n",
       "4 Quarto Juvenil / Guarda-roupas / Guarda-roupas juvenil com portas de bater\n",
       "5 Quarto Infantil / Comoda                                                  \n",
       "6 Quarto Infantil / Comoda                                                  \n",
       "  cor                                 estilo     \n",
       "1 Branco Linho Gelo/Azul/Branco Linho tradicional\n",
       "2 Branco Linho Gelo/Rosa/Azul         tradicional\n",
       "3 Branco Linho Gelo/Azul/Branco Linho tradicional\n",
       "4 Branco Linho Gelo/Rosa/Azul         tradicional\n",
       "5 Branco Linho Gelo/Azul/Branco Linho tradicional\n",
       "6 Branco Linho Gelo/Rosa/Azul         tradicional"
      ]
     },
     "metadata": {},
     "output_type": "display_data"
    }
   ],
   "source": [
    "head(df_moveis)"
   ]
  },
  {
   "cell_type": "code",
   "execution_count": 17,
   "id": "1999ce1a",
   "metadata": {},
   "outputs": [
    {
     "name": "stdout",
     "output_type": "stream",
     "text": [
      "'data.frame':\t454 obs. of  3 variables:\n",
      " $ categoria: chr  \"Quarto Juvenil / Guarda-roupas / Guarda-roupas juvenil com portas de bater\" \"Quarto Juvenil / Guarda-roupas / Guarda-roupas juvenil com portas de bater\" \"Quarto Juvenil / Guarda-roupas / Guarda-roupas juvenil com portas de bater\" \"Quarto Juvenil / Guarda-roupas / Guarda-roupas juvenil com portas de bater\" ...\n",
      " $ cor      : chr  \"Branco Linho Gelo/Azul/Branco Linho\" \"Branco Linho Gelo/Rosa/Azul\" \"Branco Linho Gelo/Azul/Branco Linho\" \"Branco Linho Gelo/Rosa/Azul\" ...\n",
      " $ estilo   : chr  \"tradicional\" \"tradicional\" \"tradicional\" \"tradicional\" ...\n"
     ]
    }
   ],
   "source": [
    "str(df_moveis)"
   ]
  },
  {
   "cell_type": "markdown",
   "id": "18467b31",
   "metadata": {},
   "source": [
    "#### APRENDIZADO - K-MODES"
   ]
  },
  {
   "cell_type": "code",
   "execution_count": 18,
   "id": "8c5d9de7",
   "metadata": {},
   "outputs": [],
   "source": [
    "# APRENDIZADO NÃO SUPERVISIONADO \n",
    "modelo_kmodes_moveis <- kmodes(df_moveis, 14, iter.max = 10, weighted = FALSE ) "
   ]
  },
  {
   "cell_type": "code",
   "execution_count": 19,
   "id": "484a02cf",
   "metadata": {},
   "outputs": [
    {
     "name": "stdout",
     "output_type": "stream",
     "text": [
      "K-modes clustering with 14 clusters of sizes 197, 30, 1, 34, 44, 3, 28, 43, 3, 11, 7, 1, 8, 44\n",
      "\n",
      "Cluster modes:\n",
      "                                                            categoria\n",
      "1                                Cozinha / Balcao / Balcao em madeira\n",
      "2                       Sala de Estar / Racks para TV / Racks para TV\n",
      "3                       Sala de Estar / Racks para TV / Racks para TV\n",
      "4                          Escritorio / Mesas / Mesas para computador\n",
      "5                       Cozinha / Balcao / Balcao de canto em madeira\n",
      "6                    Quarto / Cabeceiras / Cabeceiras para cama queen\n",
      "7                                         Quarto do Bebe / Mini-camas\n",
      "8                   Sala de Estar / Mesas para sala / Mesas de centro\n",
      "9                Cozinha / Armario / Armario aereo de canto de parede\n",
      "10                                Quarto Juvenil / Beliche e treliche\n",
      "11                          Quarto do Bebe / Bercos / Berco americano\n",
      "12                                        Sala de Jantar / Aparadores\n",
      "13 Quarto do Bebe / Guarda-roupas / Guarda-roupas com portas de bater\n",
      "14                               Cozinha / Balcao / Balcao em madeira\n",
      "                                   cor      estilo\n",
      "1                             Carvalle     moderno\n",
      "2                              Rustico     moderno\n",
      "3                  Western Teka/Branco     moderno\n",
      "4          Branco Linho Gelo/Rosa/Azul tradicional\n",
      "5                        Nature/Branco     moderno\n",
      "6                       Amendoa/Artico tradicional\n",
      "7                               Branco     moderno\n",
      "8                               Branco tradicional\n",
      "9                             Carvalle     moderno\n",
      "10                              Tabaco tradicional\n",
      "11             Branco Acetinado/Wengue     moderno\n",
      "12                             Rustico     moderno\n",
      "13 Branco Linho Gelo/Azul/Branco Linho tradicional\n",
      "14                     Carvalle/Branco     moderno\n",
      "\n",
      "Clustering vector:\n",
      "  [1] 13  4 13  4 13  4  4  4 13  4 13  4 13  7  8  7  8  7  7  7  7  7  7  8  8\n",
      " [26]  8  1  7  4 10  4 10 10 10 10 10  4 13  4  3  2  8 13  4 12  4  8  4  8  2\n",
      " [51]  8  2  8  8  8  1  1  1  2  4  2  2  2  4  4  4  4  2  2  2  2  2  2  2  8\n",
      " [76]  2  2  2  8  4  2  8  8  2  2  8  8  8  8  8  4  8  4  8  4  4  8  7  4  4\n",
      "[101]  7  7  7  1  1  7  1  7  1  4  8  7  7  2 10 10 10 10 10  1  1  1  1  1  8\n",
      "[126]  2  1 14  1 14 14  1 14  1 14  1 14  1  9  9  1 14  1  1 14  1  1 14  1 14\n",
      "[151]  1  1 14  1  1 14  1 14  1  1  1  1  1 14  1 14  1  1 14  1 14  1  1  5  5\n",
      "[176]  1  1  5  5  1 14  1  1 14  1 14  1  1  1  1  1  1 14  1  1  1  7  1  1  1\n",
      "[201]  2  2  2  2  2  2  2  7  7  7  7  7  7  2  8  1  4  1  1  1  7  1  4  4  4\n",
      "[226]  4  1 11  7 11 11  7  7 11  1 11  1 11  1 11  1  1 14  1  6  6  6  1  5  1\n",
      "[251]  5  1  1  5  1  5  1  1  1  1  5  1  5  1  1  1  1  1  1  1  1  1  1  1  1\n",
      "[276]  1  1  1  1  1  1  1  1  1  1  5  5  5  5  5  5  5  5  1  5  1  1  1  5  1\n",
      "[301]  1  1  1  1  1  1  1  1  1  1  5  5  1  1  1  1  1  1  1  1  1  1  1  1  1\n",
      "[326]  1  1  1  1  1  1  1  1  1  1  1  5  5  5  5  5  5  5  1  5  1  5  1  1  1\n",
      "[351]  1  1  5  1  8  8  8  8  1  9  5  1 14  1 14  1  1 14  1 14  1  1  1 14 14\n",
      "[376]  1  1 14  1 14  1 14  1  1  1  1 14  1  1  1 14  1  1  1  1 14 14  1  1  1\n",
      "[401] 14  1  1 14  1  1 14  1  1  5  5  5  5  1  5  5  1  5  5  5  5 14  1 14  1\n",
      "[426]  1 14  1  1 14  1  1  1 14 14  8  8  8  8  8  8  8  8  8  8  4  1  8  4  1\n",
      "[451]  8  1  5  1\n",
      "\n",
      "Within cluster simple-matching distance by cluster:\n",
      " [1] 250  46   0  57  36   2  23  42   2   7   5   0   6  18\n",
      "\n",
      "Available components:\n",
      "[1] \"cluster\"    \"size\"       \"modes\"      \"withindiff\" \"iterations\"\n",
      "[6] \"weighted\"  \n"
     ]
    }
   ],
   "source": [
    "print(modelo_kmodes_moveis)"
   ]
  },
  {
   "cell_type": "code",
   "execution_count": 20,
   "id": "9d14bc63",
   "metadata": {},
   "outputs": [],
   "source": [
    "# COLOCANDO A COLUNA DE RESULTADOS DOS CLUSTERS NO DATASET ORIGINAL \n",
    "Cluster_moveis <- modelo_kmodes_moveis$cluster\n",
    "Cluster_moveis <- as.factor(Cluster_moveis)\n",
    "resultado_moveis <- cbind(df_moveis, Cluster_moveis)"
   ]
  },
  {
   "cell_type": "code",
   "execution_count": 21,
   "id": "0c85eba2",
   "metadata": {},
   "outputs": [
    {
     "data": {
      "text/html": [
       "<table>\n",
       "<thead><tr><th scope=col>categoria</th><th scope=col>cor</th><th scope=col>estilo</th><th scope=col>Cluster_moveis</th></tr></thead>\n",
       "<tbody>\n",
       "\t<tr><td>Quarto Juvenil / Guarda-roupas / Guarda-roupas juvenil com portas de bater</td><td>Branco Linho Gelo/Azul/Branco Linho                                       </td><td>tradicional                                                               </td><td>13                                                                        </td></tr>\n",
       "\t<tr><td>Quarto Juvenil / Guarda-roupas / Guarda-roupas juvenil com portas de bater</td><td>Branco Linho Gelo/Rosa/Azul                                               </td><td>tradicional                                                               </td><td>4                                                                         </td></tr>\n",
       "\t<tr><td>Quarto Juvenil / Guarda-roupas / Guarda-roupas juvenil com portas de bater</td><td>Branco Linho Gelo/Azul/Branco Linho                                       </td><td>tradicional                                                               </td><td>13                                                                        </td></tr>\n",
       "\t<tr><td>Quarto Juvenil / Guarda-roupas / Guarda-roupas juvenil com portas de bater</td><td>Branco Linho Gelo/Rosa/Azul                                               </td><td>tradicional                                                               </td><td>4                                                                         </td></tr>\n",
       "\t<tr><td>Quarto Infantil / Comoda                                                  </td><td>Branco Linho Gelo/Azul/Branco Linho                                       </td><td>tradicional                                                               </td><td>13                                                                        </td></tr>\n",
       "\t<tr><td>Quarto Infantil / Comoda                                                  </td><td>Branco Linho Gelo/Rosa/Azul                                               </td><td>tradicional                                                               </td><td>4                                                                         </td></tr>\n",
       "\t<tr><td>Quarto Infantil / Comoda                                                  </td><td>Branco Linho Gelo/Rosa/Azul/Capuccino                                     </td><td>tradicional                                                               </td><td>4                                                                         </td></tr>\n",
       "\t<tr><td>Quarto Infantil / Comoda                                                  </td><td>Branco Linho Gelo/Capuccino/Azul/Rosa                                     </td><td>tradicional                                                               </td><td>4                                                                         </td></tr>\n",
       "\t<tr><td>Quarto Juvenil / Cama                                                     </td><td>Branco Linho Gelo/Azul/Branco Linho                                       </td><td>tradicional                                                               </td><td>13                                                                        </td></tr>\n",
       "\t<tr><td>Quarto Juvenil / Cama                                                     </td><td>Branco Linho Gelo/Rosa/Azul                                               </td><td>tradicional                                                               </td><td>4                                                                         </td></tr>\n",
       "</tbody>\n",
       "</table>\n"
      ],
      "text/latex": [
       "\\begin{tabular}{r|llll}\n",
       " categoria & cor & estilo & Cluster\\_moveis\\\\\n",
       "\\hline\n",
       "\t Quarto Juvenil / Guarda-roupas / Guarda-roupas juvenil com portas de bater & Branco Linho Gelo/Azul/Branco Linho                                        & tradicional                                                                & 13                                                                        \\\\\n",
       "\t Quarto Juvenil / Guarda-roupas / Guarda-roupas juvenil com portas de bater & Branco Linho Gelo/Rosa/Azul                                                & tradicional                                                                & 4                                                                         \\\\\n",
       "\t Quarto Juvenil / Guarda-roupas / Guarda-roupas juvenil com portas de bater & Branco Linho Gelo/Azul/Branco Linho                                        & tradicional                                                                & 13                                                                        \\\\\n",
       "\t Quarto Juvenil / Guarda-roupas / Guarda-roupas juvenil com portas de bater & Branco Linho Gelo/Rosa/Azul                                                & tradicional                                                                & 4                                                                         \\\\\n",
       "\t Quarto Infantil / Comoda                                                   & Branco Linho Gelo/Azul/Branco Linho                                        & tradicional                                                                & 13                                                                        \\\\\n",
       "\t Quarto Infantil / Comoda                                                   & Branco Linho Gelo/Rosa/Azul                                                & tradicional                                                                & 4                                                                         \\\\\n",
       "\t Quarto Infantil / Comoda                                                   & Branco Linho Gelo/Rosa/Azul/Capuccino                                      & tradicional                                                                & 4                                                                         \\\\\n",
       "\t Quarto Infantil / Comoda                                                   & Branco Linho Gelo/Capuccino/Azul/Rosa                                      & tradicional                                                                & 4                                                                         \\\\\n",
       "\t Quarto Juvenil / Cama                                                      & Branco Linho Gelo/Azul/Branco Linho                                        & tradicional                                                                & 13                                                                        \\\\\n",
       "\t Quarto Juvenil / Cama                                                      & Branco Linho Gelo/Rosa/Azul                                                & tradicional                                                                & 4                                                                         \\\\\n",
       "\\end{tabular}\n"
      ],
      "text/markdown": [
       "\n",
       "| categoria | cor | estilo | Cluster_moveis |\n",
       "|---|---|---|---|\n",
       "| Quarto Juvenil / Guarda-roupas / Guarda-roupas juvenil com portas de bater | Branco Linho Gelo/Azul/Branco Linho                                        | tradicional                                                                | 13                                                                         |\n",
       "| Quarto Juvenil / Guarda-roupas / Guarda-roupas juvenil com portas de bater | Branco Linho Gelo/Rosa/Azul                                                | tradicional                                                                | 4                                                                          |\n",
       "| Quarto Juvenil / Guarda-roupas / Guarda-roupas juvenil com portas de bater | Branco Linho Gelo/Azul/Branco Linho                                        | tradicional                                                                | 13                                                                         |\n",
       "| Quarto Juvenil / Guarda-roupas / Guarda-roupas juvenil com portas de bater | Branco Linho Gelo/Rosa/Azul                                                | tradicional                                                                | 4                                                                          |\n",
       "| Quarto Infantil / Comoda                                                   | Branco Linho Gelo/Azul/Branco Linho                                        | tradicional                                                                | 13                                                                         |\n",
       "| Quarto Infantil / Comoda                                                   | Branco Linho Gelo/Rosa/Azul                                                | tradicional                                                                | 4                                                                          |\n",
       "| Quarto Infantil / Comoda                                                   | Branco Linho Gelo/Rosa/Azul/Capuccino                                      | tradicional                                                                | 4                                                                          |\n",
       "| Quarto Infantil / Comoda                                                   | Branco Linho Gelo/Capuccino/Azul/Rosa                                      | tradicional                                                                | 4                                                                          |\n",
       "| Quarto Juvenil / Cama                                                      | Branco Linho Gelo/Azul/Branco Linho                                        | tradicional                                                                | 13                                                                         |\n",
       "| Quarto Juvenil / Cama                                                      | Branco Linho Gelo/Rosa/Azul                                                | tradicional                                                                | 4                                                                          |\n",
       "\n"
      ],
      "text/plain": [
       "   categoria                                                                 \n",
       "1  Quarto Juvenil / Guarda-roupas / Guarda-roupas juvenil com portas de bater\n",
       "2  Quarto Juvenil / Guarda-roupas / Guarda-roupas juvenil com portas de bater\n",
       "3  Quarto Juvenil / Guarda-roupas / Guarda-roupas juvenil com portas de bater\n",
       "4  Quarto Juvenil / Guarda-roupas / Guarda-roupas juvenil com portas de bater\n",
       "5  Quarto Infantil / Comoda                                                  \n",
       "6  Quarto Infantil / Comoda                                                  \n",
       "7  Quarto Infantil / Comoda                                                  \n",
       "8  Quarto Infantil / Comoda                                                  \n",
       "9  Quarto Juvenil / Cama                                                     \n",
       "10 Quarto Juvenil / Cama                                                     \n",
       "   cor                                   estilo      Cluster_moveis\n",
       "1  Branco Linho Gelo/Azul/Branco Linho   tradicional 13            \n",
       "2  Branco Linho Gelo/Rosa/Azul           tradicional 4             \n",
       "3  Branco Linho Gelo/Azul/Branco Linho   tradicional 13            \n",
       "4  Branco Linho Gelo/Rosa/Azul           tradicional 4             \n",
       "5  Branco Linho Gelo/Azul/Branco Linho   tradicional 13            \n",
       "6  Branco Linho Gelo/Rosa/Azul           tradicional 4             \n",
       "7  Branco Linho Gelo/Rosa/Azul/Capuccino tradicional 4             \n",
       "8  Branco Linho Gelo/Capuccino/Azul/Rosa tradicional 4             \n",
       "9  Branco Linho Gelo/Azul/Branco Linho   tradicional 13            \n",
       "10 Branco Linho Gelo/Rosa/Azul           tradicional 4             "
      ]
     },
     "metadata": {},
     "output_type": "display_data"
    }
   ],
   "source": [
    "head(resultado_moveis, 10)"
   ]
  },
  {
   "cell_type": "code",
   "execution_count": 22,
   "id": "6b3c0775",
   "metadata": {},
   "outputs": [
    {
     "data": {
      "text/plain": [
       "    \n",
       "     moderno retro tradicional\n",
       "  1      193     4           0\n",
       "  2       11     8          11\n",
       "  3        1     0           0\n",
       "  4        0     0          34\n",
       "  5       44     0           0\n",
       "  6        0     0           3\n",
       "  7       23     1           4\n",
       "  8        0     0          43\n",
       "  9        3     0           0\n",
       "  10       0     0          11\n",
       "  11       7     0           0\n",
       "  12       1     0           0\n",
       "  13       0     0           8\n",
       "  14      44     0           0"
      ]
     },
     "metadata": {},
     "output_type": "display_data"
    }
   ],
   "source": [
    "# COMPARATIVO ENTRE A CLUSTERIZAÇÃO E A CLASSIFICAÇÃO REAL\n",
    "table(resultado_moveis$Cluster_moveis, df_moveis$estilo)"
   ]
  },
  {
   "cell_type": "markdown",
   "id": "4df1bb67",
   "metadata": {},
   "source": [
    "#### 1.3 - CÂNCER DE MAMA"
   ]
  },
  {
   "cell_type": "code",
   "execution_count": 23,
   "id": "f0efc5be",
   "metadata": {},
   "outputs": [],
   "source": [
    "# CARREGAR DATASET\n",
    "dados_cancer_mama <- fread(\"Material 02 - 2 - Cancer de Mama - Dados.csv\", stringsAsFactors = TRUE)\n",
    "df_cancer <- as.data.frame(dados_cancer_mama)"
   ]
  },
  {
   "cell_type": "code",
   "execution_count": 24,
   "id": "b1c2d749",
   "metadata": {},
   "outputs": [
    {
     "data": {
      "text/html": [
       "<table>\n",
       "<thead><tr><th scope=col>Id</th><th scope=col>Cl.thickness</th><th scope=col>Cell.size</th><th scope=col>Cell.shape</th><th scope=col>Marg.adhesion</th><th scope=col>Epith.c.size</th><th scope=col>Bare.nuclei</th><th scope=col>Bl.cromatin</th><th scope=col>Normal.nucleoli</th><th scope=col>Mitoses</th><th scope=col>Class</th></tr></thead>\n",
       "<tbody>\n",
       "\t<tr><td>1        </td><td>5        </td><td> 1       </td><td> 1       </td><td>1        </td><td>2        </td><td> 1       </td><td>3        </td><td>1        </td><td>1        </td><td>benign   </td></tr>\n",
       "\t<tr><td>2        </td><td>5        </td><td> 4       </td><td> 4       </td><td>5        </td><td>7        </td><td>10       </td><td>3        </td><td>2        </td><td>1        </td><td>benign   </td></tr>\n",
       "\t<tr><td>3        </td><td>3        </td><td> 1       </td><td> 1       </td><td>1        </td><td>2        </td><td> 2       </td><td>3        </td><td>1        </td><td>1        </td><td>benign   </td></tr>\n",
       "\t<tr><td>4        </td><td>6        </td><td> 8       </td><td> 8       </td><td>1        </td><td>3        </td><td> 4       </td><td>3        </td><td>7        </td><td>1        </td><td>benign   </td></tr>\n",
       "\t<tr><td>5        </td><td>4        </td><td> 1       </td><td> 1       </td><td>3        </td><td>2        </td><td> 1       </td><td>3        </td><td>1        </td><td>1        </td><td>benign   </td></tr>\n",
       "\t<tr><td>6        </td><td>8        </td><td>10       </td><td>10       </td><td>8        </td><td>7        </td><td>10       </td><td>9        </td><td>7        </td><td>1        </td><td>malignant</td></tr>\n",
       "</tbody>\n",
       "</table>\n"
      ],
      "text/latex": [
       "\\begin{tabular}{r|lllllllllll}\n",
       " Id & Cl.thickness & Cell.size & Cell.shape & Marg.adhesion & Epith.c.size & Bare.nuclei & Bl.cromatin & Normal.nucleoli & Mitoses & Class\\\\\n",
       "\\hline\n",
       "\t 1         & 5         &  1        &  1        & 1         & 2         &  1        & 3         & 1         & 1         & benign   \\\\\n",
       "\t 2         & 5         &  4        &  4        & 5         & 7         & 10        & 3         & 2         & 1         & benign   \\\\\n",
       "\t 3         & 3         &  1        &  1        & 1         & 2         &  2        & 3         & 1         & 1         & benign   \\\\\n",
       "\t 4         & 6         &  8        &  8        & 1         & 3         &  4        & 3         & 7         & 1         & benign   \\\\\n",
       "\t 5         & 4         &  1        &  1        & 3         & 2         &  1        & 3         & 1         & 1         & benign   \\\\\n",
       "\t 6         & 8         & 10        & 10        & 8         & 7         & 10        & 9         & 7         & 1         & malignant\\\\\n",
       "\\end{tabular}\n"
      ],
      "text/markdown": [
       "\n",
       "| Id | Cl.thickness | Cell.size | Cell.shape | Marg.adhesion | Epith.c.size | Bare.nuclei | Bl.cromatin | Normal.nucleoli | Mitoses | Class |\n",
       "|---|---|---|---|---|---|---|---|---|---|---|\n",
       "| 1         | 5         |  1        |  1        | 1         | 2         |  1        | 3         | 1         | 1         | benign    |\n",
       "| 2         | 5         |  4        |  4        | 5         | 7         | 10        | 3         | 2         | 1         | benign    |\n",
       "| 3         | 3         |  1        |  1        | 1         | 2         |  2        | 3         | 1         | 1         | benign    |\n",
       "| 4         | 6         |  8        |  8        | 1         | 3         |  4        | 3         | 7         | 1         | benign    |\n",
       "| 5         | 4         |  1        |  1        | 3         | 2         |  1        | 3         | 1         | 1         | benign    |\n",
       "| 6         | 8         | 10        | 10        | 8         | 7         | 10        | 9         | 7         | 1         | malignant |\n",
       "\n"
      ],
      "text/plain": [
       "  Id Cl.thickness Cell.size Cell.shape Marg.adhesion Epith.c.size Bare.nuclei\n",
       "1 1  5             1         1         1             2             1         \n",
       "2 2  5             4         4         5             7            10         \n",
       "3 3  3             1         1         1             2             2         \n",
       "4 4  6             8         8         1             3             4         \n",
       "5 5  4             1         1         3             2             1         \n",
       "6 6  8            10        10         8             7            10         \n",
       "  Bl.cromatin Normal.nucleoli Mitoses Class    \n",
       "1 3           1               1       benign   \n",
       "2 3           2               1       benign   \n",
       "3 3           1               1       benign   \n",
       "4 3           7               1       benign   \n",
       "5 3           1               1       benign   \n",
       "6 9           7               1       malignant"
      ]
     },
     "metadata": {},
     "output_type": "display_data"
    }
   ],
   "source": [
    "head(df_cancer)"
   ]
  },
  {
   "cell_type": "code",
   "execution_count": 25,
   "id": "28d5600d",
   "metadata": {},
   "outputs": [
    {
     "data": {
      "text/plain": [
       "\n",
       "   benign malignant \n",
       "      458       241 "
      ]
     },
     "metadata": {},
     "output_type": "display_data"
    }
   ],
   "source": [
    "# QUANTIDADE DE OBSERVAÇÕES DE CADA CLASSE\n",
    "table(df_cancer$Class)"
   ]
  },
  {
   "cell_type": "code",
   "execution_count": 26,
   "id": "184e789c",
   "metadata": {},
   "outputs": [
    {
     "name": "stdout",
     "output_type": "stream",
     "text": [
      "Rows: 699\n",
      "Columns: 11\n",
      "$ Id              <dbl> 1, 2, 3, 4, 5, 6, 7, 8, 9, 10, 11, 12, 13, 14, 15, 16,~\n",
      "$ Cl.thickness    <dbl> 5, 5, 3, 6, 4, 8, 1, 2, 2, 4, 1, 2, 5, 1, 8, 7, 4, 4, ~\n",
      "$ Cell.size       <dbl> 1, 4, 1, 8, 1, 10, 1, 1, 1, 2, 1, 1, 3, 1, 7, 4, 1, 1,~\n",
      "$ Cell.shape      <dbl> 1, 4, 1, 8, 1, 10, 1, 2, 1, 1, 1, 1, 3, 1, 5, 6, 1, 1,~\n",
      "$ Marg.adhesion   <dbl> 1, 5, 1, 1, 3, 8, 1, 1, 1, 1, 1, 1, 3, 1, 10, 4, 1, 1,~\n",
      "$ Epith.c.size    <dbl> 2, 7, 2, 3, 2, 7, 2, 2, 2, 2, 1, 2, 2, 2, 7, 6, 2, 2, ~\n",
      "$ Bare.nuclei     <dbl> 1, 10, 2, 4, 1, 10, 10, 1, 1, 1, 1, 1, 3, 3, 9, 1, 1, ~\n",
      "$ Bl.cromatin     <dbl> 3, 3, 3, 3, 3, 9, 3, 3, 1, 2, 3, 2, 4, 3, 5, 4, 2, 3, ~\n",
      "$ Normal.nucleoli <dbl> 1, 2, 1, 7, 1, 7, 1, 1, 1, 1, 1, 1, 4, 1, 5, 3, 1, 1, ~\n",
      "$ Mitoses         <dbl> 1, 1, 1, 1, 1, 1, 1, 1, 5, 1, 1, 1, 1, 1, 4, 1, 1, 1, ~\n",
      "$ Class           <fct> benign, benign, benign, benign, benign, malignant, ben~\n"
     ]
    }
   ],
   "source": [
    "glimpse(df_cancer)"
   ]
  },
  {
   "cell_type": "markdown",
   "id": "94143aa2",
   "metadata": {},
   "source": [
    "#### APRENDIZADO - K-MEANS"
   ]
  },
  {
   "cell_type": "code",
   "execution_count": 27,
   "id": "028e2124",
   "metadata": {},
   "outputs": [],
   "source": [
    "# APRENDIZADO NÃO SUPERVISIONADO \n",
    "# NÃO FORAM UTILIZADAS AS COLUNAS Id E Class (TRATA-SE DA VARIÁVEL TARGET)\n",
    "modelo_kmeans_cancer <- kmeans(df_cancer[, 2:10], centers = 2)"
   ]
  },
  {
   "cell_type": "code",
   "execution_count": 28,
   "id": "b47e3b1a",
   "metadata": {},
   "outputs": [
    {
     "name": "stdout",
     "output_type": "stream",
     "text": [
      "K-means clustering with 2 clusters of sizes 464, 235\n",
      "\n",
      "Cluster means:\n",
      "  Cl.thickness Cell.size Cell.shape Marg.adhesion Epith.c.size Bare.nuclei\n",
      "1     3.032328  1.295259   1.435345      1.338362     2.088362    1.321121\n",
      "2     7.153191  6.765957   6.706383      5.706383     5.442553    7.906383\n",
      "  Bl.cromatin Normal.nucleoli  Mitoses\n",
      "1    2.092672        1.247845 1.109914\n",
      "2    6.093617        6.063830 2.536170\n",
      "\n",
      "Clustering vector:\n",
      "  [1] 1 2 1 2 1 2 1 1 1 1 1 1 1 1 2 1 1 1 2 1 2 2 1 2 1 2 1 1 1 1 1 1 2 1 1 1 2\n",
      " [38] 1 2 2 2 2 2 2 2 1 2 1 1 2 1 1 2 2 2 2 2 1 2 1 2 1 2 1 1 1 1 2 2 1 1 2 1 2\n",
      " [75] 2 1 1 1 1 1 1 1 1 1 2 2 2 2 1 1 1 1 1 1 1 1 1 1 2 2 2 1 1 1 2 1 2 2 1 2 1\n",
      "[112] 2 2 2 1 1 1 2 1 1 1 1 2 2 2 1 2 1 2 1 1 1 2 1 1 1 1 1 1 1 1 1 2 1 1 1 2 1\n",
      "[149] 1 2 1 2 2 1 1 2 1 1 1 2 2 1 1 1 1 1 2 2 1 1 1 1 1 2 2 2 1 2 1 2 1 1 1 2 2\n",
      "[186] 1 2 2 2 1 2 2 1 1 1 1 2 1 1 1 2 2 1 1 1 2 2 1 1 1 2 2 1 2 2 2 1 1 2 1 1 2\n",
      "[223] 1 2 2 1 2 2 1 2 2 2 1 2 1 1 2 2 2 2 1 1 1 1 1 1 2 2 1 1 1 2 2 2 2 2 1 1 1\n",
      "[260] 2 2 2 2 2 2 1 2 2 2 1 2 1 2 1 1 1 1 1 1 2 1 1 2 2 2 2 2 1 2 2 1 1 2 2 1 2\n",
      "[297] 2 1 1 2 2 1 2 1 2 2 1 1 2 1 1 1 2 1 1 2 2 2 1 2 2 1 1 2 1 1 2 1 2 2 2 1 1\n",
      "[334] 2 2 1 2 1 1 2 2 1 1 1 2 1 1 1 1 2 1 1 2 2 1 1 1 2 2 2 2 2 1 1 1 1 2 2 1 1\n",
      "[371] 1 1 1 1 1 1 1 1 1 1 1 2 1 1 1 1 2 1 1 1 1 2 1 1 1 1 1 1 1 1 2 1 1 1 1 1 1\n",
      "[408] 1 1 1 1 1 2 1 2 1 2 1 1 1 1 2 1 1 1 2 1 2 1 1 1 1 1 1 2 2 2 1 1 1 2 1 1 1\n",
      "[445] 1 1 1 1 1 2 1 1 1 2 1 1 2 2 1 1 1 1 1 1 1 2 2 2 1 1 1 1 1 1 1 1 1 1 1 2 1\n",
      "[482] 1 2 2 1 1 1 2 2 1 1 2 1 2 1 1 1 1 1 1 1 1 1 1 1 1 2 1 1 1 1 1 1 1 2 2 1 1\n",
      "[519] 1 2 1 1 2 2 1 1 1 1 1 1 2 1 1 1 1 1 1 1 1 1 1 1 1 1 1 1 2 1 1 2 1 1 1 1 1\n",
      "[556] 1 1 1 1 1 1 1 1 1 1 2 1 1 2 2 2 2 1 1 2 1 1 1 1 1 1 2 2 1 1 1 2 1 2 1 2 2\n",
      "[593] 2 1 2 1 1 1 1 1 1 1 1 2 2 2 1 1 2 1 2 2 2 1 1 1 1 1 1 1 1 1 1 1 1 1 2 1 1\n",
      "[630] 1 1 1 1 2 1 1 2 1 1 1 1 1 1 1 1 1 1 1 2 1 1 1 1 1 1 1 1 1 2 1 1 1 1 1 1 1\n",
      "[667] 1 1 2 2 2 1 1 1 1 1 1 1 1 1 2 2 1 1 1 1 1 1 1 1 1 2 1 1 1 1 2 2 2\n",
      "\n",
      "Within cluster sum of squares by cluster:\n",
      "[1]  4454.44 15218.43\n",
      " (between_SS / total_SS =  60.1 %)\n",
      "\n",
      "Available components:\n",
      "\n",
      "[1] \"cluster\"      \"centers\"      \"totss\"        \"withinss\"     \"tot.withinss\"\n",
      "[6] \"betweenss\"    \"size\"         \"iter\"         \"ifault\"      \n"
     ]
    }
   ],
   "source": [
    "print(modelo_kmeans_cancer)"
   ]
  },
  {
   "cell_type": "code",
   "execution_count": 29,
   "id": "44e48d0e",
   "metadata": {},
   "outputs": [],
   "source": [
    "# COLOCAR A COLUNA DE RESULTADOS DOS CLUSTERS NO DATASET ORIGINAL \n",
    "Cluster_cancer <- modelo_kmeans_cancer$cluster\n",
    "Cluster_cancer <- as.factor(Cluster_cancer)\n",
    "resultado_cancer <- cbind(df_cancer, Cluster_cancer)"
   ]
  },
  {
   "cell_type": "code",
   "execution_count": 30,
   "id": "48830f7a",
   "metadata": {},
   "outputs": [
    {
     "data": {
      "text/html": [
       "<table>\n",
       "<thead><tr><th scope=col>Id</th><th scope=col>Cl.thickness</th><th scope=col>Cell.size</th><th scope=col>Cell.shape</th><th scope=col>Marg.adhesion</th><th scope=col>Epith.c.size</th><th scope=col>Bare.nuclei</th><th scope=col>Bl.cromatin</th><th scope=col>Normal.nucleoli</th><th scope=col>Mitoses</th><th scope=col>Class</th><th scope=col>Cluster_cancer</th></tr></thead>\n",
       "<tbody>\n",
       "\t<tr><td> 1       </td><td>5        </td><td> 1       </td><td> 1       </td><td>1        </td><td>2        </td><td> 1       </td><td>3        </td><td>1        </td><td>1        </td><td>benign   </td><td>1        </td></tr>\n",
       "\t<tr><td> 2       </td><td>5        </td><td> 4       </td><td> 4       </td><td>5        </td><td>7        </td><td>10       </td><td>3        </td><td>2        </td><td>1        </td><td>benign   </td><td>2        </td></tr>\n",
       "\t<tr><td> 3       </td><td>3        </td><td> 1       </td><td> 1       </td><td>1        </td><td>2        </td><td> 2       </td><td>3        </td><td>1        </td><td>1        </td><td>benign   </td><td>1        </td></tr>\n",
       "\t<tr><td> 4       </td><td>6        </td><td> 8       </td><td> 8       </td><td>1        </td><td>3        </td><td> 4       </td><td>3        </td><td>7        </td><td>1        </td><td>benign   </td><td>2        </td></tr>\n",
       "\t<tr><td> 5       </td><td>4        </td><td> 1       </td><td> 1       </td><td>3        </td><td>2        </td><td> 1       </td><td>3        </td><td>1        </td><td>1        </td><td>benign   </td><td>1        </td></tr>\n",
       "\t<tr><td> 6       </td><td>8        </td><td>10       </td><td>10       </td><td>8        </td><td>7        </td><td>10       </td><td>9        </td><td>7        </td><td>1        </td><td>malignant</td><td>2        </td></tr>\n",
       "\t<tr><td> 7       </td><td>1        </td><td> 1       </td><td> 1       </td><td>1        </td><td>2        </td><td>10       </td><td>3        </td><td>1        </td><td>1        </td><td>benign   </td><td>1        </td></tr>\n",
       "\t<tr><td> 8       </td><td>2        </td><td> 1       </td><td> 2       </td><td>1        </td><td>2        </td><td> 1       </td><td>3        </td><td>1        </td><td>1        </td><td>benign   </td><td>1        </td></tr>\n",
       "\t<tr><td> 9       </td><td>2        </td><td> 1       </td><td> 1       </td><td>1        </td><td>2        </td><td> 1       </td><td>1        </td><td>1        </td><td>5        </td><td>benign   </td><td>1        </td></tr>\n",
       "\t<tr><td>10       </td><td>4        </td><td> 2       </td><td> 1       </td><td>1        </td><td>2        </td><td> 1       </td><td>2        </td><td>1        </td><td>1        </td><td>benign   </td><td>1        </td></tr>\n",
       "</tbody>\n",
       "</table>\n"
      ],
      "text/latex": [
       "\\begin{tabular}{r|llllllllllll}\n",
       " Id & Cl.thickness & Cell.size & Cell.shape & Marg.adhesion & Epith.c.size & Bare.nuclei & Bl.cromatin & Normal.nucleoli & Mitoses & Class & Cluster\\_cancer\\\\\n",
       "\\hline\n",
       "\t  1        & 5         &  1        &  1        & 1         & 2         &  1        & 3         & 1         & 1         & benign    & 1        \\\\\n",
       "\t  2        & 5         &  4        &  4        & 5         & 7         & 10        & 3         & 2         & 1         & benign    & 2        \\\\\n",
       "\t  3        & 3         &  1        &  1        & 1         & 2         &  2        & 3         & 1         & 1         & benign    & 1        \\\\\n",
       "\t  4        & 6         &  8        &  8        & 1         & 3         &  4        & 3         & 7         & 1         & benign    & 2        \\\\\n",
       "\t  5        & 4         &  1        &  1        & 3         & 2         &  1        & 3         & 1         & 1         & benign    & 1        \\\\\n",
       "\t  6        & 8         & 10        & 10        & 8         & 7         & 10        & 9         & 7         & 1         & malignant & 2        \\\\\n",
       "\t  7        & 1         &  1        &  1        & 1         & 2         & 10        & 3         & 1         & 1         & benign    & 1        \\\\\n",
       "\t  8        & 2         &  1        &  2        & 1         & 2         &  1        & 3         & 1         & 1         & benign    & 1        \\\\\n",
       "\t  9        & 2         &  1        &  1        & 1         & 2         &  1        & 1         & 1         & 5         & benign    & 1        \\\\\n",
       "\t 10        & 4         &  2        &  1        & 1         & 2         &  1        & 2         & 1         & 1         & benign    & 1        \\\\\n",
       "\\end{tabular}\n"
      ],
      "text/markdown": [
       "\n",
       "| Id | Cl.thickness | Cell.size | Cell.shape | Marg.adhesion | Epith.c.size | Bare.nuclei | Bl.cromatin | Normal.nucleoli | Mitoses | Class | Cluster_cancer |\n",
       "|---|---|---|---|---|---|---|---|---|---|---|---|\n",
       "|  1        | 5         |  1        |  1        | 1         | 2         |  1        | 3         | 1         | 1         | benign    | 1         |\n",
       "|  2        | 5         |  4        |  4        | 5         | 7         | 10        | 3         | 2         | 1         | benign    | 2         |\n",
       "|  3        | 3         |  1        |  1        | 1         | 2         |  2        | 3         | 1         | 1         | benign    | 1         |\n",
       "|  4        | 6         |  8        |  8        | 1         | 3         |  4        | 3         | 7         | 1         | benign    | 2         |\n",
       "|  5        | 4         |  1        |  1        | 3         | 2         |  1        | 3         | 1         | 1         | benign    | 1         |\n",
       "|  6        | 8         | 10        | 10        | 8         | 7         | 10        | 9         | 7         | 1         | malignant | 2         |\n",
       "|  7        | 1         |  1        |  1        | 1         | 2         | 10        | 3         | 1         | 1         | benign    | 1         |\n",
       "|  8        | 2         |  1        |  2        | 1         | 2         |  1        | 3         | 1         | 1         | benign    | 1         |\n",
       "|  9        | 2         |  1        |  1        | 1         | 2         |  1        | 1         | 1         | 5         | benign    | 1         |\n",
       "| 10        | 4         |  2        |  1        | 1         | 2         |  1        | 2         | 1         | 1         | benign    | 1         |\n",
       "\n"
      ],
      "text/plain": [
       "   Id Cl.thickness Cell.size Cell.shape Marg.adhesion Epith.c.size Bare.nuclei\n",
       "1   1 5             1         1         1             2             1         \n",
       "2   2 5             4         4         5             7            10         \n",
       "3   3 3             1         1         1             2             2         \n",
       "4   4 6             8         8         1             3             4         \n",
       "5   5 4             1         1         3             2             1         \n",
       "6   6 8            10        10         8             7            10         \n",
       "7   7 1             1         1         1             2            10         \n",
       "8   8 2             1         2         1             2             1         \n",
       "9   9 2             1         1         1             2             1         \n",
       "10 10 4             2         1         1             2             1         \n",
       "   Bl.cromatin Normal.nucleoli Mitoses Class     Cluster_cancer\n",
       "1  3           1               1       benign    1             \n",
       "2  3           2               1       benign    2             \n",
       "3  3           1               1       benign    1             \n",
       "4  3           7               1       benign    2             \n",
       "5  3           1               1       benign    1             \n",
       "6  9           7               1       malignant 2             \n",
       "7  3           1               1       benign    1             \n",
       "8  3           1               1       benign    1             \n",
       "9  1           1               5       benign    1             \n",
       "10 2           1               1       benign    1             "
      ]
     },
     "metadata": {},
     "output_type": "display_data"
    }
   ],
   "source": [
    "head(resultado_cancer, 10)"
   ]
  },
  {
   "cell_type": "code",
   "execution_count": 31,
   "id": "2af1d411",
   "metadata": {},
   "outputs": [
    {
     "data": {
      "text/plain": [
       "   \n",
       "    benign malignant\n",
       "  1    447        17\n",
       "  2     11       224"
      ]
     },
     "metadata": {},
     "output_type": "display_data"
    }
   ],
   "source": [
    "# COMPARATIVO ENTRE A CLUSTERIZAÇÃO E A CLASSIFICAÇÃO REAL\n",
    "table(resultado_cancer$Cluster_cancer, df_cancer$Class)"
   ]
  },
  {
   "cell_type": "markdown",
   "id": "87c94c4b",
   "metadata": {},
   "source": [
    "#### 1.4 - VEÍCULO"
   ]
  },
  {
   "cell_type": "code",
   "execution_count": 32,
   "id": "e7ad5cd7",
   "metadata": {},
   "outputs": [],
   "source": [
    "# CARREGANDO O DATASET\n",
    "dados_veiculo <- fread(\"Material 02 - 5 - C - Veiculos - Dados.csv\", stringsAsFactors = TRUE)\n",
    "df_veiculo <- as.data.frame(dados_veiculo)"
   ]
  },
  {
   "cell_type": "code",
   "execution_count": 33,
   "id": "2d6c63f1",
   "metadata": {},
   "outputs": [
    {
     "data": {
      "text/html": [
       "<table>\n",
       "<thead><tr><th scope=col>a</th><th scope=col>Comp</th><th scope=col>Circ</th><th scope=col>DCirc</th><th scope=col>RadRa</th><th scope=col>PrAxisRa</th><th scope=col>MaxLRa</th><th scope=col>ScatRa</th><th scope=col>Elong</th><th scope=col>PrAxisRect</th><th scope=col>MaxLRect</th><th scope=col>ScVarMaxis</th><th scope=col>ScVarmaxis</th><th scope=col>RaGyr</th><th scope=col>SkewMaxis</th><th scope=col>Skewmaxis</th><th scope=col>Kurtmaxis</th><th scope=col>KurtMaxis</th><th scope=col>HollRa</th><th scope=col>tipo</th></tr></thead>\n",
       "<tbody>\n",
       "\t<tr><td>1   </td><td> 95 </td><td>48  </td><td> 83 </td><td>178 </td><td> 72 </td><td>10  </td><td>162 </td><td>42  </td><td>20  </td><td>159 </td><td>176 </td><td>379 </td><td>184 </td><td> 70 </td><td> 6  </td><td>16  </td><td>187 </td><td>197 </td><td>van </td></tr>\n",
       "\t<tr><td>2   </td><td> 91 </td><td>41  </td><td> 84 </td><td>141 </td><td> 57 </td><td> 9  </td><td>149 </td><td>45  </td><td>19  </td><td>143 </td><td>170 </td><td>330 </td><td>158 </td><td> 72 </td><td> 9  </td><td>14  </td><td>189 </td><td>199 </td><td>van </td></tr>\n",
       "\t<tr><td>3   </td><td>104 </td><td>50  </td><td>106 </td><td>209 </td><td> 66 </td><td>10  </td><td>207 </td><td>32  </td><td>23  </td><td>158 </td><td>223 </td><td>635 </td><td>220 </td><td> 73 </td><td>14  </td><td> 9  </td><td>188 </td><td>196 </td><td>saab</td></tr>\n",
       "\t<tr><td>4   </td><td> 93 </td><td>41  </td><td> 82 </td><td>159 </td><td> 63 </td><td> 9  </td><td>144 </td><td>46  </td><td>19  </td><td>143 </td><td>160 </td><td>309 </td><td>127 </td><td> 63 </td><td> 6  </td><td>10  </td><td>199 </td><td>207 </td><td>van </td></tr>\n",
       "\t<tr><td>5   </td><td> 85 </td><td>44  </td><td> 70 </td><td>205 </td><td>103 </td><td>52  </td><td>149 </td><td>45  </td><td>19  </td><td>144 </td><td>241 </td><td>325 </td><td>188 </td><td>127 </td><td> 9  </td><td>11  </td><td>180 </td><td>183 </td><td>bus </td></tr>\n",
       "\t<tr><td>6   </td><td>107 </td><td>57  </td><td>106 </td><td>172 </td><td> 50 </td><td> 6  </td><td>255 </td><td>26  </td><td>28  </td><td>169 </td><td>280 </td><td>957 </td><td>264 </td><td> 85 </td><td> 5  </td><td> 9  </td><td>181 </td><td>183 </td><td>bus </td></tr>\n",
       "</tbody>\n",
       "</table>\n"
      ],
      "text/latex": [
       "\\begin{tabular}{r|llllllllllllllllllll}\n",
       " a & Comp & Circ & DCirc & RadRa & PrAxisRa & MaxLRa & ScatRa & Elong & PrAxisRect & MaxLRect & ScVarMaxis & ScVarmaxis & RaGyr & SkewMaxis & Skewmaxis & Kurtmaxis & KurtMaxis & HollRa & tipo\\\\\n",
       "\\hline\n",
       "\t 1    &  95  & 48   &  83  & 178  &  72  & 10   & 162  & 42   & 20   & 159  & 176  & 379  & 184  &  70  &  6   & 16   & 187  & 197  & van \\\\\n",
       "\t 2    &  91  & 41   &  84  & 141  &  57  &  9   & 149  & 45   & 19   & 143  & 170  & 330  & 158  &  72  &  9   & 14   & 189  & 199  & van \\\\\n",
       "\t 3    & 104  & 50   & 106  & 209  &  66  & 10   & 207  & 32   & 23   & 158  & 223  & 635  & 220  &  73  & 14   &  9   & 188  & 196  & saab\\\\\n",
       "\t 4    &  93  & 41   &  82  & 159  &  63  &  9   & 144  & 46   & 19   & 143  & 160  & 309  & 127  &  63  &  6   & 10   & 199  & 207  & van \\\\\n",
       "\t 5    &  85  & 44   &  70  & 205  & 103  & 52   & 149  & 45   & 19   & 144  & 241  & 325  & 188  & 127  &  9   & 11   & 180  & 183  & bus \\\\\n",
       "\t 6    & 107  & 57   & 106  & 172  &  50  &  6   & 255  & 26   & 28   & 169  & 280  & 957  & 264  &  85  &  5   &  9   & 181  & 183  & bus \\\\\n",
       "\\end{tabular}\n"
      ],
      "text/markdown": [
       "\n",
       "| a | Comp | Circ | DCirc | RadRa | PrAxisRa | MaxLRa | ScatRa | Elong | PrAxisRect | MaxLRect | ScVarMaxis | ScVarmaxis | RaGyr | SkewMaxis | Skewmaxis | Kurtmaxis | KurtMaxis | HollRa | tipo |\n",
       "|---|---|---|---|---|---|---|---|---|---|---|---|---|---|---|---|---|---|---|---|\n",
       "| 1    |  95  | 48   |  83  | 178  |  72  | 10   | 162  | 42   | 20   | 159  | 176  | 379  | 184  |  70  |  6   | 16   | 187  | 197  | van  |\n",
       "| 2    |  91  | 41   |  84  | 141  |  57  |  9   | 149  | 45   | 19   | 143  | 170  | 330  | 158  |  72  |  9   | 14   | 189  | 199  | van  |\n",
       "| 3    | 104  | 50   | 106  | 209  |  66  | 10   | 207  | 32   | 23   | 158  | 223  | 635  | 220  |  73  | 14   |  9   | 188  | 196  | saab |\n",
       "| 4    |  93  | 41   |  82  | 159  |  63  |  9   | 144  | 46   | 19   | 143  | 160  | 309  | 127  |  63  |  6   | 10   | 199  | 207  | van  |\n",
       "| 5    |  85  | 44   |  70  | 205  | 103  | 52   | 149  | 45   | 19   | 144  | 241  | 325  | 188  | 127  |  9   | 11   | 180  | 183  | bus  |\n",
       "| 6    | 107  | 57   | 106  | 172  |  50  |  6   | 255  | 26   | 28   | 169  | 280  | 957  | 264  |  85  |  5   |  9   | 181  | 183  | bus  |\n",
       "\n"
      ],
      "text/plain": [
       "  a Comp Circ DCirc RadRa PrAxisRa MaxLRa ScatRa Elong PrAxisRect MaxLRect\n",
       "1 1  95  48    83   178    72      10     162    42    20         159     \n",
       "2 2  91  41    84   141    57       9     149    45    19         143     \n",
       "3 3 104  50   106   209    66      10     207    32    23         158     \n",
       "4 4  93  41    82   159    63       9     144    46    19         143     \n",
       "5 5  85  44    70   205   103      52     149    45    19         144     \n",
       "6 6 107  57   106   172    50       6     255    26    28         169     \n",
       "  ScVarMaxis ScVarmaxis RaGyr SkewMaxis Skewmaxis Kurtmaxis KurtMaxis HollRa\n",
       "1 176        379        184    70        6        16        187       197   \n",
       "2 170        330        158    72        9        14        189       199   \n",
       "3 223        635        220    73       14         9        188       196   \n",
       "4 160        309        127    63        6        10        199       207   \n",
       "5 241        325        188   127        9        11        180       183   \n",
       "6 280        957        264    85        5         9        181       183   \n",
       "  tipo\n",
       "1 van \n",
       "2 van \n",
       "3 saab\n",
       "4 van \n",
       "5 bus \n",
       "6 bus "
      ]
     },
     "metadata": {},
     "output_type": "display_data"
    }
   ],
   "source": [
    "head(df_veiculo)"
   ]
  },
  {
   "cell_type": "code",
   "execution_count": 34,
   "id": "ff1ff170",
   "metadata": {},
   "outputs": [
    {
     "name": "stdout",
     "output_type": "stream",
     "text": [
      "Rows: 846\n",
      "Columns: 20\n",
      "$ a          <int> 1, 2, 3, 4, 5, 6, 7, 8, 9, 10, 11, 12, 13, 14, 15, 16, 17, ~\n",
      "$ Comp       <int> 95, 91, 104, 93, 85, 107, 97, 90, 86, 93, 86, 90, 88, 89, 9~\n",
      "$ Circ       <int> 48, 41, 50, 41, 44, 57, 43, 43, 34, 44, 36, 34, 46, 42, 49,~\n",
      "$ DCirc      <int> 83, 84, 106, 82, 70, 106, 73, 66, 62, 98, 70, 66, 74, 85, 7~\n",
      "$ RadRa      <int> 178, 141, 209, 159, 205, 172, 173, 157, 140, 197, 143, 136,~\n",
      "$ PrAxisRa   <int> 72, 57, 66, 63, 103, 50, 65, 65, 61, 62, 61, 55, 68, 58, 71~\n",
      "$ MaxLRa     <int> 10, 9, 10, 9, 52, 6, 6, 9, 7, 11, 9, 6, 6, 10, 5, 9, 6, 6, ~\n",
      "$ ScatRa     <int> 162, 149, 207, 144, 149, 255, 153, 137, 122, 183, 133, 123,~\n",
      "$ Elong      <int> 42, 45, 32, 46, 45, 26, 42, 48, 54, 36, 50, 54, 43, 44, 37,~\n",
      "$ PrAxisRect <int> 20, 19, 23, 19, 19, 28, 19, 18, 17, 22, 18, 17, 19, 19, 21,~\n",
      "$ MaxLRect   <int> 159, 143, 158, 143, 144, 169, 143, 146, 127, 146, 130, 118,~\n",
      "$ ScVarMaxis <int> 176, 170, 223, 160, 241, 280, 176, 162, 141, 202, 153, 148,~\n",
      "$ ScVarmaxis <int> 379, 330, 635, 309, 325, 957, 361, 281, 223, 505, 266, 224,~\n",
      "$ RaGyr      <int> 184, 158, 220, 127, 188, 264, 172, 164, 112, 152, 127, 118,~\n",
      "$ SkewMaxis  <int> 70, 72, 73, 63, 127, 85, 66, 67, 64, 64, 66, 65, 71, 72, 71~\n",
      "$ Skewmaxis  <int> 6, 9, 14, 6, 9, 5, 13, 3, 2, 4, 2, 5, 5, 8, 6, 6, 2, 4, 5, ~\n",
      "$ Kurtmaxis  <int> 16, 14, 9, 10, 11, 9, 1, 3, 14, 14, 10, 26, 11, 13, 2, 2, 1~\n",
      "$ KurtMaxis  <int> 187, 189, 188, 199, 180, 181, 200, 193, 200, 195, 194, 196,~\n",
      "$ HollRa     <int> 197, 199, 196, 207, 183, 183, 204, 202, 208, 204, 202, 202,~\n",
      "$ tipo       <fct> van, van, saab, van, bus, bus, bus, van, van, saab, van, sa~\n"
     ]
    }
   ],
   "source": [
    "glimpse(df_veiculo)"
   ]
  },
  {
   "cell_type": "code",
   "execution_count": 35,
   "id": "e5699349",
   "metadata": {},
   "outputs": [
    {
     "data": {
      "text/plain": [
       "\n",
       " bus opel saab  van \n",
       " 218  212  217  199 "
      ]
     },
     "metadata": {},
     "output_type": "display_data"
    }
   ],
   "source": [
    "# QUANTIDADE DE OBSERVAÇÕES DE CADA CLASSE\n",
    "table(df_veiculo$tipo)"
   ]
  },
  {
   "cell_type": "markdown",
   "id": "688ae0b5",
   "metadata": {},
   "source": [
    "#### APRENDIZADO - K-MEANS"
   ]
  },
  {
   "cell_type": "code",
   "execution_count": 36,
   "id": "93affac6",
   "metadata": {},
   "outputs": [],
   "source": [
    "# APRENDIZADO NÃO SUPERVISIONADO \n",
    "modelo_kmeans_veiculo <- kmeans(df_veiculo[, 2:19], centers = 4)"
   ]
  },
  {
   "cell_type": "code",
   "execution_count": 37,
   "id": "0664a92c",
   "metadata": {},
   "outputs": [
    {
     "name": "stdout",
     "output_type": "stream",
     "text": [
      "K-means clustering with 4 clusters of sizes 169, 129, 188, 360\n",
      "\n",
      "Cluster means:\n",
      "       Comp     Circ     DCirc    RadRa PrAxisRa   MaxLRa   ScatRa    Elong\n",
      "1  87.86391 38.23077  63.94083 133.4497 57.27811 6.674556 130.3373 51.67456\n",
      "2  98.13953 46.75194  93.37209 198.7907 64.09302 8.604651 187.7054 35.01550\n",
      "3 104.37234 53.48404 102.84043 200.5798 61.66489 9.776596 219.6277 30.39362\n",
      "4  89.22500 42.79444  75.72778 158.3833 62.92222 8.811111 153.6306 43.51667\n",
      "  PrAxisRect MaxLRect ScVarMaxis ScVarmaxis    RaGyr SkewMaxis Skewmaxis\n",
      "1   17.79290 133.1893   151.8402   252.0237 140.6686  72.42012  6.272189\n",
      "2   21.91473 150.3101   207.7364   532.1318 183.4109  68.27132  6.046512\n",
      "3   24.61702 167.7128   232.1383   715.4628 216.2500  73.19149  7.377660\n",
      "4   19.30833 143.8278   176.3222   351.1694 165.8639  73.60278  6.022222\n",
      "  Kurtmaxis KurtMaxis   HollRa\n",
      "1  11.62722  188.4852 193.6331\n",
      "2  13.51938  193.1318 200.0775\n",
      "3  15.95213  187.5213 195.7872\n",
      "4  10.97500  188.3750 194.8972\n",
      "\n",
      "Clustering vector:\n",
      "  [1] 4 4 3 4 4 3 4 1 1 2 1 1 4 4 2 3 1 2 3 3 4 1 4 4 3 4 1 3 2 4 4 1 1 3 4 4 4\n",
      " [38] 4 3 4 3 1 4 4 3 4 1 4 4 4 1 4 3 4 3 1 2 4 3 1 2 1 1 4 2 4 4 3 4 2 3 3 2 1\n",
      " [75] 4 2 4 4 3 4 4 3 1 4 4 3 4 1 2 1 3 4 2 4 4 3 4 4 2 4 4 4 1 1 2 3 2 4 4 2 4\n",
      "[112] 4 4 1 4 4 2 3 4 2 1 4 4 1 4 4 4 4 4 2 2 4 2 1 3 4 4 1 1 4 4 4 3 4 4 3 4 4\n",
      "[149] 4 1 2 2 4 3 4 3 4 1 4 4 1 2 4 1 3 3 4 3 4 1 3 3 4 3 4 4 2 4 4 1 3 1 4 1 2\n",
      "[186] 2 4 4 3 4 2 4 4 3 4 4 3 4 4 4 4 4 3 3 1 4 4 4 4 3 2 1 4 3 1 4 4 3 4 1 3 4\n",
      "[223] 2 4 1 4 3 1 3 4 1 1 4 3 1 4 4 4 3 4 4 4 4 3 4 1 4 4 3 1 1 3 4 4 4 3 4 4 2\n",
      "[260] 3 1 2 1 1 2 4 4 4 1 1 4 2 4 4 3 4 4 1 3 4 2 4 4 3 4 4 4 4 2 1 1 4 4 1 3 4\n",
      "[297] 2 1 2 2 3 4 4 1 4 4 3 3 2 2 2 4 4 2 4 1 1 2 1 3 3 3 4 2 4 4 2 4 4 4 4 2 3\n",
      "[334] 4 3 3 4 3 4 4 4 1 1 3 3 3 3 4 4 1 2 4 4 4 2 2 4 3 4 2 3 2 4 4 4 2 4 1 4 4\n",
      "[371] 2 4 4 4 1 3 3 1 1 3 1 3 4 3 1 4 2 4 4 3 4 1 4 4 2 4 3 4 4 1 3 4 3 1 2 4 1\n",
      "[408] 1 4 4 4 1 4 1 4 3 4 4 4 1 1 3 1 4 2 1 3 4 3 1 3 3 4 4 3 1 1 4 2 2 2 4 1 2\n",
      "[445] 3 4 2 3 3 4 4 4 4 4 2 4 1 4 3 2 1 2 4 4 2 4 4 3 3 1 1 3 3 3 4 3 3 4 2 4 3\n",
      "[482] 3 4 1 4 4 3 4 4 3 3 4 4 3 3 4 3 4 1 3 3 3 1 4 2 3 3 4 4 3 4 4 3 4 1 1 4 3\n",
      "[519] 4 1 2 1 1 4 3 4 2 3 4 4 2 3 3 1 1 4 3 1 2 3 4 1 4 4 4 4 1 4 4 3 1 1 2 4 2\n",
      "[556] 2 3 1 4 3 3 4 3 4 4 2 3 4 4 1 3 4 4 4 3 3 3 2 4 1 4 1 3 3 2 1 3 1 4 3 4 1\n",
      "[593] 4 4 1 2 2 1 2 1 4 1 3 4 2 3 1 1 1 4 3 4 1 4 1 1 1 1 1 3 3 4 2 3 1 3 4 4 2\n",
      "[630] 1 1 3 4 2 1 1 4 4 2 3 2 4 2 2 4 4 4 4 3 4 3 1 4 2 2 1 4 4 1 2 1 2 4 4 1 4\n",
      "[667] 2 3 4 4 2 2 2 4 4 3 4 2 4 4 4 4 4 3 4 4 1 3 1 2 4 4 2 4 2 1 4 4 4 4 3 3 4\n",
      "[704] 1 3 3 4 1 4 2 3 2 2 3 4 3 2 4 3 3 4 3 4 2 4 1 2 4 1 3 3 3 4 3 1 4 2 3 3 4\n",
      "[741] 3 4 1 2 4 4 1 4 4 2 2 1 4 4 1 1 2 4 4 4 2 2 1 3 3 4 4 4 2 1 4 2 2 4 1 2 2\n",
      "[778] 3 3 1 2 1 2 3 1 4 3 1 3 4 4 1 3 2 4 1 1 3 3 4 4 1 4 2 2 4 4 3 4 1 3 1 4 4\n",
      "[815] 4 4 4 3 2 2 1 3 4 2 3 4 2 3 1 4 4 4 3 4 1 3 1 4 4 1 1 4 4 3 1 1\n",
      "\n",
      "Within cluster sum of squares by cluster:\n",
      "[1]  336562.4  537447.6 1610140.8 1071504.8\n",
      " (between_SS / total_SS =  88.5 %)\n",
      "\n",
      "Available components:\n",
      "\n",
      "[1] \"cluster\"      \"centers\"      \"totss\"        \"withinss\"     \"tot.withinss\"\n",
      "[6] \"betweenss\"    \"size\"         \"iter\"         \"ifault\"      \n"
     ]
    }
   ],
   "source": [
    "print(modelo_kmeans_veiculo)"
   ]
  },
  {
   "cell_type": "code",
   "execution_count": 38,
   "id": "55a0fa22",
   "metadata": {},
   "outputs": [],
   "source": [
    "# COLOCANDO A COLUNA DE RESULTADOS DOS CLUSTERS NO DATASET ORIGINAL \n",
    "Cluster_veiculo <- modelo_kmeans_veiculo$cluster\n",
    "Cluster_veiculo  <- as.factor(Cluster_veiculo)\n",
    "resultado_veiculo  <- cbind(df_veiculo , Cluster_veiculo )"
   ]
  },
  {
   "cell_type": "code",
   "execution_count": 39,
   "id": "6d67c303",
   "metadata": {},
   "outputs": [
    {
     "data": {
      "text/html": [
       "<table>\n",
       "<thead><tr><th scope=col>a</th><th scope=col>Comp</th><th scope=col>Circ</th><th scope=col>DCirc</th><th scope=col>RadRa</th><th scope=col>PrAxisRa</th><th scope=col>MaxLRa</th><th scope=col>ScatRa</th><th scope=col>Elong</th><th scope=col>PrAxisRect</th><th scope=col>...</th><th scope=col>ScVarMaxis</th><th scope=col>ScVarmaxis</th><th scope=col>RaGyr</th><th scope=col>SkewMaxis</th><th scope=col>Skewmaxis</th><th scope=col>Kurtmaxis</th><th scope=col>KurtMaxis</th><th scope=col>HollRa</th><th scope=col>tipo</th><th scope=col>Cluster_veiculo</th></tr></thead>\n",
       "<tbody>\n",
       "\t<tr><td> 1  </td><td> 95 </td><td>48  </td><td> 83 </td><td>178 </td><td> 72 </td><td>10  </td><td>162 </td><td>42  </td><td>20  </td><td>... </td><td>176 </td><td>379 </td><td>184 </td><td> 70 </td><td> 6  </td><td>16  </td><td>187 </td><td>197 </td><td>van </td><td>4   </td></tr>\n",
       "\t<tr><td> 2  </td><td> 91 </td><td>41  </td><td> 84 </td><td>141 </td><td> 57 </td><td> 9  </td><td>149 </td><td>45  </td><td>19  </td><td>... </td><td>170 </td><td>330 </td><td>158 </td><td> 72 </td><td> 9  </td><td>14  </td><td>189 </td><td>199 </td><td>van </td><td>4   </td></tr>\n",
       "\t<tr><td> 3  </td><td>104 </td><td>50  </td><td>106 </td><td>209 </td><td> 66 </td><td>10  </td><td>207 </td><td>32  </td><td>23  </td><td>... </td><td>223 </td><td>635 </td><td>220 </td><td> 73 </td><td>14  </td><td> 9  </td><td>188 </td><td>196 </td><td>saab</td><td>3   </td></tr>\n",
       "\t<tr><td> 4  </td><td> 93 </td><td>41  </td><td> 82 </td><td>159 </td><td> 63 </td><td> 9  </td><td>144 </td><td>46  </td><td>19  </td><td>... </td><td>160 </td><td>309 </td><td>127 </td><td> 63 </td><td> 6  </td><td>10  </td><td>199 </td><td>207 </td><td>van </td><td>4   </td></tr>\n",
       "\t<tr><td> 5  </td><td> 85 </td><td>44  </td><td> 70 </td><td>205 </td><td>103 </td><td>52  </td><td>149 </td><td>45  </td><td>19  </td><td>... </td><td>241 </td><td>325 </td><td>188 </td><td>127 </td><td> 9  </td><td>11  </td><td>180 </td><td>183 </td><td>bus </td><td>4   </td></tr>\n",
       "\t<tr><td> 6  </td><td>107 </td><td>57  </td><td>106 </td><td>172 </td><td> 50 </td><td> 6  </td><td>255 </td><td>26  </td><td>28  </td><td>... </td><td>280 </td><td>957 </td><td>264 </td><td> 85 </td><td> 5  </td><td> 9  </td><td>181 </td><td>183 </td><td>bus </td><td>3   </td></tr>\n",
       "\t<tr><td> 7  </td><td> 97 </td><td>43  </td><td> 73 </td><td>173 </td><td> 65 </td><td> 6  </td><td>153 </td><td>42  </td><td>19  </td><td>... </td><td>176 </td><td>361 </td><td>172 </td><td> 66 </td><td>13  </td><td> 1  </td><td>200 </td><td>204 </td><td>bus </td><td>4   </td></tr>\n",
       "\t<tr><td> 8  </td><td> 90 </td><td>43  </td><td> 66 </td><td>157 </td><td> 65 </td><td> 9  </td><td>137 </td><td>48  </td><td>18  </td><td>... </td><td>162 </td><td>281 </td><td>164 </td><td> 67 </td><td> 3  </td><td> 3  </td><td>193 </td><td>202 </td><td>van </td><td>1   </td></tr>\n",
       "\t<tr><td> 9  </td><td> 86 </td><td>34  </td><td> 62 </td><td>140 </td><td> 61 </td><td> 7  </td><td>122 </td><td>54  </td><td>17  </td><td>... </td><td>141 </td><td>223 </td><td>112 </td><td> 64 </td><td> 2  </td><td>14  </td><td>200 </td><td>208 </td><td>van </td><td>1   </td></tr>\n",
       "\t<tr><td>10  </td><td> 93 </td><td>44  </td><td> 98 </td><td>197 </td><td> 62 </td><td>11  </td><td>183 </td><td>36  </td><td>22  </td><td>... </td><td>202 </td><td>505 </td><td>152 </td><td> 64 </td><td> 4  </td><td>14  </td><td>195 </td><td>204 </td><td>saab</td><td>2   </td></tr>\n",
       "</tbody>\n",
       "</table>\n"
      ],
      "text/latex": [
       "\\begin{tabular}{r|lllllllllllllllllllll}\n",
       " a & Comp & Circ & DCirc & RadRa & PrAxisRa & MaxLRa & ScatRa & Elong & PrAxisRect & ... & ScVarMaxis & ScVarmaxis & RaGyr & SkewMaxis & Skewmaxis & Kurtmaxis & KurtMaxis & HollRa & tipo & Cluster\\_veiculo\\\\\n",
       "\\hline\n",
       "\t  1   &  95  & 48   &  83  & 178  &  72  & 10   & 162  & 42   & 20   & ...  & 176  & 379  & 184  &  70  &  6   & 16   & 187  & 197  & van  & 4   \\\\\n",
       "\t  2   &  91  & 41   &  84  & 141  &  57  &  9   & 149  & 45   & 19   & ...  & 170  & 330  & 158  &  72  &  9   & 14   & 189  & 199  & van  & 4   \\\\\n",
       "\t  3   & 104  & 50   & 106  & 209  &  66  & 10   & 207  & 32   & 23   & ...  & 223  & 635  & 220  &  73  & 14   &  9   & 188  & 196  & saab & 3   \\\\\n",
       "\t  4   &  93  & 41   &  82  & 159  &  63  &  9   & 144  & 46   & 19   & ...  & 160  & 309  & 127  &  63  &  6   & 10   & 199  & 207  & van  & 4   \\\\\n",
       "\t  5   &  85  & 44   &  70  & 205  & 103  & 52   & 149  & 45   & 19   & ...  & 241  & 325  & 188  & 127  &  9   & 11   & 180  & 183  & bus  & 4   \\\\\n",
       "\t  6   & 107  & 57   & 106  & 172  &  50  &  6   & 255  & 26   & 28   & ...  & 280  & 957  & 264  &  85  &  5   &  9   & 181  & 183  & bus  & 3   \\\\\n",
       "\t  7   &  97  & 43   &  73  & 173  &  65  &  6   & 153  & 42   & 19   & ...  & 176  & 361  & 172  &  66  & 13   &  1   & 200  & 204  & bus  & 4   \\\\\n",
       "\t  8   &  90  & 43   &  66  & 157  &  65  &  9   & 137  & 48   & 18   & ...  & 162  & 281  & 164  &  67  &  3   &  3   & 193  & 202  & van  & 1   \\\\\n",
       "\t  9   &  86  & 34   &  62  & 140  &  61  &  7   & 122  & 54   & 17   & ...  & 141  & 223  & 112  &  64  &  2   & 14   & 200  & 208  & van  & 1   \\\\\n",
       "\t 10   &  93  & 44   &  98  & 197  &  62  & 11   & 183  & 36   & 22   & ...  & 202  & 505  & 152  &  64  &  4   & 14   & 195  & 204  & saab & 2   \\\\\n",
       "\\end{tabular}\n"
      ],
      "text/markdown": [
       "\n",
       "| a | Comp | Circ | DCirc | RadRa | PrAxisRa | MaxLRa | ScatRa | Elong | PrAxisRect | ... | ScVarMaxis | ScVarmaxis | RaGyr | SkewMaxis | Skewmaxis | Kurtmaxis | KurtMaxis | HollRa | tipo | Cluster_veiculo |\n",
       "|---|---|---|---|---|---|---|---|---|---|---|---|---|---|---|---|---|---|---|---|---|\n",
       "|  1   |  95  | 48   |  83  | 178  |  72  | 10   | 162  | 42   | 20   | ...  | 176  | 379  | 184  |  70  |  6   | 16   | 187  | 197  | van  | 4    |\n",
       "|  2   |  91  | 41   |  84  | 141  |  57  |  9   | 149  | 45   | 19   | ...  | 170  | 330  | 158  |  72  |  9   | 14   | 189  | 199  | van  | 4    |\n",
       "|  3   | 104  | 50   | 106  | 209  |  66  | 10   | 207  | 32   | 23   | ...  | 223  | 635  | 220  |  73  | 14   |  9   | 188  | 196  | saab | 3    |\n",
       "|  4   |  93  | 41   |  82  | 159  |  63  |  9   | 144  | 46   | 19   | ...  | 160  | 309  | 127  |  63  |  6   | 10   | 199  | 207  | van  | 4    |\n",
       "|  5   |  85  | 44   |  70  | 205  | 103  | 52   | 149  | 45   | 19   | ...  | 241  | 325  | 188  | 127  |  9   | 11   | 180  | 183  | bus  | 4    |\n",
       "|  6   | 107  | 57   | 106  | 172  |  50  |  6   | 255  | 26   | 28   | ...  | 280  | 957  | 264  |  85  |  5   |  9   | 181  | 183  | bus  | 3    |\n",
       "|  7   |  97  | 43   |  73  | 173  |  65  |  6   | 153  | 42   | 19   | ...  | 176  | 361  | 172  |  66  | 13   |  1   | 200  | 204  | bus  | 4    |\n",
       "|  8   |  90  | 43   |  66  | 157  |  65  |  9   | 137  | 48   | 18   | ...  | 162  | 281  | 164  |  67  |  3   |  3   | 193  | 202  | van  | 1    |\n",
       "|  9   |  86  | 34   |  62  | 140  |  61  |  7   | 122  | 54   | 17   | ...  | 141  | 223  | 112  |  64  |  2   | 14   | 200  | 208  | van  | 1    |\n",
       "| 10   |  93  | 44   |  98  | 197  |  62  | 11   | 183  | 36   | 22   | ...  | 202  | 505  | 152  |  64  |  4   | 14   | 195  | 204  | saab | 2    |\n",
       "\n"
      ],
      "text/plain": [
       "   a  Comp Circ DCirc RadRa PrAxisRa MaxLRa ScatRa Elong PrAxisRect ...\n",
       "1   1  95  48    83   178    72      10     162    42    20         ...\n",
       "2   2  91  41    84   141    57       9     149    45    19         ...\n",
       "3   3 104  50   106   209    66      10     207    32    23         ...\n",
       "4   4  93  41    82   159    63       9     144    46    19         ...\n",
       "5   5  85  44    70   205   103      52     149    45    19         ...\n",
       "6   6 107  57   106   172    50       6     255    26    28         ...\n",
       "7   7  97  43    73   173    65       6     153    42    19         ...\n",
       "8   8  90  43    66   157    65       9     137    48    18         ...\n",
       "9   9  86  34    62   140    61       7     122    54    17         ...\n",
       "10 10  93  44    98   197    62      11     183    36    22         ...\n",
       "   ScVarMaxis ScVarmaxis RaGyr SkewMaxis Skewmaxis Kurtmaxis KurtMaxis HollRa\n",
       "1  176        379        184    70        6        16        187       197   \n",
       "2  170        330        158    72        9        14        189       199   \n",
       "3  223        635        220    73       14         9        188       196   \n",
       "4  160        309        127    63        6        10        199       207   \n",
       "5  241        325        188   127        9        11        180       183   \n",
       "6  280        957        264    85        5         9        181       183   \n",
       "7  176        361        172    66       13         1        200       204   \n",
       "8  162        281        164    67        3         3        193       202   \n",
       "9  141        223        112    64        2        14        200       208   \n",
       "10 202        505        152    64        4        14        195       204   \n",
       "   tipo Cluster_veiculo\n",
       "1  van  4              \n",
       "2  van  4              \n",
       "3  saab 3              \n",
       "4  van  4              \n",
       "5  bus  4              \n",
       "6  bus  3              \n",
       "7  bus  4              \n",
       "8  van  1              \n",
       "9  van  1              \n",
       "10 saab 2              "
      ]
     },
     "metadata": {},
     "output_type": "display_data"
    }
   ],
   "source": [
    "head(resultado_veiculo, 10)"
   ]
  },
  {
   "cell_type": "code",
   "execution_count": 40,
   "id": "19366164",
   "metadata": {},
   "outputs": [
    {
     "data": {
      "text/plain": [
       "   \n",
       "    bus opel saab van\n",
       "  1   0   35   35  99\n",
       "  2  28   49   52   0\n",
       "  3  37   78   73   0\n",
       "  4 153   50   57 100"
      ]
     },
     "metadata": {},
     "output_type": "display_data"
    }
   ],
   "source": [
    "# COMPARATIVO ENTRE A CLUSTERIZAÇÃO E A CLASSIFICAÇÃO REAL\n",
    "table(resultado_veiculo$Cluster_veiculo, df_veiculo$tipo)"
   ]
  },
  {
   "cell_type": "markdown",
   "id": "3fd9efed",
   "metadata": {},
   "source": [
    "#### 1.5 - BANCO\n",
    "\n",
    "Potencial de compra de título no banco. "
   ]
  },
  {
   "cell_type": "code",
   "execution_count": 41,
   "id": "a89176ff",
   "metadata": {},
   "outputs": [],
   "source": [
    "# CARREGAR O DATASET\n",
    "dados_banco <- fread(\"Material 02 - 11 – Banco - Dados.csv\", stringsAsFactors = TRUE)\n",
    "df_banco <- as.data.frame(dados_banco)"
   ]
  },
  {
   "cell_type": "code",
   "execution_count": 42,
   "id": "c91b6626",
   "metadata": {},
   "outputs": [
    {
     "data": {
      "text/html": [
       "<table>\n",
       "<thead><tr><th scope=col>age</th><th scope=col>job</th><th scope=col>marital</th><th scope=col>education</th><th scope=col>default</th><th scope=col>balance</th><th scope=col>housing</th><th scope=col>loan</th><th scope=col>y</th></tr></thead>\n",
       "<tbody>\n",
       "\t<tr><td>30        </td><td>unemployed</td><td>married   </td><td>primary   </td><td>no        </td><td>1787      </td><td>no        </td><td>no        </td><td>no        </td></tr>\n",
       "\t<tr><td>33        </td><td>services  </td><td>married   </td><td>secondary </td><td>no        </td><td>4789      </td><td>yes       </td><td>yes       </td><td>no        </td></tr>\n",
       "\t<tr><td>35        </td><td>management</td><td>single    </td><td>tertiary  </td><td>no        </td><td>1350      </td><td>yes       </td><td>no        </td><td>no        </td></tr>\n",
       "\t<tr><td>30        </td><td>management</td><td>married   </td><td>tertiary  </td><td>no        </td><td>1476      </td><td>yes       </td><td>yes       </td><td>no        </td></tr>\n",
       "\t<tr><td>59        </td><td>bluecollar</td><td>married   </td><td>secondary </td><td>no        </td><td>   0      </td><td>yes       </td><td>no        </td><td>no        </td></tr>\n",
       "\t<tr><td>35        </td><td>management</td><td>single    </td><td>tertiary  </td><td>no        </td><td> 747      </td><td>no        </td><td>no        </td><td>no        </td></tr>\n",
       "</tbody>\n",
       "</table>\n"
      ],
      "text/latex": [
       "\\begin{tabular}{r|lllllllll}\n",
       " age & job & marital & education & default & balance & housing & loan & y\\\\\n",
       "\\hline\n",
       "\t 30         & unemployed & married    & primary    & no         & 1787       & no         & no         & no        \\\\\n",
       "\t 33         & services   & married    & secondary  & no         & 4789       & yes        & yes        & no        \\\\\n",
       "\t 35         & management & single     & tertiary   & no         & 1350       & yes        & no         & no        \\\\\n",
       "\t 30         & management & married    & tertiary   & no         & 1476       & yes        & yes        & no        \\\\\n",
       "\t 59         & bluecollar & married    & secondary  & no         &    0       & yes        & no         & no        \\\\\n",
       "\t 35         & management & single     & tertiary   & no         &  747       & no         & no         & no        \\\\\n",
       "\\end{tabular}\n"
      ],
      "text/markdown": [
       "\n",
       "| age | job | marital | education | default | balance | housing | loan | y |\n",
       "|---|---|---|---|---|---|---|---|---|\n",
       "| 30         | unemployed | married    | primary    | no         | 1787       | no         | no         | no         |\n",
       "| 33         | services   | married    | secondary  | no         | 4789       | yes        | yes        | no         |\n",
       "| 35         | management | single     | tertiary   | no         | 1350       | yes        | no         | no         |\n",
       "| 30         | management | married    | tertiary   | no         | 1476       | yes        | yes        | no         |\n",
       "| 59         | bluecollar | married    | secondary  | no         |    0       | yes        | no         | no         |\n",
       "| 35         | management | single     | tertiary   | no         |  747       | no         | no         | no         |\n",
       "\n"
      ],
      "text/plain": [
       "  age job        marital education default balance housing loan y \n",
       "1 30  unemployed married primary   no      1787    no      no   no\n",
       "2 33  services   married secondary no      4789    yes     yes  no\n",
       "3 35  management single  tertiary  no      1350    yes     no   no\n",
       "4 30  management married tertiary  no      1476    yes     yes  no\n",
       "5 59  bluecollar married secondary no         0    yes     no   no\n",
       "6 35  management single  tertiary  no       747    no      no   no"
      ]
     },
     "metadata": {},
     "output_type": "display_data"
    }
   ],
   "source": [
    "head(df_banco)"
   ]
  },
  {
   "cell_type": "code",
   "execution_count": 43,
   "id": "847ef2d7",
   "metadata": {},
   "outputs": [
    {
     "data": {
      "text/plain": [
       "\n",
       " no yes \n",
       "262  38 "
      ]
     },
     "metadata": {},
     "output_type": "display_data"
    }
   ],
   "source": [
    "# QUANTIDADE DE OBSERVAÇÕES DE CADA CLASSE\n",
    "table(df_banco$y)"
   ]
  },
  {
   "cell_type": "markdown",
   "id": "49f09498",
   "metadata": {},
   "source": [
    "#### APRENDIZADO - K-MODES"
   ]
  },
  {
   "cell_type": "code",
   "execution_count": 44,
   "id": "839c0759",
   "metadata": {},
   "outputs": [],
   "source": [
    "# APRENDIZADO NÃO SUPERVISIONADO \n",
    "modelo_kmodes_banco <- kmodes(df_banco, 2, iter.max = 10, weighted = FALSE ) "
   ]
  },
  {
   "cell_type": "code",
   "execution_count": 45,
   "id": "dcb49b9d",
   "metadata": {},
   "outputs": [
    {
     "name": "stdout",
     "output_type": "stream",
     "text": [
      "K-modes clustering with 2 clusters of sizes 211, 89\n",
      "\n",
      "Cluster modes:\n",
      "  age        job marital education default balance housing loan  y\n",
      "1  34 bluecollar married secondary      no       0     yes   no no\n",
      "2  32 management  single  tertiary      no       0      no   no no\n",
      "\n",
      "Clustering vector:\n",
      "  [1] 1 1 2 1 1 2 1 1 1 1 1 1 2 2 1 2 1 2 1 1 1 2 2 1 2 2 1 1 1 1 1 1 1 2 2 1 2\n",
      " [38] 1 1 2 2 2 1 1 2 2 1 1 2 1 1 1 2 1 1 1 1 2 1 1 1 1 2 1 1 1 1 1 1 2 2 1 2 1\n",
      " [75] 1 2 1 2 1 1 1 1 1 1 2 1 2 1 1 1 1 1 1 2 1 2 1 2 1 2 1 2 1 1 2 2 1 1 1 1 2\n",
      "[112] 1 1 1 2 2 1 2 1 2 1 1 1 1 2 2 2 2 2 2 1 1 1 1 1 2 1 2 1 2 2 2 1 2 1 2 1 1\n",
      "[149] 1 1 1 2 1 1 1 1 1 1 2 1 1 1 2 1 2 1 1 1 2 1 1 2 1 1 2 1 1 1 1 1 2 2 1 1 1\n",
      "[186] 1 1 1 1 1 1 1 2 1 2 1 1 1 2 1 1 1 2 2 2 2 1 1 1 1 1 1 1 1 2 1 1 1 1 1 1 1\n",
      "[223] 1 1 1 1 1 1 1 1 1 2 1 1 2 1 1 1 1 1 1 2 2 1 1 1 1 2 1 1 1 2 1 1 1 1 2 2 1\n",
      "[260] 1 1 2 2 2 2 1 1 1 1 1 1 1 1 1 1 1 2 2 1 1 2 1 1 1 1 2 1 1 1 1 1 1 1 1 2 1\n",
      "[297] 2 1 1 1\n",
      "\n",
      "Within cluster simple-matching distance by cluster:\n",
      "[1] 832 324\n",
      "\n",
      "Available components:\n",
      "[1] \"cluster\"    \"size\"       \"modes\"      \"withindiff\" \"iterations\"\n",
      "[6] \"weighted\"  \n"
     ]
    }
   ],
   "source": [
    "print(modelo_kmodes_banco)"
   ]
  },
  {
   "cell_type": "code",
   "execution_count": 46,
   "id": "a7a69f55",
   "metadata": {},
   "outputs": [],
   "source": [
    "# COLOCAR A COLUNA DE RESULTADOS DOS CLUSTERS NO DATASET ORIGINAL \n",
    "Cluster_banco <- modelo_kmodes_banco$cluster\n",
    "Cluster_banco  <- as.factor(Cluster_banco)\n",
    "resultado_banco  <- cbind(df_banco, Cluster_banco)"
   ]
  },
  {
   "cell_type": "code",
   "execution_count": 47,
   "id": "d8058be2",
   "metadata": {},
   "outputs": [
    {
     "data": {
      "text/html": [
       "<table>\n",
       "<thead><tr><th scope=col>age</th><th scope=col>job</th><th scope=col>marital</th><th scope=col>education</th><th scope=col>default</th><th scope=col>balance</th><th scope=col>housing</th><th scope=col>loan</th><th scope=col>y</th><th scope=col>Cluster_banco</th></tr></thead>\n",
       "<tbody>\n",
       "\t<tr><td>30          </td><td>unemployed  </td><td>married     </td><td>primary     </td><td>no          </td><td>1787        </td><td>no          </td><td>no          </td><td>no          </td><td>1           </td></tr>\n",
       "\t<tr><td>33          </td><td>services    </td><td>married     </td><td>secondary   </td><td>no          </td><td>4789        </td><td>yes         </td><td>yes         </td><td>no          </td><td>1           </td></tr>\n",
       "\t<tr><td>35          </td><td>management  </td><td>single      </td><td>tertiary    </td><td>no          </td><td>1350        </td><td>yes         </td><td>no          </td><td>no          </td><td>2           </td></tr>\n",
       "\t<tr><td>30          </td><td>management  </td><td>married     </td><td>tertiary    </td><td>no          </td><td>1476        </td><td>yes         </td><td>yes         </td><td>no          </td><td>1           </td></tr>\n",
       "\t<tr><td>59          </td><td>bluecollar  </td><td>married     </td><td>secondary   </td><td>no          </td><td>   0        </td><td>yes         </td><td>no          </td><td>no          </td><td>1           </td></tr>\n",
       "\t<tr><td>35          </td><td>management  </td><td>single      </td><td>tertiary    </td><td>no          </td><td> 747        </td><td>no          </td><td>no          </td><td>no          </td><td>2           </td></tr>\n",
       "\t<tr><td>36          </td><td>selfemployed</td><td>married     </td><td>tertiary    </td><td>no          </td><td> 307        </td><td>yes         </td><td>no          </td><td>no          </td><td>1           </td></tr>\n",
       "\t<tr><td>39          </td><td>technician  </td><td>married     </td><td>secondary   </td><td>no          </td><td> 147        </td><td>yes         </td><td>no          </td><td>no          </td><td>1           </td></tr>\n",
       "\t<tr><td>41          </td><td>entrepreneur</td><td>married     </td><td>tertiary    </td><td>no          </td><td> 221        </td><td>yes         </td><td>no          </td><td>no          </td><td>1           </td></tr>\n",
       "\t<tr><td>43          </td><td>services    </td><td>married     </td><td>primary     </td><td>no          </td><td>  88        </td><td>yes         </td><td>yes         </td><td>no          </td><td>1           </td></tr>\n",
       "</tbody>\n",
       "</table>\n"
      ],
      "text/latex": [
       "\\begin{tabular}{r|llllllllll}\n",
       " age & job & marital & education & default & balance & housing & loan & y & Cluster\\_banco\\\\\n",
       "\\hline\n",
       "\t 30           & unemployed   & married      & primary      & no           & 1787         & no           & no           & no           & 1           \\\\\n",
       "\t 33           & services     & married      & secondary    & no           & 4789         & yes          & yes          & no           & 1           \\\\\n",
       "\t 35           & management   & single       & tertiary     & no           & 1350         & yes          & no           & no           & 2           \\\\\n",
       "\t 30           & management   & married      & tertiary     & no           & 1476         & yes          & yes          & no           & 1           \\\\\n",
       "\t 59           & bluecollar   & married      & secondary    & no           &    0         & yes          & no           & no           & 1           \\\\\n",
       "\t 35           & management   & single       & tertiary     & no           &  747         & no           & no           & no           & 2           \\\\\n",
       "\t 36           & selfemployed & married      & tertiary     & no           &  307         & yes          & no           & no           & 1           \\\\\n",
       "\t 39           & technician   & married      & secondary    & no           &  147         & yes          & no           & no           & 1           \\\\\n",
       "\t 41           & entrepreneur & married      & tertiary     & no           &  221         & yes          & no           & no           & 1           \\\\\n",
       "\t 43           & services     & married      & primary      & no           &   88         & yes          & yes          & no           & 1           \\\\\n",
       "\\end{tabular}\n"
      ],
      "text/markdown": [
       "\n",
       "| age | job | marital | education | default | balance | housing | loan | y | Cluster_banco |\n",
       "|---|---|---|---|---|---|---|---|---|---|\n",
       "| 30           | unemployed   | married      | primary      | no           | 1787         | no           | no           | no           | 1            |\n",
       "| 33           | services     | married      | secondary    | no           | 4789         | yes          | yes          | no           | 1            |\n",
       "| 35           | management   | single       | tertiary     | no           | 1350         | yes          | no           | no           | 2            |\n",
       "| 30           | management   | married      | tertiary     | no           | 1476         | yes          | yes          | no           | 1            |\n",
       "| 59           | bluecollar   | married      | secondary    | no           |    0         | yes          | no           | no           | 1            |\n",
       "| 35           | management   | single       | tertiary     | no           |  747         | no           | no           | no           | 2            |\n",
       "| 36           | selfemployed | married      | tertiary     | no           |  307         | yes          | no           | no           | 1            |\n",
       "| 39           | technician   | married      | secondary    | no           |  147         | yes          | no           | no           | 1            |\n",
       "| 41           | entrepreneur | married      | tertiary     | no           |  221         | yes          | no           | no           | 1            |\n",
       "| 43           | services     | married      | primary      | no           |   88         | yes          | yes          | no           | 1            |\n",
       "\n"
      ],
      "text/plain": [
       "   age job          marital education default balance housing loan y \n",
       "1  30  unemployed   married primary   no      1787    no      no   no\n",
       "2  33  services     married secondary no      4789    yes     yes  no\n",
       "3  35  management   single  tertiary  no      1350    yes     no   no\n",
       "4  30  management   married tertiary  no      1476    yes     yes  no\n",
       "5  59  bluecollar   married secondary no         0    yes     no   no\n",
       "6  35  management   single  tertiary  no       747    no      no   no\n",
       "7  36  selfemployed married tertiary  no       307    yes     no   no\n",
       "8  39  technician   married secondary no       147    yes     no   no\n",
       "9  41  entrepreneur married tertiary  no       221    yes     no   no\n",
       "10 43  services     married primary   no        88    yes     yes  no\n",
       "   Cluster_banco\n",
       "1  1            \n",
       "2  1            \n",
       "3  2            \n",
       "4  1            \n",
       "5  1            \n",
       "6  2            \n",
       "7  1            \n",
       "8  1            \n",
       "9  1            \n",
       "10 1            "
      ]
     },
     "metadata": {},
     "output_type": "display_data"
    }
   ],
   "source": [
    "head(resultado_banco, 10)"
   ]
  },
  {
   "cell_type": "code",
   "execution_count": 48,
   "id": "fc4c0137",
   "metadata": {},
   "outputs": [
    {
     "data": {
      "text/plain": [
       "   \n",
       "     no yes\n",
       "  1 188  23\n",
       "  2  74  15"
      ]
     },
     "metadata": {},
     "output_type": "display_data"
    }
   ],
   "source": [
    "# TABELA COM O RESULTADO DA CLUSTERIZAÇÃO\n",
    "table(resultado_banco$Cluster_banco, df_banco$y)"
   ]
  },
  {
   "cell_type": "markdown",
   "id": "d4fccf0f",
   "metadata": {},
   "source": [
    "### 2 - REGRAS DE ASSOCIAÇÃO\n",
    "\n",
    "#### TRABALHO: GERAR REGRAS COM 3 CONFIGURAÇÕES DE SUPORTE E CONFIANÇA UTILIZANDO O ALGORITMO APRIORI.\n",
    "\n",
    "Algoritmo apriori realiza uma busca aprofundada nos dados gerando conjunto de padrões. É uma tarefa descritiva (aprendizado\n",
    "Não supervisionado). O objetivo do algoritmo de associação é encontrar padrões frequentes ou relações entre os atributos.\n",
    "\n",
    "Exemplo: quem compra um tipo de produto x, compra também os produtos y e z com determinado grau de certeza (probabilidade)."
   ]
  },
  {
   "cell_type": "markdown",
   "id": "dfb3b7fe",
   "metadata": {},
   "source": [
    "#### ALGORITMO APRIORI - APLICAÇÃO EM DADOS DE LISTA COMPRAS \n",
    "\n",
    "**Parâmetro**: suporte -> **supp**\n",
    "\n",
    "Esse parâmetro tem como objetivo excluir de uma lista de itens os que aparecem menos para evitar a geração de regras sem representatividade. Isso é feito com base na frequência (probabilidade) de cada item individualmente e depois com a combinação de itens na lista. Os itens e as combinações com a frequência menor que o valor determinado no parâmetro de suporte são descartados. Depois é testada a relação entre combinações frequentes e itens frequentes para verificar se há regras. Por fim,  é feito um conjunto de regras candidatas de um item da lista em relação aos demais da combinação a fim de se verificar a confiança. Normalmente é usado um suporte de 50%.\n",
    "\n",
    "**Parâmetro**: Confiança -> **conf**\n",
    "\n",
    "Mede confiabilidade das regras geradas. Confiança da Regra X -> Y é o número de vezes que os itens X e Y aparecem na mesma entrada dividido pelo número de vezes em que X aparece em todas as entradas. Normalmente é utilizada a confiança mínima de 75%.\n"
   ]
  },
  {
   "cell_type": "markdown",
   "id": "3077bdf8",
   "metadata": {},
   "source": [
    "#### 2.1 - LISTA DE COMPRAS"
   ]
  },
  {
   "cell_type": "code",
   "execution_count": 49,
   "id": "ae4c27de",
   "metadata": {},
   "outputs": [
    {
     "name": "stdout",
     "output_type": "stream",
     "text": [
      "    items                   \n",
      "[1] {bolacha,leite,pao,suco}\n",
      "[2] {leite,suco}            \n",
      "[3] {leite,ovos}            \n",
      "[4] {bolacha,cafŽ,pao}      \n"
     ]
    }
   ],
   "source": [
    "# CARREGAR DADOS\n",
    "dados_lista_compras <- read.transactions(file = \"Material 08 – 1 - Lista de Compras - Dados.csv\", format = \"basket\", sep = \";\")\n",
    "inspect(dados_lista_compras)"
   ]
  },
  {
   "cell_type": "code",
   "execution_count": 50,
   "id": "818e39c2",
   "metadata": {},
   "outputs": [
    {
     "data": {
      "text/plain": [
       "transactions as itemMatrix in sparse format with\n",
       " 4 rows (elements/itemsets/transactions) and\n",
       " 6 columns (items) and a density of 0.4583333 \n",
       "\n",
       "most frequent items:\n",
       "  leite bolacha     pao    suco    cafŽ (Other) \n",
       "      3       2       2       2       1       1 \n",
       "\n",
       "element (itemset/transaction) length distribution:\n",
       "sizes\n",
       "2 3 4 \n",
       "2 1 1 \n",
       "\n",
       "   Min. 1st Qu.  Median    Mean 3rd Qu.    Max. \n",
       "   2.00    2.00    2.50    2.75    3.25    4.00 \n",
       "\n",
       "includes extended item information - examples:\n",
       "   labels\n",
       "1 bolacha\n",
       "2    cafŽ\n",
       "3   leite"
      ]
     },
     "metadata": {},
     "output_type": "display_data"
    }
   ],
   "source": [
    "summary(dados_lista_compras)"
   ]
  },
  {
   "cell_type": "code",
   "execution_count": 51,
   "id": "e1916bb4",
   "metadata": {},
   "outputs": [
    {
     "name": "stdout",
     "output_type": "stream",
     "text": [
      "Apriori\n",
      "\n",
      "Parameter specification:\n",
      " confidence minval smax arem  aval originalSupport maxtime support minlen\n",
      "       0.85    0.1    1 none FALSE            TRUE       5     0.5      1\n",
      " maxlen target  ext\n",
      "     10  rules TRUE\n",
      "\n",
      "Algorithmic control:\n",
      " filter tree heap memopt load sort verbose\n",
      "    0.1 TRUE TRUE  FALSE TRUE    2    TRUE\n",
      "\n",
      "Absolute minimum support count: 2 \n",
      "\n",
      "set item appearances ...[0 item(s)] done [0.00s].\n",
      "set transactions ...[6 item(s), 4 transaction(s)] done [0.00s].\n",
      "sorting and recoding items ... [4 item(s)] done [0.00s].\n",
      "creating transaction tree ... done [0.00s].\n",
      "checking subsets of size 1 2 done [0.00s].\n",
      "writing ... [3 rule(s)] done [0.00s].\n",
      "creating S4 object  ... done [0.00s].\n",
      "    lhs          rhs       support confidence coverage lift     count\n",
      "[1] {suco}    => {leite}   0.5     1          0.5      1.333333 2    \n",
      "[2] {pao}     => {bolacha} 0.5     1          0.5      2.000000 2    \n",
      "[3] {bolacha} => {pao}     0.5     1          0.5      2.000000 2    \n"
     ]
    }
   ],
   "source": [
    "# PRIMEIRA CONFIGURAÇÃO DE supp e conf \n",
    "regras1.1 <- apriori(dados_lista_compras, parameter = list(supp = 0.5, conf = 0.85, target = \"rules\"))\n",
    "inspect(regras1.1)"
   ]
  },
  {
   "cell_type": "markdown",
   "id": "98f1025a",
   "metadata": {},
   "source": [
    "Resultado:\n",
    "\n",
    "Com parâmetros de suporte de 50% e confiança de 85% foram geradas 3 regras. Conclui-se que em 50% das vezes:\n",
    "\n",
    "- Quem compra suco, compra leite (com chance de 100%)\n",
    "- Quem compra pão, compra bolacha (com chance de 100%)\n",
    "- Quem compra bolacha, compra pão (com chance de 100%)"
   ]
  },
  {
   "cell_type": "markdown",
   "id": "6ddd8c62",
   "metadata": {},
   "source": [
    "O lift indica a chance do item Y aparecer quando X aparece. No caso acima, quem compra suco, tem 1.333 vezes mais chance de comprar leite. \n",
    "\n",
    "lift é dados pela confidence/support."
   ]
  },
  {
   "cell_type": "code",
   "execution_count": 52,
   "id": "e55170cf",
   "metadata": {},
   "outputs": [
    {
     "data": {
      "text/plain": [
       "set of 3 rules\n",
       "\n",
       "rule length distribution (lhs + rhs):sizes\n",
       "2 \n",
       "3 \n",
       "\n",
       "   Min. 1st Qu.  Median    Mean 3rd Qu.    Max. \n",
       "      2       2       2       2       2       2 \n",
       "\n",
       "summary of quality measures:\n",
       "    support      confidence    coverage        lift           count  \n",
       " Min.   :0.5   Min.   :1    Min.   :0.5   Min.   :1.333   Min.   :2  \n",
       " 1st Qu.:0.5   1st Qu.:1    1st Qu.:0.5   1st Qu.:1.667   1st Qu.:2  \n",
       " Median :0.5   Median :1    Median :0.5   Median :2.000   Median :2  \n",
       " Mean   :0.5   Mean   :1    Mean   :0.5   Mean   :1.778   Mean   :2  \n",
       " 3rd Qu.:0.5   3rd Qu.:1    3rd Qu.:0.5   3rd Qu.:2.000   3rd Qu.:2  \n",
       " Max.   :0.5   Max.   :1    Max.   :0.5   Max.   :2.000   Max.   :2  \n",
       "\n",
       "mining info:\n",
       "                data ntransactions support confidence\n",
       " dados_lista_compras             4     0.5       0.85"
      ]
     },
     "metadata": {},
     "output_type": "display_data"
    }
   ],
   "source": [
    "summary(regras1.1)"
   ]
  },
  {
   "cell_type": "code",
   "execution_count": 53,
   "id": "3b36cc2f",
   "metadata": {},
   "outputs": [
    {
     "name": "stdout",
     "output_type": "stream",
     "text": [
      "Apriori\n",
      "\n",
      "Parameter specification:\n",
      " confidence minval smax arem  aval originalSupport maxtime support minlen\n",
      "       0.95    0.1    1 none FALSE            TRUE       5     0.5      1\n",
      " maxlen target  ext\n",
      "     10  rules TRUE\n",
      "\n",
      "Algorithmic control:\n",
      " filter tree heap memopt load sort verbose\n",
      "    0.1 TRUE TRUE  FALSE TRUE    2    TRUE\n",
      "\n",
      "Absolute minimum support count: 2 \n",
      "\n",
      "set item appearances ...[0 item(s)] done [0.00s].\n",
      "set transactions ...[6 item(s), 4 transaction(s)] done [0.00s].\n",
      "sorting and recoding items ... [4 item(s)] done [0.00s].\n",
      "creating transaction tree ... done [0.00s].\n",
      "checking subsets of size 1 2 done [0.00s].\n",
      "writing ... [3 rule(s)] done [0.00s].\n",
      "creating S4 object  ... done [0.00s].\n",
      "    lhs          rhs       support confidence coverage lift     count\n",
      "[1] {suco}    => {leite}   0.5     1          0.5      1.333333 2    \n",
      "[2] {pao}     => {bolacha} 0.5     1          0.5      2.000000 2    \n",
      "[3] {bolacha} => {pao}     0.5     1          0.5      2.000000 2    \n"
     ]
    }
   ],
   "source": [
    "# SEGUNDA CONFIGURAÇÃO DE supp e conf - UTILIZANDO O ALGORITMO APRIORI\n",
    "regras1.2 <- apriori(dados_lista_compras, parameter = list(supp = 0.50, conf = 0.95, target = \"rules\"))\n",
    "inspect(regras1.2)"
   ]
  },
  {
   "cell_type": "markdown",
   "id": "9afe40bc",
   "metadata": {},
   "source": [
    "Resultado:\n",
    "\n",
    "Com parâmetros de suporte de 50% e confiança de 95% foram geradas 3 regras. Conclui-se que em 50% das vezes:\n",
    "\n",
    "- Quem compra suco, compra leite (com chance de 100%)\n",
    "- Quem compra pão, compra bolacha (com chance de 100%)\n",
    "- Quem compra bolacha, compra pão (com chance de 100%)"
   ]
  },
  {
   "cell_type": "code",
   "execution_count": 54,
   "id": "81a05bc6",
   "metadata": {},
   "outputs": [
    {
     "name": "stdout",
     "output_type": "stream",
     "text": [
      "Apriori\n",
      "\n",
      "Parameter specification:\n",
      " confidence minval smax arem  aval originalSupport maxtime support minlen\n",
      "       0.76    0.1    1 none FALSE            TRUE       5    0.25      1\n",
      " maxlen target  ext\n",
      "     10  rules TRUE\n",
      "\n",
      "Algorithmic control:\n",
      " filter tree heap memopt load sort verbose\n",
      "    0.1 TRUE TRUE  FALSE TRUE    2    TRUE\n",
      "\n",
      "Absolute minimum support count: 1 \n",
      "\n",
      "set item appearances ...[0 item(s)] done [0.00s].\n",
      "set transactions ...[6 item(s), 4 transaction(s)] done [0.00s].\n",
      "sorting and recoding items ... [6 item(s)] done [0.00s].\n",
      "creating transaction tree ... done [0.00s].\n",
      "checking subsets of size 1 2 3 4 done [0.00s].\n",
      "writing ... [20 rule(s)] done [0.00s].\n",
      "creating S4 object  ... done [0.00s].\n",
      "     lhs                     rhs       support confidence coverage lift    \n",
      "[1]  {ovos}               => {leite}   0.25    1          0.25     1.333333\n",
      "[2]  {cafŽ}               => {pao}     0.25    1          0.25     2.000000\n",
      "[3]  {cafŽ}               => {bolacha} 0.25    1          0.25     2.000000\n",
      "[4]  {suco}               => {leite}   0.50    1          0.50     1.333333\n",
      "[5]  {pao}                => {bolacha} 0.50    1          0.50     2.000000\n",
      "[6]  {bolacha}            => {pao}     0.50    1          0.50     2.000000\n",
      "[7]  {cafŽ,pao}           => {bolacha} 0.25    1          0.25     2.000000\n",
      "[8]  {bolacha,cafŽ}       => {pao}     0.25    1          0.25     2.000000\n",
      "[9]  {pao,suco}           => {bolacha} 0.25    1          0.25     2.000000\n",
      "[10] {bolacha,suco}       => {pao}     0.25    1          0.25     2.000000\n",
      "[11] {pao,suco}           => {leite}   0.25    1          0.25     1.333333\n",
      "[12] {leite,pao}          => {suco}    0.25    1          0.25     2.000000\n",
      "[13] {bolacha,suco}       => {leite}   0.25    1          0.25     1.333333\n",
      "[14] {bolacha,leite}      => {suco}    0.25    1          0.25     2.000000\n",
      "[15] {leite,pao}          => {bolacha} 0.25    1          0.25     2.000000\n",
      "[16] {bolacha,leite}      => {pao}     0.25    1          0.25     2.000000\n",
      "[17] {bolacha,pao,suco}   => {leite}   0.25    1          0.25     1.333333\n",
      "[18] {leite,pao,suco}     => {bolacha} 0.25    1          0.25     2.000000\n",
      "[19] {bolacha,leite,suco} => {pao}     0.25    1          0.25     2.000000\n",
      "[20] {bolacha,leite,pao}  => {suco}    0.25    1          0.25     2.000000\n",
      "     count\n",
      "[1]  1    \n",
      "[2]  1    \n",
      "[3]  1    \n",
      "[4]  2    \n",
      "[5]  2    \n",
      "[6]  2    \n",
      "[7]  1    \n",
      "[8]  1    \n",
      "[9]  1    \n",
      "[10] 1    \n",
      "[11] 1    \n",
      "[12] 1    \n",
      "[13] 1    \n",
      "[14] 1    \n",
      "[15] 1    \n",
      "[16] 1    \n",
      "[17] 1    \n",
      "[18] 1    \n",
      "[19] 1    \n",
      "[20] 1    \n"
     ]
    }
   ],
   "source": [
    "# TERCEIRA CONFIGURAÇÃO DE supp e conf - UTILIZANDO O ALGORITMO APRIORI\n",
    "regras1.3 <- apriori(dados_lista_compras, parameter = list(supp = 0.25, conf = 0.76, target = \"rules\"))\n",
    "inspect(regras1.3)"
   ]
  },
  {
   "cell_type": "markdown",
   "id": "0760b755",
   "metadata": {},
   "source": [
    "Resultado:\n",
    "\n",
    "Com parâmetros de suporte de 25% e confiança de 76% foram geradas 3 regras. \n",
    "\n",
    "Conclui-se que:\n",
    "\n",
    "Em 25% das vezes:\n",
    "\n",
    "- Quem compra ovo, compra leite (com chance de 100%)\n",
    "- Quem compra café, compra pão (com chance de 100%)\n",
    "- Quem compra café, compra bolacha (com chance de 100%)\n",
    "\n",
    "Em 50% das vezes:\n",
    "- Quem compra suco, compra leite (com chance de 100%)\n",
    "- ...\n",
    "- ...\n",
    "- ..."
   ]
  },
  {
   "cell_type": "markdown",
   "id": "aa1a5cda",
   "metadata": {},
   "source": [
    "#### ALGORITMO APRIORI - APLICAÇÃO EM DADOS DE MUSCULAÇÃO"
   ]
  },
  {
   "cell_type": "markdown",
   "id": "85fed69d",
   "metadata": {},
   "source": [
    "#### 2.2 - MUSCULAÇÃO"
   ]
  },
  {
   "cell_type": "code",
   "execution_count": 55,
   "id": "9e321171",
   "metadata": {},
   "outputs": [
    {
     "name": "stdout",
     "output_type": "stream",
     "text": [
      "     items             \n",
      "[1]  {Afundo,          \n",
      "      Crucifixo,       \n",
      "      Gemeos,          \n",
      "      LegPress}        \n",
      "[2]  {Agachamento,     \n",
      "      Gemeos,          \n",
      "      LegPress}        \n",
      "[3]  {Afundo,          \n",
      "      Agachamento,     \n",
      "      Gemeos,          \n",
      "      LegPress}        \n",
      "[4]  {Adutor,          \n",
      "      Agachamento,     \n",
      "      LegPress}        \n",
      "[5]  {Afundo,          \n",
      "      Bicicleta,       \n",
      "      Gemeos,          \n",
      "      LegPress}        \n",
      "[6]  {Agachamento,     \n",
      "      Gemeos,          \n",
      "      LegPress}        \n",
      "[7]  {Afundo,          \n",
      "      Bicicleta,       \n",
      "      Gemeos,          \n",
      "      LegPress}        \n",
      "[8]  {Adutor,          \n",
      "      Agachamento,     \n",
      "      LegPress}        \n",
      "[9]  {AgachamentoSmith,\n",
      "      Bicicleta,       \n",
      "      Esteira,         \n",
      "      Extensor,        \n",
      "      Gemeos}          \n",
      "[10] {AgachamentoSmith,\n",
      "      Bicicleta,       \n",
      "      Esteira,         \n",
      "      Extensor,        \n",
      "      LegPress}        \n",
      "[11] {AgachamentoSmith,\n",
      "      Bicicleta,       \n",
      "      Extensor,        \n",
      "      Gemeos,          \n",
      "      LegPress}        \n",
      "[12] {Bicicleta,       \n",
      "      Esteira,         \n",
      "      Extensor,        \n",
      "      Flexor,          \n",
      "      LegPress}        \n",
      "[13] {AgachamentoSmith,\n",
      "      Esteira,         \n",
      "      Extensor,        \n",
      "      Gemeos,          \n",
      "      LegPress}        \n",
      "[14] {AgachamentoSmith,\n",
      "      Bicicleta,       \n",
      "      Esteira,         \n",
      "      Extensor,        \n",
      "      LegPress}        \n",
      "[15] {Bicicleta,       \n",
      "      Esteira,         \n",
      "      Extensor,        \n",
      "      Gemeos}          \n",
      "[16] {Afundo,          \n",
      "      Crucifixo,       \n",
      "      Gemeos,          \n",
      "      LegPress}        \n",
      "[17] {Agachamento,     \n",
      "      Gemeos,          \n",
      "      LegPress}        \n",
      "[18] {Afundo,          \n",
      "      Agachamento,     \n",
      "      Gemeos,          \n",
      "      LegPress}        \n",
      "[19] {Adutor,          \n",
      "      Agachamento,     \n",
      "      LegPress}        \n",
      "[20] {AgachamentoSmith,\n",
      "      Bicicleta,       \n",
      "      Esteira,         \n",
      "      Extensor,        \n",
      "      Gemeos}          \n",
      "[21] {AgachamentoSmith,\n",
      "      Bicicleta,       \n",
      "      Esteira,         \n",
      "      Extensor,        \n",
      "      LegPress}        \n",
      "[22] {Afundo,          \n",
      "      AgachamentoSmith,\n",
      "      Bicicleta,       \n",
      "      Extensor,        \n",
      "      Gemeos}          \n",
      "[23] {Bicicleta,       \n",
      "      Esteira,         \n",
      "      Extensor,        \n",
      "      Flexor,          \n",
      "      LegPress}        \n",
      "[24] {Afundo,          \n",
      "      AgachamentoSmith,\n",
      "      Esteira,         \n",
      "      Gemeos,          \n",
      "      LegPress}        \n",
      "[25] {AgachamentoSmith,\n",
      "      Bicicleta,       \n",
      "      Esteira,         \n",
      "      Extensor,        \n",
      "      LegPress}        \n",
      "[26] {Afundo,          \n",
      "      Bicicleta,       \n",
      "      Esteira,         \n",
      "      Extensor,        \n",
      "      Gemeos}          \n"
     ]
    },
    {
     "data": {
      "text/plain": [
       "NULL"
      ]
     },
     "metadata": {},
     "output_type": "display_data"
    }
   ],
   "source": [
    "dados_musculacao <- read.transactions(file = \"Material 08 – 2 - Musculacao - Dados.csv\", format = \"basket\", sep = \";\")\n",
    "head(inspect(dados_musculacao))"
   ]
  },
  {
   "cell_type": "code",
   "execution_count": 56,
   "id": "a08738f9",
   "metadata": {},
   "outputs": [
    {
     "name": "stdout",
     "output_type": "stream",
     "text": [
      "Apriori\n",
      "\n",
      "Parameter specification:\n",
      " confidence minval smax arem  aval originalSupport maxtime support minlen\n",
      "       0.95    0.1    1 none FALSE            TRUE       5    0.25      1\n",
      " maxlen target  ext\n",
      "     10  rules TRUE\n",
      "\n",
      "Algorithmic control:\n",
      " filter tree heap memopt load sort verbose\n",
      "    0.1 TRUE TRUE  FALSE TRUE    2    TRUE\n",
      "\n",
      "Absolute minimum support count: 6 \n",
      "\n",
      "set item appearances ...[0 item(s)] done [0.00s].\n",
      "set transactions ...[11 item(s), 26 transaction(s)] done [0.00s].\n",
      "sorting and recoding items ... [8 item(s)] done [0.00s].\n",
      "creating transaction tree ... done [0.00s].\n",
      "checking subsets of size 1 2 3 done [0.00s].\n",
      "writing ... [5 rule(s)] done [0.00s].\n",
      "creating S4 object  ... done [0.00s].\n",
      "    lhs                             rhs        support   confidence coverage \n",
      "[1] {Agachamento}                => {LegPress} 0.3076923 1          0.3076923\n",
      "[2] {Afundo}                     => {Gemeos}   0.3461538 1          0.3461538\n",
      "[3] {Afundo,LegPress}            => {Gemeos}   0.2692308 1          0.2692308\n",
      "[4] {AgachamentoSmith,Bicicleta} => {Extensor} 0.3076923 1          0.3076923\n",
      "[5] {Bicicleta,Esteira}          => {Extensor} 0.3846154 1          0.3846154\n",
      "    lift     count\n",
      "[1] 1.238095  8   \n",
      "[2] 1.529412  9   \n",
      "[3] 1.529412  7   \n",
      "[4] 2.000000  8   \n",
      "[5] 2.000000 10   \n"
     ]
    }
   ],
   "source": [
    "# PRIMEIRA CONFIGURAÇÃO DE supp e conf \n",
    "regras2.1 <- apriori(dados_musculacao, parameter = list(supp = 0.25, conf = 0.95, target = \"rules\"))\n",
    "inspect(regras2.1)"
   ]
  },
  {
   "cell_type": "markdown",
   "id": "106d18d0",
   "metadata": {},
   "source": [
    "Resultado:\n",
    "\n",
    "Com parâmetros de suporte de 25% e confiança de 95% foram geradas 5 regras. \n",
    "\n",
    "Conclui-se que:\n",
    "\n",
    "Em aproximadamente 31% das vezes:\n",
    "- Quem faz Agachamento, usa LegPress (com chance de 100%)\n",
    "\n",
    "Em aproximadamente 35% das vezes:\n",
    "- Quem faz Afundo, usa Gemeos (com chance de 100%)\n",
    "\n",
    "Em aproximadamente 27% das vezes:\n",
    "- Quem faz Afundo e usa o LegPress, usa Gemeos (com chance de 100%)\n",
    "\n",
    "Em aproximadamente 31% das vezes:\n",
    "- Quem faz AgachamentoSmith e Bicicleta, usa Extensor (com chance de 100%)\n",
    "\n",
    "Em aproximadamente 38% das vezes:\n",
    "- Quem faz Bicicleta e Esteira, usa Extensor (com chance de 100%)\n"
   ]
  },
  {
   "cell_type": "code",
   "execution_count": 57,
   "id": "c897654c",
   "metadata": {},
   "outputs": [
    {
     "name": "stdout",
     "output_type": "stream",
     "text": [
      "Apriori\n",
      "\n",
      "Parameter specification:\n",
      " confidence minval smax arem  aval originalSupport maxtime support minlen\n",
      "       0.82    0.1    1 none FALSE            TRUE       5     0.3      1\n",
      " maxlen target  ext\n",
      "     10  rules TRUE\n",
      "\n",
      "Algorithmic control:\n",
      " filter tree heap memopt load sort verbose\n",
      "    0.1 TRUE TRUE  FALSE TRUE    2    TRUE\n",
      "\n",
      "Absolute minimum support count: 7 \n",
      "\n",
      "set item appearances ...[0 item(s)] done [0.00s].\n",
      "set transactions ...[11 item(s), 26 transaction(s)] done [0.00s].\n",
      "sorting and recoding items ... [8 item(s)] done [0.00s].\n",
      "creating transaction tree ... done [0.00s].\n",
      "checking subsets of size 1 2 3 done [0.00s].\n",
      "writing ... [13 rule(s)] done [0.00s].\n",
      "creating S4 object  ... done [0.00s].\n",
      "     lhs                             rhs         support   confidence coverage \n",
      "[1]  {Agachamento}                => {LegPress}  0.3076923 1.0000000  0.3076923\n",
      "[2]  {Afundo}                     => {Gemeos}    0.3461538 1.0000000  0.3461538\n",
      "[3]  {AgachamentoSmith}           => {Extensor}  0.3461538 0.9000000  0.3846154\n",
      "[4]  {Esteira}                    => {Extensor}  0.4230769 0.9166667  0.4615385\n",
      "[5]  {Extensor}                   => {Esteira}   0.4230769 0.8461538  0.5000000\n",
      "[6]  {Esteira}                    => {Bicicleta} 0.3846154 0.8333333  0.4615385\n",
      "[7]  {Extensor}                   => {Bicicleta} 0.4615385 0.9230769  0.5000000\n",
      "[8]  {Bicicleta}                  => {Extensor}  0.4615385 0.8571429  0.5384615\n",
      "[9]  {AgachamentoSmith,Extensor}  => {Bicicleta} 0.3076923 0.8888889  0.3461538\n",
      "[10] {AgachamentoSmith,Bicicleta} => {Extensor}  0.3076923 1.0000000  0.3076923\n",
      "[11] {Esteira,Extensor}           => {Bicicleta} 0.3846154 0.9090909  0.4230769\n",
      "[12] {Bicicleta,Esteira}          => {Extensor}  0.3846154 1.0000000  0.3846154\n",
      "[13] {Bicicleta,Extensor}         => {Esteira}   0.3846154 0.8333333  0.4615385\n",
      "     lift     count\n",
      "[1]  1.238095  8   \n",
      "[2]  1.529412  9   \n",
      "[3]  1.800000  9   \n",
      "[4]  1.833333 11   \n",
      "[5]  1.833333 11   \n",
      "[6]  1.547619 10   \n",
      "[7]  1.714286 12   \n",
      "[8]  1.714286 12   \n",
      "[9]  1.650794  8   \n",
      "[10] 2.000000  8   \n",
      "[11] 1.688312 10   \n",
      "[12] 2.000000 10   \n",
      "[13] 1.805556 10   \n"
     ]
    }
   ],
   "source": [
    "# SEGUNDA CONFIGURAÇÃO DE supp e conf - UTILIZANDO O ALGORITMO APRIORI\n",
    "regras2.2 <- apriori(dados_musculacao, parameter = list(supp = 0.30, conf = 0.82, target = \"rules\"))\n",
    "inspect(regras2.2)"
   ]
  },
  {
   "cell_type": "markdown",
   "id": "f115967b",
   "metadata": {},
   "source": [
    "Resultado:\n",
    "\n",
    "Com parâmetros de suporte de 30% e confiança de 82% foram geradas 13 regras. \n",
    "\n",
    "Conclui-se que:\n",
    "\n",
    "Em aproximadamente 31% das vezes:\n",
    "- Quem faz Agachamento, usa LegPress (com chance de 100%)\n",
    "\n",
    "Em aproximadamente 35% das vezes:\n",
    "- Quem faz Afundo, usa Gemeos (com chance de 100%)\n",
    "\n",
    "Em aproximadamente 35% das vezes:\n",
    "- Quem faz AgachamentoSmith, usa o Extensor (com chance de 90%)\n",
    "\n",
    "Em aproximadamente 42% das vezes:\n",
    "- Quem usa Esteira, usa Extensor (com chance de 91,66%)\n",
    "\n",
    "Em aproximadamente 42% das vezes:\n",
    "- Quem usa Extensor, faz Esteira (com chance de 84,61%)\n",
    "\n",
    "Existem mais regras geradas."
   ]
  },
  {
   "cell_type": "code",
   "execution_count": 58,
   "id": "ff5575d7",
   "metadata": {},
   "outputs": [
    {
     "name": "stdout",
     "output_type": "stream",
     "text": [
      "Apriori\n",
      "\n",
      "Parameter specification:\n",
      " confidence minval smax arem  aval originalSupport maxtime support minlen\n",
      "        0.9    0.1    1 none FALSE            TRUE       5     0.4      1\n",
      " maxlen target  ext\n",
      "     10  rules TRUE\n",
      "\n",
      "Algorithmic control:\n",
      " filter tree heap memopt load sort verbose\n",
      "    0.1 TRUE TRUE  FALSE TRUE    2    TRUE\n",
      "\n",
      "Absolute minimum support count: 10 \n",
      "\n",
      "set item appearances ...[0 item(s)] done [0.00s].\n",
      "set transactions ...[11 item(s), 26 transaction(s)] done [0.00s].\n",
      "sorting and recoding items ... [5 item(s)] done [0.00s].\n",
      "creating transaction tree ... done [0.00s].\n",
      "checking subsets of size 1 2 done [0.00s].\n",
      "writing ... [2 rule(s)] done [0.00s].\n",
      "creating S4 object  ... done [0.00s].\n",
      "    lhs           rhs         support   confidence coverage  lift     count\n",
      "[1] {Esteira}  => {Extensor}  0.4230769 0.9166667  0.4615385 1.833333 11   \n",
      "[2] {Extensor} => {Bicicleta} 0.4615385 0.9230769  0.5000000 1.714286 12   \n"
     ]
    }
   ],
   "source": [
    "# TERCEIRA CONFIGURAÇÃO DE supp e conf - UTILIZANDO O ALGORITMO APRIORI\n",
    "regras2.3 <- apriori(dados_musculacao, parameter = list(supp = 0.40, conf = 0.90, target = \"rules\"))\n",
    "inspect(regras2.3)"
   ]
  },
  {
   "cell_type": "markdown",
   "id": "f4d4c154",
   "metadata": {},
   "source": [
    "Resultado:\n",
    "\n",
    "Com parâmetros de suporte de 40% e confiança de 90% foram geradas 2 regras. \n",
    "\n",
    "Conclui-se que:\n",
    "\n",
    "Em aproximadamente 42% das vezes:\n",
    "- Quem faz Esteira, usa Extensor (com chance de 91,66%)\n",
    "\n",
    "Em aproximadamente 46% das vezes:\n",
    "- Quem faz Extensor, usa Bicicleta (com chance de 92,30%)"
   ]
  }
 ],
 "metadata": {
  "kernelspec": {
   "display_name": "R",
   "language": "R",
   "name": "ir"
  },
  "language_info": {
   "codemirror_mode": "r",
   "file_extension": ".r",
   "mimetype": "text/x-r-source",
   "name": "R",
   "pygments_lexer": "r",
   "version": "3.6.1"
  }
 },
 "nbformat": 4,
 "nbformat_minor": 5
}
