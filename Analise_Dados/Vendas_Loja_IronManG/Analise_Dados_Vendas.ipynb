{
 "cells": [
  {
   "cell_type": "code",
   "execution_count": 1,
   "id": "d7018877",
   "metadata": {},
   "outputs": [],
   "source": [
    "# DESATIVAR MENSAGENS DE WARNINGS (warn = -1) E ATIVAR (warn = 0)\n",
    "options(warn = -1)"
   ]
  },
  {
   "cell_type": "code",
   "execution_count": 2,
   "id": "1d3d56cb",
   "metadata": {},
   "outputs": [],
   "source": [
    "# DESATIVA NOTAÇÃO CIENTÍFICA\n",
    "options(scipen = 999)"
   ]
  },
  {
   "cell_type": "code",
   "execution_count": 3,
   "id": "4323933d",
   "metadata": {},
   "outputs": [],
   "source": [
    "# PARA TAMANHO DOS GRÁFICOS\n",
    "options(jupyter.plot_scale = 1)"
   ]
  },
  {
   "cell_type": "code",
   "execution_count": 4,
   "id": "0fd35931",
   "metadata": {},
   "outputs": [],
   "source": [
    "# CARREGANDO BIBLIOTECAS \n",
    "suppressPackageStartupMessages({\n",
    "library(dplyr)\n",
    "library(data.table)\n",
    "library(ggplot2)\n",
    "library(scales)\n",
    "})"
   ]
  },
  {
   "cell_type": "code",
   "execution_count": 5,
   "id": "fdfa6cec",
   "metadata": {},
   "outputs": [
    {
     "name": "stdout",
     "output_type": "stream",
     "text": [
      "Rows: 32,753\n",
      "Columns: 8\n",
      "$ ID        <chr> \"80260d682079b6090c8285b398c50d97\", \"3275736da1234f55d52bdf0~\n",
      "$ ProductID <chr> \"002552c0663708129c0019cc97552d7d3\", \"001b237c0e9bb435f2e540~\n",
      "$ ClientID  <int> 14001, 14001, 14001, 14002, 14002, 14002, 14002, 14002, 1400~\n",
      "$ Discount  <chr> \"0,08\", \"0,1\", \"0,1\", \"0,1\", \"0,1\", \"0,1\", \"0,08\", \"0,08\", \"~\n",
      "$ UnitPrice <chr> \"249,2\", \"162,4\", \"194,6\", \"201,6\", \"406\", \"249,2\", \"261,8\",~\n",
      "$ Quantity  <int> 1, 1, 1, 2, 1, 1, 1, 1, 1, 2, 1, 1, 1, 1, 1, 1, 1, 1, 1, 1, ~\n",
      "$ StoreID   <int> 4, 4, 4, 1, 1, 1, 1, 1, 2, 2, 2, 2, 2, 2, 2, 1, 2, 2, 7, 7, ~\n",
      "$ Date      <chr> \"10/12/2018\", \"25/04/2019\", \"17/07/2019\", \"10/04/2018\", \"21/~\n"
     ]
    }
   ],
   "source": [
    "# CARREGAR DATASET DE VENDAS\n",
    "df_vendas <- fread('vendas.csv', encoding = \"UTF-8\")\n",
    "glimpse(df_vendas)"
   ]
  },
  {
   "cell_type": "code",
   "execution_count": 6,
   "id": "551883ec",
   "metadata": {},
   "outputs": [],
   "source": [
    "# TRANSFORMAR PARA DATAFRAME\n",
    "df_vendas <- as.data.frame(df_vendas)"
   ]
  },
  {
   "cell_type": "code",
   "execution_count": 7,
   "id": "e43d82d4",
   "metadata": {},
   "outputs": [
    {
     "name": "stdout",
     "output_type": "stream",
     "text": [
      "Rows: 999\n",
      "Columns: 3\n",
      "$ ID   <chr> \"00066f42aeeb9f3007548bb9d3f33c381\", \"00066f42aeeb9f3007548bb9d3f~\n",
      "$ Name <chr> \"Capitão América\", \"Capitão América\", \"Capitão América\", \"Thor\", ~\n",
      "$ Size <chr> \"P\", \"M\", \"G\", \"P\", \"M\", \"G\", \"P\", \"M\", \"G\", \"P\", \"M\", \"G\", \"P\", ~\n"
     ]
    }
   ],
   "source": [
    "# CARREGAR DATASET PRODUTO\n",
    "df_produto <- fread('id_produto.csv', encoding = \"UTF-8\")\n",
    "glimpse(df_produto)"
   ]
  },
  {
   "cell_type": "code",
   "execution_count": 8,
   "id": "0d85d0a1",
   "metadata": {},
   "outputs": [],
   "source": [
    "# TRANSFORMAR PARA DATAFRAME\n",
    "df_produto <- as.data.frame(df_produto)"
   ]
  },
  {
   "cell_type": "code",
   "execution_count": 9,
   "id": "5df74b44",
   "metadata": {},
   "outputs": [
    {
     "name": "stdout",
     "output_type": "stream",
     "text": [
      "Rows: 999\n",
      "Columns: 3\n",
      "$ ProductID <chr> \"00066f42aeeb9f3007548bb9d3f33c381\", \"00066f42aeeb9f3007548b~\n",
      "$ Name      <chr> \"Capitão América\", \"Capitão América\", \"Capitão América\", \"Th~\n",
      "$ Size      <chr> \"P\", \"M\", \"G\", \"P\", \"M\", \"G\", \"P\", \"M\", \"G\", \"P\", \"M\", \"G\", ~\n"
     ]
    }
   ],
   "source": [
    "# RENOMEAR COLUNA ID PARA PRODUCTID\n",
    "df_produto <- rename(df_produto, ProductID = ID)\n",
    "glimpse(df_produto)"
   ]
  },
  {
   "cell_type": "code",
   "execution_count": 10,
   "id": "1cfc1477",
   "metadata": {},
   "outputs": [
    {
     "name": "stdout",
     "output_type": "stream",
     "text": [
      "Rows: 13,650\n",
      "Columns: 5\n",
      "$ ID          <int> 14001, 14002, 14003, 14004, 14005, 14006, 14007, 14008, 14~\n",
      "$ City        <chr> \"Curitiba\", \"Florianópolis\", \"Rio de Janeiro\", \"Rio de Jan~\n",
      "$ State       <chr> \"PR\", \"SC\", \"RJ\", \"RJ\", \"SC\", \"RJ\", \"SP\", \"SP\", \"RJ\", \"RJ\"~\n",
      "$ DateOfBirth <chr> \"28/06/1985\", \"10/01/1987\", \"05/11/1979\", \"25/11/1983\", \"0~\n",
      "$ Sex         <chr> \"Homem\", \"Homem\", \"Homem\", \"Mulher\", \"Homem\", \"Mulher\", \"H~\n"
     ]
    }
   ],
   "source": [
    "# CARREGAR DATASET CLIENTE\n",
    "df_cliente <- fread('id_cliente.csv', encoding = \"UTF-8\")\n",
    "glimpse(df_cliente)"
   ]
  },
  {
   "cell_type": "code",
   "execution_count": 11,
   "id": "55d215ad",
   "metadata": {},
   "outputs": [],
   "source": [
    "# TRANSFORMAR PARA DATAFRAME\n",
    "df_cliente <- as.data.frame(df_cliente)"
   ]
  },
  {
   "cell_type": "code",
   "execution_count": 12,
   "id": "83ceff89",
   "metadata": {},
   "outputs": [],
   "source": [
    "# RENOMEAR COLUNA ID PARA CLIENTID\n",
    "df_cliente <- rename(df_cliente, ClientID = ID)"
   ]
  },
  {
   "cell_type": "code",
   "execution_count": 13,
   "id": "81681b2e",
   "metadata": {},
   "outputs": [
    {
     "name": "stdout",
     "output_type": "stream",
     "text": [
      "Rows: 7\n",
      "Columns: 3\n",
      "$ ID    <int> 1, 2, 3, 4, 7, 9, 22\n",
      "$ Name  <chr> \"Florianópolis\", \"Rio de Janeiro\", \"Porto Alegre\", \"Curitiba\", \"~\n",
      "$ State <chr> \"SC\", \"RJ\", \"RS\", \"PR\", \"SP\", \"MG\", \"na\"\n"
     ]
    }
   ],
   "source": [
    "# CARREGAR DATASET LOJA\n",
    "df_loja <- fread('id_loja.csv', encoding = \"UTF-8\")\n",
    "glimpse(df_loja)"
   ]
  },
  {
   "cell_type": "code",
   "execution_count": 14,
   "id": "ed59ad1e",
   "metadata": {},
   "outputs": [],
   "source": [
    "# TRANSFORMAR PARA DATAFRAME\n",
    "df_loja <- as.data.frame(df_loja)"
   ]
  },
  {
   "cell_type": "code",
   "execution_count": 15,
   "id": "528f4485",
   "metadata": {},
   "outputs": [],
   "source": [
    "# RENOMEAR COLUNA ID PARA STOREID\n",
    "df_loja <- rename(df_loja, StoreID = ID)"
   ]
  },
  {
   "cell_type": "code",
   "execution_count": 16,
   "id": "df1a7b42",
   "metadata": {},
   "outputs": [
    {
     "name": "stdout",
     "output_type": "stream",
     "text": [
      "Rows: 32,753\n",
      "Columns: 16\n",
      "$ ID          <chr> \"80260d682079b6090c8285b398c50d97\", \"3275736da1234f55d52bd~\n",
      "$ ProductID   <chr> \"002552c0663708129c0019cc97552d7d3\", \"001b237c0e9bb435f2e5~\n",
      "$ ClientID    <int> 14001, 14001, 14001, 14002, 14002, 14002, 14002, 14002, 14~\n",
      "$ Discount    <chr> \"0,08\", \"0,1\", \"0,1\", \"0,1\", \"0,1\", \"0,1\", \"0,08\", \"0,08\",~\n",
      "$ UnitPrice   <chr> \"249,2\", \"162,4\", \"194,6\", \"201,6\", \"406\", \"249,2\", \"261,8~\n",
      "$ Quantity    <int> 1, 1, 1, 2, 1, 1, 1, 1, 1, 2, 1, 1, 1, 1, 1, 1, 1, 1, 1, 1~\n",
      "$ StoreID     <int> 4, 4, 4, 1, 1, 1, 1, 1, 2, 2, 2, 2, 2, 2, 2, 1, 2, 2, 7, 7~\n",
      "$ Date        <chr> \"10/12/2018\", \"25/04/2019\", \"17/07/2019\", \"10/04/2018\", \"2~\n",
      "$ Name.x      <chr> \"Tempestade\", \"Thanos\", \"Capitão América\", \"Wolverine\", \"N~\n",
      "$ Size        <chr> \"G\", \"G\", \"P\", \"G\", \"G\", \"G\", \"G\", \"G\", \"G\", \"G\", \"G\", \"G\"~\n",
      "$ City        <chr> \"Curitiba\", \"Curitiba\", \"Curitiba\", \"Florianópolis\", \"Flor~\n",
      "$ State.x     <chr> \"PR\", \"PR\", \"PR\", \"SC\", \"SC\", \"SC\", \"SC\", \"SC\", \"RJ\", \"RJ\"~\n",
      "$ DateOfBirth <chr> \"28/06/1985\", \"28/06/1985\", \"28/06/1985\", \"10/01/1987\", \"1~\n",
      "$ Sex         <chr> \"Homem\", \"Homem\", \"Homem\", \"Homem\", \"Homem\", \"Homem\", \"Hom~\n",
      "$ Name.y      <chr> \"Curitiba\", \"Curitiba\", \"Curitiba\", \"Florianópolis\", \"Flor~\n",
      "$ State.y     <chr> \"PR\", \"PR\", \"PR\", \"SC\", \"SC\", \"SC\", \"SC\", \"SC\", \"RJ\", \"RJ\"~\n"
     ]
    }
   ],
   "source": [
    "# UNIR DATASETS\n",
    "df_tabela <- df_vendas %>%\n",
    "    inner_join(df_produto, by = 'ProductID') %>%\n",
    "    inner_join(df_cliente, by = 'ClientID')  %>%\n",
    "    inner_join(df_loja, by = 'StoreID')\n",
    "\n",
    "glimpse(df_tabela)"
   ]
  },
  {
   "cell_type": "code",
   "execution_count": 17,
   "id": "f2ec4590",
   "metadata": {},
   "outputs": [
    {
     "data": {
      "text/html": [
       "<table>\n",
       "<thead><tr><th scope=col>ID</th><th scope=col>Date</th><th scope=col>ProductID</th><th scope=col>Name.x</th><th scope=col>Size</th><th scope=col>ClientID</th><th scope=col>Sex</th><th scope=col>DateOfBirth</th><th scope=col>Discount</th><th scope=col>UnitPrice</th><th scope=col>Quantity</th><th scope=col>StoreID</th><th scope=col>City</th><th scope=col>State.x</th></tr></thead>\n",
       "<tbody>\n",
       "\t<tr><td>80260d682079b6090c8285b398c50d97 </td><td>10/12/2018                       </td><td>002552c0663708129c0019cc97552d7d3</td><td>Tempestade                       </td><td>G                                </td><td>14001                            </td><td>Homem                            </td><td>28/06/1985                       </td><td>0,08                             </td><td>249,2                            </td><td>1                                </td><td>4                                </td><td>Curitiba                         </td><td>PR                               </td></tr>\n",
       "\t<tr><td>3275736da1234f55d52bdf09d86b93bc </td><td>25/04/2019                       </td><td>001b237c0e9bb435f2e54071129237e93</td><td>Thanos                           </td><td>G                                </td><td>14001                            </td><td>Homem                            </td><td>28/06/1985                       </td><td>0,1                              </td><td>162,4                            </td><td>1                                </td><td>4                                </td><td>Curitiba                         </td><td>PR                               </td></tr>\n",
       "\t<tr><td>f3513eec8f1434b5b7e04ddf3598df40 </td><td>17/07/2019                       </td><td>00066f42aeeb9f3007548bb9d3f33c381</td><td>Capitão América                  </td><td>P                                </td><td>14001                            </td><td>Homem                            </td><td>28/06/1985                       </td><td>0,1                              </td><td>194,6                            </td><td>1                                </td><td>4                                </td><td>Curitiba                         </td><td>PR                               </td></tr>\n",
       "\t<tr><td>7180475b60fe6bbbde424d39704a1177 </td><td>10/04/2018                       </td><td>001b72dfd63e9833e8c02742adf472e33</td><td>Wolverine                        </td><td>G                                </td><td>14002                            </td><td>Homem                            </td><td>10/01/1987                       </td><td>0,1                              </td><td>201,6                            </td><td>2                                </td><td>1                                </td><td>Florianópolis                    </td><td>SC                               </td></tr>\n",
       "\t<tr><td>76600853a200fe87e141adae6b35674c </td><td>21/01/2019                       </td><td>00210e41887c2a8ef9f791ebc780cc363</td><td>Naruto                           </td><td>G                                </td><td>14002                            </td><td>Homem                            </td><td>10/01/1987                       </td><td>0,1                              </td><td>406                              </td><td>1                                </td><td>1                                </td><td>Florianópolis                    </td><td>SC                               </td></tr>\n",
       "\t<tr><td>7ab64f42a8f9ab290e920eed320d7e60 </td><td>28/03/2019                       </td><td>002552c0663708129c0019cc97552d7d3</td><td>Tempestade                       </td><td>G                                </td><td>14002                            </td><td>Homem                            </td><td>10/01/1987                       </td><td>0,1                              </td><td>249,2                            </td><td>1                                </td><td>1                                </td><td>Florianópolis                    </td><td>SC                               </td></tr>\n",
       "</tbody>\n",
       "</table>\n"
      ],
      "text/latex": [
       "\\begin{tabular}{r|llllllllllllll}\n",
       " ID & Date & ProductID & Name.x & Size & ClientID & Sex & DateOfBirth & Discount & UnitPrice & Quantity & StoreID & City & State.x\\\\\n",
       "\\hline\n",
       "\t 80260d682079b6090c8285b398c50d97  & 10/12/2018                        & 002552c0663708129c0019cc97552d7d3 & Tempestade                        & G                                 & 14001                             & Homem                             & 28/06/1985                        & 0,08                              & 249,2                             & 1                                 & 4                                 & Curitiba                          & PR                               \\\\\n",
       "\t 3275736da1234f55d52bdf09d86b93bc  & 25/04/2019                        & 001b237c0e9bb435f2e54071129237e93 & Thanos                            & G                                 & 14001                             & Homem                             & 28/06/1985                        & 0,1                               & 162,4                             & 1                                 & 4                                 & Curitiba                          & PR                               \\\\\n",
       "\t f3513eec8f1434b5b7e04ddf3598df40  & 17/07/2019                        & 00066f42aeeb9f3007548bb9d3f33c381 & Capitão América                   & P                                 & 14001                             & Homem                             & 28/06/1985                        & 0,1                               & 194,6                             & 1                                 & 4                                 & Curitiba                          & PR                               \\\\\n",
       "\t 7180475b60fe6bbbde424d39704a1177  & 10/04/2018                        & 001b72dfd63e9833e8c02742adf472e33 & Wolverine                         & G                                 & 14002                             & Homem                             & 10/01/1987                        & 0,1                               & 201,6                             & 2                                 & 1                                 & Florianópolis                     & SC                               \\\\\n",
       "\t 76600853a200fe87e141adae6b35674c  & 21/01/2019                        & 00210e41887c2a8ef9f791ebc780cc363 & Naruto                            & G                                 & 14002                             & Homem                             & 10/01/1987                        & 0,1                               & 406                               & 1                                 & 1                                 & Florianópolis                     & SC                               \\\\\n",
       "\t 7ab64f42a8f9ab290e920eed320d7e60  & 28/03/2019                        & 002552c0663708129c0019cc97552d7d3 & Tempestade                        & G                                 & 14002                             & Homem                             & 10/01/1987                        & 0,1                               & 249,2                             & 1                                 & 1                                 & Florianópolis                     & SC                               \\\\\n",
       "\\end{tabular}\n"
      ],
      "text/markdown": [
       "\n",
       "| ID | Date | ProductID | Name.x | Size | ClientID | Sex | DateOfBirth | Discount | UnitPrice | Quantity | StoreID | City | State.x |\n",
       "|---|---|---|---|---|---|---|---|---|---|---|---|---|---|\n",
       "| 80260d682079b6090c8285b398c50d97  | 10/12/2018                        | 002552c0663708129c0019cc97552d7d3 | Tempestade                        | G                                 | 14001                             | Homem                             | 28/06/1985                        | 0,08                              | 249,2                             | 1                                 | 4                                 | Curitiba                          | PR                                |\n",
       "| 3275736da1234f55d52bdf09d86b93bc  | 25/04/2019                        | 001b237c0e9bb435f2e54071129237e93 | Thanos                            | G                                 | 14001                             | Homem                             | 28/06/1985                        | 0,1                               | 162,4                             | 1                                 | 4                                 | Curitiba                          | PR                                |\n",
       "| f3513eec8f1434b5b7e04ddf3598df40  | 17/07/2019                        | 00066f42aeeb9f3007548bb9d3f33c381 | Capitão América                   | P                                 | 14001                             | Homem                             | 28/06/1985                        | 0,1                               | 194,6                             | 1                                 | 4                                 | Curitiba                          | PR                                |\n",
       "| 7180475b60fe6bbbde424d39704a1177  | 10/04/2018                        | 001b72dfd63e9833e8c02742adf472e33 | Wolverine                         | G                                 | 14002                             | Homem                             | 10/01/1987                        | 0,1                               | 201,6                             | 2                                 | 1                                 | Florianópolis                     | SC                                |\n",
       "| 76600853a200fe87e141adae6b35674c  | 21/01/2019                        | 00210e41887c2a8ef9f791ebc780cc363 | Naruto                            | G                                 | 14002                             | Homem                             | 10/01/1987                        | 0,1                               | 406                               | 1                                 | 1                                 | Florianópolis                     | SC                                |\n",
       "| 7ab64f42a8f9ab290e920eed320d7e60  | 28/03/2019                        | 002552c0663708129c0019cc97552d7d3 | Tempestade                        | G                                 | 14002                             | Homem                             | 10/01/1987                        | 0,1                               | 249,2                             | 1                                 | 1                                 | Florianópolis                     | SC                                |\n",
       "\n"
      ],
      "text/plain": [
       "  ID                               Date       ProductID                        \n",
       "1 80260d682079b6090c8285b398c50d97 10/12/2018 002552c0663708129c0019cc97552d7d3\n",
       "2 3275736da1234f55d52bdf09d86b93bc 25/04/2019 001b237c0e9bb435f2e54071129237e93\n",
       "3 f3513eec8f1434b5b7e04ddf3598df40 17/07/2019 00066f42aeeb9f3007548bb9d3f33c381\n",
       "4 7180475b60fe6bbbde424d39704a1177 10/04/2018 001b72dfd63e9833e8c02742adf472e33\n",
       "5 76600853a200fe87e141adae6b35674c 21/01/2019 00210e41887c2a8ef9f791ebc780cc363\n",
       "6 7ab64f42a8f9ab290e920eed320d7e60 28/03/2019 002552c0663708129c0019cc97552d7d3\n",
       "  Name.x          Size ClientID Sex   DateOfBirth Discount UnitPrice Quantity\n",
       "1 Tempestade      G    14001    Homem 28/06/1985  0,08     249,2     1       \n",
       "2 Thanos          G    14001    Homem 28/06/1985  0,1      162,4     1       \n",
       "3 Capitão América P    14001    Homem 28/06/1985  0,1      194,6     1       \n",
       "4 Wolverine       G    14002    Homem 10/01/1987  0,1      201,6     2       \n",
       "5 Naruto          G    14002    Homem 10/01/1987  0,1      406       1       \n",
       "6 Tempestade      G    14002    Homem 10/01/1987  0,1      249,2     1       \n",
       "  StoreID City          State.x\n",
       "1 4       Curitiba      PR     \n",
       "2 4       Curitiba      PR     \n",
       "3 4       Curitiba      PR     \n",
       "4 1       Florianópolis SC     \n",
       "5 1       Florianópolis SC     \n",
       "6 1       Florianópolis SC     "
      ]
     },
     "metadata": {},
     "output_type": "display_data"
    }
   ],
   "source": [
    "# SELECIONAR VARIÁVEIS PARA SEREM TRABALHADAS\n",
    "df_tabela <- df_tabela %>%\n",
    "       select(ID,Date,ProductID,Name.x,Size,ClientID,Sex,DateOfBirth,Discount,UnitPrice,Quantity,StoreID,City,State.x)\n",
    "\n",
    "head(df_tabela)"
   ]
  },
  {
   "cell_type": "code",
   "execution_count": 18,
   "id": "5cd1e11e",
   "metadata": {},
   "outputs": [],
   "source": [
    "# SUBSTITUIR VÍRGULA POR PONTO\n",
    "df_tabela$UnitPrice <- as.numeric(sub(\",\", \".\", df_tabela$UnitPrice, fixed = TRUE))\n",
    "df_tabela$Discount <- as.numeric(sub(\",\", \".\", df_tabela$Discount, fixed = TRUE))"
   ]
  },
  {
   "cell_type": "code",
   "execution_count": 19,
   "id": "f9519a00",
   "metadata": {},
   "outputs": [
    {
     "name": "stdout",
     "output_type": "stream",
     "text": [
      "Rows: 32,753\n",
      "Columns: 14\n",
      "$ ID          <chr> \"80260d682079b6090c8285b398c50d97\", \"3275736da1234f55d52bd~\n",
      "$ Date        <date> 2018-12-10, 2019-04-25, 2019-07-17, 2018-04-10, 2019-01-2~\n",
      "$ ProductID   <chr> \"002552c0663708129c0019cc97552d7d3\", \"001b237c0e9bb435f2e5~\n",
      "$ Name.x      <chr> \"Tempestade\", \"Thanos\", \"Capitão América\", \"Wolverine\", \"N~\n",
      "$ Size        <chr> \"G\", \"G\", \"P\", \"G\", \"G\", \"G\", \"G\", \"G\", \"G\", \"G\", \"G\", \"G\"~\n",
      "$ ClientID    <int> 14001, 14001, 14001, 14002, 14002, 14002, 14002, 14002, 14~\n",
      "$ Sex         <chr> \"Homem\", \"Homem\", \"Homem\", \"Homem\", \"Homem\", \"Homem\", \"Hom~\n",
      "$ DateOfBirth <date> 1985-06-28, 1985-06-28, 1985-06-28, 1987-01-10, 1987-01-1~\n",
      "$ Discount    <dbl> 0.08, 0.10, 0.10, 0.10, 0.10, 0.10, 0.08, 0.08, 0.10, 0.10~\n",
      "$ UnitPrice   <dbl> 249.2, 162.4, 194.6, 201.6, 406.0, 249.2, 261.8, 114.8, 14~\n",
      "$ Quantity    <int> 1, 1, 1, 2, 1, 1, 1, 1, 1, 2, 1, 1, 1, 1, 1, 1, 1, 1, 1, 1~\n",
      "$ StoreID     <int> 4, 4, 4, 1, 1, 1, 1, 1, 2, 2, 2, 2, 2, 2, 2, 1, 2, 2, 7, 7~\n",
      "$ City        <chr> \"Curitiba\", \"Curitiba\", \"Curitiba\", \"Florianópolis\", \"Flor~\n",
      "$ State.x     <chr> \"PR\", \"PR\", \"PR\", \"SC\", \"SC\", \"SC\", \"SC\", \"SC\", \"RJ\", \"RJ\"~\n"
     ]
    }
   ],
   "source": [
    "# ALTERAR FORMATO DA COLUNA DATE PARA DATA\n",
    "df_tabela$Date = as.Date(df_tabela$Date, format = \"%d/%m/%Y\")\n",
    "df_tabela$DateOfBirth = as.Date(df_tabela$DateOfBirth, format = \"%d/%m/%Y\")\n",
    "glimpse(df_tabela)"
   ]
  },
  {
   "cell_type": "markdown",
   "id": "c491e111",
   "metadata": {},
   "source": [
    "#### PROBLEMAS"
   ]
  },
  {
   "cell_type": "markdown",
   "id": "c8012210",
   "metadata": {},
   "source": [
    "#### QUANTOS PRODUTOS ÚNICOS FORAM VENDIDOS?"
   ]
  },
  {
   "cell_type": "code",
   "execution_count": 20,
   "id": "9228e729",
   "metadata": {},
   "outputs": [],
   "source": [
    "r1 <- df_tabela %>%\n",
    "    group_by(ProductID) %>%\n",
    "    summarise()"
   ]
  },
  {
   "cell_type": "code",
   "execution_count": 21,
   "id": "442e6b5b",
   "metadata": {},
   "outputs": [
    {
     "data": {
      "text/html": [
       "73"
      ],
      "text/latex": [
       "73"
      ],
      "text/markdown": [
       "73"
      ],
      "text/plain": [
       "[1] 73"
      ]
     },
     "metadata": {},
     "output_type": "display_data"
    }
   ],
   "source": [
    "nrow(r1)"
   ]
  },
  {
   "cell_type": "markdown",
   "id": "4c8d207b",
   "metadata": {},
   "source": [
    "#### QUAL O PRODUTO MAIS VENDIDO E QUANTOS DESSE PRODUTO FORAM VENDIDOS?"
   ]
  },
  {
   "cell_type": "code",
   "execution_count": 22,
   "id": "3e313327",
   "metadata": {},
   "outputs": [],
   "source": [
    "r2 <- df_tabela %>%\n",
    "    group_by(Name.x,Size) %>%\n",
    "    summarise(total = sum(Quantity), .groups = 'drop')"
   ]
  },
  {
   "cell_type": "code",
   "execution_count": 23,
   "id": "8933e4da",
   "metadata": {},
   "outputs": [
    {
     "data": {
      "text/html": [
       "<table>\n",
       "<thead><tr><th scope=col>Name.x</th><th scope=col>Size</th><th scope=col>total</th></tr></thead>\n",
       "<tbody>\n",
       "\t<tr><td>Bazinga      </td><td>G            </td><td>1020         </td></tr>\n",
       "\t<tr><td>Iron Man     </td><td>G            </td><td>1018         </td></tr>\n",
       "\t<tr><td>Deadpool     </td><td>G            </td><td> 998         </td></tr>\n",
       "\t<tr><td>Capitã Marvel</td><td>G            </td><td> 996         </td></tr>\n",
       "\t<tr><td>Flash        </td><td>G            </td><td> 996         </td></tr>\n",
       "</tbody>\n",
       "</table>\n"
      ],
      "text/latex": [
       "\\begin{tabular}{r|lll}\n",
       " Name.x & Size & total\\\\\n",
       "\\hline\n",
       "\t Bazinga       & G             & 1020         \\\\\n",
       "\t Iron Man      & G             & 1018         \\\\\n",
       "\t Deadpool      & G             &  998         \\\\\n",
       "\t Capitã Marvel & G             &  996         \\\\\n",
       "\t Flash         & G             &  996         \\\\\n",
       "\\end{tabular}\n"
      ],
      "text/markdown": [
       "\n",
       "| Name.x | Size | total |\n",
       "|---|---|---|\n",
       "| Bazinga       | G             | 1020          |\n",
       "| Iron Man      | G             | 1018          |\n",
       "| Deadpool      | G             |  998          |\n",
       "| Capitã Marvel | G             |  996          |\n",
       "| Flash         | G             |  996          |\n",
       "\n"
      ],
      "text/plain": [
       "  Name.x        Size total\n",
       "1 Bazinga       G    1020 \n",
       "2 Iron Man      G    1018 \n",
       "3 Deadpool      G     998 \n",
       "4 Capitã Marvel G     996 \n",
       "5 Flash         G     996 "
      ]
     },
     "metadata": {},
     "output_type": "display_data"
    }
   ],
   "source": [
    "r2 <- r2[order(r2$total, decreasing = T),]\n",
    "head(r2, 5)"
   ]
  },
  {
   "cell_type": "markdown",
   "id": "4b2d8043",
   "metadata": {},
   "source": [
    "#### CONSIDERANDO O ANO DE 2019, REPRESENTAR GRAFICAMENTE A QUANTIDADE MENSAL VENDIDA DO PRODUTO \"IRON MAN G\"?"
   ]
  },
  {
   "cell_type": "code",
   "execution_count": 24,
   "id": "462a1877",
   "metadata": {},
   "outputs": [
    {
     "data": {
      "text/html": [
       "<table>\n",
       "<thead><tr><th></th><th scope=col>ID</th><th scope=col>Date</th><th scope=col>ProductID</th><th scope=col>Name.x</th><th scope=col>Size</th><th scope=col>ClientID</th><th scope=col>Sex</th><th scope=col>DateOfBirth</th><th scope=col>Discount</th><th scope=col>UnitPrice</th><th scope=col>Quantity</th><th scope=col>StoreID</th><th scope=col>City</th><th scope=col>State.x</th></tr></thead>\n",
       "<tbody>\n",
       "\t<tr><th scope=row>43</th><td>85647e1ff3e4b10814f375af01c38836 </td><td>2018-08-09                       </td><td>002d4ea7c04739c130bb74d7e7cd16943</td><td>Iron Man                         </td><td>G                                </td><td>14017                            </td><td>Homem                            </td><td>1971-06-22                       </td><td>0.08                             </td><td>210                              </td><td>1                                </td><td> 1                               </td><td>Florianópolis                    </td><td>SC                               </td></tr>\n",
       "\t<tr><th scope=row>107</th><td>ec451fb3a1ee5782fef4937473a9ffac </td><td>2018-09-28                       </td><td>002d4ea7c04739c130bb74d7e7cd16943</td><td>Iron Man                         </td><td>G                                </td><td>14042                            </td><td>Homem                            </td><td>1965-07-01                       </td><td>0.10                             </td><td>210                              </td><td>1                                </td><td> 1                               </td><td>Florianópolis                    </td><td>SC                               </td></tr>\n",
       "\t<tr><th scope=row>171</th><td>c68e47bd3dab5dd575a6c65848663923 </td><td>2018-12-24                       </td><td>002d4ea7c04739c130bb74d7e7cd16943</td><td>Iron Man                         </td><td>G                                </td><td>19674                            </td><td>Homem                            </td><td>1984-03-04                       </td><td>0.08                             </td><td>210                              </td><td>1                                </td><td> 2                               </td><td>Rio de Janeiro                   </td><td>RJ                               </td></tr>\n",
       "\t<tr><th scope=row>204</th><td>a97c9b194a026ac3e75726c485f6e8ea </td><td>2019-06-28                       </td><td>002d4ea7c04739c130bb74d7e7cd16943</td><td>Iron Man                         </td><td>G                                </td><td>14074                            </td><td>Mulher                           </td><td>1973-08-15                       </td><td>0.08                             </td><td>210                              </td><td>1                                </td><td> 2                               </td><td>Rio de Janeiro                   </td><td>RJ                               </td></tr>\n",
       "\t<tr><th scope=row>222</th><td>ea110ced6459b4dc6c73e0b2367077e9 </td><td>2019-09-03                       </td><td>002d4ea7c04739c130bb74d7e7cd16943</td><td>Iron Man                         </td><td>G                                </td><td>14080                            </td><td>Homem                            </td><td>1990-11-25                       </td><td>0.10                             </td><td>210                              </td><td>1                                </td><td> 1                               </td><td>Florianópolis                    </td><td>SC                               </td></tr>\n",
       "\t<tr><th scope=row>235</th><td>801f0faf13878ee42788d7bd0e4c72fe </td><td>2018-11-30                       </td><td>002d4ea7c04739c130bb74d7e7cd16943</td><td>Iron Man                         </td><td>G                                </td><td>14084                            </td><td>Homem                            </td><td>1971-10-16                       </td><td>0.10                             </td><td>210                              </td><td>1                                </td><td> 4                               </td><td>Curitiba                         </td><td>PR                               </td></tr>\n",
       "\t<tr><th scope=row>239</th><td>89fb8b371b28dcc037a9c1f798eacc81 </td><td>2019-05-06                       </td><td>002d4ea7c04739c130bb74d7e7cd16943</td><td>Iron Man                         </td><td>G                                </td><td>14088                            </td><td>Homem                            </td><td>1987-09-18                       </td><td>0.10                             </td><td>210                              </td><td>1                                </td><td> 1                               </td><td>Florianópolis                    </td><td>SC                               </td></tr>\n",
       "\t<tr><th scope=row>285</th><td>8bae398ae3bdca643616198d918aa8c6 </td><td>2018-10-07                       </td><td>002d4ea7c04739c130bb74d7e7cd16943</td><td>Iron Man                         </td><td>G                                </td><td>14110                            </td><td>Homem                            </td><td>1999-06-22                       </td><td>0.10                             </td><td>210                              </td><td>1                                </td><td> 2                               </td><td>Rio de Janeiro                   </td><td>RJ                               </td></tr>\n",
       "\t<tr><th scope=row>324</th><td>51efa345a1180ca3879442a31b0a265a </td><td>2019-09-04                       </td><td>002d4ea7c04739c130bb74d7e7cd16943</td><td>Iron Man                         </td><td>G                                </td><td>14127                            </td><td>Homem                            </td><td>1969-09-03                       </td><td>0.10                             </td><td>210                              </td><td>1                                </td><td>22                               </td><td>Belo Horizonte                   </td><td>BH                               </td></tr>\n",
       "\t<tr><th scope=row>365</th><td>cd44196e80474114b859765d62f12ddf </td><td>2018-08-23                       </td><td>002d4ea7c04739c130bb74d7e7cd16943</td><td>Iron Man                         </td><td>G                                </td><td>14145                            </td><td>Mulher                           </td><td>1960-11-06                       </td><td>0.08                             </td><td>210                              </td><td>1                                </td><td> 2                               </td><td>Rio de Janeiro                   </td><td>RJ                               </td></tr>\n",
       "</tbody>\n",
       "</table>\n"
      ],
      "text/latex": [
       "\\begin{tabular}{r|llllllllllllll}\n",
       "  & ID & Date & ProductID & Name.x & Size & ClientID & Sex & DateOfBirth & Discount & UnitPrice & Quantity & StoreID & City & State.x\\\\\n",
       "\\hline\n",
       "\t43 & 85647e1ff3e4b10814f375af01c38836  & 2018-08-09                        & 002d4ea7c04739c130bb74d7e7cd16943 & Iron Man                          & G                                 & 14017                             & Homem                             & 1971-06-22                        & 0.08                              & 210                               & 1                                 &  1                                & Florianópolis                     & SC                               \\\\\n",
       "\t107 & ec451fb3a1ee5782fef4937473a9ffac  & 2018-09-28                        & 002d4ea7c04739c130bb74d7e7cd16943 & Iron Man                          & G                                 & 14042                             & Homem                             & 1965-07-01                        & 0.10                              & 210                               & 1                                 &  1                                & Florianópolis                     & SC                               \\\\\n",
       "\t171 & c68e47bd3dab5dd575a6c65848663923  & 2018-12-24                        & 002d4ea7c04739c130bb74d7e7cd16943 & Iron Man                          & G                                 & 19674                             & Homem                             & 1984-03-04                        & 0.08                              & 210                               & 1                                 &  2                                & Rio de Janeiro                    & RJ                               \\\\\n",
       "\t204 & a97c9b194a026ac3e75726c485f6e8ea  & 2019-06-28                        & 002d4ea7c04739c130bb74d7e7cd16943 & Iron Man                          & G                                 & 14074                             & Mulher                            & 1973-08-15                        & 0.08                              & 210                               & 1                                 &  2                                & Rio de Janeiro                    & RJ                               \\\\\n",
       "\t222 & ea110ced6459b4dc6c73e0b2367077e9  & 2019-09-03                        & 002d4ea7c04739c130bb74d7e7cd16943 & Iron Man                          & G                                 & 14080                             & Homem                             & 1990-11-25                        & 0.10                              & 210                               & 1                                 &  1                                & Florianópolis                     & SC                               \\\\\n",
       "\t235 & 801f0faf13878ee42788d7bd0e4c72fe  & 2018-11-30                        & 002d4ea7c04739c130bb74d7e7cd16943 & Iron Man                          & G                                 & 14084                             & Homem                             & 1971-10-16                        & 0.10                              & 210                               & 1                                 &  4                                & Curitiba                          & PR                               \\\\\n",
       "\t239 & 89fb8b371b28dcc037a9c1f798eacc81  & 2019-05-06                        & 002d4ea7c04739c130bb74d7e7cd16943 & Iron Man                          & G                                 & 14088                             & Homem                             & 1987-09-18                        & 0.10                              & 210                               & 1                                 &  1                                & Florianópolis                     & SC                               \\\\\n",
       "\t285 & 8bae398ae3bdca643616198d918aa8c6  & 2018-10-07                        & 002d4ea7c04739c130bb74d7e7cd16943 & Iron Man                          & G                                 & 14110                             & Homem                             & 1999-06-22                        & 0.10                              & 210                               & 1                                 &  2                                & Rio de Janeiro                    & RJ                               \\\\\n",
       "\t324 & 51efa345a1180ca3879442a31b0a265a  & 2019-09-04                        & 002d4ea7c04739c130bb74d7e7cd16943 & Iron Man                          & G                                 & 14127                             & Homem                             & 1969-09-03                        & 0.10                              & 210                               & 1                                 & 22                                & Belo Horizonte                    & BH                               \\\\\n",
       "\t365 & cd44196e80474114b859765d62f12ddf  & 2018-08-23                        & 002d4ea7c04739c130bb74d7e7cd16943 & Iron Man                          & G                                 & 14145                             & Mulher                            & 1960-11-06                        & 0.08                              & 210                               & 1                                 &  2                                & Rio de Janeiro                    & RJ                               \\\\\n",
       "\\end{tabular}\n"
      ],
      "text/markdown": [
       "\n",
       "| <!--/--> | ID | Date | ProductID | Name.x | Size | ClientID | Sex | DateOfBirth | Discount | UnitPrice | Quantity | StoreID | City | State.x |\n",
       "|---|---|---|---|---|---|---|---|---|---|---|---|---|---|---|\n",
       "| 43 | 85647e1ff3e4b10814f375af01c38836  | 2018-08-09                        | 002d4ea7c04739c130bb74d7e7cd16943 | Iron Man                          | G                                 | 14017                             | Homem                             | 1971-06-22                        | 0.08                              | 210                               | 1                                 |  1                                | Florianópolis                     | SC                                |\n",
       "| 107 | ec451fb3a1ee5782fef4937473a9ffac  | 2018-09-28                        | 002d4ea7c04739c130bb74d7e7cd16943 | Iron Man                          | G                                 | 14042                             | Homem                             | 1965-07-01                        | 0.10                              | 210                               | 1                                 |  1                                | Florianópolis                     | SC                                |\n",
       "| 171 | c68e47bd3dab5dd575a6c65848663923  | 2018-12-24                        | 002d4ea7c04739c130bb74d7e7cd16943 | Iron Man                          | G                                 | 19674                             | Homem                             | 1984-03-04                        | 0.08                              | 210                               | 1                                 |  2                                | Rio de Janeiro                    | RJ                                |\n",
       "| 204 | a97c9b194a026ac3e75726c485f6e8ea  | 2019-06-28                        | 002d4ea7c04739c130bb74d7e7cd16943 | Iron Man                          | G                                 | 14074                             | Mulher                            | 1973-08-15                        | 0.08                              | 210                               | 1                                 |  2                                | Rio de Janeiro                    | RJ                                |\n",
       "| 222 | ea110ced6459b4dc6c73e0b2367077e9  | 2019-09-03                        | 002d4ea7c04739c130bb74d7e7cd16943 | Iron Man                          | G                                 | 14080                             | Homem                             | 1990-11-25                        | 0.10                              | 210                               | 1                                 |  1                                | Florianópolis                     | SC                                |\n",
       "| 235 | 801f0faf13878ee42788d7bd0e4c72fe  | 2018-11-30                        | 002d4ea7c04739c130bb74d7e7cd16943 | Iron Man                          | G                                 | 14084                             | Homem                             | 1971-10-16                        | 0.10                              | 210                               | 1                                 |  4                                | Curitiba                          | PR                                |\n",
       "| 239 | 89fb8b371b28dcc037a9c1f798eacc81  | 2019-05-06                        | 002d4ea7c04739c130bb74d7e7cd16943 | Iron Man                          | G                                 | 14088                             | Homem                             | 1987-09-18                        | 0.10                              | 210                               | 1                                 |  1                                | Florianópolis                     | SC                                |\n",
       "| 285 | 8bae398ae3bdca643616198d918aa8c6  | 2018-10-07                        | 002d4ea7c04739c130bb74d7e7cd16943 | Iron Man                          | G                                 | 14110                             | Homem                             | 1999-06-22                        | 0.10                              | 210                               | 1                                 |  2                                | Rio de Janeiro                    | RJ                                |\n",
       "| 324 | 51efa345a1180ca3879442a31b0a265a  | 2019-09-04                        | 002d4ea7c04739c130bb74d7e7cd16943 | Iron Man                          | G                                 | 14127                             | Homem                             | 1969-09-03                        | 0.10                              | 210                               | 1                                 | 22                                | Belo Horizonte                    | BH                                |\n",
       "| 365 | cd44196e80474114b859765d62f12ddf  | 2018-08-23                        | 002d4ea7c04739c130bb74d7e7cd16943 | Iron Man                          | G                                 | 14145                             | Mulher                            | 1960-11-06                        | 0.08                              | 210                               | 1                                 |  2                                | Rio de Janeiro                    | RJ                                |\n",
       "\n"
      ],
      "text/plain": [
       "    ID                               Date      \n",
       "43  85647e1ff3e4b10814f375af01c38836 2018-08-09\n",
       "107 ec451fb3a1ee5782fef4937473a9ffac 2018-09-28\n",
       "171 c68e47bd3dab5dd575a6c65848663923 2018-12-24\n",
       "204 a97c9b194a026ac3e75726c485f6e8ea 2019-06-28\n",
       "222 ea110ced6459b4dc6c73e0b2367077e9 2019-09-03\n",
       "235 801f0faf13878ee42788d7bd0e4c72fe 2018-11-30\n",
       "239 89fb8b371b28dcc037a9c1f798eacc81 2019-05-06\n",
       "285 8bae398ae3bdca643616198d918aa8c6 2018-10-07\n",
       "324 51efa345a1180ca3879442a31b0a265a 2019-09-04\n",
       "365 cd44196e80474114b859765d62f12ddf 2018-08-23\n",
       "    ProductID                         Name.x   Size ClientID Sex    DateOfBirth\n",
       "43  002d4ea7c04739c130bb74d7e7cd16943 Iron Man G    14017    Homem  1971-06-22 \n",
       "107 002d4ea7c04739c130bb74d7e7cd16943 Iron Man G    14042    Homem  1965-07-01 \n",
       "171 002d4ea7c04739c130bb74d7e7cd16943 Iron Man G    19674    Homem  1984-03-04 \n",
       "204 002d4ea7c04739c130bb74d7e7cd16943 Iron Man G    14074    Mulher 1973-08-15 \n",
       "222 002d4ea7c04739c130bb74d7e7cd16943 Iron Man G    14080    Homem  1990-11-25 \n",
       "235 002d4ea7c04739c130bb74d7e7cd16943 Iron Man G    14084    Homem  1971-10-16 \n",
       "239 002d4ea7c04739c130bb74d7e7cd16943 Iron Man G    14088    Homem  1987-09-18 \n",
       "285 002d4ea7c04739c130bb74d7e7cd16943 Iron Man G    14110    Homem  1999-06-22 \n",
       "324 002d4ea7c04739c130bb74d7e7cd16943 Iron Man G    14127    Homem  1969-09-03 \n",
       "365 002d4ea7c04739c130bb74d7e7cd16943 Iron Man G    14145    Mulher 1960-11-06 \n",
       "    Discount UnitPrice Quantity StoreID City           State.x\n",
       "43  0.08     210       1         1      Florianópolis  SC     \n",
       "107 0.10     210       1         1      Florianópolis  SC     \n",
       "171 0.08     210       1         2      Rio de Janeiro RJ     \n",
       "204 0.08     210       1         2      Rio de Janeiro RJ     \n",
       "222 0.10     210       1         1      Florianópolis  SC     \n",
       "235 0.10     210       1         4      Curitiba       PR     \n",
       "239 0.10     210       1         1      Florianópolis  SC     \n",
       "285 0.10     210       1         2      Rio de Janeiro RJ     \n",
       "324 0.10     210       1        22      Belo Horizonte BH     \n",
       "365 0.08     210       1         2      Rio de Janeiro RJ     "
      ]
     },
     "metadata": {},
     "output_type": "display_data"
    }
   ],
   "source": [
    "# SELECIONAR POR ITEM IRON MAN G\n",
    "ironmanG <- df_tabela[df_tabela$Name.x == \"Iron Man\" & df_tabela$Size == \"G\",]\n",
    "head(ironmanG, 10)"
   ]
  },
  {
   "cell_type": "code",
   "execution_count": 25,
   "id": "ecaf838c",
   "metadata": {},
   "outputs": [
    {
     "data": {
      "text/html": [
       "<table>\n",
       "<thead><tr><th></th><th scope=col>ID</th><th scope=col>Date</th><th scope=col>ProductID</th><th scope=col>Name.x</th><th scope=col>Size</th><th scope=col>ClientID</th><th scope=col>Sex</th><th scope=col>DateOfBirth</th><th scope=col>Discount</th><th scope=col>UnitPrice</th><th scope=col>Quantity</th><th scope=col>StoreID</th><th scope=col>City</th><th scope=col>State.x</th><th scope=col>Ano</th></tr></thead>\n",
       "<tbody>\n",
       "\t<tr><th scope=row>204</th><td>a97c9b194a026ac3e75726c485f6e8ea </td><td>2019-06-28                       </td><td>002d4ea7c04739c130bb74d7e7cd16943</td><td>Iron Man                         </td><td>G                                </td><td>14074                            </td><td>Mulher                           </td><td>1973-08-15                       </td><td>0.08                             </td><td>210                              </td><td>1                                </td><td> 2                               </td><td>Rio de Janeiro                   </td><td>RJ                               </td><td>2019                             </td></tr>\n",
       "\t<tr><th scope=row>222</th><td>ea110ced6459b4dc6c73e0b2367077e9 </td><td>2019-09-03                       </td><td>002d4ea7c04739c130bb74d7e7cd16943</td><td>Iron Man                         </td><td>G                                </td><td>14080                            </td><td>Homem                            </td><td>1990-11-25                       </td><td>0.10                             </td><td>210                              </td><td>1                                </td><td> 1                               </td><td>Florianópolis                    </td><td>SC                               </td><td>2019                             </td></tr>\n",
       "\t<tr><th scope=row>239</th><td>89fb8b371b28dcc037a9c1f798eacc81 </td><td>2019-05-06                       </td><td>002d4ea7c04739c130bb74d7e7cd16943</td><td>Iron Man                         </td><td>G                                </td><td>14088                            </td><td>Homem                            </td><td>1987-09-18                       </td><td>0.10                             </td><td>210                              </td><td>1                                </td><td> 1                               </td><td>Florianópolis                    </td><td>SC                               </td><td>2019                             </td></tr>\n",
       "\t<tr><th scope=row>324</th><td>51efa345a1180ca3879442a31b0a265a </td><td>2019-09-04                       </td><td>002d4ea7c04739c130bb74d7e7cd16943</td><td>Iron Man                         </td><td>G                                </td><td>14127                            </td><td>Homem                            </td><td>1969-09-03                       </td><td>0.10                             </td><td>210                              </td><td>1                                </td><td>22                               </td><td>Belo Horizonte                   </td><td>BH                               </td><td>2019                             </td></tr>\n",
       "\t<tr><th scope=row>488</th><td>f89525a2a79be7efb2afb5844cf2652d </td><td>2019-10-26                       </td><td>002d4ea7c04739c130bb74d7e7cd16943</td><td>Iron Man                         </td><td>G                                </td><td>14197                            </td><td>Homem                            </td><td>1954-11-16                       </td><td>0.10                             </td><td>210                              </td><td>1                                </td><td> 1                               </td><td>Florianópolis                    </td><td>SC                               </td><td>2019                             </td></tr>\n",
       "\t<tr><th scope=row>530</th><td>6ee1c0ae2850fce0967f050c82d6a532 </td><td>2019-01-02                       </td><td>002d4ea7c04739c130bb74d7e7cd16943</td><td>Iron Man                         </td><td>G                                </td><td>14215                            </td><td>Homem                            </td><td>1956-08-19                       </td><td>0.10                             </td><td>210                              </td><td>1                                </td><td> 1                               </td><td>Florianópolis                    </td><td>SC                               </td><td>2019                             </td></tr>\n",
       "\t<tr><th scope=row>548</th><td>c09ea37d3dd207e756102d311bcdff13 </td><td>2019-10-09                       </td><td>002d4ea7c04739c130bb74d7e7cd16943</td><td>Iron Man                         </td><td>G                                </td><td>14223                            </td><td>Homem                            </td><td>1989-09-08                       </td><td>0.10                             </td><td>210                              </td><td>1                                </td><td> 2                               </td><td>Rio de Janeiro                   </td><td>RJ                               </td><td>2019                             </td></tr>\n",
       "\t<tr><th scope=row>557</th><td>2c76644ebdca47aa2d980e3b2714af13 </td><td>2019-01-04                       </td><td>002d4ea7c04739c130bb74d7e7cd16943</td><td>Iron Man                         </td><td>G                                </td><td>14228                            </td><td>Homem                            </td><td>1974-12-26                       </td><td>0.10                             </td><td>210                              </td><td>1                                </td><td> 3                               </td><td>Porto Alegre                     </td><td>RS                               </td><td>2019                             </td></tr>\n",
       "\t<tr><th scope=row>675</th><td>d2d740a1b76ee640f76fba030363144e </td><td>2019-05-24                       </td><td>002d4ea7c04739c130bb74d7e7cd16943</td><td>Iron Man                         </td><td>G                                </td><td>14290                            </td><td>Homem                            </td><td>1997-06-21                       </td><td>0.10                             </td><td>210                              </td><td>1                                </td><td> 1                               </td><td>Florianópolis                    </td><td>SC                               </td><td>2019                             </td></tr>\n",
       "\t<tr><th scope=row>687</th><td>a3b51577e617e3ffd00a8718b05874fd </td><td>2019-10-09                       </td><td>002d4ea7c04739c130bb74d7e7cd16943</td><td>Iron Man                         </td><td>G                                </td><td>14294                            </td><td>Mulher                           </td><td>1985-11-11                       </td><td>0.10                             </td><td>210                              </td><td>1                                </td><td> 2                               </td><td>Rio de Janeiro                   </td><td>RJ                               </td><td>2019                             </td></tr>\n",
       "</tbody>\n",
       "</table>\n"
      ],
      "text/latex": [
       "\\begin{tabular}{r|lllllllllllllll}\n",
       "  & ID & Date & ProductID & Name.x & Size & ClientID & Sex & DateOfBirth & Discount & UnitPrice & Quantity & StoreID & City & State.x & Ano\\\\\n",
       "\\hline\n",
       "\t204 & a97c9b194a026ac3e75726c485f6e8ea  & 2019-06-28                        & 002d4ea7c04739c130bb74d7e7cd16943 & Iron Man                          & G                                 & 14074                             & Mulher                            & 1973-08-15                        & 0.08                              & 210                               & 1                                 &  2                                & Rio de Janeiro                    & RJ                                & 2019                             \\\\\n",
       "\t222 & ea110ced6459b4dc6c73e0b2367077e9  & 2019-09-03                        & 002d4ea7c04739c130bb74d7e7cd16943 & Iron Man                          & G                                 & 14080                             & Homem                             & 1990-11-25                        & 0.10                              & 210                               & 1                                 &  1                                & Florianópolis                     & SC                                & 2019                             \\\\\n",
       "\t239 & 89fb8b371b28dcc037a9c1f798eacc81  & 2019-05-06                        & 002d4ea7c04739c130bb74d7e7cd16943 & Iron Man                          & G                                 & 14088                             & Homem                             & 1987-09-18                        & 0.10                              & 210                               & 1                                 &  1                                & Florianópolis                     & SC                                & 2019                             \\\\\n",
       "\t324 & 51efa345a1180ca3879442a31b0a265a  & 2019-09-04                        & 002d4ea7c04739c130bb74d7e7cd16943 & Iron Man                          & G                                 & 14127                             & Homem                             & 1969-09-03                        & 0.10                              & 210                               & 1                                 & 22                                & Belo Horizonte                    & BH                                & 2019                             \\\\\n",
       "\t488 & f89525a2a79be7efb2afb5844cf2652d  & 2019-10-26                        & 002d4ea7c04739c130bb74d7e7cd16943 & Iron Man                          & G                                 & 14197                             & Homem                             & 1954-11-16                        & 0.10                              & 210                               & 1                                 &  1                                & Florianópolis                     & SC                                & 2019                             \\\\\n",
       "\t530 & 6ee1c0ae2850fce0967f050c82d6a532  & 2019-01-02                        & 002d4ea7c04739c130bb74d7e7cd16943 & Iron Man                          & G                                 & 14215                             & Homem                             & 1956-08-19                        & 0.10                              & 210                               & 1                                 &  1                                & Florianópolis                     & SC                                & 2019                             \\\\\n",
       "\t548 & c09ea37d3dd207e756102d311bcdff13  & 2019-10-09                        & 002d4ea7c04739c130bb74d7e7cd16943 & Iron Man                          & G                                 & 14223                             & Homem                             & 1989-09-08                        & 0.10                              & 210                               & 1                                 &  2                                & Rio de Janeiro                    & RJ                                & 2019                             \\\\\n",
       "\t557 & 2c76644ebdca47aa2d980e3b2714af13  & 2019-01-04                        & 002d4ea7c04739c130bb74d7e7cd16943 & Iron Man                          & G                                 & 14228                             & Homem                             & 1974-12-26                        & 0.10                              & 210                               & 1                                 &  3                                & Porto Alegre                      & RS                                & 2019                             \\\\\n",
       "\t675 & d2d740a1b76ee640f76fba030363144e  & 2019-05-24                        & 002d4ea7c04739c130bb74d7e7cd16943 & Iron Man                          & G                                 & 14290                             & Homem                             & 1997-06-21                        & 0.10                              & 210                               & 1                                 &  1                                & Florianópolis                     & SC                                & 2019                             \\\\\n",
       "\t687 & a3b51577e617e3ffd00a8718b05874fd  & 2019-10-09                        & 002d4ea7c04739c130bb74d7e7cd16943 & Iron Man                          & G                                 & 14294                             & Mulher                            & 1985-11-11                        & 0.10                              & 210                               & 1                                 &  2                                & Rio de Janeiro                    & RJ                                & 2019                             \\\\\n",
       "\\end{tabular}\n"
      ],
      "text/markdown": [
       "\n",
       "| <!--/--> | ID | Date | ProductID | Name.x | Size | ClientID | Sex | DateOfBirth | Discount | UnitPrice | Quantity | StoreID | City | State.x | Ano |\n",
       "|---|---|---|---|---|---|---|---|---|---|---|---|---|---|---|---|\n",
       "| 204 | a97c9b194a026ac3e75726c485f6e8ea  | 2019-06-28                        | 002d4ea7c04739c130bb74d7e7cd16943 | Iron Man                          | G                                 | 14074                             | Mulher                            | 1973-08-15                        | 0.08                              | 210                               | 1                                 |  2                                | Rio de Janeiro                    | RJ                                | 2019                              |\n",
       "| 222 | ea110ced6459b4dc6c73e0b2367077e9  | 2019-09-03                        | 002d4ea7c04739c130bb74d7e7cd16943 | Iron Man                          | G                                 | 14080                             | Homem                             | 1990-11-25                        | 0.10                              | 210                               | 1                                 |  1                                | Florianópolis                     | SC                                | 2019                              |\n",
       "| 239 | 89fb8b371b28dcc037a9c1f798eacc81  | 2019-05-06                        | 002d4ea7c04739c130bb74d7e7cd16943 | Iron Man                          | G                                 | 14088                             | Homem                             | 1987-09-18                        | 0.10                              | 210                               | 1                                 |  1                                | Florianópolis                     | SC                                | 2019                              |\n",
       "| 324 | 51efa345a1180ca3879442a31b0a265a  | 2019-09-04                        | 002d4ea7c04739c130bb74d7e7cd16943 | Iron Man                          | G                                 | 14127                             | Homem                             | 1969-09-03                        | 0.10                              | 210                               | 1                                 | 22                                | Belo Horizonte                    | BH                                | 2019                              |\n",
       "| 488 | f89525a2a79be7efb2afb5844cf2652d  | 2019-10-26                        | 002d4ea7c04739c130bb74d7e7cd16943 | Iron Man                          | G                                 | 14197                             | Homem                             | 1954-11-16                        | 0.10                              | 210                               | 1                                 |  1                                | Florianópolis                     | SC                                | 2019                              |\n",
       "| 530 | 6ee1c0ae2850fce0967f050c82d6a532  | 2019-01-02                        | 002d4ea7c04739c130bb74d7e7cd16943 | Iron Man                          | G                                 | 14215                             | Homem                             | 1956-08-19                        | 0.10                              | 210                               | 1                                 |  1                                | Florianópolis                     | SC                                | 2019                              |\n",
       "| 548 | c09ea37d3dd207e756102d311bcdff13  | 2019-10-09                        | 002d4ea7c04739c130bb74d7e7cd16943 | Iron Man                          | G                                 | 14223                             | Homem                             | 1989-09-08                        | 0.10                              | 210                               | 1                                 |  2                                | Rio de Janeiro                    | RJ                                | 2019                              |\n",
       "| 557 | 2c76644ebdca47aa2d980e3b2714af13  | 2019-01-04                        | 002d4ea7c04739c130bb74d7e7cd16943 | Iron Man                          | G                                 | 14228                             | Homem                             | 1974-12-26                        | 0.10                              | 210                               | 1                                 |  3                                | Porto Alegre                      | RS                                | 2019                              |\n",
       "| 675 | d2d740a1b76ee640f76fba030363144e  | 2019-05-24                        | 002d4ea7c04739c130bb74d7e7cd16943 | Iron Man                          | G                                 | 14290                             | Homem                             | 1997-06-21                        | 0.10                              | 210                               | 1                                 |  1                                | Florianópolis                     | SC                                | 2019                              |\n",
       "| 687 | a3b51577e617e3ffd00a8718b05874fd  | 2019-10-09                        | 002d4ea7c04739c130bb74d7e7cd16943 | Iron Man                          | G                                 | 14294                             | Mulher                            | 1985-11-11                        | 0.10                              | 210                               | 1                                 |  2                                | Rio de Janeiro                    | RJ                                | 2019                              |\n",
       "\n"
      ],
      "text/plain": [
       "    ID                               Date      \n",
       "204 a97c9b194a026ac3e75726c485f6e8ea 2019-06-28\n",
       "222 ea110ced6459b4dc6c73e0b2367077e9 2019-09-03\n",
       "239 89fb8b371b28dcc037a9c1f798eacc81 2019-05-06\n",
       "324 51efa345a1180ca3879442a31b0a265a 2019-09-04\n",
       "488 f89525a2a79be7efb2afb5844cf2652d 2019-10-26\n",
       "530 6ee1c0ae2850fce0967f050c82d6a532 2019-01-02\n",
       "548 c09ea37d3dd207e756102d311bcdff13 2019-10-09\n",
       "557 2c76644ebdca47aa2d980e3b2714af13 2019-01-04\n",
       "675 d2d740a1b76ee640f76fba030363144e 2019-05-24\n",
       "687 a3b51577e617e3ffd00a8718b05874fd 2019-10-09\n",
       "    ProductID                         Name.x   Size ClientID Sex    DateOfBirth\n",
       "204 002d4ea7c04739c130bb74d7e7cd16943 Iron Man G    14074    Mulher 1973-08-15 \n",
       "222 002d4ea7c04739c130bb74d7e7cd16943 Iron Man G    14080    Homem  1990-11-25 \n",
       "239 002d4ea7c04739c130bb74d7e7cd16943 Iron Man G    14088    Homem  1987-09-18 \n",
       "324 002d4ea7c04739c130bb74d7e7cd16943 Iron Man G    14127    Homem  1969-09-03 \n",
       "488 002d4ea7c04739c130bb74d7e7cd16943 Iron Man G    14197    Homem  1954-11-16 \n",
       "530 002d4ea7c04739c130bb74d7e7cd16943 Iron Man G    14215    Homem  1956-08-19 \n",
       "548 002d4ea7c04739c130bb74d7e7cd16943 Iron Man G    14223    Homem  1989-09-08 \n",
       "557 002d4ea7c04739c130bb74d7e7cd16943 Iron Man G    14228    Homem  1974-12-26 \n",
       "675 002d4ea7c04739c130bb74d7e7cd16943 Iron Man G    14290    Homem  1997-06-21 \n",
       "687 002d4ea7c04739c130bb74d7e7cd16943 Iron Man G    14294    Mulher 1985-11-11 \n",
       "    Discount UnitPrice Quantity StoreID City           State.x Ano \n",
       "204 0.08     210       1         2      Rio de Janeiro RJ      2019\n",
       "222 0.10     210       1         1      Florianópolis  SC      2019\n",
       "239 0.10     210       1         1      Florianópolis  SC      2019\n",
       "324 0.10     210       1        22      Belo Horizonte BH      2019\n",
       "488 0.10     210       1         1      Florianópolis  SC      2019\n",
       "530 0.10     210       1         1      Florianópolis  SC      2019\n",
       "548 0.10     210       1         2      Rio de Janeiro RJ      2019\n",
       "557 0.10     210       1         3      Porto Alegre   RS      2019\n",
       "675 0.10     210       1         1      Florianópolis  SC      2019\n",
       "687 0.10     210       1         2      Rio de Janeiro RJ      2019"
      ]
     },
     "metadata": {},
     "output_type": "display_data"
    }
   ],
   "source": [
    "# CRIAR COLUNA DE ANO PARA VERIFICAR AS VENDAS DO ITEM IRON MAN G EM 2019\n",
    "ironmanG <- mutate(ironmanG, Ano =  year(ironmanG$Date))\n",
    "ironmanG_2019 <- ironmanG[ironmanG$Ano == 2019,]\n",
    "head(ironmanG_2019, 10)"
   ]
  },
  {
   "cell_type": "code",
   "execution_count": 26,
   "id": "e1f3b7f5",
   "metadata": {},
   "outputs": [
    {
     "data": {
      "text/html": [
       "<table>\n",
       "<thead><tr><th></th><th scope=col>ID</th><th scope=col>Date</th><th scope=col>ProductID</th><th scope=col>Name.x</th><th scope=col>Size</th><th scope=col>ClientID</th><th scope=col>Sex</th><th scope=col>DateOfBirth</th><th scope=col>Discount</th><th scope=col>UnitPrice</th><th scope=col>Quantity</th><th scope=col>StoreID</th><th scope=col>City</th><th scope=col>State.x</th><th scope=col>Ano</th><th scope=col>Mes</th></tr></thead>\n",
       "<tbody>\n",
       "\t<tr><th scope=row>204</th><td>a97c9b194a026ac3e75726c485f6e8ea </td><td>2019-06-28                       </td><td>002d4ea7c04739c130bb74d7e7cd16943</td><td>Iron Man                         </td><td>G                                </td><td>14074                            </td><td>Mulher                           </td><td>1973-08-15                       </td><td>0.08                             </td><td>210                              </td><td>1                                </td><td> 2                               </td><td>Rio de Janeiro                   </td><td>RJ                               </td><td>2019                             </td><td> 6                               </td></tr>\n",
       "\t<tr><th scope=row>222</th><td>ea110ced6459b4dc6c73e0b2367077e9 </td><td>2019-09-03                       </td><td>002d4ea7c04739c130bb74d7e7cd16943</td><td>Iron Man                         </td><td>G                                </td><td>14080                            </td><td>Homem                            </td><td>1990-11-25                       </td><td>0.10                             </td><td>210                              </td><td>1                                </td><td> 1                               </td><td>Florianópolis                    </td><td>SC                               </td><td>2019                             </td><td> 9                               </td></tr>\n",
       "\t<tr><th scope=row>239</th><td>89fb8b371b28dcc037a9c1f798eacc81 </td><td>2019-05-06                       </td><td>002d4ea7c04739c130bb74d7e7cd16943</td><td>Iron Man                         </td><td>G                                </td><td>14088                            </td><td>Homem                            </td><td>1987-09-18                       </td><td>0.10                             </td><td>210                              </td><td>1                                </td><td> 1                               </td><td>Florianópolis                    </td><td>SC                               </td><td>2019                             </td><td> 5                               </td></tr>\n",
       "\t<tr><th scope=row>324</th><td>51efa345a1180ca3879442a31b0a265a </td><td>2019-09-04                       </td><td>002d4ea7c04739c130bb74d7e7cd16943</td><td>Iron Man                         </td><td>G                                </td><td>14127                            </td><td>Homem                            </td><td>1969-09-03                       </td><td>0.10                             </td><td>210                              </td><td>1                                </td><td>22                               </td><td>Belo Horizonte                   </td><td>BH                               </td><td>2019                             </td><td> 9                               </td></tr>\n",
       "\t<tr><th scope=row>488</th><td>f89525a2a79be7efb2afb5844cf2652d </td><td>2019-10-26                       </td><td>002d4ea7c04739c130bb74d7e7cd16943</td><td>Iron Man                         </td><td>G                                </td><td>14197                            </td><td>Homem                            </td><td>1954-11-16                       </td><td>0.10                             </td><td>210                              </td><td>1                                </td><td> 1                               </td><td>Florianópolis                    </td><td>SC                               </td><td>2019                             </td><td>10                               </td></tr>\n",
       "\t<tr><th scope=row>530</th><td>6ee1c0ae2850fce0967f050c82d6a532 </td><td>2019-01-02                       </td><td>002d4ea7c04739c130bb74d7e7cd16943</td><td>Iron Man                         </td><td>G                                </td><td>14215                            </td><td>Homem                            </td><td>1956-08-19                       </td><td>0.10                             </td><td>210                              </td><td>1                                </td><td> 1                               </td><td>Florianópolis                    </td><td>SC                               </td><td>2019                             </td><td> 1                               </td></tr>\n",
       "\t<tr><th scope=row>548</th><td>c09ea37d3dd207e756102d311bcdff13 </td><td>2019-10-09                       </td><td>002d4ea7c04739c130bb74d7e7cd16943</td><td>Iron Man                         </td><td>G                                </td><td>14223                            </td><td>Homem                            </td><td>1989-09-08                       </td><td>0.10                             </td><td>210                              </td><td>1                                </td><td> 2                               </td><td>Rio de Janeiro                   </td><td>RJ                               </td><td>2019                             </td><td>10                               </td></tr>\n",
       "\t<tr><th scope=row>557</th><td>2c76644ebdca47aa2d980e3b2714af13 </td><td>2019-01-04                       </td><td>002d4ea7c04739c130bb74d7e7cd16943</td><td>Iron Man                         </td><td>G                                </td><td>14228                            </td><td>Homem                            </td><td>1974-12-26                       </td><td>0.10                             </td><td>210                              </td><td>1                                </td><td> 3                               </td><td>Porto Alegre                     </td><td>RS                               </td><td>2019                             </td><td> 1                               </td></tr>\n",
       "\t<tr><th scope=row>675</th><td>d2d740a1b76ee640f76fba030363144e </td><td>2019-05-24                       </td><td>002d4ea7c04739c130bb74d7e7cd16943</td><td>Iron Man                         </td><td>G                                </td><td>14290                            </td><td>Homem                            </td><td>1997-06-21                       </td><td>0.10                             </td><td>210                              </td><td>1                                </td><td> 1                               </td><td>Florianópolis                    </td><td>SC                               </td><td>2019                             </td><td> 5                               </td></tr>\n",
       "\t<tr><th scope=row>687</th><td>a3b51577e617e3ffd00a8718b05874fd </td><td>2019-10-09                       </td><td>002d4ea7c04739c130bb74d7e7cd16943</td><td>Iron Man                         </td><td>G                                </td><td>14294                            </td><td>Mulher                           </td><td>1985-11-11                       </td><td>0.10                             </td><td>210                              </td><td>1                                </td><td> 2                               </td><td>Rio de Janeiro                   </td><td>RJ                               </td><td>2019                             </td><td>10                               </td></tr>\n",
       "</tbody>\n",
       "</table>\n"
      ],
      "text/latex": [
       "\\begin{tabular}{r|llllllllllllllll}\n",
       "  & ID & Date & ProductID & Name.x & Size & ClientID & Sex & DateOfBirth & Discount & UnitPrice & Quantity & StoreID & City & State.x & Ano & Mes\\\\\n",
       "\\hline\n",
       "\t204 & a97c9b194a026ac3e75726c485f6e8ea  & 2019-06-28                        & 002d4ea7c04739c130bb74d7e7cd16943 & Iron Man                          & G                                 & 14074                             & Mulher                            & 1973-08-15                        & 0.08                              & 210                               & 1                                 &  2                                & Rio de Janeiro                    & RJ                                & 2019                              &  6                               \\\\\n",
       "\t222 & ea110ced6459b4dc6c73e0b2367077e9  & 2019-09-03                        & 002d4ea7c04739c130bb74d7e7cd16943 & Iron Man                          & G                                 & 14080                             & Homem                             & 1990-11-25                        & 0.10                              & 210                               & 1                                 &  1                                & Florianópolis                     & SC                                & 2019                              &  9                               \\\\\n",
       "\t239 & 89fb8b371b28dcc037a9c1f798eacc81  & 2019-05-06                        & 002d4ea7c04739c130bb74d7e7cd16943 & Iron Man                          & G                                 & 14088                             & Homem                             & 1987-09-18                        & 0.10                              & 210                               & 1                                 &  1                                & Florianópolis                     & SC                                & 2019                              &  5                               \\\\\n",
       "\t324 & 51efa345a1180ca3879442a31b0a265a  & 2019-09-04                        & 002d4ea7c04739c130bb74d7e7cd16943 & Iron Man                          & G                                 & 14127                             & Homem                             & 1969-09-03                        & 0.10                              & 210                               & 1                                 & 22                                & Belo Horizonte                    & BH                                & 2019                              &  9                               \\\\\n",
       "\t488 & f89525a2a79be7efb2afb5844cf2652d  & 2019-10-26                        & 002d4ea7c04739c130bb74d7e7cd16943 & Iron Man                          & G                                 & 14197                             & Homem                             & 1954-11-16                        & 0.10                              & 210                               & 1                                 &  1                                & Florianópolis                     & SC                                & 2019                              & 10                               \\\\\n",
       "\t530 & 6ee1c0ae2850fce0967f050c82d6a532  & 2019-01-02                        & 002d4ea7c04739c130bb74d7e7cd16943 & Iron Man                          & G                                 & 14215                             & Homem                             & 1956-08-19                        & 0.10                              & 210                               & 1                                 &  1                                & Florianópolis                     & SC                                & 2019                              &  1                               \\\\\n",
       "\t548 & c09ea37d3dd207e756102d311bcdff13  & 2019-10-09                        & 002d4ea7c04739c130bb74d7e7cd16943 & Iron Man                          & G                                 & 14223                             & Homem                             & 1989-09-08                        & 0.10                              & 210                               & 1                                 &  2                                & Rio de Janeiro                    & RJ                                & 2019                              & 10                               \\\\\n",
       "\t557 & 2c76644ebdca47aa2d980e3b2714af13  & 2019-01-04                        & 002d4ea7c04739c130bb74d7e7cd16943 & Iron Man                          & G                                 & 14228                             & Homem                             & 1974-12-26                        & 0.10                              & 210                               & 1                                 &  3                                & Porto Alegre                      & RS                                & 2019                              &  1                               \\\\\n",
       "\t675 & d2d740a1b76ee640f76fba030363144e  & 2019-05-24                        & 002d4ea7c04739c130bb74d7e7cd16943 & Iron Man                          & G                                 & 14290                             & Homem                             & 1997-06-21                        & 0.10                              & 210                               & 1                                 &  1                                & Florianópolis                     & SC                                & 2019                              &  5                               \\\\\n",
       "\t687 & a3b51577e617e3ffd00a8718b05874fd  & 2019-10-09                        & 002d4ea7c04739c130bb74d7e7cd16943 & Iron Man                          & G                                 & 14294                             & Mulher                            & 1985-11-11                        & 0.10                              & 210                               & 1                                 &  2                                & Rio de Janeiro                    & RJ                                & 2019                              & 10                               \\\\\n",
       "\\end{tabular}\n"
      ],
      "text/markdown": [
       "\n",
       "| <!--/--> | ID | Date | ProductID | Name.x | Size | ClientID | Sex | DateOfBirth | Discount | UnitPrice | Quantity | StoreID | City | State.x | Ano | Mes |\n",
       "|---|---|---|---|---|---|---|---|---|---|---|---|---|---|---|---|---|\n",
       "| 204 | a97c9b194a026ac3e75726c485f6e8ea  | 2019-06-28                        | 002d4ea7c04739c130bb74d7e7cd16943 | Iron Man                          | G                                 | 14074                             | Mulher                            | 1973-08-15                        | 0.08                              | 210                               | 1                                 |  2                                | Rio de Janeiro                    | RJ                                | 2019                              |  6                                |\n",
       "| 222 | ea110ced6459b4dc6c73e0b2367077e9  | 2019-09-03                        | 002d4ea7c04739c130bb74d7e7cd16943 | Iron Man                          | G                                 | 14080                             | Homem                             | 1990-11-25                        | 0.10                              | 210                               | 1                                 |  1                                | Florianópolis                     | SC                                | 2019                              |  9                                |\n",
       "| 239 | 89fb8b371b28dcc037a9c1f798eacc81  | 2019-05-06                        | 002d4ea7c04739c130bb74d7e7cd16943 | Iron Man                          | G                                 | 14088                             | Homem                             | 1987-09-18                        | 0.10                              | 210                               | 1                                 |  1                                | Florianópolis                     | SC                                | 2019                              |  5                                |\n",
       "| 324 | 51efa345a1180ca3879442a31b0a265a  | 2019-09-04                        | 002d4ea7c04739c130bb74d7e7cd16943 | Iron Man                          | G                                 | 14127                             | Homem                             | 1969-09-03                        | 0.10                              | 210                               | 1                                 | 22                                | Belo Horizonte                    | BH                                | 2019                              |  9                                |\n",
       "| 488 | f89525a2a79be7efb2afb5844cf2652d  | 2019-10-26                        | 002d4ea7c04739c130bb74d7e7cd16943 | Iron Man                          | G                                 | 14197                             | Homem                             | 1954-11-16                        | 0.10                              | 210                               | 1                                 |  1                                | Florianópolis                     | SC                                | 2019                              | 10                                |\n",
       "| 530 | 6ee1c0ae2850fce0967f050c82d6a532  | 2019-01-02                        | 002d4ea7c04739c130bb74d7e7cd16943 | Iron Man                          | G                                 | 14215                             | Homem                             | 1956-08-19                        | 0.10                              | 210                               | 1                                 |  1                                | Florianópolis                     | SC                                | 2019                              |  1                                |\n",
       "| 548 | c09ea37d3dd207e756102d311bcdff13  | 2019-10-09                        | 002d4ea7c04739c130bb74d7e7cd16943 | Iron Man                          | G                                 | 14223                             | Homem                             | 1989-09-08                        | 0.10                              | 210                               | 1                                 |  2                                | Rio de Janeiro                    | RJ                                | 2019                              | 10                                |\n",
       "| 557 | 2c76644ebdca47aa2d980e3b2714af13  | 2019-01-04                        | 002d4ea7c04739c130bb74d7e7cd16943 | Iron Man                          | G                                 | 14228                             | Homem                             | 1974-12-26                        | 0.10                              | 210                               | 1                                 |  3                                | Porto Alegre                      | RS                                | 2019                              |  1                                |\n",
       "| 675 | d2d740a1b76ee640f76fba030363144e  | 2019-05-24                        | 002d4ea7c04739c130bb74d7e7cd16943 | Iron Man                          | G                                 | 14290                             | Homem                             | 1997-06-21                        | 0.10                              | 210                               | 1                                 |  1                                | Florianópolis                     | SC                                | 2019                              |  5                                |\n",
       "| 687 | a3b51577e617e3ffd00a8718b05874fd  | 2019-10-09                        | 002d4ea7c04739c130bb74d7e7cd16943 | Iron Man                          | G                                 | 14294                             | Mulher                            | 1985-11-11                        | 0.10                              | 210                               | 1                                 |  2                                | Rio de Janeiro                    | RJ                                | 2019                              | 10                                |\n",
       "\n"
      ],
      "text/plain": [
       "    ID                               Date      \n",
       "204 a97c9b194a026ac3e75726c485f6e8ea 2019-06-28\n",
       "222 ea110ced6459b4dc6c73e0b2367077e9 2019-09-03\n",
       "239 89fb8b371b28dcc037a9c1f798eacc81 2019-05-06\n",
       "324 51efa345a1180ca3879442a31b0a265a 2019-09-04\n",
       "488 f89525a2a79be7efb2afb5844cf2652d 2019-10-26\n",
       "530 6ee1c0ae2850fce0967f050c82d6a532 2019-01-02\n",
       "548 c09ea37d3dd207e756102d311bcdff13 2019-10-09\n",
       "557 2c76644ebdca47aa2d980e3b2714af13 2019-01-04\n",
       "675 d2d740a1b76ee640f76fba030363144e 2019-05-24\n",
       "687 a3b51577e617e3ffd00a8718b05874fd 2019-10-09\n",
       "    ProductID                         Name.x   Size ClientID Sex    DateOfBirth\n",
       "204 002d4ea7c04739c130bb74d7e7cd16943 Iron Man G    14074    Mulher 1973-08-15 \n",
       "222 002d4ea7c04739c130bb74d7e7cd16943 Iron Man G    14080    Homem  1990-11-25 \n",
       "239 002d4ea7c04739c130bb74d7e7cd16943 Iron Man G    14088    Homem  1987-09-18 \n",
       "324 002d4ea7c04739c130bb74d7e7cd16943 Iron Man G    14127    Homem  1969-09-03 \n",
       "488 002d4ea7c04739c130bb74d7e7cd16943 Iron Man G    14197    Homem  1954-11-16 \n",
       "530 002d4ea7c04739c130bb74d7e7cd16943 Iron Man G    14215    Homem  1956-08-19 \n",
       "548 002d4ea7c04739c130bb74d7e7cd16943 Iron Man G    14223    Homem  1989-09-08 \n",
       "557 002d4ea7c04739c130bb74d7e7cd16943 Iron Man G    14228    Homem  1974-12-26 \n",
       "675 002d4ea7c04739c130bb74d7e7cd16943 Iron Man G    14290    Homem  1997-06-21 \n",
       "687 002d4ea7c04739c130bb74d7e7cd16943 Iron Man G    14294    Mulher 1985-11-11 \n",
       "    Discount UnitPrice Quantity StoreID City           State.x Ano  Mes\n",
       "204 0.08     210       1         2      Rio de Janeiro RJ      2019  6 \n",
       "222 0.10     210       1         1      Florianópolis  SC      2019  9 \n",
       "239 0.10     210       1         1      Florianópolis  SC      2019  5 \n",
       "324 0.10     210       1        22      Belo Horizonte BH      2019  9 \n",
       "488 0.10     210       1         1      Florianópolis  SC      2019 10 \n",
       "530 0.10     210       1         1      Florianópolis  SC      2019  1 \n",
       "548 0.10     210       1         2      Rio de Janeiro RJ      2019 10 \n",
       "557 0.10     210       1         3      Porto Alegre   RS      2019  1 \n",
       "675 0.10     210       1         1      Florianópolis  SC      2019  5 \n",
       "687 0.10     210       1         2      Rio de Janeiro RJ      2019 10 "
      ]
     },
     "metadata": {},
     "output_type": "display_data"
    }
   ],
   "source": [
    "# CRIAR COLUNA DE MÊS PARA VERIFICAR AS VENDAS MENSAIS DO ITEM IRON MAN G \n",
    "ironmanG_2019_mes <- mutate(ironmanG_2019, Mes =  month(ironmanG_2019$Date))\n",
    "head(ironmanG_2019_mes, 10)"
   ]
  },
  {
   "cell_type": "code",
   "execution_count": 27,
   "id": "e2696919",
   "metadata": {},
   "outputs": [
    {
     "data": {
      "text/html": [
       "<table>\n",
       "<thead><tr><th scope=col>Mes</th><th scope=col>total</th></tr></thead>\n",
       "<tbody>\n",
       "\t<tr><td>Janeiro  </td><td>30       </td></tr>\n",
       "\t<tr><td>Fevereiro</td><td>22       </td></tr>\n",
       "\t<tr><td>Março    </td><td>27       </td></tr>\n",
       "\t<tr><td>Abril    </td><td>31       </td></tr>\n",
       "\t<tr><td>Maio     </td><td>35       </td></tr>\n",
       "\t<tr><td>Junho    </td><td>56       </td></tr>\n",
       "\t<tr><td>Julho    </td><td>38       </td></tr>\n",
       "\t<tr><td>Agosto   </td><td>65       </td></tr>\n",
       "\t<tr><td>Setembro </td><td>25       </td></tr>\n",
       "\t<tr><td>Outubro  </td><td>30       </td></tr>\n",
       "\t<tr><td>Novembro </td><td>26       </td></tr>\n",
       "\t<tr><td>Dezembro </td><td>56       </td></tr>\n",
       "</tbody>\n",
       "</table>\n"
      ],
      "text/latex": [
       "\\begin{tabular}{r|ll}\n",
       " Mes & total\\\\\n",
       "\\hline\n",
       "\t Janeiro   & 30       \\\\\n",
       "\t Fevereiro & 22       \\\\\n",
       "\t Março     & 27       \\\\\n",
       "\t Abril     & 31       \\\\\n",
       "\t Maio      & 35       \\\\\n",
       "\t Junho     & 56       \\\\\n",
       "\t Julho     & 38       \\\\\n",
       "\t Agosto    & 65       \\\\\n",
       "\t Setembro  & 25       \\\\\n",
       "\t Outubro   & 30       \\\\\n",
       "\t Novembro  & 26       \\\\\n",
       "\t Dezembro  & 56       \\\\\n",
       "\\end{tabular}\n"
      ],
      "text/markdown": [
       "\n",
       "| Mes | total |\n",
       "|---|---|\n",
       "| Janeiro   | 30        |\n",
       "| Fevereiro | 22        |\n",
       "| Março     | 27        |\n",
       "| Abril     | 31        |\n",
       "| Maio      | 35        |\n",
       "| Junho     | 56        |\n",
       "| Julho     | 38        |\n",
       "| Agosto    | 65        |\n",
       "| Setembro  | 25        |\n",
       "| Outubro   | 30        |\n",
       "| Novembro  | 26        |\n",
       "| Dezembro  | 56        |\n",
       "\n"
      ],
      "text/plain": [
       "   Mes       total\n",
       "1  Janeiro   30   \n",
       "2  Fevereiro 22   \n",
       "3  Março     27   \n",
       "4  Abril     31   \n",
       "5  Maio      35   \n",
       "6  Junho     56   \n",
       "7  Julho     38   \n",
       "8  Agosto    65   \n",
       "9  Setembro  25   \n",
       "10 Outubro   30   \n",
       "11 Novembro  26   \n",
       "12 Dezembro  56   "
      ]
     },
     "metadata": {},
     "output_type": "display_data"
    }
   ],
   "source": [
    "# VENDAS MENSAIS DO ITEM IRON MAN G \n",
    "r3 <- ironmanG_2019_mes %>%\n",
    "    group_by(Mes) %>%\n",
    "    summarise(total = sum(Quantity))\n",
    "\n",
    "meses <- c(\"Janeiro\",\"Fevereiro\",\"Março\",\"Abril\",\"Maio\",\"Junho\",\"Julho\",\"Agosto\",\"Setembro\",\"Outubro\",\n",
    "           \"Novembro\",\"Dezembro\")\n",
    "r3$Mes <- meses\n",
    "\n",
    "head(r3, 12)"
   ]
  },
  {
   "cell_type": "code",
   "execution_count": 28,
   "id": "f37ba92b",
   "metadata": {},
   "outputs": [
    {
     "data": {
      "image/png": "[encoded data removed]",
      "text/plain": [
       "plot without title"
      ]
     },
     "metadata": {},
     "output_type": "display_data"
    }
   ],
   "source": [
    "# REPRESENTAÇÃO GRÁFICA DAS VENDAS MENSAIS DO ITEM IRON MAN G EM 2019\n",
    "g1 <- ggplot(r3, aes(x = Mes, y = total, group = 1))+\n",
    "    geom_line(size = 0.7, colour = \"gold\") +                    \n",
    "    geom_point(size = 1.3, colour = \"black\") +\n",
    "    scale_x_discrete(limits = r3$Mes) +\n",
    "    coord_cartesian(ylim = c(0, 100)) +\n",
    "    theme(axis.text.x = element_text(angle = 60, hjust = 1)) +\n",
    "    labs(x = \"Mês\", y = \"Quantidade\", title = \"Vendas mensais do item Iron Man G em 2019\") +\n",
    "    theme(plot.title = element_text(hjust = 0.5), text = element_text(size = 8))\n",
    "\n",
    "options(repr.plot.width = 4, repr.plot.height = 3.5)\n",
    "g1"
   ]
  },
  {
   "cell_type": "markdown",
   "id": "027d9b99",
   "metadata": {},
   "source": [
    "#### CONSIDERANDO A RECEITA LÍQUIDA MENSAL DE VENDAS EM 2019. QUAIS OS VALORES DE: MÉDIA, MEDIANA E DESVIO PADRÃO DESSES VALORES?"
   ]
  },
  {
   "cell_type": "code",
   "execution_count": 29,
   "id": "c45e20cb",
   "metadata": {},
   "outputs": [],
   "source": [
    "# CRIAR COLUNAS DE ANO E MÊS PARA SELEÇÃO\n",
    "df_receita <- mutate(df_tabela, Ano =  year(df_tabela$Date))\n",
    "df_receita <- mutate(df_receita, Mes = month(df_receita$Date))"
   ]
  },
  {
   "cell_type": "code",
   "execution_count": 30,
   "id": "13150870",
   "metadata": {},
   "outputs": [
    {
     "data": {
      "text/html": [
       "<table>\n",
       "<thead><tr><th></th><th scope=col>ID</th><th scope=col>Date</th><th scope=col>ProductID</th><th scope=col>Name.x</th><th scope=col>Size</th><th scope=col>ClientID</th><th scope=col>Sex</th><th scope=col>DateOfBirth</th><th scope=col>Discount</th><th scope=col>UnitPrice</th><th scope=col>Quantity</th><th scope=col>StoreID</th><th scope=col>City</th><th scope=col>State.x</th><th scope=col>Ano</th><th scope=col>Mes</th></tr></thead>\n",
       "<tbody>\n",
       "\t<tr><th scope=row>2</th><td>3275736da1234f55d52bdf09d86b93bc </td><td>2019-04-25                       </td><td>001b237c0e9bb435f2e54071129237e93</td><td>Thanos                           </td><td>G                                </td><td>14001                            </td><td>Homem                            </td><td>1985-06-28                       </td><td>0.10                             </td><td>162.4                            </td><td>1                                </td><td>4                                </td><td>Curitiba                         </td><td>PR                               </td><td>2019                             </td><td> 4                               </td></tr>\n",
       "\t<tr><th scope=row>3</th><td>f3513eec8f1434b5b7e04ddf3598df40 </td><td>2019-07-17                       </td><td>00066f42aeeb9f3007548bb9d3f33c381</td><td>Capitão América                  </td><td>P                                </td><td>14001                            </td><td>Homem                            </td><td>1985-06-28                       </td><td>0.10                             </td><td>194.6                            </td><td>1                                </td><td>4                                </td><td>Curitiba                         </td><td>PR                               </td><td>2019                             </td><td> 7                               </td></tr>\n",
       "\t<tr><th scope=row>5</th><td>76600853a200fe87e141adae6b35674c </td><td>2019-01-21                       </td><td>00210e41887c2a8ef9f791ebc780cc363</td><td>Naruto                           </td><td>G                                </td><td>14002                            </td><td>Homem                            </td><td>1987-01-10                       </td><td>0.10                             </td><td>406.0                            </td><td>1                                </td><td>1                                </td><td>Florianópolis                    </td><td>SC                               </td><td>2019                             </td><td> 1                               </td></tr>\n",
       "\t<tr><th scope=row>6</th><td>7ab64f42a8f9ab290e920eed320d7e60 </td><td>2019-03-28                       </td><td>002552c0663708129c0019cc97552d7d3</td><td>Tempestade                       </td><td>G                                </td><td>14002                            </td><td>Homem                            </td><td>1987-01-10                       </td><td>0.10                             </td><td>249.2                            </td><td>1                                </td><td>1                                </td><td>Florianópolis                    </td><td>SC                               </td><td>2019                             </td><td> 3                               </td></tr>\n",
       "\t<tr><th scope=row>7</th><td>b35a771164a9defa3b4767f1b66918b1 </td><td>2019-08-14                       </td><td>002959d7a0b0990fe2d69988affcbc803</td><td>Ciclope                          </td><td>G                                </td><td>14002                            </td><td>Homem                            </td><td>1987-01-10                       </td><td>0.08                             </td><td>261.8                            </td><td>1                                </td><td>1                                </td><td>Florianópolis                    </td><td>SC                               </td><td>2019                             </td><td> 8                               </td></tr>\n",
       "\t<tr><th scope=row>8</th><td>28618be7d166aad45ab14e9bca43cc19 </td><td>2019-12-30                       </td><td>00126f27c813603687e6ce486d909d013</td><td>Coringa                          </td><td>G                                </td><td>14002                            </td><td>Homem                            </td><td>1987-01-10                       </td><td>0.08                             </td><td>114.8                            </td><td>1                                </td><td>1                                </td><td>Florianópolis                    </td><td>SC                               </td><td>2019                             </td><td>12                               </td></tr>\n",
       "\t<tr><th scope=row>13</th><td>7712472a07a10232dd2e57a0c2532cd3 </td><td>2019-06-23                       </td><td>002af88741ba70c7b5cf4e4a0ad7ef853</td><td>Dragon Ball Z                    </td><td>G                                </td><td>14004                            </td><td>Mulher                           </td><td>1983-11-25                       </td><td>0.08                             </td><td>134.4                            </td><td>1                                </td><td>2                                </td><td>Rio de Janeiro                   </td><td>RJ                               </td><td>2019                             </td><td> 6                               </td></tr>\n",
       "\t<tr><th scope=row>14</th><td>d53709cd2507666542fcf8f6120b99f0 </td><td>2019-08-01                       </td><td>002552c0663708129c0019cc97552d7d3</td><td>Tempestade                       </td><td>G                                </td><td>14004                            </td><td>Mulher                           </td><td>1983-11-25                       </td><td>0.08                             </td><td>249.2                            </td><td>1                                </td><td>2                                </td><td>Rio de Janeiro                   </td><td>RJ                               </td><td>2019                             </td><td> 8                               </td></tr>\n",
       "\t<tr><th scope=row>15</th><td>7501e0d79e115a1491674e6154b47bd4 </td><td>2019-12-12                       </td><td>001b72dfd63e9833e8c02742adf472e33</td><td>Wolverine                        </td><td>G                                </td><td>14004                            </td><td>Mulher                           </td><td>1983-11-25                       </td><td>0.08                             </td><td>201.6                            </td><td>1                                </td><td>2                                </td><td>Rio de Janeiro                   </td><td>RJ                               </td><td>2019                             </td><td>12                               </td></tr>\n",
       "\t<tr><th scope=row>18</th><td>0f740a04b4f5fce0611344905b62332c </td><td>2019-01-30                       </td><td>003128f981470c3e5a2e7445e4a771cd3</td><td>Homer Simpsons                   </td><td>G                                </td><td>14006                            </td><td>Mulher                           </td><td>1951-08-17                       </td><td>0.10                             </td><td>161.0                            </td><td>1                                </td><td>2                                </td><td>Rio de Janeiro                   </td><td>RJ                               </td><td>2019                             </td><td> 1                               </td></tr>\n",
       "</tbody>\n",
       "</table>\n"
      ],
      "text/latex": [
       "\\begin{tabular}{r|llllllllllllllll}\n",
       "  & ID & Date & ProductID & Name.x & Size & ClientID & Sex & DateOfBirth & Discount & UnitPrice & Quantity & StoreID & City & State.x & Ano & Mes\\\\\n",
       "\\hline\n",
       "\t2 & 3275736da1234f55d52bdf09d86b93bc  & 2019-04-25                        & 001b237c0e9bb435f2e54071129237e93 & Thanos                            & G                                 & 14001                             & Homem                             & 1985-06-28                        & 0.10                              & 162.4                             & 1                                 & 4                                 & Curitiba                          & PR                                & 2019                              &  4                               \\\\\n",
       "\t3 & f3513eec8f1434b5b7e04ddf3598df40  & 2019-07-17                        & 00066f42aeeb9f3007548bb9d3f33c381 & Capitão América                   & P                                 & 14001                             & Homem                             & 1985-06-28                        & 0.10                              & 194.6                             & 1                                 & 4                                 & Curitiba                          & PR                                & 2019                              &  7                               \\\\\n",
       "\t5 & 76600853a200fe87e141adae6b35674c  & 2019-01-21                        & 00210e41887c2a8ef9f791ebc780cc363 & Naruto                            & G                                 & 14002                             & Homem                             & 1987-01-10                        & 0.10                              & 406.0                             & 1                                 & 1                                 & Florianópolis                     & SC                                & 2019                              &  1                               \\\\\n",
       "\t6 & 7ab64f42a8f9ab290e920eed320d7e60  & 2019-03-28                        & 002552c0663708129c0019cc97552d7d3 & Tempestade                        & G                                 & 14002                             & Homem                             & 1987-01-10                        & 0.10                              & 249.2                             & 1                                 & 1                                 & Florianópolis                     & SC                                & 2019                              &  3                               \\\\\n",
       "\t7 & b35a771164a9defa3b4767f1b66918b1  & 2019-08-14                        & 002959d7a0b0990fe2d69988affcbc803 & Ciclope                           & G                                 & 14002                             & Homem                             & 1987-01-10                        & 0.08                              & 261.8                             & 1                                 & 1                                 & Florianópolis                     & SC                                & 2019                              &  8                               \\\\\n",
       "\t8 & 28618be7d166aad45ab14e9bca43cc19  & 2019-12-30                        & 00126f27c813603687e6ce486d909d013 & Coringa                           & G                                 & 14002                             & Homem                             & 1987-01-10                        & 0.08                              & 114.8                             & 1                                 & 1                                 & Florianópolis                     & SC                                & 2019                              & 12                               \\\\\n",
       "\t13 & 7712472a07a10232dd2e57a0c2532cd3  & 2019-06-23                        & 002af88741ba70c7b5cf4e4a0ad7ef853 & Dragon Ball Z                     & G                                 & 14004                             & Mulher                            & 1983-11-25                        & 0.08                              & 134.4                             & 1                                 & 2                                 & Rio de Janeiro                    & RJ                                & 2019                              &  6                               \\\\\n",
       "\t14 & d53709cd2507666542fcf8f6120b99f0  & 2019-08-01                        & 002552c0663708129c0019cc97552d7d3 & Tempestade                        & G                                 & 14004                             & Mulher                            & 1983-11-25                        & 0.08                              & 249.2                             & 1                                 & 2                                 & Rio de Janeiro                    & RJ                                & 2019                              &  8                               \\\\\n",
       "\t15 & 7501e0d79e115a1491674e6154b47bd4  & 2019-12-12                        & 001b72dfd63e9833e8c02742adf472e33 & Wolverine                         & G                                 & 14004                             & Mulher                            & 1983-11-25                        & 0.08                              & 201.6                             & 1                                 & 2                                 & Rio de Janeiro                    & RJ                                & 2019                              & 12                               \\\\\n",
       "\t18 & 0f740a04b4f5fce0611344905b62332c  & 2019-01-30                        & 003128f981470c3e5a2e7445e4a771cd3 & Homer Simpsons                    & G                                 & 14006                             & Mulher                            & 1951-08-17                        & 0.10                              & 161.0                             & 1                                 & 2                                 & Rio de Janeiro                    & RJ                                & 2019                              &  1                               \\\\\n",
       "\\end{tabular}\n"
      ],
      "text/markdown": [
       "\n",
       "| <!--/--> | ID | Date | ProductID | Name.x | Size | ClientID | Sex | DateOfBirth | Discount | UnitPrice | Quantity | StoreID | City | State.x | Ano | Mes |\n",
       "|---|---|---|---|---|---|---|---|---|---|---|---|---|---|---|---|---|\n",
       "| 2 | 3275736da1234f55d52bdf09d86b93bc  | 2019-04-25                        | 001b237c0e9bb435f2e54071129237e93 | Thanos                            | G                                 | 14001                             | Homem                             | 1985-06-28                        | 0.10                              | 162.4                             | 1                                 | 4                                 | Curitiba                          | PR                                | 2019                              |  4                                |\n",
       "| 3 | f3513eec8f1434b5b7e04ddf3598df40  | 2019-07-17                        | 00066f42aeeb9f3007548bb9d3f33c381 | Capitão América                   | P                                 | 14001                             | Homem                             | 1985-06-28                        | 0.10                              | 194.6                             | 1                                 | 4                                 | Curitiba                          | PR                                | 2019                              |  7                                |\n",
       "| 5 | 76600853a200fe87e141adae6b35674c  | 2019-01-21                        | 00210e41887c2a8ef9f791ebc780cc363 | Naruto                            | G                                 | 14002                             | Homem                             | 1987-01-10                        | 0.10                              | 406.0                             | 1                                 | 1                                 | Florianópolis                     | SC                                | 2019                              |  1                                |\n",
       "| 6 | 7ab64f42a8f9ab290e920eed320d7e60  | 2019-03-28                        | 002552c0663708129c0019cc97552d7d3 | Tempestade                        | G                                 | 14002                             | Homem                             | 1987-01-10                        | 0.10                              | 249.2                             | 1                                 | 1                                 | Florianópolis                     | SC                                | 2019                              |  3                                |\n",
       "| 7 | b35a771164a9defa3b4767f1b66918b1  | 2019-08-14                        | 002959d7a0b0990fe2d69988affcbc803 | Ciclope                           | G                                 | 14002                             | Homem                             | 1987-01-10                        | 0.08                              | 261.8                             | 1                                 | 1                                 | Florianópolis                     | SC                                | 2019                              |  8                                |\n",
       "| 8 | 28618be7d166aad45ab14e9bca43cc19  | 2019-12-30                        | 00126f27c813603687e6ce486d909d013 | Coringa                           | G                                 | 14002                             | Homem                             | 1987-01-10                        | 0.08                              | 114.8                             | 1                                 | 1                                 | Florianópolis                     | SC                                | 2019                              | 12                                |\n",
       "| 13 | 7712472a07a10232dd2e57a0c2532cd3  | 2019-06-23                        | 002af88741ba70c7b5cf4e4a0ad7ef853 | Dragon Ball Z                     | G                                 | 14004                             | Mulher                            | 1983-11-25                        | 0.08                              | 134.4                             | 1                                 | 2                                 | Rio de Janeiro                    | RJ                                | 2019                              |  6                                |\n",
       "| 14 | d53709cd2507666542fcf8f6120b99f0  | 2019-08-01                        | 002552c0663708129c0019cc97552d7d3 | Tempestade                        | G                                 | 14004                             | Mulher                            | 1983-11-25                        | 0.08                              | 249.2                             | 1                                 | 2                                 | Rio de Janeiro                    | RJ                                | 2019                              |  8                                |\n",
       "| 15 | 7501e0d79e115a1491674e6154b47bd4  | 2019-12-12                        | 001b72dfd63e9833e8c02742adf472e33 | Wolverine                         | G                                 | 14004                             | Mulher                            | 1983-11-25                        | 0.08                              | 201.6                             | 1                                 | 2                                 | Rio de Janeiro                    | RJ                                | 2019                              | 12                                |\n",
       "| 18 | 0f740a04b4f5fce0611344905b62332c  | 2019-01-30                        | 003128f981470c3e5a2e7445e4a771cd3 | Homer Simpsons                    | G                                 | 14006                             | Mulher                            | 1951-08-17                        | 0.10                              | 161.0                             | 1                                 | 2                                 | Rio de Janeiro                    | RJ                                | 2019                              |  1                                |\n",
       "\n"
      ],
      "text/plain": [
       "   ID                               Date      \n",
       "2  3275736da1234f55d52bdf09d86b93bc 2019-04-25\n",
       "3  f3513eec8f1434b5b7e04ddf3598df40 2019-07-17\n",
       "5  76600853a200fe87e141adae6b35674c 2019-01-21\n",
       "6  7ab64f42a8f9ab290e920eed320d7e60 2019-03-28\n",
       "7  b35a771164a9defa3b4767f1b66918b1 2019-08-14\n",
       "8  28618be7d166aad45ab14e9bca43cc19 2019-12-30\n",
       "13 7712472a07a10232dd2e57a0c2532cd3 2019-06-23\n",
       "14 d53709cd2507666542fcf8f6120b99f0 2019-08-01\n",
       "15 7501e0d79e115a1491674e6154b47bd4 2019-12-12\n",
       "18 0f740a04b4f5fce0611344905b62332c 2019-01-30\n",
       "   ProductID                         Name.x          Size ClientID Sex   \n",
       "2  001b237c0e9bb435f2e54071129237e93 Thanos          G    14001    Homem \n",
       "3  00066f42aeeb9f3007548bb9d3f33c381 Capitão América P    14001    Homem \n",
       "5  00210e41887c2a8ef9f791ebc780cc363 Naruto          G    14002    Homem \n",
       "6  002552c0663708129c0019cc97552d7d3 Tempestade      G    14002    Homem \n",
       "7  002959d7a0b0990fe2d69988affcbc803 Ciclope         G    14002    Homem \n",
       "8  00126f27c813603687e6ce486d909d013 Coringa         G    14002    Homem \n",
       "13 002af88741ba70c7b5cf4e4a0ad7ef853 Dragon Ball Z   G    14004    Mulher\n",
       "14 002552c0663708129c0019cc97552d7d3 Tempestade      G    14004    Mulher\n",
       "15 001b72dfd63e9833e8c02742adf472e33 Wolverine       G    14004    Mulher\n",
       "18 003128f981470c3e5a2e7445e4a771cd3 Homer Simpsons  G    14006    Mulher\n",
       "   DateOfBirth Discount UnitPrice Quantity StoreID City           State.x Ano \n",
       "2  1985-06-28  0.10     162.4     1        4       Curitiba       PR      2019\n",
       "3  1985-06-28  0.10     194.6     1        4       Curitiba       PR      2019\n",
       "5  1987-01-10  0.10     406.0     1        1       Florianópolis  SC      2019\n",
       "6  1987-01-10  0.10     249.2     1        1       Florianópolis  SC      2019\n",
       "7  1987-01-10  0.08     261.8     1        1       Florianópolis  SC      2019\n",
       "8  1987-01-10  0.08     114.8     1        1       Florianópolis  SC      2019\n",
       "13 1983-11-25  0.08     134.4     1        2       Rio de Janeiro RJ      2019\n",
       "14 1983-11-25  0.08     249.2     1        2       Rio de Janeiro RJ      2019\n",
       "15 1983-11-25  0.08     201.6     1        2       Rio de Janeiro RJ      2019\n",
       "18 1951-08-17  0.10     161.0     1        2       Rio de Janeiro RJ      2019\n",
       "   Mes\n",
       "2   4 \n",
       "3   7 \n",
       "5   1 \n",
       "6   3 \n",
       "7   8 \n",
       "8  12 \n",
       "13  6 \n",
       "14  8 \n",
       "15 12 \n",
       "18  1 "
      ]
     },
     "metadata": {},
     "output_type": "display_data"
    }
   ],
   "source": [
    "# SELECIONAR PELO ANO 2019\n",
    "df_receita <- df_receita[df_receita$Ano == 2019,]\n",
    "head(df_receita, 10)"
   ]
  },
  {
   "cell_type": "code",
   "execution_count": 31,
   "id": "1d238ecb",
   "metadata": {},
   "outputs": [
    {
     "data": {
      "text/html": [
       "<table>\n",
       "<thead><tr><th scope=col>Mes</th><th scope=col>Vendas_Mes</th></tr></thead>\n",
       "<tbody>\n",
       "\t<tr><td>1       </td><td>224638.4</td></tr>\n",
       "\t<tr><td>2       </td><td>178669.4</td></tr>\n",
       "\t<tr><td>3       </td><td>303454.2</td></tr>\n",
       "\t<tr><td>4       </td><td>277320.4</td></tr>\n",
       "\t<tr><td>5       </td><td>300983.2</td></tr>\n",
       "\t<tr><td>6       </td><td>471296.0</td></tr>\n",
       "</tbody>\n",
       "</table>\n"
      ],
      "text/latex": [
       "\\begin{tabular}{r|ll}\n",
       " Mes & Vendas\\_Mes\\\\\n",
       "\\hline\n",
       "\t 1        & 224638.4\\\\\n",
       "\t 2        & 178669.4\\\\\n",
       "\t 3        & 303454.2\\\\\n",
       "\t 4        & 277320.4\\\\\n",
       "\t 5        & 300983.2\\\\\n",
       "\t 6        & 471296.0\\\\\n",
       "\\end{tabular}\n"
      ],
      "text/markdown": [
       "\n",
       "| Mes | Vendas_Mes |\n",
       "|---|---|\n",
       "| 1        | 224638.4 |\n",
       "| 2        | 178669.4 |\n",
       "| 3        | 303454.2 |\n",
       "| 4        | 277320.4 |\n",
       "| 5        | 300983.2 |\n",
       "| 6        | 471296.0 |\n",
       "\n"
      ],
      "text/plain": [
       "  Mes Vendas_Mes\n",
       "1 1   224638.4  \n",
       "2 2   178669.4  \n",
       "3 3   303454.2  \n",
       "4 4   277320.4  \n",
       "5 5   300983.2  \n",
       "6 6   471296.0  "
      ]
     },
     "metadata": {},
     "output_type": "display_data"
    }
   ],
   "source": [
    "# AGRUPAR POR MÊS E OBTER NÚMERO DE VENDAS E RESUMO ESTATÍSTICO\n",
    "r4 <- df_receita %>% \n",
    "    group_by(Mes) %>% \n",
    "    summarize(Vendas_Mes = sum(UnitPrice))\n",
    "\n",
    "head(r4)"
   ]
  },
  {
   "cell_type": "code",
   "execution_count": 32,
   "id": "5f44d945",
   "metadata": {},
   "outputs": [
    {
     "data": {
      "text/plain": [
       "   Min. 1st Qu.  Median    Mean 3rd Qu.    Max. \n",
       " 178669  256883  273622  309649  341444  471296 "
      ]
     },
     "metadata": {},
     "output_type": "display_data"
    }
   ],
   "source": [
    "# MEDIANA E MÉDIA\n",
    "summary(r4$Vendas_Mes)"
   ]
  },
  {
   "cell_type": "code",
   "execution_count": 33,
   "id": "7f05f14d",
   "metadata": {},
   "outputs": [
    {
     "data": {
      "text/html": [
       "99617"
      ],
      "text/latex": [
       "99617"
      ],
      "text/markdown": [
       "99617"
      ],
      "text/plain": [
       "[1] 99617"
      ]
     },
     "metadata": {},
     "output_type": "display_data"
    }
   ],
   "source": [
    "# DESVIO PADRÃO\n",
    "round(sd(r4$Vendas_Mes))"
   ]
  },
  {
   "cell_type": "markdown",
   "id": "3d5fa945",
   "metadata": {},
   "source": [
    "#### AINDA CONSIDERANDO OS DADOS DE RECEITA LÍQUIDA DE VENDAS EM 2019, DEVE-SE FOCAR ESFORÇOS EM UMA DAS LOJAS PARA CRIAR ANÁLISES MAIS PROFUNDAS E A PRIMEIRA VERSÃO DO MODELO PREDITIVO. QUAL DESTAS LOJAS ESCOLHER PARA PROSSEGUIR?"
   ]
  },
  {
   "cell_type": "code",
   "execution_count": 34,
   "id": "d653d8c2",
   "metadata": {},
   "outputs": [],
   "source": [
    "r5 <- df_receita %>% \n",
    "     group_by(City) %>% \n",
    "     summarize(Vendas_Lojas = sum(UnitPrice))"
   ]
  },
  {
   "cell_type": "code",
   "execution_count": 35,
   "id": "a4dbed14",
   "metadata": {},
   "outputs": [
    {
     "data": {
      "text/html": [
       "<table>\n",
       "<thead><tr><th scope=col>City</th><th scope=col>Vendas_Lojas</th></tr></thead>\n",
       "<tbody>\n",
       "\t<tr><td>Florianópolis       </td><td>941383.8            </td></tr>\n",
       "\t<tr><td>Rio de Janeiro      </td><td>752977.4            </td></tr>\n",
       "\t<tr><td>Porto Alegre        </td><td>699440.0            </td></tr>\n",
       "\t<tr><td>Curitiba            </td><td>586675.6            </td></tr>\n",
       "\t<tr><td>São Paulo           </td><td>370277.6            </td></tr>\n",
       "\t<tr><td>Belo Horizonte      </td><td>291764.2            </td></tr>\n",
       "\t<tr><td>Sao paulo           </td><td> 13092.8            </td></tr>\n",
       "\t<tr><td>Rio de janeiro      </td><td>  2279.2            </td></tr>\n",
       "\t<tr><td>Governador valadares</td><td>  1979.6            </td></tr>\n",
       "\t<tr><td>Sao lourenco        </td><td>  1839.6            </td></tr>\n",
       "</tbody>\n",
       "</table>\n"
      ],
      "text/latex": [
       "\\begin{tabular}{r|ll}\n",
       " City & Vendas\\_Lojas\\\\\n",
       "\\hline\n",
       "\t Florianópolis        & 941383.8            \\\\\n",
       "\t Rio de Janeiro       & 752977.4            \\\\\n",
       "\t Porto Alegre         & 699440.0            \\\\\n",
       "\t Curitiba             & 586675.6            \\\\\n",
       "\t São Paulo            & 370277.6            \\\\\n",
       "\t Belo Horizonte       & 291764.2            \\\\\n",
       "\t Sao paulo            &  13092.8            \\\\\n",
       "\t Rio de janeiro       &   2279.2            \\\\\n",
       "\t Governador valadares &   1979.6            \\\\\n",
       "\t Sao lourenco         &   1839.6            \\\\\n",
       "\\end{tabular}\n"
      ],
      "text/markdown": [
       "\n",
       "| City | Vendas_Lojas |\n",
       "|---|---|\n",
       "| Florianópolis        | 941383.8             |\n",
       "| Rio de Janeiro       | 752977.4             |\n",
       "| Porto Alegre         | 699440.0             |\n",
       "| Curitiba             | 586675.6             |\n",
       "| São Paulo            | 370277.6             |\n",
       "| Belo Horizonte       | 291764.2             |\n",
       "| Sao paulo            |  13092.8             |\n",
       "| Rio de janeiro       |   2279.2             |\n",
       "| Governador valadares |   1979.6             |\n",
       "| Sao lourenco         |   1839.6             |\n",
       "\n"
      ],
      "text/plain": [
       "   City                 Vendas_Lojas\n",
       "1  Florianópolis        941383.8    \n",
       "2  Rio de Janeiro       752977.4    \n",
       "3  Porto Alegre         699440.0    \n",
       "4  Curitiba             586675.6    \n",
       "5  São Paulo            370277.6    \n",
       "6  Belo Horizonte       291764.2    \n",
       "7  Sao paulo             13092.8    \n",
       "8  Rio de janeiro         2279.2    \n",
       "9  Governador valadares   1979.6    \n",
       "10 Sao lourenco           1839.6    "
      ]
     },
     "metadata": {},
     "output_type": "display_data"
    }
   ],
   "source": [
    "r5 <- r5[order(r5$Vendas_Lojas, decreasing = T),]\n",
    "head(r5, 10)"
   ]
  }
 ],
 "metadata": {
  "kernelspec": {
   "display_name": "R",
   "language": "R",
   "name": "ir"
  },
  "language_info": {
   "codemirror_mode": "r",
   "file_extension": ".r",
   "mimetype": "text/x-r-source",
   "name": "R",
   "pygments_lexer": "r",
   "version": "3.6.1"
  }
 },
 "nbformat": 4,
 "nbformat_minor": 5
}
