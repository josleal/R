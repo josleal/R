{
 "cells": [
  {
   "cell_type": "markdown",
   "id": "e19a92e4",
   "metadata": {},
   "source": [
    "### TESTE T-STUDENT PARA UMA AMOSTRA - ONE-SAMPLE T TEST\n",
    "\n",
    "Comparar a média de um grupo ou amostra contra um valor hipotético."
   ]
  },
  {
   "cell_type": "markdown",
   "id": "de60db34",
   "metadata": {},
   "source": [
    "#### PREMISSAS:\n",
    "\n",
    "-  Se n < 30, trata-se de uma amostra que não é grande o suficiente (menor de 30, teorema do limite central). Necessário verificar se os dados seguem uma distribuição normal.\n",
    "\n",
    "#### HIPÓTESES:\n",
    "\n",
    "- Ho: médias estatisticamente iguais\n",
    "- Ha: médias estatisticamente diferentes\n",
    "\n",
    "#### CRITÉRIOS:\n",
    "\n",
    "- Se p-value for menor que nível de significância, rejeita-se Ho."
   ]
  },
  {
   "cell_type": "code",
   "execution_count": 1,
   "id": "ade4373c",
   "metadata": {},
   "outputs": [],
   "source": [
    "# DESATIVA NOTAÇÃO CIENTÍFICA\n",
    "options(scipen = 999)"
   ]
  },
  {
   "cell_type": "code",
   "execution_count": 2,
   "id": "afe3a367",
   "metadata": {},
   "outputs": [],
   "source": [
    "# DESATIVAR MENSAGENS DE WARNINGS (warn = -1) E ATIVAR (warn = 0)\n",
    "options(warn = -1)"
   ]
  },
  {
   "cell_type": "code",
   "execution_count": 3,
   "id": "dfd424e1",
   "metadata": {},
   "outputs": [],
   "source": [
    "# CARREGAR BIBLIOTECAS\n",
    "suppressPackageStartupMessages({\n",
    "library(dplyr)\n",
    "})"
   ]
  },
  {
   "cell_type": "markdown",
   "id": "6b6f718c",
   "metadata": {},
   "source": [
    "#### CARREGAR DATASET\n",
    "\n",
    "Dataset contendo pesos de camundongos."
   ]
  },
  {
   "cell_type": "markdown",
   "id": "b6f4604d",
   "metadata": {},
   "source": [
    "#### TESTE: \n",
    "Pode-se concluir que o peso médio dos camundongos é significativamente diferente de 25g?"
   ]
  },
  {
   "cell_type": "code",
   "execution_count": 4,
   "id": "a69e2f66",
   "metadata": {},
   "outputs": [
    {
     "name": "stdout",
     "output_type": "stream",
     "text": [
      "Rows: 10\n",
      "Columns: 2\n",
      "$ name   <chr> \"M_1\", \"M_2\", \"M_3\", \"M_4\", \"M_5\", \"M_6\", \"M_7\", \"M_8\", \"M_9\", ~\n",
      "$ weight <dbl> 20.3, 19.0, 19.1, 20.9, 18.6, 17.1, 21.1, 18.0, 20.0, 18.1\n"
     ]
    }
   ],
   "source": [
    "load(\"data_rats.Rdata\" )\n",
    "dados_ratos <- as.data.frame(data_rats)\n",
    "glimpse(dados_ratos)"
   ]
  },
  {
   "cell_type": "markdown",
   "id": "16ae5c72",
   "metadata": {},
   "source": [
    "Amostra menor que 30. "
   ]
  },
  {
   "cell_type": "markdown",
   "id": "6dca4fa2",
   "metadata": {},
   "source": [
    "#### TESTE DE NORMALIDADE"
   ]
  },
  {
   "cell_type": "code",
   "execution_count": 5,
   "id": "89dc0d50",
   "metadata": {},
   "outputs": [
    {
     "data": {
      "text/plain": [
       "\n",
       "\tShapiro-Wilk normality test\n",
       "\n",
       "data:  dados_ratos$weight\n",
       "W = 0.95989, p-value = 0.7846\n"
      ]
     },
     "metadata": {},
     "output_type": "display_data"
    }
   ],
   "source": [
    "shapiro.test(dados_ratos$weight)"
   ]
  },
  {
   "cell_type": "markdown",
   "id": "7e216485",
   "metadata": {},
   "source": [
    "#### TESTE T-STUDENT"
   ]
  },
  {
   "cell_type": "code",
   "execution_count": 6,
   "id": "0a6a21d2",
   "metadata": {},
   "outputs": [
    {
     "data": {
      "text/plain": [
       "\n",
       "\tOne Sample t-test\n",
       "\n",
       "data:  dados_ratos$weight\n",
       "t = -13.788, df = 9, p-value = 0.000000234\n",
       "alternative hypothesis: true mean is not equal to 25\n",
       "95 percent confidence interval:\n",
       " 18.27169 20.16831\n",
       "sample estimates:\n",
       "mean of x \n",
       "    19.22 \n"
      ]
     },
     "metadata": {},
     "output_type": "display_data"
    }
   ],
   "source": [
    "t.test(dados_ratos$weight, mu = 25)"
   ]
  },
  {
   "cell_type": "markdown",
   "id": "d40bd09a",
   "metadata": {},
   "source": [
    "Conforme o Teste t-student acima, com um de p-value = 0.000000234, pode-se concluir que o peso dos camundongos é significamente diferente de 25g. Logo a hipótese nula (Ho) é rejeitada."
   ]
  }
 ],
 "metadata": {
  "kernelspec": {
   "display_name": "Python 3 (ipykernel)",
   "language": "python",
   "name": "python3"
  },
  "language_info": {
   "codemirror_mode": {
    "name": "ipython",
    "version": 3
   },
   "file_extension": ".py",
   "mimetype": "text/x-python",
   "name": "python",
   "nbconvert_exporter": "python",
   "pygments_lexer": "ipython3",
   "version": "3.9.13"
  }
 },
 "nbformat": 4,
 "nbformat_minor": 5
}
