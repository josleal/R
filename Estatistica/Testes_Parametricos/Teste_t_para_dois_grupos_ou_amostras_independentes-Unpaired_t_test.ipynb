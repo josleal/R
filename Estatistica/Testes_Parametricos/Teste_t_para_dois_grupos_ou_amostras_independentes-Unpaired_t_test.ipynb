{
 "cells": [
  {
   "cell_type": "markdown",
   "id": "b47b5289",
   "metadata": {},
   "source": [
    "### TESTE T PARA DOIS GRUPOS OU AMOSTRAS INDEPENDENTES - TESTE T AMOSTRAS NÃO EMPARELHADAS - UNPAIRED T TEST\n",
    "\n",
    "Comparar a média entre dois grupos ou amostras independentes. Amostras independentes (não emparelhadas) são selecionados aleatoriamente de modo que os valores de observações não dependam de valores de outras observações."
   ]
  },
  {
   "cell_type": "markdown",
   "id": "3c09f7ba",
   "metadata": {},
   "source": [
    "#### PREMISSAS:\n",
    "- Premissa 1: Distribuição Normal \n",
    "- Premissa 2: Amostras independentes\n",
    "- Premissa 3: Variâncias iguais                                                                    \n",
    "\n",
    "#### HIPÓTESES:\n",
    "\n",
    "- Ho: médias estatisticamente iguais\n",
    "- Ha: médias estatisticamente diferentes\n",
    "\n",
    "#### CRITÉRIOS:\n",
    "\n",
    "* Se p-value for menor que nível de significância, rejeita-se Ho."
   ]
  },
  {
   "cell_type": "code",
   "execution_count": 1,
   "id": "473dac0d",
   "metadata": {},
   "outputs": [],
   "source": [
    "# DESATIVA NOTAÇÃO CIENTÍFICA\n",
    "options(scipen = 999)"
   ]
  },
  {
   "cell_type": "code",
   "execution_count": 2,
   "id": "870b051a",
   "metadata": {},
   "outputs": [],
   "source": [
    "# DESATIVAR MENSAGENS DE WARNINGS (warn = -1) E ATIVAR (warn = 0)\n",
    "options(warn = -1)"
   ]
  },
  {
   "cell_type": "code",
   "execution_count": 3,
   "id": "60efe02b",
   "metadata": {},
   "outputs": [],
   "source": [
    "# CARREGAR BIBLIOTECAS\n",
    "suppressPackageStartupMessages({\n",
    "library(dplyr)\n",
    "library(RcmdrMisc)\n",
    "})"
   ]
  },
  {
   "cell_type": "markdown",
   "id": "60f086c4",
   "metadata": {},
   "source": [
    "#### CARREGAR DATASET\n",
    "\n",
    "Dataset com pesos de homens e mulheres."
   ]
  },
  {
   "cell_type": "markdown",
   "id": "1a6e080b",
   "metadata": {},
   "source": [
    "#### TESTE:\n",
    "Existe alguma diferença significativa entre os pesos das mulheres e dos homens?"
   ]
  },
  {
   "cell_type": "code",
   "execution_count": 4,
   "id": "f4f66aad",
   "metadata": {},
   "outputs": [
    {
     "name": "stdout",
     "output_type": "stream",
     "text": [
      "Rows: 18\n",
      "Columns: 2\n",
      "$ group  <fct> Woman, Woman, Woman, Woman, Woman, Woman, Woman, Woman, Woman, ~\n",
      "$ weight <dbl> 38.9, 61.2, 73.3, 21.8, 63.4, 64.6, 48.4, 48.8, 48.5, 67.8, 60.~\n"
     ]
    }
   ],
   "source": [
    "load('mw_weight.Rdata')\n",
    "dados_peso <- as.data.frame(mw_weight)\n",
    "glimpse(dados_peso)"
   ]
  },
  {
   "cell_type": "markdown",
   "id": "f571f474",
   "metadata": {},
   "source": [
    "#### TESTE DE NORMALIDADE"
   ]
  },
  {
   "cell_type": "code",
   "execution_count": 5,
   "id": "5633669b",
   "metadata": {},
   "outputs": [
    {
     "data": {
      "text/plain": [
       "\n",
       "\tShapiro-Wilk normality test\n",
       "\n",
       "data:  weight\n",
       "W = 0.86425, p-value = 0.1066\n"
      ]
     },
     "metadata": {},
     "output_type": "display_data"
    }
   ],
   "source": [
    "normalityTest(~ weight, test = \"shapiro.test\", data = dados_peso[dados_peso$group == \"Man\",])"
   ]
  },
  {
   "cell_type": "code",
   "execution_count": 6,
   "id": "c5b5a40c",
   "metadata": {},
   "outputs": [
    {
     "data": {
      "text/plain": [
       "\n",
       "\tShapiro-Wilk normality test\n",
       "\n",
       "data:  weight\n",
       "W = 0.94266, p-value = 0.6101\n"
      ]
     },
     "metadata": {},
     "output_type": "display_data"
    }
   ],
   "source": [
    "normalityTest(~ weight, test = \"shapiro.test\", data = dados_peso[dados_peso$group == \"Woman\",])"
   ]
  },
  {
   "cell_type": "markdown",
   "id": "92895c71",
   "metadata": {},
   "source": [
    "Conforme resultados acima, o p-value foi maior que o nível de significância 0.05. Então conclui-se que a distribuição dos dados não é significamente diferente da distribuição normal. A hipótese alternativa Ha foi rejeitada.\n",
    "\n",
    "Se os dados não forem distribuídos normalmente, é recomendável usar outro teste de duas amostras não paramétrico."
   ]
  },
  {
   "cell_type": "markdown",
   "id": "d6cbabbb",
   "metadata": {},
   "source": [
    "#### TESTE F"
   ]
  },
  {
   "cell_type": "code",
   "execution_count": 7,
   "id": "717d970b",
   "metadata": {},
   "outputs": [
    {
     "data": {
      "text/plain": [
       "\n",
       "\tF test to compare two variances\n",
       "\n",
       "data:  weight by group\n",
       "F = 0.36134, num df = 8, denom df = 8, p-value = 0.1714\n",
       "alternative hypothesis: true ratio of variances is not equal to 1\n",
       "95 percent confidence interval:\n",
       " 0.08150656 1.60191315\n",
       "sample estimates:\n",
       "ratio of variances \n",
       "         0.3613398 \n"
      ]
     },
     "metadata": {},
     "output_type": "display_data"
    },
    {
     "name": "stdout",
     "output_type": "stream",
     "text": [
      "Resultados:\n",
      "F Calculado: 0.36134\n",
      "Intervalo de Confiança: [ 0.08150656 ; 1.601913 ]\n",
      "Valor F Tabelado Superior: 3.438101\n",
      "Valor F Tabelado Inferior: 0.290858\n",
      "\n",
      "Conforme o teste, percebe-se que a verdadeira razão entre as variâncias é igual a 1. Logo não rejeita-se Ho, \n",
      "pois as variâncias são iguais estatisticamente, com 95 % de confiança."
     ]
    }
   ],
   "source": [
    "nivel_confianca <- 0.95\n",
    "Teste_F2 <- var.test(weight ~ group, alternative = \"two.sided\", conf.level = nivel_confianca, data = dados_peso)\n",
    "Teste_F2"
   ]
  },
  {
   "cell_type": "markdown",
   "id": "fea2eb9d",
   "metadata": {},
   "source": [
    "Portanto, podemos usar o teste t-student clássico que assume a igualdade das duas variâncias."
   ]
  },
  {
   "cell_type": "markdown",
   "id": "3d6787d2",
   "metadata": {},
   "source": [
    "#### TESTE T "
   ]
  },
  {
   "cell_type": "code",
   "execution_count": 8,
   "id": "c96bf2cb",
   "metadata": {},
   "outputs": [
    {
     "data": {
      "text/plain": [
       "\n",
       "\tTwo Sample t-test\n",
       "\n",
       "data:  weight by group\n",
       "t = 2.7842, df = 16, p-value = 0.01327\n",
       "alternative hypothesis: true difference in means is not equal to 0\n",
       "95 percent confidence interval:\n",
       "  4.029759 29.748019\n",
       "sample estimates:\n",
       "  mean in group Man mean in group Woman \n",
       "           68.98889            52.10000 \n"
      ]
     },
     "metadata": {},
     "output_type": "display_data"
    },
    {
     "name": "stdout",
     "output_type": "stream",
     "text": [
      "Resultados:\n",
      "t Calculado: 2.7842\n",
      "Intervalo de Confiança: [ 4.029759 ; 29.74802 ]\n",
      "t tabelado: [ -2.12 ; 2.12 ]\n",
      "\n",
      "Conforme o teste, percebe-se que a verdadeira diferença entre as medias não é igual a 0. Logo rejeita-se Ho, pois \n",
      "as médias são diferentes estatisticamente, com 95 % de confiança."
     ]
    }
   ],
   "source": [
    "nivel_confianca <- 0.95\n",
    "nivel_significancia <- 0.05\n",
    "\n",
    "Teste_t2 <- t.test(weight ~ group, data = dados_peso, alternative = \"two.sided\", paired = FALSE, var.equal = TRUE)\n",
    "Teste_t2"
   ]
  },
  {
   "cell_type": "markdown",
   "id": "317e69ca",
   "metadata": {},
   "source": [
    "#### TESTE T - FÓRMULA"
   ]
  },
  {
   "cell_type": "code",
   "execution_count": null,
   "id": "cc0a17ba",
   "metadata": {},
   "outputs": [],
   "source": [
    "nivel_confianca <- 0.95\n",
    "nivel_significancia <- 0.05\n",
    "\n",
    "t_tabelado = round(qt(1-(nivel_significancia/2), df = Teste_t2$parameter),2)\n",
    "\n",
    "cat(\"Resultados:\")\n",
    "cat(\"\\nt Calculado:\", round(Teste_t2$statistic, 4))\n",
    "cat(\"\\nIntervalo de Confiança: [\", round(Teste_t2$conf.int[1], 8),\";\", round(Teste_t2$conf.int[2], 8),\"]\")\n",
    "cat(\"\\nt tabelado: [\", -t_tabelado,\";\", t_tabelado,\"]\")\n",
    "\n",
    "if ((Teste_t2$statistic >= (-t_tabelado)) & (Teste_t2$statistic <= t_tabelado)){\n",
    "    cat(\"\\n\\nConforme o teste, percebe-se que a verdadeira diferença entre as médias é igual a 0. Logo não rejeita-se Ho, \n",
    "pois as médias são iguais estatisticamente, com\",nivel_confianca*100,\"% de confiança.\")\n",
    "} else{\n",
    "    cat(\"\\n\\nConforme o teste, percebe-se que a verdadeira diferença entre as medias não é igual a 0. Logo rejeita-se Ho, pois \n",
    "as médias são diferentes estatisticamente, com\",nivel_confianca*100,\"% de confiança.\")\n",
    "    \n",
    "}"
   ]
  }
 ],
 "metadata": {
  "kernelspec": {
   "display_name": "R",
   "language": "R",
   "name": "ir"
  },
  "language_info": {
   "codemirror_mode": {
    "name": "ipython",
    "version": 3
   },
   "file_extension": ".py",
   "mimetype": "text/x-python",
   "name": "python",
   "nbconvert_exporter": "python",
   "pygments_lexer": "ipython3",
   "version": "3.9.13"
  }
 },
 "nbformat": 4,
 "nbformat_minor": 5
}
