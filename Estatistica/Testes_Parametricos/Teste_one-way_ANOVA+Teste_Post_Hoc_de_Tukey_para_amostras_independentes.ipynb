{
 "cells": [
  {
   "cell_type": "markdown",
   "id": "b47b5289",
   "metadata": {},
   "source": [
    "### TESTE  ONE-WAY  ANOVA + TESTE POST HOC DE TUKEY PARA AMOSTRAS INDEPENDENTES\n",
    "\n",
    "Comparar a média de **dois ou mais** grupos ou amostras independentes. Amostras independentes (não pareadas) são selecionadas aleatoriamente de modo que os valores de observações não dependam de valores de outras observações."
   ]
  },
  {
   "cell_type": "markdown",
   "id": "1289f536",
   "metadata": {},
   "source": [
    "#### PREMISSAS:\n",
    "\n",
    "- Premissa 1: Amostras independentes\n",
    "- Premissa 2: Distribuição Normal\n",
    "- Premissa 3: Variâncias iguais      \n",
    "- Premissa 4: A variável dependente (Y) é contínua e a explanatória (X) é categorica.\n",
    "\n",
    "\n",
    "#### RESULTADO DA ANÁLISE DE VARIÂNCIA (ANOVA):\n",
    "\n",
    "- As colunas F-value e Pr(>F) correspondentes ao p-value do teste.\n",
    "- Se o p-value é maior que o nível de significância, pode-se concluir que não existem diferenças significativas entre os grupos destacados no sumário do modelo.\n",
    "\n",
    "\n",
    "#### COMPRAÇÃO MÚLTIPLA DE PARES ENTRE AS MÉDIAS DOS GRUPOS:\n",
    "\n",
    "No teste ANOVA unilateral, um valor p significativo indica que algumas das médias dos grupos são diferentes, mas não se sabe quais pares de grupos são diferentes. É possível realizar múltiplas comparações de pares para determinar se a diferença\n",
    "média entre pares específicos do grupo é estatisticamente significativa.\n",
    "\n",
    "Comparações de pares múltiplos de Tukey, um teste post-hoc, pode ser usado para mais de 3 grupos. Se o teste ANOVA é significativo, podemos calcular Tukey HSD (Tukey Honest Significant Differences, função R: TukeyHSD()) para realizar múltiplas comparações de pares entre as médias dos grupos. A função TukeyHD() usa a ANOVA ajustada como argumento.\n",
    "\n",
    "#### RESULTADO TUKEYHDS:\n",
    "\n",
    "- diff: diferença entre as médias dos dois grupos\n",
    "- lwr, upr: o ponto inferior e superior do intervalo de confiança em 95% (padrão)\n",
    "- p adj: valor p após o ajuste para as comparações múltiplas.\n"
   ]
  },
  {
   "cell_type": "code",
   "execution_count": 1,
   "id": "473dac0d",
   "metadata": {},
   "outputs": [],
   "source": [
    "# DESATIVA NOTAÇÃO CIENTÍFICA\n",
    "options(scipen = 999)"
   ]
  },
  {
   "cell_type": "code",
   "execution_count": 2,
   "id": "870b051a",
   "metadata": {},
   "outputs": [],
   "source": [
    "# DESATIVAR MENSAGENS DE WARNINGS (warn = -1) E ATIVAR (warn = 0)\n",
    "options(warn = -1)"
   ]
  },
  {
   "cell_type": "code",
   "execution_count": 3,
   "id": "60efe02b",
   "metadata": {},
   "outputs": [],
   "source": [
    "# CARREGANDO PACOTES\n",
    "suppressPackageStartupMessages({\n",
    "library(dplyr)\n",
    "library(multcomp)\n",
    "})"
   ]
  },
  {
   "cell_type": "markdown",
   "id": "60f086c4",
   "metadata": {},
   "source": [
    "#### CARREGANDO DATASET\n",
    "\n",
    "Dataset PlantGrowth do R com os esultados de um experimento para comparar os rendimentos (medidos pelo peso seco das plantas) obtidos sob um controle e duas condições de tratamento diferentes."
   ]
  },
  {
   "cell_type": "markdown",
   "id": "a4b064b9",
   "metadata": {},
   "source": [
    "#### TESTE:\n",
    "Existe alguma diferença significativa entre os pesos médios das plantas nas 3 condições experimentais?"
   ]
  },
  {
   "cell_type": "code",
   "execution_count": 4,
   "id": "f4f66aad",
   "metadata": {},
   "outputs": [
    {
     "name": "stdout",
     "output_type": "stream",
     "text": [
      "Rows: 30\n",
      "Columns: 2\n",
      "$ Peso  <dbl> 4.17, 5.58, 5.18, 6.11, 4.50, 4.61, 5.17, 4.53, 5.33, 5.14, 4.81~\n",
      "$ Grupo <fct> ctrl, ctrl, ctrl, ctrl, ctrl, ctrl, ctrl, ctrl, ctrl, ctrl, trt1~\n",
      "\n",
      "Grupo de plantas: ctrl trt1 trt2"
     ]
    }
   ],
   "source": [
    "dados_plantas <- PlantGrowth\n",
    "colnames(dados_plantas) <- c(\"Peso\", \"Grupo\")\n",
    "glimpse(dados_plantas)\n",
    "cat(\"\\nGrupo de plantas:\", levels(dados_plantas$Grupo))"
   ]
  },
  {
   "cell_type": "code",
   "execution_count": 5,
   "id": "9521653d",
   "metadata": {},
   "outputs": [
    {
     "data": {
      "text/html": [
       "<table>\n",
       "<thead><tr><th scope=col>Grupo</th><th scope=col>n</th><th scope=col>Media</th><th scope=col>DP</th></tr></thead>\n",
       "<tbody>\n",
       "\t<tr><td>ctrl     </td><td>10       </td><td>5.032    </td><td>0.5830914</td></tr>\n",
       "\t<tr><td>trt1     </td><td>10       </td><td>4.661    </td><td>0.7936757</td></tr>\n",
       "\t<tr><td>trt2     </td><td>10       </td><td>5.526    </td><td>0.4425733</td></tr>\n",
       "</tbody>\n",
       "</table>\n"
      ],
      "text/latex": [
       "\\begin{tabular}{r|llll}\n",
       " Grupo & n & Media & DP\\\\\n",
       "\\hline\n",
       "\t ctrl      & 10        & 5.032     & 0.5830914\\\\\n",
       "\t trt1      & 10        & 4.661     & 0.7936757\\\\\n",
       "\t trt2      & 10        & 5.526     & 0.4425733\\\\\n",
       "\\end{tabular}\n"
      ],
      "text/markdown": [
       "\n",
       "| Grupo | n | Media | DP |\n",
       "|---|---|---|---|\n",
       "| ctrl      | 10        | 5.032     | 0.5830914 |\n",
       "| trt1      | 10        | 4.661     | 0.7936757 |\n",
       "| trt2      | 10        | 5.526     | 0.4425733 |\n",
       "\n"
      ],
      "text/plain": [
       "  Grupo n  Media DP       \n",
       "1 ctrl  10 5.032 0.5830914\n",
       "2 trt1  10 4.661 0.7936757\n",
       "3 trt2  10 5.526 0.4425733"
      ]
     },
     "metadata": {},
     "output_type": "display_data"
    }
   ],
   "source": [
    "dados_sumarizados <- group_by(dados_plantas, Grupo) %>%\n",
    "  summarise(n = n(),\n",
    "            Media = mean(Peso, na.rm = TRUE),\n",
    "            DP = sd(Peso, na.rm = TRUE))\n",
    "dados_sumarizados"
   ]
  },
  {
   "cell_type": "markdown",
   "id": "d14002a8",
   "metadata": {},
   "source": [
    "#### TESTE ANOVA UNILATERAL"
   ]
  },
  {
   "cell_type": "code",
   "execution_count": 6,
   "id": "178eaa64",
   "metadata": {},
   "outputs": [
    {
     "data": {
      "text/plain": [
       "            Df Sum Sq Mean Sq F value Pr(>F)  \n",
       "Grupo        2  3.766  1.8832   4.846 0.0159 *\n",
       "Residuals   27 10.492  0.3886                 \n",
       "---\n",
       "Signif. codes:  0 '***' 0.001 '**' 0.01 '*' 0.05 '.' 0.1 ' ' 1"
      ]
     },
     "metadata": {},
     "output_type": "display_data"
    }
   ],
   "source": [
    "analise_variancia <- aov(Peso ~ Grupo, data = dados_plantas)\n",
    "summary(analise_variancia)"
   ]
  },
  {
   "cell_type": "markdown",
   "id": "6a2f1de6",
   "metadata": {},
   "source": [
    "#### TESTE POST HOC DE TUKEY"
   ]
  },
  {
   "cell_type": "code",
   "execution_count": 7,
   "id": "d89c6dd8",
   "metadata": {},
   "outputs": [
    {
     "data": {
      "text/plain": [
       "  Tukey multiple comparisons of means\n",
       "    95% family-wise confidence level\n",
       "\n",
       "Fit: aov(formula = Peso ~ Grupo, data = dados_plantas)\n",
       "\n",
       "$Grupo\n",
       "            diff        lwr       upr     p adj\n",
       "trt1-ctrl -0.371 -1.0622161 0.3202161 0.3908711\n",
       "trt2-ctrl  0.494 -0.1972161 1.1852161 0.1979960\n",
       "trt2-trt1  0.865  0.1737839 1.5562161 0.0120064\n"
      ]
     },
     "metadata": {},
     "output_type": "display_data"
    }
   ],
   "source": [
    "TukeyHSD(analise_variancia)"
   ]
  },
  {
   "cell_type": "markdown",
   "id": "68b08201",
   "metadata": {},
   "source": [
    "#### TESTE POST HOC DE TUKEY - FUNÇÃO glht()"
   ]
  },
  {
   "cell_type": "code",
   "execution_count": 8,
   "id": "c7a1360d",
   "metadata": {},
   "outputs": [
    {
     "data": {
      "text/plain": [
       "\n",
       "\t Simultaneous Tests for General Linear Hypotheses\n",
       "\n",
       "Multiple Comparisons of Means: Tukey Contrasts\n",
       "\n",
       "\n",
       "Fit: aov(formula = Peso ~ Grupo, data = dados_plantas)\n",
       "\n",
       "Linear Hypotheses:\n",
       "                 Estimate Std. Error t value Pr(>|t|)  \n",
       "trt1 - ctrl == 0  -0.3710     0.2788  -1.331   0.3909  \n",
       "trt2 - ctrl == 0   0.4940     0.2788   1.772   0.1980  \n",
       "trt2 - trt1 == 0   0.8650     0.2788   3.103   0.0119 *\n",
       "---\n",
       "Signif. codes:  0 '***' 0.001 '**' 0.01 '*' 0.05 '.' 0.1 ' ' 1\n",
       "(Adjusted p values reported -- single-step method)\n"
      ]
     },
     "metadata": {},
     "output_type": "display_data"
    }
   ],
   "source": [
    "summary(glht(analise_variancia, linfct = mcp(Grupo = \"Tukey\")))"
   ]
  },
  {
   "cell_type": "markdown",
   "id": "f1bfb075",
   "metadata": {},
   "source": [
    "Existe um diferença significativa entre trt2 e trt1 com um Pr(>|t|) = 0.0121"
   ]
  }
 ],
 "metadata": {
  "kernelspec": {
   "display_name": "R",
   "language": "R",
   "name": "ir"
  },
  "language_info": {
   "codemirror_mode": "r",
   "file_extension": ".r",
   "mimetype": "text/x-r-source",
   "name": "R",
   "pygments_lexer": "r",
   "version": "3.6.1"
  }
 },
 "nbformat": 4,
 "nbformat_minor": 5
}
