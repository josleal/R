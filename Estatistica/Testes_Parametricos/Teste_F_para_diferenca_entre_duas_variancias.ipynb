{
 "cells": [
  {
   "cell_type": "markdown",
   "id": "ee9fb962",
   "metadata": {},
   "source": [
    "### TESTE F PARA DIFERENÇA ENTRE DUAS VARIÂNCIAS - DISTRIBUIÇÃO F\n",
    "\n",
    "Verificar se as variâncias são iguais estatisticamente."
   ]
  },
  {
   "cell_type": "markdown",
   "id": "a3aa0eff",
   "metadata": {},
   "source": [
    "#### PREMISSAS\n",
    "- Premissa 1: Distribuição Normal\n",
    "- Premissa 2: Amostras independentes\n",
    "\n",
    "#### HIPÓTESES:\n",
    "- Ho: variâncias estatisticamente iguais\n",
    "- Ha: variâncias estatisticamente diferentes\n",
    "\n",
    "#### CRITÉRIOS DO TESTE F BICAUDAL:\n",
    "- Se p-value for menor que nível de significância, rejeita-se Ho.\n",
    "- F calculado maior ou igual ao F tabelado Inferior e menor ou igual ao F tabelado Superior, não rejeita-se a Ho.\n",
    "- F calculado menor que o F tabelado Inferior ou maior que F tabelado Superior, rejeita-se a Ho."
   ]
  },
  {
   "cell_type": "code",
   "execution_count": 10,
   "id": "1200e3e4",
   "metadata": {},
   "outputs": [],
   "source": [
    "# DESATIVA NOTAÇÃO CIENTÍFICA\n",
    "options(scipen = 999)"
   ]
  },
  {
   "cell_type": "code",
   "execution_count": 11,
   "id": "46a03b5c",
   "metadata": {},
   "outputs": [],
   "source": [
    "# DESATIVAR MENSAGENS DE WARNINGS (warn = -1) E ATIVAR (warn = 0)\n",
    "options(warn = -1)"
   ]
  },
  {
   "cell_type": "code",
   "execution_count": 12,
   "id": "25dce726",
   "metadata": {},
   "outputs": [],
   "source": [
    "# CARREGAR BIBLIOTECAS\n",
    "suppressPackageStartupMessages({\n",
    "library(dplyr)\n",
    "library(RcmdrMisc)\n",
    "library(BSDA)\n",
    "})"
   ]
  },
  {
   "cell_type": "markdown",
   "id": "a41440a2",
   "metadata": {},
   "source": [
    "#### CARREGAR DATASET\n",
    "\n",
    "Dataset da distância percorrida das bolas de futebol com revestimento atual e novo durante um teste."
   ]
  },
  {
   "cell_type": "markdown",
   "id": "1b864bad",
   "metadata": {},
   "source": [
    "#### TESTE: \n",
    "Existe diferença significativa entre as médias das distâncias pecorridas pelo modelo de bola com revestimento atual e novo?"
   ]
  },
  {
   "cell_type": "code",
   "execution_count": 13,
   "id": "7938a432",
   "metadata": {},
   "outputs": [
    {
     "name": "stdout",
     "output_type": "stream",
     "text": [
      "Rows: 129\n",
      "Columns: 3\n",
      "$ X     <int> 1, 2, 3, 4, 5, 6, 7, 8, 9, 10, 11, 12, 13, 14, 15, 16, 17, 18, 1~\n",
      "$ Atual <int> 270, 284, 272, 271, 275, 280, 282, 277, 272, 274, 284, 271, 275,~\n",
      "$ Novo  <int> 269, 270, 285, 278, 271, 288, 289, 265, 275, 272, 276, 289, 274,~\n"
     ]
    }
   ],
   "source": [
    "dados_bola <- read.csv(\"Bola_Futebol.csv\" )\n",
    "dados_bola <- as.data.frame(dados_bola)\n",
    "glimpse(dados_bola)"
   ]
  },
  {
   "cell_type": "markdown",
   "id": "7f16d5c4",
   "metadata": {},
   "source": [
    "#### TESTE DE NORMALIDADE"
   ]
  },
  {
   "cell_type": "markdown",
   "id": "b88ec907",
   "metadata": {},
   "source": [
    "Hipóteses Teste de Shapiro-Wilk:\n",
    "\n",
    "- Ho: os dados são normalmente distribuídos\n",
    "- Ha: os dados não são normalmente distribuídos\n",
    "\n",
    "Critérios do Teste de Shapiro-Wilk:\n",
    "\n",
    "- Se p-value for menor que nível de significância, rejeita-se Ho."
   ]
  },
  {
   "cell_type": "code",
   "execution_count": 14,
   "id": "d941c503",
   "metadata": {},
   "outputs": [
    {
     "data": {
      "text/plain": [
       "\n",
       "\tShapiro-Wilk normality test\n",
       "\n",
       "data:  Atual\n",
       "W = 0.9872, p-value = 0.2722\n"
      ]
     },
     "metadata": {},
     "output_type": "display_data"
    }
   ],
   "source": [
    "normalityTest(~ Atual, test =\"shapiro.test\", data = dados_bola)"
   ]
  },
  {
   "cell_type": "code",
   "execution_count": 15,
   "id": "3943279f",
   "metadata": {},
   "outputs": [
    {
     "data": {
      "text/plain": [
       "\n",
       "\tShapiro-Wilk normality test\n",
       "\n",
       "data:  Novo\n",
       "W = 0.98877, p-value = 0.3775\n"
      ]
     },
     "metadata": {},
     "output_type": "display_data"
    }
   ],
   "source": [
    "normalityTest(~ Novo, test =\"shapiro.test\", data = dados_bola)"
   ]
  },
  {
   "cell_type": "markdown",
   "id": "3dba5de6",
   "metadata": {},
   "source": [
    "#### TESTE F - BICAUDAL"
   ]
  },
  {
   "cell_type": "code",
   "execution_count": 16,
   "id": "19fd20a6",
   "metadata": {},
   "outputs": [],
   "source": [
    "# VARIÁVEIS EM ANÁLISE PARA A FUNÇÃO\n",
    "x <- dados_bola$Atual\n",
    "y <- dados_bola$Novo"
   ]
  },
  {
   "cell_type": "code",
   "execution_count": 17,
   "id": "4d089c19",
   "metadata": {},
   "outputs": [
    {
     "data": {
      "text/plain": [
       "\n",
       "\tF test to compare two variances\n",
       "\n",
       "data:  x and y\n",
       "F = 0.48296, num df = 128, denom df = 128, p-value = 0.00004798\n",
       "alternative hypothesis: true ratio of variances is not equal to 1\n",
       "95 percent confidence interval:\n",
       " 0.3410066 0.6839943\n",
       "sample estimates:\n",
       "ratio of variances \n",
       "         0.4829561 \n"
      ]
     },
     "metadata": {},
     "output_type": "display_data"
    }
   ],
   "source": [
    "nivel_confianca <- 0.95\n",
    "Teste_F <- var.test(x, y, alternative = \"two.sided\", conf.level = nivel_confianca)\n",
    "Teste_F"
   ]
  },
  {
   "cell_type": "markdown",
   "id": "c28d5b16",
   "metadata": {},
   "source": [
    "#### TESTE F - BICAUDAL - FÓRMULA"
   ]
  },
  {
   "cell_type": "code",
   "execution_count": 18,
   "id": "d34020ae",
   "metadata": {},
   "outputs": [
    {
     "name": "stdout",
     "output_type": "stream",
     "text": [
      "Resultados:\n",
      "F Calculado: 0.483\n",
      "Intervalo de Confiança: [ 0.3410066 ; 0.6839943 ]\n",
      "Valor F Tabelado Superior: 1.338908\n",
      "Valor F Tabelado Inferior: 0.746877\n",
      "\n",
      "Conforme o teste, percebe-se que a verdadeira razão entre as variâncias não é igual a 0. Logo rejeita-se Ho, pois \n",
      "as variâncias são diferentes estatisticamente, com 95 % de confiança."
     ]
    }
   ],
   "source": [
    "nivel_confianca <- 0.95\n",
    "\n",
    "F_tabelado_superior <- round(qf(nivel_confianca , df1 = Teste_F$parameter[1], df2 = Teste_F$parameter[2]),6)\n",
    "F_tabelado_inferior <- round(1/qf(nivel_confianca , df1 = Teste_F$parameter[1], df2 = Teste_F$parameter[2]),6)\n",
    "\n",
    "cat(\"Resultados:\")\n",
    "cat(\"\\nF Calculado:\", round(Teste_F$statistic, 4))\n",
    "cat(\"\\nIntervalo de Confiança: [\", round(Teste_F$conf.int[1], 8),\";\", round(Teste_F$conf.int[2], 8),\"]\")\n",
    "cat(\"\\nValor F Tabelado Superior:\", F_tabelado_superior)\n",
    "cat(\"\\nValor F Tabelado Inferior:\", F_tabelado_inferior )\n",
    "\n",
    "if ((Teste_F$statistic >= F_tabelado_inferior) & (Teste_F$statistic <= F_tabelado_superior)){\n",
    "    cat(\"\\n\\nConforme o teste, percebe-se que a verdadeira razão entre as variâncias é igual a 1. Logo não rejeita-se Ho, \n",
    "pois as variâncias são iguais estatisticamente, com\",nivel_confianca*100,\"% de confiança.\")\n",
    "} else{\n",
    "    cat(\"\\n\\nConforme o teste, percebe-se que a verdadeira razão entre as variâncias não é igual a 0. Logo rejeita-se Ho, pois \n",
    "as variâncias são diferentes estatisticamente, com\",nivel_confianca*100,\"% de confiança.\")\n",
    "    \n",
    "}"
   ]
  }
 ],
 "metadata": {
  "kernelspec": {
   "display_name": "R",
   "language": "R",
   "name": "ir"
  },
  "language_info": {
   "codemirror_mode": "r",
   "file_extension": ".r",
   "mimetype": "text/x-r-source",
   "name": "R",
   "pygments_lexer": "r",
   "version": "3.6.1"
  }
 },
 "nbformat": 4,
 "nbformat_minor": 5
}
