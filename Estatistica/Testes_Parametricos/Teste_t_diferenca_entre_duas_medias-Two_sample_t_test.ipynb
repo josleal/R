{
 "cells": [
  {
   "cell_type": "markdown",
   "id": "b47b5289",
   "metadata": {},
   "source": [
    "### TESTE T-STUDENT  PARA DIFERENÇA ENTRE DUAS MÉDIAS - TWO SAMPLE T TEST\n",
    "<p>\n",
    "<div style=\"text-align: justify;\">Resultados do t student ficaram parecidos com a distribuição Z. Isso devido a quantidade de observações. Conforme a tabela da distribuição t, os graus de liberdade (g.l) acima de 120 coincidem com valores de uma distribuição normal. (g.l = n - 1).</div)"
   ]
  },
  {
   "cell_type": "markdown",
   "id": "4b1609e0",
   "metadata": {},
   "source": [
    "#### PREMISSAS:\n",
    "- Premissa 1: Distribuição Normal\n",
    "- Premissa 2: Amostras independentes\n",
    "- Premissa 3: Variâncias diferentes\n",
    "\n",
    "\n",
    "#### HIPÓTESES:\n",
    "\n",
    "- Ho: médias estatisticamente iguais\n",
    "- Ha: médias estatisticamente diferentes\n",
    "\n",
    "#### CRITÉRIOS:\n",
    "\n",
    "- Se p-value for menor que nível de significância, rejeita-se Ho."
   ]
  },
  {
   "cell_type": "code",
   "execution_count": 1,
   "id": "473dac0d",
   "metadata": {},
   "outputs": [],
   "source": [
    "# DESATIVA NOTAÇÃO CIENTÍFICA\n",
    "options(scipen = 999)"
   ]
  },
  {
   "cell_type": "code",
   "execution_count": 2,
   "id": "870b051a",
   "metadata": {},
   "outputs": [],
   "source": [
    "# DESATIVAR MENSAGENS DE WARNINGS (warn = -1) E ATIVAR (warn = 0)\n",
    "options(warn = -1)"
   ]
  },
  {
   "cell_type": "code",
   "execution_count": 3,
   "id": "60efe02b",
   "metadata": {},
   "outputs": [],
   "source": [
    "# CARREGAR BIBLIOTECAS\n",
    "suppressPackageStartupMessages({\n",
    "library(dplyr)\n",
    "library(RcmdrMisc)    \n",
    "library(BSDA)   \n",
    "})"
   ]
  },
  {
   "cell_type": "markdown",
   "id": "60f086c4",
   "metadata": {},
   "source": [
    "#### CARREGAR DATASET\n",
    "\n",
    "Dataset da distância percorrida das bolas de futebol com revestimento atual e novo durante um teste."
   ]
  },
  {
   "cell_type": "markdown",
   "id": "3f482953",
   "metadata": {},
   "source": [
    "**Teste:** Existe diferença significativa entre as médias das distâncias pecorridas pelo modelo de bola com revestimento atual e novo?"
   ]
  },
  {
   "cell_type": "code",
   "execution_count": 4,
   "id": "f4f66aad",
   "metadata": {},
   "outputs": [
    {
     "name": "stdout",
     "output_type": "stream",
     "text": [
      "Rows: 129\n",
      "Columns: 3\n",
      "$ X     <int> 1, 2, 3, 4, 5, 6, 7, 8, 9, 10, 11, 12, 13, 14, 15, 16, 17, 18, 1~\n",
      "$ Atual <int> 270, 284, 272, 271, 275, 280, 282, 277, 272, 274, 284, 271, 275,~\n",
      "$ Novo  <int> 269, 270, 285, 278, 271, 288, 289, 265, 275, 272, 276, 289, 274,~\n"
     ]
    }
   ],
   "source": [
    "dados_bola <- read.csv(\"Bola_Futebol.csv\" )\n",
    "dados_bola <- as.data.frame(dados_bola)\n",
    "glimpse(dados_bola)"
   ]
  },
  {
   "cell_type": "markdown",
   "id": "f571f474",
   "metadata": {},
   "source": [
    "#### TESTE DE NORMALIDADE"
   ]
  },
  {
   "cell_type": "code",
   "execution_count": 5,
   "id": "5633669b",
   "metadata": {},
   "outputs": [
    {
     "data": {
      "text/plain": [
       "\n",
       "\tShapiro-Wilk normality test\n",
       "\n",
       "data:  Atual\n",
       "W = 0.9872, p-value = 0.2722\n"
      ]
     },
     "metadata": {},
     "output_type": "display_data"
    }
   ],
   "source": [
    "normalityTest(~ Atual, test =\"shapiro.test\", data = dados_bola)"
   ]
  },
  {
   "cell_type": "code",
   "execution_count": 6,
   "id": "70d321e3",
   "metadata": {},
   "outputs": [
    {
     "data": {
      "text/plain": [
       "\n",
       "\tShapiro-Wilk normality test\n",
       "\n",
       "data:  Novo\n",
       "W = 0.98877, p-value = 0.3775\n"
      ]
     },
     "metadata": {},
     "output_type": "display_data"
    }
   ],
   "source": [
    "normalityTest(~ Novo, test =\"shapiro.test\", data = dados_bola)"
   ]
  },
  {
   "cell_type": "markdown",
   "id": "d6cbabbb",
   "metadata": {},
   "source": [
    "#### TESTE T-STUDENT"
   ]
  },
  {
   "cell_type": "code",
   "execution_count": 7,
   "id": "44c379a0",
   "metadata": {},
   "outputs": [],
   "source": [
    "x = dados_bola$Atual\n",
    "y = dados_bola$Novo"
   ]
  },
  {
   "cell_type": "code",
   "execution_count": 8,
   "id": "717d970b",
   "metadata": {},
   "outputs": [
    {
     "data": {
      "text/plain": [
       "\n",
       "\tTwo Sample t-test\n",
       "\n",
       "data:  x and y\n",
       "t = -4.53, df = 256, p-value = 0.000009052\n",
       "alternative hypothesis: true difference in means is not equal to 0\n",
       "95 percent confidence interval:\n",
       " -4.882489 -1.923713\n",
       "sample estimates:\n",
       "mean of x mean of y \n",
       " 275.0388  278.4419 \n"
      ]
     },
     "metadata": {},
     "output_type": "display_data"
    }
   ],
   "source": [
    "nivel_confianca <- 0.95\n",
    "nivel_significancia <- 0.05\n",
    "Teste_t <- t.test(x, y, alternative = c(\"two.sided\"), mu = 0, paired = FALSE, var.equal = TRUE, conf.level = nivel_confianca)\n",
    "Teste_t"
   ]
  },
  {
   "cell_type": "markdown",
   "id": "e588bc03",
   "metadata": {},
   "source": [
    "#### TESTE T-STUDENT - FÓRMULA"
   ]
  },
  {
   "cell_type": "code",
   "execution_count": 9,
   "id": "97215afe",
   "metadata": {},
   "outputs": [
    {
     "name": "stdout",
     "output_type": "stream",
     "text": [
      "Resultados:\n",
      "t Calculado: -4.53\n",
      "Intervalo de Confiança: [ -4.882489 ; -1.923713 ]\n",
      "t tabelado: [ -1.97 ; 1.97 ]\n",
      "\n",
      "Conforme o teste, percebe-se que a verdadeira diferença entre as medias não é igual a 0. Logo rejeita-se Ho, pois \n",
      "as médias são diferentes estatisticamente, com 95 % de confiança."
     ]
    }
   ],
   "source": [
    "nivel_confianca <- 0.95\n",
    "nivel_significancia <- 0.05\n",
    "\n",
    "t_tabelado = round(qt(1-(nivel_significancia/2), df = Teste_t$parameter),2)\n",
    "\n",
    "cat(\"Resultados:\")\n",
    "cat(\"\\nt Calculado:\", round(Teste_t$statistic, 4))\n",
    "cat(\"\\nIntervalo de Confiança: [\", round(Teste_t$conf.int[1], 8),\";\", round(Teste_t$conf.int[2], 8),\"]\")\n",
    "cat(\"\\nt tabelado: [\", -t_tabelado,\";\", t_tabelado,\"]\")\n",
    "\n",
    "if ((Teste_t$statistic >= (-t_tabelado)) & (Teste_t$statistic <= t_tabelado)){\n",
    "    cat(\"\\n\\nConforme o teste, percebe-se que a verdadeira diferença entre as médias é igual a 0. Logo não rejeita-se Ho, \n",
    "pois as médias são iguais estatisticamente, com\",nivel_confianca*100,\"% de confiança.\")\n",
    "} else{\n",
    "    cat(\"\\n\\nConforme o teste, percebe-se que a verdadeira diferença entre as medias não é igual a 0. Logo rejeita-se Ho, pois \n",
    "as médias são diferentes estatisticamente, com\",nivel_confianca*100,\"% de confiança.\")\n",
    "    \n",
    "}"
   ]
  }
 ],
 "metadata": {
  "kernelspec": {
   "display_name": "R",
   "language": "R",
   "name": "ir"
  },
  "language_info": {
   "codemirror_mode": "r",
   "file_extension": ".r",
   "mimetype": "text/x-r-source",
   "name": "R",
   "pygments_lexer": "r",
   "version": "3.6.1"
  }
 },
 "nbformat": 4,
 "nbformat_minor": 5
}
