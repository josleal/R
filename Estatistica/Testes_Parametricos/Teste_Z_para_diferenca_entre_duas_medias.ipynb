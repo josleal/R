{
 "cells": [
  {
   "cell_type": "markdown",
   "id": "34727014",
   "metadata": {},
   "source": [
    "### TESTE Z PARA DIFERENÇA ENTRE DUAS MÉDIAS - TESTE Z\n",
    "\n",
    "Verificar se há diferença estatística entre duas médias."
   ]
  },
  {
   "cell_type": "markdown",
   "id": "ce3f3ee1",
   "metadata": {},
   "source": [
    "#### PREMISSAS: \n",
    "- Premissa 1: Variância populacional conhecida.\n",
    "\n",
    "#### HIPÓTESES:\n",
    "- Ho: médias estatisticamente iguais\n",
    "- Ha: médias estatisticamente diferentes\n",
    "\n",
    "#### CRITÉRIOS DO TESTE Z:\n",
    "- Se p-value for maior que o nível de significância, a hipótese Ho não é rejeitada.\n",
    "\n",
    "Observação:\n",
    "\n",
    "- γ = 1 - α\n",
    "- Nivel de confiança (γ) = ex.: 95%\n",
    "- Nivel de significância (α) = ex.: 5%\n",
    "- Área de cada extremo = α/2"
   ]
  },
  {
   "cell_type": "code",
   "execution_count": 1,
   "id": "642402f8",
   "metadata": {},
   "outputs": [],
   "source": [
    "# DESATIVA NOTAÇÃO CIENTÍFICA\n",
    "options(scipen = 999)"
   ]
  },
  {
   "cell_type": "code",
   "execution_count": 2,
   "id": "9979e6d4",
   "metadata": {},
   "outputs": [],
   "source": [
    "# DESATIVAR MENSAGENS DE WARNINGS (warn = -1) E ATIVAR (warn = 0)\n",
    "options(warn = -1)"
   ]
  },
  {
   "cell_type": "code",
   "execution_count": 3,
   "id": "53684ab7",
   "metadata": {},
   "outputs": [],
   "source": [
    "# CARREGANDO PACOTES\n",
    "suppressPackageStartupMessages({\n",
    "library(dplyr)\n",
    "library(RcmdrMisc)\n",
    "library(BSDA)\n",
    "})"
   ]
  },
  {
   "cell_type": "markdown",
   "id": "7388c8bb",
   "metadata": {},
   "source": [
    "#### CARREGAR DATASET\n",
    "\n",
    "Dataset da distância percorrida das bolas de futebol com revestimento atual e novo durante um teste."
   ]
  },
  {
   "cell_type": "markdown",
   "id": "8c2b972f",
   "metadata": {},
   "source": [
    "#### TESTE:\n",
    "Existe diferença significativa entre as médias das distâncias pecorridas pelo modelo de bola com revestimento atual e novo?"
   ]
  },
  {
   "cell_type": "code",
   "execution_count": 4,
   "id": "7dad0491",
   "metadata": {},
   "outputs": [
    {
     "name": "stdout",
     "output_type": "stream",
     "text": [
      "Rows: 129\n",
      "Columns: 3\n",
      "$ X     <int> 1, 2, 3, 4, 5, 6, 7, 8, 9, 10, 11, 12, 13, 14, 15, 16, 17, 18, 1~\n",
      "$ Atual <int> 270, 284, 272, 271, 275, 280, 282, 277, 272, 274, 284, 271, 275,~\n",
      "$ Novo  <int> 269, 270, 285, 278, 271, 288, 289, 265, 275, 272, 276, 289, 274,~\n"
     ]
    }
   ],
   "source": [
    "dados_bola <- read.csv(\"Bola_Futebol.csv\" )\n",
    "dados_bola <- as.data.frame(dados_bola)\n",
    "glimpse(dados_bola)"
   ]
  },
  {
   "cell_type": "markdown",
   "id": "d1beb357",
   "metadata": {},
   "source": [
    "#### TESTE DE NORMALIDADE"
   ]
  },
  {
   "cell_type": "code",
   "execution_count": 5,
   "id": "4b085a1c",
   "metadata": {},
   "outputs": [
    {
     "data": {
      "text/plain": [
       "\n",
       "\tShapiro-Wilk normality test\n",
       "\n",
       "data:  Atual\n",
       "W = 0.9872, p-value = 0.2722\n"
      ]
     },
     "metadata": {},
     "output_type": "display_data"
    }
   ],
   "source": [
    "normalityTest(~ Atual, test =\"shapiro.test\", data = dados_bola)"
   ]
  },
  {
   "cell_type": "code",
   "execution_count": 6,
   "id": "7e98e6a2",
   "metadata": {},
   "outputs": [
    {
     "data": {
      "text/plain": [
       "\n",
       "\tShapiro-Wilk normality test\n",
       "\n",
       "data:  Novo\n",
       "W = 0.98877, p-value = 0.3775\n"
      ]
     },
     "metadata": {},
     "output_type": "display_data"
    }
   ],
   "source": [
    "normalityTest(~ Novo, test =\"shapiro.test\", data = dados_bola)"
   ]
  },
  {
   "cell_type": "markdown",
   "id": "082a1c1c",
   "metadata": {},
   "source": [
    "#### TESTE Z "
   ]
  },
  {
   "cell_type": "code",
   "execution_count": 7,
   "id": "c40a7160",
   "metadata": {},
   "outputs": [],
   "source": [
    "x = dados_bola$Atual\n",
    "y = dados_bola$Novo"
   ]
  },
  {
   "cell_type": "code",
   "execution_count": 11,
   "id": "622faa44",
   "metadata": {},
   "outputs": [
    {
     "data": {
      "text/plain": [
       "\n",
       "\tTwo-sample z-Test\n",
       "\n",
       "data:  x and y\n",
       "z = -4.53, p-value = 0.000005898\n",
       "alternative hypothesis: true difference in means is not equal to 0\n",
       "95 percent confidence interval:\n",
       " -4.875495 -1.930707\n",
       "sample estimates:\n",
       "mean of x mean of y \n",
       " 275.0388  278.4419 \n"
      ]
     },
     "metadata": {},
     "output_type": "display_data"
    }
   ],
   "source": [
    "nivel_confianca <- 0.95\n",
    "nivel_significancia <- 0.05\n",
    "sd_x <- sd(x)\n",
    "sd_y <- sd(y)\n",
    "\n",
    "Teste_Z <- z.test(x, y, alternative = \"two.sided\", mu = 0, sigma.x = sd_x, sigma.y = sd_y, conf.level = nivel_confianca)\n",
    "Teste_Z"
   ]
  },
  {
   "cell_type": "markdown",
   "id": "21d6c5e7",
   "metadata": {},
   "source": [
    "#### TESTE Z - FÓRMULA"
   ]
  },
  {
   "cell_type": "code",
   "execution_count": 9,
   "id": "a36b2ced",
   "metadata": {},
   "outputs": [
    {
     "name": "stdout",
     "output_type": "stream",
     "text": [
      "Resultados:\n",
      "Z Calculado: -4.53\n",
      "Intervalo de Confiança: [ -4.875495 ; -1.930707 ]\n",
      "Z tabelado: [ -1.96 ; 1.96 ]\n",
      "\n",
      "Conforme o teste, percebe-se que a verdadeira diferença entre as medias não é igual a 0. Logo rejeita-se Ho, pois \n",
      "as médias são diferentes estatisticamente, com 95 % de confiança."
     ]
    }
   ],
   "source": [
    "nivel_confianca <- 0.95\n",
    "nivel_significancia <- 0.05\n",
    "sd_x <- sd(x)\n",
    "sd_y <- sd(y)\n",
    "\n",
    "Z_tabelado = round(qnorm(1-(nivel_significancia/2)),2)\n",
    "\n",
    "cat(\"Resultados:\")\n",
    "cat(\"\\nZ Calculado:\", round(Teste_Z$statistic, 4))\n",
    "cat(\"\\nIntervalo de Confiança: [\", round(Teste_Z$conf.int[1], 8),\";\", round(Teste_Z$conf.int[2], 8),\"]\")\n",
    "cat(\"\\nZ tabelado: [\", -Z_tabelado,\";\", Z_tabelado,\"]\")\n",
    "\n",
    "if ((Teste_Z$statistic >= (-Z_tabelado)) & (Teste_Z$statistic <= Z_tabelado)){\n",
    "    cat(\"\\n\\nConforme o teste, percebe-se que a verdadeira diferença entre as médias é igual a 0. Logo não rejeita-se Ho, \n",
    "pois as médias são iguais estatisticamente, com\",nivel_confianca*100,\"% de confiança.\")\n",
    "} else{\n",
    "    cat(\"\\n\\nConforme o teste, percebe-se que a verdadeira diferença entre as medias não é igual a 0. Logo rejeita-se Ho, pois \n",
    "as médias são diferentes estatisticamente, com\",nivel_confianca*100,\"% de confiança.\")\n",
    "    \n",
    "}"
   ]
  }
 ],
 "metadata": {
  "kernelspec": {
   "display_name": "R",
   "language": "R",
   "name": "ir"
  },
  "language_info": {
   "codemirror_mode": "r",
   "file_extension": ".r",
   "mimetype": "text/x-r-source",
   "name": "R",
   "pygments_lexer": "r",
   "version": "3.6.1"
  }
 },
 "nbformat": 4,
 "nbformat_minor": 5
}
