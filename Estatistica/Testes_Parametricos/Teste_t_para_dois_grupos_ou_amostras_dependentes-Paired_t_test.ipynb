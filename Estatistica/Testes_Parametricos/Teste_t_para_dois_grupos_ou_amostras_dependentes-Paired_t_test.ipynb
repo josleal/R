{
 "cells": [
  {
   "cell_type": "markdown",
   "id": "b47b5289",
   "metadata": {},
   "source": [
    "### TESTE T PARA COMPARAR DOIS GRUPOS OU AMOSTRAS DEPENDENTES - TESTE T AMOSTRAS EMPARELHADAS - PAIRED T TESTE\n",
    "\n",
    "Comparar a média entre dois grupos ou amostras dependentes. Amostras dependentes (emparelhadas) são selecionadas aleatoriamente de modo que os valores de observações dependam de valores de outras observações."
   ]
  },
  {
   "cell_type": "markdown",
   "id": "cae59009",
   "metadata": {},
   "source": [
    "#### PREMISSAS:\n",
    "- Premissa 1: Distribuição Normal. Esta é uma amostra grande? \n",
    "Não, se n < 30. Como o tamanho da amostra não é grande o suficiente (menos de 30), precisamos verificar se as diferenças dos pares seguem uma distribuição normal. Pode-se usar o o teste de Shapiro-Wilk em R **shapiro.test ()** para verificar se é uma distribuição normal. Observe que, se os dados não forem distribuidos normalmente, é recomendável usar um teste de duas amostras emparelhadas não paramétricas.\n",
    "\n",
    "- Premissa 2: Amostras dependentes (emparelhadas)\n",
    "\n",
    "\n",
    "#### HIPÓTESES:\n",
    "\n",
    "- Ho: médias estatisticamente iguais\n",
    "- Ha: médias estatisticamente diferentes\n",
    "\n",
    "#### CRITÉRIOS:\n",
    "\n",
    "- Se p-value for menor que nível de significância, rejeita-se Ho."
   ]
  },
  {
   "cell_type": "code",
   "execution_count": 1,
   "id": "473dac0d",
   "metadata": {},
   "outputs": [],
   "source": [
    "# DESATIVA NOTAÇÃO CIENTÍFICA\n",
    "options(scipen = 999)"
   ]
  },
  {
   "cell_type": "code",
   "execution_count": 2,
   "id": "870b051a",
   "metadata": {},
   "outputs": [],
   "source": [
    "# DESATIVAR MENSAGENS DE WARNINGS (warn = -1) E ATIVAR (warn = 0)\n",
    "options(warn = -1)"
   ]
  },
  {
   "cell_type": "code",
   "execution_count": 3,
   "id": "60efe02b",
   "metadata": {},
   "outputs": [],
   "source": [
    "# CARREGAR BIBLIOTECAS\n",
    "suppressPackageStartupMessages({\n",
    "library(dplyr)\n",
    "})"
   ]
  },
  {
   "cell_type": "markdown",
   "id": "60f086c4",
   "metadata": {},
   "source": [
    "#### CARREGAR DATASET\n",
    "\n",
    "Dataset com pesos médios de camundongos antes e depois de um certo tratamento."
   ]
  },
  {
   "cell_type": "markdown",
   "id": "f1d2a2de",
   "metadata": {},
   "source": [
    "#### TESTE:\n",
    "Existe alguma diferença significativa nos pesos médios após o tratamento?"
   ]
  },
  {
   "cell_type": "code",
   "execution_count": 4,
   "id": "f4f66aad",
   "metadata": {},
   "outputs": [
    {
     "name": "stdout",
     "output_type": "stream",
     "text": [
      "'data.frame':\t20 obs. of  2 variables:\n",
      " $ group : Factor w/ 2 levels \"after\",\"before\": 2 2 2 2 2 2 2 2 2 2 ...\n",
      " $ weight: num  200 191 193 213 241 ...\n"
     ]
    }
   ],
   "source": [
    "load (\"paired_weight.Rdata\")\n",
    "dados_peso_medio <- as.data.frame(paired_weight)\n",
    "str(paired_weight)"
   ]
  },
  {
   "cell_type": "markdown",
   "id": "f571f474",
   "metadata": {},
   "source": [
    "#### CÁLCULO DA DIFERENÇA"
   ]
  },
  {
   "cell_type": "code",
   "execution_count": 5,
   "id": "5633669b",
   "metadata": {},
   "outputs": [],
   "source": [
    "diferenca <- with(paired_weight,\n",
    "                  weight[group == \"before\"] - weight[group == \"after\"])"
   ]
  },
  {
   "cell_type": "markdown",
   "id": "87aeba1b",
   "metadata": {},
   "source": [
    "#### TESTE DE NORMALIDADE"
   ]
  },
  {
   "cell_type": "code",
   "execution_count": 6,
   "id": "82df9f59",
   "metadata": {},
   "outputs": [
    {
     "data": {
      "text/plain": [
       "\n",
       "\tShapiro-Wilk normality test\n",
       "\n",
       "data:  diferenca\n",
       "W = 0.94536, p-value = 0.6141\n"
      ]
     },
     "metadata": {},
     "output_type": "display_data"
    }
   ],
   "source": [
    "shapiro.test(diferenca)  "
   ]
  },
  {
   "cell_type": "markdown",
   "id": "2b94afba",
   "metadata": {},
   "source": [
    "As diferenças (diferença) não é significativamente diferente de uma distribuição normal. Portanto a hipótese alternativa é rejeitada. "
   ]
  },
  {
   "cell_type": "markdown",
   "id": "b0d58621",
   "metadata": {},
   "source": [
    "#### TESTE T"
   ]
  },
  {
   "cell_type": "code",
   "execution_count": 7,
   "id": "87861339",
   "metadata": {},
   "outputs": [
    {
     "data": {
      "text/plain": [
       "\n",
       "\tPaired t-test\n",
       "\n",
       "data:  weight by group\n",
       "t = 20.883, df = 9, p-value = 0.0000000062\n",
       "alternative hypothesis: true difference in means is not equal to 0\n",
       "95 percent confidence interval:\n",
       " 173.4219 215.5581\n",
       "sample estimates:\n",
       "mean of the differences \n",
       "                 194.49 \n"
      ]
     },
     "metadata": {},
     "output_type": "display_data"
    },
    {
     "name": "stdout",
     "output_type": "stream",
     "text": [
      "Resultados:\n",
      "t Calculado: 20.8831\n",
      "Intervalo de Confiança: [ 173.4219 ; 215.5581 ]\n",
      "t tabelado: [ -2.26 ; 2.26 ]\n",
      "\n",
      "Conforme o teste, percebe-se que a verdadeira diferença entre as medias não é igual a 0. Logo rejeita-se Ho, pois \n",
      "as médias são diferentes estatisticamente, com 95 % de confiança."
     ]
    }
   ],
   "source": [
    "nivel_confianca <- 0.95\n",
    "nivel_significancia <- 0.05\n",
    "\n",
    "Teste_t3 <- t.test(weight ~ group, data = paired_weight, paired = TRUE)\n",
    "Teste_t3"
   ]
  },
  {
   "cell_type": "markdown",
   "id": "4c6e34b0",
   "metadata": {},
   "source": [
    "#### TESTE T - FÓRMULA"
   ]
  },
  {
   "cell_type": "code",
   "execution_count": null,
   "id": "856ac2bb",
   "metadata": {},
   "outputs": [],
   "source": [
    "nivel_confianca <- 0.95\n",
    "nivel_significancia <- 0.05\n",
    "\n",
    "t_tabelado = round(qt(1-(nivel_significancia/2), df = Teste_t3$parameter),2)\n",
    "\n",
    "cat(\"Resultados:\")\n",
    "cat(\"\\nt Calculado:\", round(Teste_t3$statistic, 4))\n",
    "cat(\"\\nIntervalo de Confiança: [\", round(Teste_t3$conf.int[1], 8),\";\", round(Teste_t3$conf.int[2], 8),\"]\")\n",
    "cat(\"\\nt tabelado: [\", -t_tabelado,\";\", t_tabelado,\"]\")\n",
    "\n",
    "if ((Teste_t3$statistic >= (-t_tabelado)) & (Teste_t3$statistic <= t_tabelado)){\n",
    "    cat(\"\\n\\nConforme o teste, percebe-se que a verdadeira diferença entre as médias é igual a 0. Logo não rejeita-se Ho, \n",
    "pois as médias são iguais estatisticamente, com\",nivel_confianca*100,\"% de confiança.\")\n",
    "} else{\n",
    "    cat(\"\\n\\nConforme o teste, percebe-se que a verdadeira diferença entre as medias não é igual a 0. Logo rejeita-se Ho, pois \n",
    "as médias são diferentes estatisticamente, com\",nivel_confianca*100,\"% de confiança.\")\n",
    "    \n",
    "}"
   ]
  },
  {
   "cell_type": "markdown",
   "id": "0ac8043c",
   "metadata": {},
   "source": [
    "Com base no teste, conclui-se que o peso médio dos camundongos antes do tratamento é significativamente diferente do peso médio após o tratamento com um p-value de 0.0000000062."
   ]
  }
 ],
 "metadata": {
  "kernelspec": {
   "display_name": "Python 3 (ipykernel)",
   "language": "python",
   "name": "python3"
  },
  "language_info": {
   "codemirror_mode": {
    "name": "ipython",
    "version": 3
   },
   "file_extension": ".py",
   "mimetype": "text/x-python",
   "name": "python",
   "nbconvert_exporter": "python",
   "pygments_lexer": "ipython3",
   "version": "3.9.13"
  }
 },
 "nbformat": 4,
 "nbformat_minor": 5
}
