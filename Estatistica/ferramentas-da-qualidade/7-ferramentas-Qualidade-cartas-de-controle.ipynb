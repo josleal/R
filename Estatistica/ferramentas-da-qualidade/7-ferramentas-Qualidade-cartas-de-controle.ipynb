{
 "cells": [
  {
   "cell_type": "markdown",
   "id": "626bbcf4",
   "metadata": {},
   "source": [
    "### FERRAMENTAS DA QUALIDADE - CARTAS DE CONTROLE"
   ]
  },
  {
   "cell_type": "code",
   "execution_count": 1,
   "id": "202714fe",
   "metadata": {},
   "outputs": [
    {
     "data": {
      "text/html": [
       "'C:/Ferramentas_Qualidade'"
      ],
      "text/latex": [
       "'C:/Ferramentas\\_Qualidade'"
      ],
      "text/markdown": [
       "'C:/Ferramentas_Qualidade'"
      ],
      "text/plain": [
       "[1] \"C:/Ferramentas_Qualidade\""
      ]
     },
     "metadata": {},
     "output_type": "display_data"
    }
   ],
   "source": [
    "setwd(\"C:/Ferramentas_Qualidade\")\n",
    "getwd()"
   ]
  },
  {
   "cell_type": "code",
   "execution_count": 2,
   "id": "8a6c22af",
   "metadata": {},
   "outputs": [],
   "source": [
    "# DESATIVAR MENSAGENS DE WARNINGS (warn = -1) E ATIVAR (warn = 0)\n",
    "options(warn = -1)\n",
    "# DESATIVA NOTAÇÃO CIENTÍFICA\n",
    "options(scipen = 999)\n",
    "# PARA TAMANHO DOS GRÁFICOS\n",
    "options(jupyter.plot_scale = 1)"
   ]
  },
  {
   "cell_type": "code",
   "execution_count": 87,
   "id": "b4add977",
   "metadata": {},
   "outputs": [],
   "source": [
    "# CARREGAR BIBLIOTECAS\n",
    "suppressPackageStartupMessages({\n",
    "library(dplyr)\n",
    "library(ggplot2)\n",
    "library(cowplot)\n",
    "library(RcmdrMisc)\n",
    "library(readxl)})"
   ]
  },
  {
   "cell_type": "markdown",
   "id": "258958ba",
   "metadata": {},
   "source": [
    "### CARTA X e R (MÉDIA E AMPLITUDE) "
   ]
  },
  {
   "cell_type": "markdown",
   "id": "857c12e8",
   "metadata": {},
   "source": [
    "#### 1 - COLETA DE DADOS FORMANDO 25 SUBGRUPOS OU AMOSTRAS (m) DE TAMANHO 5 (n)"
   ]
  },
  {
   "cell_type": "markdown",
   "id": "aaad0288",
   "metadata": {},
   "source": [
    "#### DATASET COM O DIÂMETRO (mm) INTERNO DE ANÉIS DE PISTÃO"
   ]
  },
  {
   "cell_type": "code",
   "execution_count": 5,
   "id": "caf02168",
   "metadata": {},
   "outputs": [],
   "source": [
    "dados1 <- read.csv(\"C:FCD/Ferramentas_Qualidade/diametro-interno-aneis-pistaoXR.txt\", header = FALSE, sep = \",\",\n",
    "                   col.names = c(\"A\",\"B\",\"C\",\"D\",\"E\") )"
   ]
  },
  {
   "cell_type": "code",
   "execution_count": 6,
   "id": "d016d965",
   "metadata": {},
   "outputs": [
    {
     "name": "stdout",
     "output_type": "stream",
     "text": [
      "Rows: 25\n",
      "Columns: 5\n",
      "$ A <dbl> 74.030, 73.995, 73.988, 74.002, 73.992, 74.009, 73.995, 73.985, 74.0~\n",
      "$ B <dbl> 74.002, 73.992, 74.024, 73.996, 74.007, 73.994, 74.006, 74.003, 73.9~\n",
      "$ C <dbl> 74.019, 74.001, 74.021, 73.993, 74.015, 73.997, 73.994, 73.993, 74.0~\n",
      "$ D <dbl> 73.992, 74.011, 74.005, 74.015, 73.989, 73.985, 74.000, 74.015, 74.0~\n",
      "$ E <dbl> 74.008, 74.004, 74.002, 74.009, 74.014, 73.993, 74.005, 73.988, 74.0~\n"
     ]
    }
   ],
   "source": [
    "df_diametro_aneis1 <- data.frame(dados1)\n",
    "glimpse(df_diametro_aneis1)"
   ]
  },
  {
   "cell_type": "markdown",
   "id": "38faf381",
   "metadata": {},
   "source": [
    "#### 2 - CÁLCULO DAS MÉDIAS  E AMPLITUDE DE CADA SUBGRUPO (AMOSTRAS) E TESTE DE NORMALIDADE"
   ]
  },
  {
   "cell_type": "code",
   "execution_count": 7,
   "id": "16633f7f",
   "metadata": {},
   "outputs": [],
   "source": [
    "m <- nrow(df_diametro_aneis1)\n",
    "n <- ncol(df_diametro_aneis1)"
   ]
  },
  {
   "cell_type": "code",
   "execution_count": 8,
   "id": "cbb41375",
   "metadata": {},
   "outputs": [],
   "source": [
    "# MÉDIA DAS AMOSTRAS\n",
    "Media <- apply(df_diametro_aneis1, 1, mean)"
   ]
  },
  {
   "cell_type": "code",
   "execution_count": 9,
   "id": "b9373574",
   "metadata": {},
   "outputs": [],
   "source": [
    "# AMPLITUDE\n",
    "calc_amplitude <- function(linha){\n",
    "  maximo = max(linha)\n",
    "  minimo = min(linha)\n",
    "  amplitude = maximo - minimo\n",
    "  return(amplitude)\n",
    "}\n",
    "Amplitude <- apply(df_diametro_aneis1, 1,calc_amplitude)"
   ]
  },
  {
   "cell_type": "code",
   "execution_count": 10,
   "id": "dfdc51f1",
   "metadata": {},
   "outputs": [
    {
     "data": {
      "text/html": [
       "<table>\n",
       "<thead><tr><th scope=col>A</th><th scope=col>B</th><th scope=col>C</th><th scope=col>D</th><th scope=col>E</th><th scope=col>X</th><th scope=col>R</th></tr></thead>\n",
       "<tbody>\n",
       "\t<tr><td>74.030 </td><td>74.002 </td><td>74.019 </td><td>73.992 </td><td>74.008 </td><td>74.0102</td><td>0.038  </td></tr>\n",
       "\t<tr><td>73.995 </td><td>73.992 </td><td>74.001 </td><td>74.011 </td><td>74.004 </td><td>74.0006</td><td>0.019  </td></tr>\n",
       "\t<tr><td>73.988 </td><td>74.024 </td><td>74.021 </td><td>74.005 </td><td>74.002 </td><td>74.0080</td><td>0.036  </td></tr>\n",
       "\t<tr><td>74.002 </td><td>73.996 </td><td>73.993 </td><td>74.015 </td><td>74.009 </td><td>74.0030</td><td>0.022  </td></tr>\n",
       "\t<tr><td>73.992 </td><td>74.007 </td><td>74.015 </td><td>73.989 </td><td>74.014 </td><td>74.0034</td><td>0.026  </td></tr>\n",
       "</tbody>\n",
       "</table>\n"
      ],
      "text/latex": [
       "\\begin{tabular}{r|lllllll}\n",
       " A & B & C & D & E & X & R\\\\\n",
       "\\hline\n",
       "\t 74.030  & 74.002  & 74.019  & 73.992  & 74.008  & 74.0102 & 0.038  \\\\\n",
       "\t 73.995  & 73.992  & 74.001  & 74.011  & 74.004  & 74.0006 & 0.019  \\\\\n",
       "\t 73.988  & 74.024  & 74.021  & 74.005  & 74.002  & 74.0080 & 0.036  \\\\\n",
       "\t 74.002  & 73.996  & 73.993  & 74.015  & 74.009  & 74.0030 & 0.022  \\\\\n",
       "\t 73.992  & 74.007  & 74.015  & 73.989  & 74.014  & 74.0034 & 0.026  \\\\\n",
       "\\end{tabular}\n"
      ],
      "text/markdown": [
       "\n",
       "| A | B | C | D | E | X | R |\n",
       "|---|---|---|---|---|---|---|\n",
       "| 74.030  | 74.002  | 74.019  | 73.992  | 74.008  | 74.0102 | 0.038   |\n",
       "| 73.995  | 73.992  | 74.001  | 74.011  | 74.004  | 74.0006 | 0.019   |\n",
       "| 73.988  | 74.024  | 74.021  | 74.005  | 74.002  | 74.0080 | 0.036   |\n",
       "| 74.002  | 73.996  | 73.993  | 74.015  | 74.009  | 74.0030 | 0.022   |\n",
       "| 73.992  | 74.007  | 74.015  | 73.989  | 74.014  | 74.0034 | 0.026   |\n",
       "\n"
      ],
      "text/plain": [
       "  A      B      C      D      E      X       R    \n",
       "1 74.030 74.002 74.019 73.992 74.008 74.0102 0.038\n",
       "2 73.995 73.992 74.001 74.011 74.004 74.0006 0.019\n",
       "3 73.988 74.024 74.021 74.005 74.002 74.0080 0.036\n",
       "4 74.002 73.996 73.993 74.015 74.009 74.0030 0.022\n",
       "5 73.992 74.007 74.015 73.989 74.014 74.0034 0.026"
      ]
     },
     "metadata": {},
     "output_type": "display_data"
    }
   ],
   "source": [
    "# TABELA COM X (MÉDIA) e R (AMPLITUDE) \n",
    "df_diametro_aneis2 <- mutate(df_diametro_aneis1, \n",
    "                             X = Media,\n",
    "                             R = Amplitude)\n",
    "head(df_diametro_aneis2, 5)"
   ]
  },
  {
   "cell_type": "code",
   "execution_count": 88,
   "id": "78cdaa90",
   "metadata": {},
   "outputs": [
    {
     "data": {
      "text/plain": [
       "\n",
       "\tLilliefors (Kolmogorov-Smirnov) normality test\n",
       "\n",
       "data:  X\n",
       "D = 0.075651, p-value = 0.9705\n"
      ]
     },
     "metadata": {},
     "output_type": "display_data"
    }
   ],
   "source": [
    "# TESTE DE NORMALIDADE\n",
    "normalityTest(~ X, test = \"lillie.test\", data = df_diametro_aneis2)"
   ]
  },
  {
   "cell_type": "markdown",
   "id": "24f45805",
   "metadata": {},
   "source": [
    "Com um p-value maior que 0.05, a hipótese alternativa (Ha) é rejeitada. Portanto a amostra provém de uma população normalmente distribuída."
   ]
  },
  {
   "cell_type": "markdown",
   "id": "562f9603",
   "metadata": {},
   "source": [
    "#### 3 - CÁLCULO DA MÉDIA DAS MÉDIAS DOS SUBGRUPOS E MÉDIA DAS AMPLITUDES"
   ]
  },
  {
   "cell_type": "code",
   "execution_count": 11,
   "id": "5ba2fccc",
   "metadata": {},
   "outputs": [],
   "source": [
    "Media_X <- mean(df_diametro_aneis2$X)\n",
    "Media_R <- mean(df_diametro_aneis2$R)"
   ]
  },
  {
   "cell_type": "markdown",
   "id": "bd59ac87",
   "metadata": {},
   "source": [
    "#### 4 - CÁLCULO DO LIMITE CENTRAL (LC), LIMITE SUPERIOR CENTRAL (LSC) E LIMITE INFERIOR CENTRAL (LIC) PARA VALORES REFERÊNCIA NÃO FORNECIDOS"
   ]
  },
  {
   "cell_type": "markdown",
   "id": "b2bdd144",
   "metadata": {},
   "source": [
    "#### CARTA X e R (MÉDIA E AMPLITUDE)\n",
    "#### CARTA X"
   ]
  },
  {
   "cell_type": "code",
   "execution_count": 20,
   "id": "2d45db6d",
   "metadata": {},
   "outputs": [
    {
     "data": {
      "text/html": [
       "0.576801713886446"
      ],
      "text/latex": [
       "0.576801713886446"
      ],
      "text/markdown": [
       "0.576801713886446"
      ],
      "text/plain": [
       "[1] 0.5768017"
      ]
     },
     "metadata": {},
     "output_type": "display_data"
    }
   ],
   "source": [
    "# A2 É VALOR TABELADO - PODE SER BUSCADO DE FORMA DIRETA NA TABELA, PORÉM FOI UTILIZADO O FATOR d2 PARA CHEGAR A A2\n",
    "# d2 É VALOR TABELADO\n",
    "\n",
    "d2 <- 2.326\n",
    "A2 <- ifelse(3/(d2*(sqrt(n))) >= 0, 3/(d2*(sqrt(n))), 0) \n",
    "\n",
    "XR_LC <- Media_X\n",
    "XR_LSC <- Media_X + (A2*Media_R)\n",
    "XR_LIC <- Media_X - (A2*Media_R)"
   ]
  },
  {
   "cell_type": "markdown",
   "id": "3d801837",
   "metadata": {},
   "source": [
    "#### CARTA R"
   ]
  },
  {
   "cell_type": "code",
   "execution_count": 21,
   "id": "fb75ae57",
   "metadata": {},
   "outputs": [],
   "source": [
    "# D3 E D4 SÃO VALORES TABELADOS - - PODEM SER BUSCADOS DE FORMA DIRETA NA TABELA, PORÉM FOI UTILIZADO O FATOR d2 e d3 PARA \n",
    "# CHEGAR A D3 e D4.\n",
    "# d2 e d3 SÃO VALORES TABELADOS\n",
    "\n",
    "d2 <- 2.326\n",
    "d3 <- 0.864\n",
    "\n",
    "D3 <- ifelse(1-(3*d3/d2) >= 0, 1-(3*d3/d2), 0) \n",
    "D4 <- ifelse(1+(3*d3/d2) >= 0, 1+(3*d3/d2), 0) \n",
    "\n",
    "R_LC <- Media_R\n",
    "R_LSC <- Media_R*D4\n",
    "R_LIC <- Media_R*D3"
   ]
  },
  {
   "cell_type": "markdown",
   "id": "00420fd4",
   "metadata": {},
   "source": [
    "#### 5 - PLOTAR CARTAS X e R "
   ]
  },
  {
   "cell_type": "code",
   "execution_count": 22,
   "id": "8d08077b",
   "metadata": {},
   "outputs": [
    {
     "data": {
      "image/png": "[encoded data removed]",
      "text/plain": [
       "plot without title"
      ]
     },
     "metadata": {},
     "output_type": "display_data"
    }
   ],
   "source": [
    "# CARTA X\n",
    "\n",
    "carta_X <- ggplot() + \n",
    "  geom_point(data = df_diametro_aneis2, aes(x = 1:m, y = X), shape = 1, size = 2) +\n",
    "  geom_line(data = df_diametro_aneis2, aes(x = 1:m, y = X)) +\n",
    "  geom_line(data = df_diametro_aneis2, aes(x = 1:m, y = XR_LIC), colour = \"red\") +\n",
    "  geom_line(data = df_diametro_aneis2, aes(x = 1:m, y = XR_LC), colour = \"dark blue\") +\n",
    "  geom_line(data = df_diametro_aneis2, aes(x = 1:m, y = XR_LSC), colour = \"red\") +\n",
    "  scale_x_continuous(breaks = c(1:m)) +\n",
    "  scale_y_continuous(sec.axis = sec_axis(trans = ~., \n",
    "                                         breaks = c(XR_LIC, XR_LC, XR_LSC),\n",
    "                                         labels = function(b){paste0(c(\"LIC = \",\"LC = \", \"LSC = \"), round(b, 6))})) +\n",
    "  labs(title = \"Carta X-barra - R\", x = \"\", y = \"Médias\") +\n",
    "  theme_bw() +\n",
    "  theme(plot.title = element_text(hjust = 0.5), panel.grid.major = element_blank(), panel.grid.minor = element_blank())\n",
    "\n",
    "# CARTA R\n",
    "carta_R <- ggplot() + \n",
    "  geom_point(data = df_diametro_aneis2, aes(x = 1:m, y = R), shape = 1, size = 2) +\n",
    "  geom_line(data = df_diametro_aneis2, aes(x = 1:m, y = R)) +\n",
    "  geom_line(data = df_diametro_aneis2, aes(x = 1:m, y = R_LIC), colour = \"red\") +\n",
    "  geom_line(data = df_diametro_aneis2, aes(x = 1:m, y = R_LC), colour = \"dark blue\") +\n",
    "  geom_line(data = df_diametro_aneis2, aes(x = 1:m, y = R_LSC), colour = \"red\") +\n",
    "  scale_x_continuous(breaks = c(1:m)) +\n",
    "  scale_y_continuous(sec.axis = sec_axis(trans = ~., \n",
    "                                         breaks = c(R_LIC, R_LC, R_LSC),\n",
    "                                         labels = function(b){paste0(c(\"LIC = \",\"LC = \",\"LSC = \"), round(b, 6))})) +\n",
    "  labs(x = \"\", y = \"Amplitudes\") +\n",
    "  theme_bw() +\n",
    "  theme(plot.title = element_text(hjust = 0.5), panel.grid.major = element_blank(), panel.grid.minor = element_blank())\n",
    "\n",
    "options(repr.plot.width = 6, repr.plot.height = 5)\n",
    "plot_grid(carta_X, carta_R, ncol = 1, align = \"hv\")"
   ]
  },
  {
   "cell_type": "markdown",
   "id": "3a124b4e",
   "metadata": {},
   "source": [
    "Não há ponto fora dos limites de controle e nenhum padrão não aleatório foi mostrado nas cartas X e R."
   ]
  },
  {
   "cell_type": "markdown",
   "id": "b228bfa1",
   "metadata": {},
   "source": [
    "### CARTA X e s (MÉDIA E DESVIO PADRÃO)"
   ]
  },
  {
   "cell_type": "markdown",
   "id": "77eb1df1",
   "metadata": {},
   "source": [
    "#### 1 - COLETA DE DADOS FORMANDO 25 SUBGRUPOS OU AMOSTRAS (m) DE TAMANHO 10 (n)"
   ]
  },
  {
   "cell_type": "markdown",
   "id": "d702f236",
   "metadata": {},
   "source": [
    "#### DATASET COM O DIÂMETRO (mm) INTERNO DE ANÉIS DE PISTÃO"
   ]
  },
  {
   "cell_type": "code",
   "execution_count": 121,
   "id": "902a4ebe",
   "metadata": {},
   "outputs": [],
   "source": [
    "dados1 <- read.csv(\"C:/Ferramentas_Qualidade/diametro-interno-aneis-pistaoXs.txt\", header = FALSE, sep = \",\",\n",
    "                   col.names = c(\"A\",\"B\",\"C\",\"D\",\"E\",\"F\",\"G\",\"H\",\"I\",\"J\") )"
   ]
  },
  {
   "cell_type": "code",
   "execution_count": 122,
   "id": "2687338a",
   "metadata": {},
   "outputs": [
    {
     "name": "stdout",
     "output_type": "stream",
     "text": [
      "Rows: 25\n",
      "Columns: 10\n",
      "$ A <dbl> 74.030, 73.995, 73.988, 74.002, 73.992, 74.009, 73.995, 73.985, 74.0~\n",
      "$ B <dbl> 74.002, 73.992, 74.024, 73.996, 74.007, 73.994, 74.006, 74.003, 73.9~\n",
      "$ C <dbl> 74.019, 74.001, 74.021, 73.993, 74.015, 73.997, 73.994, 73.993, 74.0~\n",
      "$ D <dbl> 73.992, 74.011, 74.005, 74.015, 73.989, 73.985, 74.000, 74.015, 74.0~\n",
      "$ E <dbl> 74.008, 74.004, 74.002, 74.009, 74.014, 73.993, 74.005, 73.988, 74.0~\n",
      "$ F <dbl> 73.992, 74.008, 73.994, 73.982, 73.994, 74.006, 73.992, 74.001, 73.9~\n",
      "$ G <dbl> 73.989, 73.889, 73.998, 74.001, 73.998, 74.010, 74.007, 74.010, 74.0~\n",
      "$ H <dbl> 73.996, 73.907, 73.994, 74.015, 73.994, 74.018, 74.015, 73.813, 74.0~\n",
      "$ I <dbl> 74.004, 74.000, 73.995, 74.005, 73.995, 74.003, 73.989, 74.020, 73.9~\n",
      "$ J <dbl> 74.0100, 73.8560, 73.9900, 73.9960, 73.9900, 74.0000, 74.0140, 74.01~\n"
     ]
    }
   ],
   "source": [
    "df_diametro_aneis3 <- data.frame(dados1)\n",
    "glimpse(df_diametro_aneis3)"
   ]
  },
  {
   "cell_type": "markdown",
   "id": "acee9d2e",
   "metadata": {},
   "source": [
    "#### 2 - CÁLCULO DAS MÉDIAS  E DESVIO PADRÃO DE CADA SUBGRUPO (AMOSTRAS) E TESTE DE NORMALIDADE"
   ]
  },
  {
   "cell_type": "code",
   "execution_count": 123,
   "id": "29afcafb",
   "metadata": {},
   "outputs": [],
   "source": [
    "m1 <- nrow(df_diametro_aneis3)\n",
    "n1 <- ncol(df_diametro_aneis3)"
   ]
  },
  {
   "cell_type": "code",
   "execution_count": 124,
   "id": "276f60d6",
   "metadata": {},
   "outputs": [],
   "source": [
    "# MÉDIA DAS AMOSTRAS\n",
    "Media1 <- apply(df_diametro_aneis3, 1, mean)"
   ]
  },
  {
   "cell_type": "code",
   "execution_count": 125,
   "id": "accb266d",
   "metadata": {},
   "outputs": [],
   "source": [
    "# DESVIO PADRÃO (PARA A CARTA X e s)\n",
    "Desvio_Padrao <- apply(df_diametro_aneis3, 1, sd)"
   ]
  },
  {
   "cell_type": "code",
   "execution_count": 126,
   "id": "3bf3ce9c",
   "metadata": {},
   "outputs": [
    {
     "data": {
      "text/html": [
       "<table>\n",
       "<thead><tr><th scope=col>A</th><th scope=col>B</th><th scope=col>C</th><th scope=col>D</th><th scope=col>E</th><th scope=col>F</th><th scope=col>G</th><th scope=col>H</th><th scope=col>I</th><th scope=col>J</th><th scope=col>X1</th><th scope=col>s</th></tr></thead>\n",
       "<tbody>\n",
       "\t<tr><td>74.030     </td><td>74.002     </td><td>74.019     </td><td>73.992     </td><td>74.008     </td><td>73.992     </td><td>73.989     </td><td>73.996     </td><td>74.004     </td><td>74.010     </td><td>74.0042    </td><td>0.013053735</td></tr>\n",
       "\t<tr><td>73.995     </td><td>73.992     </td><td>74.001     </td><td>74.011     </td><td>74.004     </td><td>74.008     </td><td>73.889     </td><td>73.907     </td><td>74.000     </td><td>73.856     </td><td>73.9663    </td><td>0.058347713</td></tr>\n",
       "\t<tr><td>73.988     </td><td>74.024     </td><td>74.021     </td><td>74.005     </td><td>74.002     </td><td>73.994     </td><td>73.998     </td><td>73.994     </td><td>73.995     </td><td>73.990     </td><td>74.0011    </td><td>0.012377848</td></tr>\n",
       "\t<tr><td>74.002     </td><td>73.996     </td><td>73.993     </td><td>74.015     </td><td>74.009     </td><td>73.982     </td><td>74.001     </td><td>74.015     </td><td>74.005     </td><td>73.996     </td><td>74.0014    </td><td>0.010254538</td></tr>\n",
       "\t<tr><td>73.992     </td><td>74.007     </td><td>74.015     </td><td>73.989     </td><td>74.014     </td><td>73.994     </td><td>73.998     </td><td>73.994     </td><td>73.995     </td><td>73.990     </td><td>73.9988    </td><td>0.009670114</td></tr>\n",
       "</tbody>\n",
       "</table>\n"
      ],
      "text/latex": [
       "\\begin{tabular}{r|llllllllllll}\n",
       " A & B & C & D & E & F & G & H & I & J & X1 & s\\\\\n",
       "\\hline\n",
       "\t 74.030      & 74.002      & 74.019      & 73.992      & 74.008      & 73.992      & 73.989      & 73.996      & 74.004      & 74.010      & 74.0042     & 0.013053735\\\\\n",
       "\t 73.995      & 73.992      & 74.001      & 74.011      & 74.004      & 74.008      & 73.889      & 73.907      & 74.000      & 73.856      & 73.9663     & 0.058347713\\\\\n",
       "\t 73.988      & 74.024      & 74.021      & 74.005      & 74.002      & 73.994      & 73.998      & 73.994      & 73.995      & 73.990      & 74.0011     & 0.012377848\\\\\n",
       "\t 74.002      & 73.996      & 73.993      & 74.015      & 74.009      & 73.982      & 74.001      & 74.015      & 74.005      & 73.996      & 74.0014     & 0.010254538\\\\\n",
       "\t 73.992      & 74.007      & 74.015      & 73.989      & 74.014      & 73.994      & 73.998      & 73.994      & 73.995      & 73.990      & 73.9988     & 0.009670114\\\\\n",
       "\\end{tabular}\n"
      ],
      "text/markdown": [
       "\n",
       "| A | B | C | D | E | F | G | H | I | J | X1 | s |\n",
       "|---|---|---|---|---|---|---|---|---|---|---|---|\n",
       "| 74.030      | 74.002      | 74.019      | 73.992      | 74.008      | 73.992      | 73.989      | 73.996      | 74.004      | 74.010      | 74.0042     | 0.013053735 |\n",
       "| 73.995      | 73.992      | 74.001      | 74.011      | 74.004      | 74.008      | 73.889      | 73.907      | 74.000      | 73.856      | 73.9663     | 0.058347713 |\n",
       "| 73.988      | 74.024      | 74.021      | 74.005      | 74.002      | 73.994      | 73.998      | 73.994      | 73.995      | 73.990      | 74.0011     | 0.012377848 |\n",
       "| 74.002      | 73.996      | 73.993      | 74.015      | 74.009      | 73.982      | 74.001      | 74.015      | 74.005      | 73.996      | 74.0014     | 0.010254538 |\n",
       "| 73.992      | 74.007      | 74.015      | 73.989      | 74.014      | 73.994      | 73.998      | 73.994      | 73.995      | 73.990      | 73.9988     | 0.009670114 |\n",
       "\n"
      ],
      "text/plain": [
       "  A      B      C      D      E      F      G      H      I      J      X1     \n",
       "1 74.030 74.002 74.019 73.992 74.008 73.992 73.989 73.996 74.004 74.010 74.0042\n",
       "2 73.995 73.992 74.001 74.011 74.004 74.008 73.889 73.907 74.000 73.856 73.9663\n",
       "3 73.988 74.024 74.021 74.005 74.002 73.994 73.998 73.994 73.995 73.990 74.0011\n",
       "4 74.002 73.996 73.993 74.015 74.009 73.982 74.001 74.015 74.005 73.996 74.0014\n",
       "5 73.992 74.007 74.015 73.989 74.014 73.994 73.998 73.994 73.995 73.990 73.9988\n",
       "  s          \n",
       "1 0.013053735\n",
       "2 0.058347713\n",
       "3 0.012377848\n",
       "4 0.010254538\n",
       "5 0.009670114"
      ]
     },
     "metadata": {},
     "output_type": "display_data"
    }
   ],
   "source": [
    "# TABELA COM X (MÉDIA) e s (DESVIO PADRÃO) \n",
    "df_diametro_aneis4 <- mutate(df_diametro_aneis3, \n",
    "                             X1 = Media1,\n",
    "                             s = Desvio_Padrao)\n",
    "head(df_diametro_aneis4, 5)"
   ]
  },
  {
   "cell_type": "code",
   "execution_count": 127,
   "id": "2c26e080",
   "metadata": {},
   "outputs": [
    {
     "data": {
      "text/plain": [
       "\n",
       "\tLilliefors (Kolmogorov-Smirnov) normality test\n",
       "\n",
       "data:  X1\n",
       "D = 0.22373, p-value = 0.002292\n"
      ]
     },
     "metadata": {},
     "output_type": "display_data"
    }
   ],
   "source": [
    "# TESTE DE NORMALIDADE\n",
    "normalityTest(~ X1, test = \"lillie.test\", data = df_diametro_aneis4)"
   ]
  },
  {
   "cell_type": "markdown",
   "id": "79f30a52",
   "metadata": {},
   "source": [
    "Com um p-value maior que 0.05, a hipótese alternativa (Ha) é rejeitada. Portanto a amostra provém de uma população normalmente distribuída."
   ]
  },
  {
   "cell_type": "markdown",
   "id": "fb942a03",
   "metadata": {},
   "source": [
    "#### 3 - CÁLCULO DA MÉDIA DAS MÉDIAS DOS SUBGRUPOS E MÉDIA DOS DESVIOS PADRÃO"
   ]
  },
  {
   "cell_type": "code",
   "execution_count": 30,
   "id": "c40c6157",
   "metadata": {},
   "outputs": [],
   "source": [
    "Media_X1 <- mean(df_diametro_aneis4$X1)\n",
    "Media_s <- mean(df_diametro_aneis4$s)"
   ]
  },
  {
   "cell_type": "markdown",
   "id": "9830af8a",
   "metadata": {},
   "source": [
    "#### 4 - CÁLCULO DO LIMITE CENTRAL (LC), LIMITE SUPERIOR CENTRAL (LSC) E LIMITE INFERIOR CENTRAL (LIC) QUANDO VALORES REFERÊNCIA NÃO FORNECIDOS"
   ]
  },
  {
   "cell_type": "markdown",
   "id": "39c8023a",
   "metadata": {},
   "source": [
    "#### CARTA X e s (MÉDIA e DESVIO PADRÃO)\n",
    "#### CARTA X"
   ]
  },
  {
   "cell_type": "code",
   "execution_count": 42,
   "id": "ef6f5bab",
   "metadata": {},
   "outputs": [],
   "source": [
    "# A3 É VALOR TABELADO - PODE SER BUSCADO DE FORMA DIRETA NA TABELA, PORÉM FOI UTILIZADO O FATOR c4 PARA CHEGAR A A3\n",
    "# c4 É VALOR TABELADO\n",
    "\n",
    "c4 <- 0.9727\n",
    "A3 <- ifelse(3/(c4*(sqrt(n))) >= 0, 3/(c4*(sqrt(n1))), 0) \n",
    "\n",
    "Xs_LC <- Media_X1\n",
    "Xs_LSC <- Media_X1 + (A3*Media_s)\n",
    "Xs_LIC <- Media_X1 - (A3*Media_s)"
   ]
  },
  {
   "cell_type": "markdown",
   "id": "04d5ec9c",
   "metadata": {},
   "source": [
    "#### CARTA s"
   ]
  },
  {
   "cell_type": "code",
   "execution_count": 41,
   "id": "27822bc7",
   "metadata": {},
   "outputs": [],
   "source": [
    "# B3 E B4 SÃO VALORES TABELADOS - - PODEM SER BUSCADOS DE FORMA DIRETA NA TABELA, PORÉM FOI UTILIZADO O FATOR c4 PARA \n",
    "# CHEGAR A B3 e B4.\n",
    "# c4 É VALOR TABELADO\n",
    "\n",
    "c4 <- 0.9727\n",
    "\n",
    "B3 <- ifelse(1-(3*(sqrt((1-(c4**2))))/c4) >= 0, 1-(3*(sqrt((1-(c4**2))))/c4), 0) \n",
    "B4 <- ifelse(1+(3*(sqrt((1-(c4**2))))/c4) >= 0, 1+(3*(sqrt((1-(c4**2))))/c4), 0) \n",
    "\n",
    "s_LC <- Media_s\n",
    "s_LSC <- Media_s*B4\n",
    "s_LIC <- Media_s*B3"
   ]
  },
  {
   "cell_type": "markdown",
   "id": "a8232c96",
   "metadata": {},
   "source": [
    "#### 5 - PLOTAR CARTA X e s "
   ]
  },
  {
   "cell_type": "code",
   "execution_count": 40,
   "id": "1c1037bb",
   "metadata": {},
   "outputs": [
    {
     "data": {
      "image/png": "[encoded data removed]",
      "text/plain": [
       "plot without title"
      ]
     },
     "metadata": {},
     "output_type": "display_data"
    }
   ],
   "source": [
    "# CARTA X\n",
    "\n",
    "carta_X1 <- ggplot() + \n",
    "  geom_point(data = df_diametro_aneis4, aes(x = 1:m, y = X1), shape = 1, size = 2) +\n",
    "  geom_line(data = df_diametro_aneis4, aes(x = 1:m, y = X1)) +\n",
    "  geom_line(data = df_diametro_aneis4, aes(x = 1:m, y = Xs_LIC), colour = \"red\") +\n",
    "  geom_line(data = df_diametro_aneis4, aes(x = 1:m, y = Xs_LC), colour = \"dark blue\") +\n",
    "  geom_line(data = df_diametro_aneis4, aes(x = 1:m, y = Xs_LSC), colour = \"red\") +\n",
    "  scale_x_continuous(breaks = c(1:m)) +\n",
    "  scale_y_continuous(sec.axis = sec_axis(trans = ~., \n",
    "                                         breaks = c(Xs_LIC, Xs_LC, Xs_LSC),\n",
    "                                         labels = function(b){paste0(c(\"LIC = \",\"LC = \",\"LSC = \"), round(b, 6))})) +\n",
    "  labs(title = \"Carta X-barra - s\", x = \"\", y = \"Médias\") +\n",
    "  theme_bw() +\n",
    "  theme(plot.title = element_text(hjust = 0.5), panel.grid.major = element_blank(), panel.grid.minor = element_blank())\n",
    "\n",
    "# CARTA s\n",
    "carta_s <- ggplot() + \n",
    "  geom_point(data = df_diametro_aneis4, aes(x = 1:m, y = s), shape = 1, size = 2) +\n",
    "  geom_line(data = df_diametro_aneis4, aes(x = 1:m, y = s)) +\n",
    "  geom_line(data = df_diametro_aneis4, aes(x = 1:m, y = s_LIC), colour = \"red\") +\n",
    "  geom_line(data = df_diametro_aneis4, aes(x = 1:m, y = s_LC), colour = \"dark blue\") +\n",
    "  geom_line(data = df_diametro_aneis4, aes(x = 1:m, y = s_LSC), colour = \"red\") +\n",
    "  scale_x_continuous(breaks = c(1:m)) +\n",
    "  scale_y_continuous(sec.axis = sec_axis(trans = ~., \n",
    "                                         breaks = c(s_LIC, s_LC, s_LSC),\n",
    "                                         labels = function(b){paste0(c(\"LIC = \",\"LC = \",\"LSC = \"), round(b, 6))})) +\n",
    "  labs(x = \"\", y = \"Desvios\") +\n",
    "  theme_bw() +\n",
    "  theme(plot.title = element_text(hjust = 0.5), panel.grid.major = element_blank(), panel.grid.minor = element_blank())\n",
    "\n",
    "options(repr.plot.width = 6, repr.plot.height = 5)\n",
    "plot_grid(carta_X1, carta_s, ncol = 1, align = \"hv\")"
   ]
  },
  {
   "cell_type": "markdown",
   "id": "5b366b29",
   "metadata": {},
   "source": [
    "Na carta X-barra há um ponto fora dos limite inferior de controle e uma tendência com 9 pontos consecutivos mesmo lado do Limite de Controle. Portanto há necessidade de investigação da causa e ação corretiva.\n",
    "\n",
    "Na carta s, há 4 pontos fora do limite superior de controle. Portanto há necessidade de investigação da causa e ação corretiva.\n",
    "\n"
   ]
  },
  {
   "cell_type": "markdown",
   "id": "8093d9ad",
   "metadata": {},
   "source": [
    "### CARTA I e MR (VALORES INDIVIDUAIS E AMPLITUDE MÓVEL)"
   ]
  },
  {
   "cell_type": "markdown",
   "id": "92037d26",
   "metadata": {},
   "source": [
    "#### 1 - COLETA DE DADOS FORMANDO 30 SUBGRUPOS OU AMOSTRAS (m) DE TAMANHO 1 (n)"
   ]
  },
  {
   "cell_type": "code",
   "execution_count": 98,
   "id": "24793e2d",
   "metadata": {},
   "outputs": [],
   "source": [
    "dados2 <- read.csv(\"C:/Ferramentas_Qualidade/viscosidade-tinta-base-avioes.txt\", header = FALSE, sep = \",\",\n",
    "                   col.names = c(\"Lote\",\"Viscosidade\") )"
   ]
  },
  {
   "cell_type": "code",
   "execution_count": 99,
   "id": "aaa498e5",
   "metadata": {},
   "outputs": [
    {
     "name": "stdout",
     "output_type": "stream",
     "text": [
      "Rows: 30\n",
      "Columns: 2\n",
      "$ Lote        <int> 1, 2, 3, 4, 5, 6, 7, 8, 9, 10, 11, 12, 13, 14, 15, 16, 17,~\n",
      "$ Viscosidade <dbl> 33.75, 33.05, 33.05, 34.00, 33.81, 33.46, 34.02, 33.68, 33~\n"
     ]
    }
   ],
   "source": [
    "df_viscosidade <- data.frame(dados2)\n",
    "glimpse(df_viscosidade)"
   ]
  },
  {
   "cell_type": "code",
   "execution_count": 104,
   "id": "a68d6d21",
   "metadata": {},
   "outputs": [
    {
     "data": {
      "text/plain": [
       "\n",
       "\tLilliefors (Kolmogorov-Smirnov) normality test\n",
       "\n",
       "data:  Viscosidade\n",
       "D = 0.11976, p-value = 0.3326\n"
      ]
     },
     "metadata": {},
     "output_type": "display_data"
    }
   ],
   "source": [
    "# TESTE DE NORMALIDADE\n",
    "normalityTest(~ Viscosidade, test = \"lillie.test\", data = df_viscosidade)"
   ]
  },
  {
   "cell_type": "markdown",
   "id": "631c7bba",
   "metadata": {},
   "source": [
    "Com um p-value maior que 0.05, a hipótese alternativa (Ha) é rejeitada. Portanto a amostra provém de uma população normalmente distribuída."
   ]
  },
  {
   "cell_type": "markdown",
   "id": "092db2eb",
   "metadata": {},
   "source": [
    "#### 2 - CÁLCULO DA MÉDIA DOS SUBGRUPOS (AMOSTRAS) E CÁLCULO DE AMPLITUDE MÓVEL "
   ]
  },
  {
   "cell_type": "code",
   "execution_count": 100,
   "id": "0268594b",
   "metadata": {},
   "outputs": [],
   "source": [
    "m2 <- nrow(df_viscosidade)\n",
    "n2 <- ncol(df_viscosidade)"
   ]
  },
  {
   "cell_type": "code",
   "execution_count": 101,
   "id": "4062c964",
   "metadata": {},
   "outputs": [],
   "source": [
    "# MÉDIA DAS AMOSTRAS\n",
    "Media_I <- mean(df_viscosidade$Viscosidade)"
   ]
  },
  {
   "cell_type": "code",
   "execution_count": 102,
   "id": "3c86077a",
   "metadata": {},
   "outputs": [],
   "source": [
    "# CÁLCULO DA AMPLITUDE MÓVEL\n",
    "i <- 0\n",
    "vetor_mr <- c(NA)\n",
    "while (i <= m2){\n",
    "    i = i + 1\n",
    "    if (i == 30){\n",
    "        break\n",
    "    }\n",
    "    valor = abs(df_viscosidade[i, 2] - df_viscosidade[i+1, 2])\n",
    "    vetor_mr = append(vetor_mr, valor)\n",
    "}\n",
    "\n",
    "df_viscosidade$MR <- vetor_mr"
   ]
  },
  {
   "cell_type": "markdown",
   "id": "178db1ae",
   "metadata": {},
   "source": [
    "#### 3 - CÁLCULO DA MÉDIA DA AMPLITUDE MÓVEL"
   ]
  },
  {
   "cell_type": "code",
   "execution_count": 80,
   "id": "e9c86a9d",
   "metadata": {},
   "outputs": [],
   "source": [
    "Media_MR <- mean(df_viscosidade$MR, na.rm = TRUE)"
   ]
  },
  {
   "cell_type": "markdown",
   "id": "105c0504",
   "metadata": {},
   "source": [
    "#### 4 - CÁLCULO DO LIMITE CENTRAL (LC), LIMITE SUPERIOR CENTRAL (LSC) E LIMITE INFERIOR CENTRAL (LIC) QUANDO VALORES REFERÊNCIA NÃO FORNECIDOS"
   ]
  },
  {
   "cell_type": "markdown",
   "id": "03506cdf",
   "metadata": {},
   "source": [
    "#### CARTA I e MR (VALORES INDIVIDUAIS E AMPLITUDE)\n",
    "#### CARTA I"
   ]
  },
  {
   "cell_type": "code",
   "execution_count": 81,
   "id": "4958d39c",
   "metadata": {},
   "outputs": [],
   "source": [
    "# E2 É VALOR TABELADO - PODE SER BUSCADO DE FORMA DIRETA NA TABELA, PORÉM FOI UTILIZADO O FATOR d2 PARA CHEGAR A E2\n",
    "# d2 É VALOR TABELADO\n",
    "\n",
    "d2 <- 1.128\n",
    "E2 <- ifelse(3/d2 >= 0, 3/d2, 0) \n",
    "  \n",
    "IMR_LC <- Media_I\n",
    "IMR_LSC <- Media_I + (E2*Media_MR)\n",
    "IMR_LIC <- Media_I - (E2*Media_MR)"
   ]
  },
  {
   "cell_type": "markdown",
   "id": "d6246c09",
   "metadata": {},
   "source": [
    "#### CARTA MR"
   ]
  },
  {
   "cell_type": "code",
   "execution_count": 82,
   "id": "60bb8736",
   "metadata": {},
   "outputs": [],
   "source": [
    "# D3 E D4 SÃO VALORES TABELADOS - PODEM SER BUSCADOS DE FORMA DIRETA NA TABELA, PORÉM FORAM UTILIZADOS OS FATORES d2 e d3 PARA \n",
    "# CHEGAR A D3 e D4.\n",
    "# d2 e d3 SÃO VALORES TABELADOS\n",
    "\n",
    "d2 <- 1.128\n",
    "d3 <- 0.853\n",
    "\n",
    "D4 <- ifelse(1+(3*d3/d2) >= 0, 1+(3*d3/d2), 0) \n",
    "D3 <- ifelse(1-(3*d3/d2) >= 0, 1-(3*d3/d2), 0) \n",
    "\n",
    "MR_LC <- Media_MR\n",
    "MR_LSC <- Media_MR*D4\n",
    "MR_LIC <- Media_MR*D3"
   ]
  },
  {
   "cell_type": "markdown",
   "id": "f455d1ce",
   "metadata": {},
   "source": [
    "#### 5 - PLOTAR CARTA I e MR "
   ]
  },
  {
   "cell_type": "code",
   "execution_count": 83,
   "id": "c77c253c",
   "metadata": {},
   "outputs": [
    {
     "data": {
      "image/png": "[encoded data removed]",
      "text/plain": [
       "plot without title"
      ]
     },
     "metadata": {},
     "output_type": "display_data"
    }
   ],
   "source": [
    "# CARTA I\n",
    "\n",
    "carta_I <- ggplot() + \n",
    "  geom_point(data = df_viscosidade, aes(x = 1:m2, y = Viscosidade), shape = 1, size = 2) +\n",
    "  geom_line(data = df_viscosidade, aes(x = 1:m2, y = Viscosidade)) +\n",
    "  geom_line(data = df_viscosidade, aes(x = 1:m2, y = IMR_LIC), colour = \"red\") +\n",
    "  geom_line(data = df_viscosidade, aes(x = 1:m2, y = IMR_LC), colour = \"dark blue\") +\n",
    "  geom_line(data = df_viscosidade, aes(x = 1:m2, y = IMR_LSC), colour = \"red\") +\n",
    "  scale_x_continuous(breaks = c(1:m2)) +\n",
    "  scale_y_continuous(sec.axis = sec_axis(trans = ~., \n",
    "                                         breaks = c(IMR_LIC, IMR_LC, IMR_LSC),\n",
    "                                         labels = function(b){paste0(c(\"LIC = \",\"LC = \",\"LSC = \"), round(b, 6))})) +\n",
    "  labs(title = \"Carta I-MR\", x = \"\", y = \"Valores Individuais\") +\n",
    "  theme_bw() +\n",
    "  theme(plot.title = element_text(hjust = 0.5), panel.grid.major = element_blank(), panel.grid.minor = element_blank())\n",
    "\n",
    "# CARTA MR\n",
    "carta_MR <- ggplot() + \n",
    "  geom_point(data = df_viscosidade, aes(x = 1:m2, y = MR), shape = 1, size = 2) +\n",
    "  geom_line(data = df_viscosidade, aes(x = 1:m2, y = MR)) +\n",
    "  geom_line(data = df_viscosidade, aes(x = 1:m2, y = MR_LIC), colour = \"red\") +\n",
    "  geom_line(data = df_viscosidade, aes(x = 1:m2, y = MR_LC), colour = \"dark blue\") +\n",
    "  geom_line(data = df_viscosidade, aes(x = 1:m2, y = MR_LSC), colour = \"red\") +\n",
    "  scale_x_continuous(breaks = c(1:m2)) +\n",
    "  scale_y_continuous(sec.axis = sec_axis(trans = ~., \n",
    "                                         breaks = c(MR_LIC, MR_LC, MR_LSC),\n",
    "                                         labels = function(b){paste0(c(\"LIC = \",\"LC = \",\"LSC = \"), round(b, 6))})) +\n",
    "  labs(x = \"\", y = \"Amplitudes Móveis\") +\n",
    "  theme_bw() +\n",
    "  theme(plot.title = element_text(hjust = 0.5), panel.grid.major = element_blank(), panel.grid.minor = element_blank())\n",
    "\n",
    "options(repr.plot.width = 6, repr.plot.height = 5)\n",
    "plot_grid(carta_I, carta_MR, ncol = 1, align = \"hv\")"
   ]
  },
  {
   "cell_type": "markdown",
   "id": "0b02728a",
   "metadata": {},
   "source": [
    "O processo está fora de controle, pois há padrões não aleatórios."
   ]
  },
  {
   "cell_type": "markdown",
   "id": "140d8b06",
   "metadata": {},
   "source": [
    "#### REFERÊNCIAS\n",
    "\n",
    "CARUSO, M.S.F.; GRANATO, D.; OLIVEIRA, C.C.; SAKUMA, A.M. **Manual para elaboração de cartas de controle \n",
    "para monitoramento de processos de medição quantitativos em laboratórios de ensaio**. São Paulo: Secretaria de Estado da Saúde SES/SP, 2013. Disponível em: < http://www.ial.sp.gov.br/resources/editorinplace/ial/2016_3_19/manual-carta-controle_ial_2013.pdf?attach=true >. Acesso em: 27 dezembro 2021.\n",
    "\n",
    "\n"
   ]
  }
 ],
 "metadata": {
  "kernelspec": {
   "display_name": "R",
   "language": "R",
   "name": "ir"
  },
  "language_info": {
   "codemirror_mode": "r",
   "file_extension": ".r",
   "mimetype": "text/x-r-source",
   "name": "R",
   "pygments_lexer": "r",
   "version": "3.6.1"
  }
 },
 "nbformat": 4,
 "nbformat_minor": 5
}
