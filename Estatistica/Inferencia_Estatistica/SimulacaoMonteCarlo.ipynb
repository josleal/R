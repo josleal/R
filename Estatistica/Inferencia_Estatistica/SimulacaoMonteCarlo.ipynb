{
 "cells": [
  {
   "cell_type": "markdown",
   "metadata": {},
   "source": [
    "\n",
    "### <div style=\"text-align: justify;\">EXEMPLO DO LIVRO: PESQUISA OPERACIONAL PARA OS CURSOS DE ADMINISTRAÇÃO E ENGENHARIA, 4ª EDIÇÃO.</div>\n",
    "#### AUTORES: ERMES MEDEIROS DA SILVA, ELIO MEDEIROS DA SILVA, VALTER GONÇALVES E AFRÂNIO CARLOS MUROLO.\n",
    "\n",
    "\n",
    "\n",
    "\n",
    "**OBSERVAÇÃO:**\n",
    "\n",
    "<div style=\"text-align: justify;\">A base do exemplo de simulação abaixo foi retirada do livro citado, porém tive que adaptar os dados, pois não foi possível saber ao certo os dados de entrada (demanda semanal). Portanto, neste notebook, mostro a ideia do exemplo do livro com valores diferentes de entrada. O exemplo retirado do livro citado será replicado por mim com a linguagem R.</div>"
   ]
  },
  {
   "cell_type": "code",
   "execution_count": 1,
   "metadata": {},
   "outputs": [],
   "source": [
    "# DESATIVAR MENSAGENS DE WARNINGS (warn = -1) E ATIVAR (warn = 0)\n",
    "options(warn = -1)\n",
    "suppressPackageStartupMessages({library(dplyr)})"
   ]
  },
  {
   "cell_type": "markdown",
   "metadata": {},
   "source": [
    "### SIMULAÇÃO DE MONTE CARLO\n",
    "    \n",
    "#### EXEMPLO DE APLICAÇÃO\n",
    "<p>\n",
    "<div style=\"text-align: justify;\">Um feirante faz compra de ovos uma vez por semana num entreposto atacadista. Os ovos não vendidos dentro de uma semana se estragam, e são descartados, acarretando prejuízo de 400 u.m por dúzia. Por outro lado, a falta de produto para a venda também acarreta perda, estimada em 150 u.m por dúzia demandada e não vendida. O feirante anotou a demanda das últimas 40 semanas e dividiu-as em sete classes, conforme abaixo:</div>"
   ]
  },
  {
   "cell_type": "markdown",
   "metadata": {},
   "source": [
    "#### DADOS"
   ]
  },
  {
   "cell_type": "code",
   "execution_count": 2,
   "metadata": {},
   "outputs": [],
   "source": [
    "# DADOS DA DEMANDA SEMANAL DE DÚZIAS\n",
    "dados_semanais <- c(210,216,222,216,210,228,234,240,234,216,222,216,204,210,222,228,240,234,216,228,\n",
    "                    252,248,252,256,252,248,234,240,234,248,216,228,222,234,228,222,234,240,234,228)"
   ]
  },
  {
   "cell_type": "markdown",
   "metadata": {},
   "source": [
    "#### TESTAR AS HIPÓTESES\n",
    "\n",
    "1. Comprar cada semana a demanda efetiva da semana anterior.\n",
    "2. Comprar uma quantidade igual à média histórica anotada no período anterior de 40 semanas (média = valor inteiro mais próximo da média verificada).\n",
    "3. O exame dos resultados sugere o teste de outra hipótese."
   ]
  },
  {
   "cell_type": "code",
   "execution_count": 3,
   "metadata": {},
   "outputs": [
    {
     "data": {
      "text/plain": [
       "   Min. 1st Qu.  Median    Mean 3rd Qu.    Max. \n",
       "  204.0   220.5   228.0   229.9   240.0   256.0 "
      ]
     },
     "metadata": {},
     "output_type": "display_data"
    }
   ],
   "source": [
    "summary(dados_semanais)"
   ]
  },
  {
   "cell_type": "code",
   "execution_count": 4,
   "metadata": {},
   "outputs": [
    {
     "name": "stdout",
     "output_type": "stream",
     "text": [
      "Tamanho(n): 40\n",
      "Aplitude(R): 52\n",
      "Classes(k): 6.32\n",
      "Intervalo de classe(h): 8.23"
     ]
    }
   ],
   "source": [
    "n <- length(dados_semanais); cat(\"Tamanho(n):\",n)\n",
    "R <- max(dados_semanais) - min(dados_semanais); cat(\"\\nAplitude(R):\",R)\n",
    "k <- round(sqrt(n),2); cat(\"\\nClasses(k):\",k)\n",
    "h <- round(R/k, 2); cat(\"\\nIntervalo de classe(h):\",h)"
   ]
  },
  {
   "cell_type": "markdown",
   "metadata": {},
   "source": [
    "#### TABELA DE FREQUÊNCIA"
   ]
  },
  {
   "cell_type": "code",
   "execution_count": 5,
   "metadata": {},
   "outputs": [
    {
     "name": "stdout",
     "output_type": "stream",
     "text": [
      "Intervalos: 204 210 216 222 228 234 240 246 252 258"
     ]
    }
   ],
   "source": [
    "# INTERVALOS\n",
    "intervalos <- seq(204, 260, 6); cat(\"Intervalos:\", intervalos)\n",
    "# CLASSES\n",
    "classes <- cut(x = dados_semanais, breaks = intervalos, right = FALSE, include.lowest = TRUE)\n",
    "# FREQUÊNCIA \n",
    "frequencia <- table(classes)\n",
    "frequencia_df <- data.frame(frequencia)\n",
    "# TABELA DE FREQUÊNCIA\n",
    "tabela_frequencia <- frequencia_df %>%\n",
    "mutate(freq_R.1000 = Freq/n * 1000,\n",
    "       freq_RA = cumsum(Freq)/n * 1000)"
   ]
  },
  {
   "cell_type": "code",
   "execution_count": 6,
   "metadata": {},
   "outputs": [],
   "source": [
    "# CRIAR VETOR COM O PONTO MÉDIO DAS CLASSES DA TABELA DE FREQUÊNCIA\n",
    "PM = c()\n",
    "num = 0; soma = 1\n",
    "for(x in 1:length(frequencia_df$classes)){\n",
    "    num = num + soma\n",
    "    ponto_medio <- (intervalos[num] + intervalos[num+1])/2\n",
    "    PM <- append(PM, ponto_medio)\n",
    "}     "
   ]
  },
  {
   "cell_type": "code",
   "execution_count": 7,
   "metadata": {},
   "outputs": [],
   "source": [
    "# ADICIONAR O VETOR À TABELA DE FREQUÊNCIAS\n",
    "tabela_frequencia <- cbind(tabela_frequencia, PM)\n",
    "# COLOCAR AS COLUNAS DA TABELA NA ORDEM DESEJADA\n",
    "tabela_frequencia <- select(tabela_frequencia, classes, PM, everything())"
   ]
  },
  {
   "cell_type": "markdown",
   "metadata": {},
   "source": [
    "<div style=\"text-align: justify;\">Vamos simular a primeira hipótese para 20 semanas. Os limites para os números aleatórios são obtidos através da frequência acumulada relativa, conforme mostra a tabela.</div>"
   ]
  },
  {
   "cell_type": "code",
   "execution_count": 8,
   "metadata": {},
   "outputs": [
    {
     "data": {
      "text/html": [
       "<table>\n",
       "<thead><tr><th scope=col>classes</th><th scope=col>PM</th><th scope=col>Freq</th><th scope=col>Freq.R.1000</th><th scope=col>Freq.R.A</th><th scope=col>L.I.sorteio</th><th scope=col>L.S.sorteio</th></tr></thead>\n",
       "<tbody>\n",
       "\t<tr><td>[204,210)</td><td>207      </td><td>1        </td><td> 25      </td><td>  25     </td><td>  0      </td><td> 24      </td></tr>\n",
       "\t<tr><td>[210,216)</td><td>213      </td><td>3        </td><td> 75      </td><td> 100     </td><td> 25      </td><td> 99      </td></tr>\n",
       "\t<tr><td>[216,222)</td><td>219      </td><td>6        </td><td>150      </td><td> 250     </td><td>100      </td><td>249      </td></tr>\n",
       "\t<tr><td>[222,228)</td><td>225      </td><td>5        </td><td>125      </td><td> 375     </td><td>250      </td><td>374      </td></tr>\n",
       "\t<tr><td>[228,234)</td><td>231      </td><td>6        </td><td>150      </td><td> 525     </td><td>375      </td><td>524      </td></tr>\n",
       "\t<tr><td>[234,240)</td><td>237      </td><td>8        </td><td>200      </td><td> 725     </td><td>525      </td><td>724      </td></tr>\n",
       "\t<tr><td>[240,246)</td><td>243      </td><td>4        </td><td>100      </td><td> 825     </td><td>725      </td><td>824      </td></tr>\n",
       "\t<tr><td>[246,252)</td><td>249      </td><td>3        </td><td> 75      </td><td> 900     </td><td>825      </td><td>899      </td></tr>\n",
       "\t<tr><td>[252,258]</td><td>255      </td><td>4        </td><td>100      </td><td>1000     </td><td>900      </td><td>999      </td></tr>\n",
       "</tbody>\n",
       "</table>\n"
      ],
      "text/latex": [
       "\\begin{tabular}{r|lllllll}\n",
       " classes & PM & Freq & Freq.R.1000 & Freq.R.A & L.I.sorteio & L.S.sorteio\\\\\n",
       "\\hline\n",
       "\t {[}204,210) & 207         & 1           &  25         &   25        &   0         &  24        \\\\\n",
       "\t {[}210,216) & 213         & 3           &  75         &  100        &  25         &  99        \\\\\n",
       "\t {[}216,222) & 219         & 6           & 150         &  250        & 100         & 249        \\\\\n",
       "\t {[}222,228) & 225         & 5           & 125         &  375        & 250         & 374        \\\\\n",
       "\t {[}228,234) & 231         & 6           & 150         &  525        & 375         & 524        \\\\\n",
       "\t {[}234,240) & 237         & 8           & 200         &  725        & 525         & 724        \\\\\n",
       "\t {[}240,246) & 243         & 4           & 100         &  825        & 725         & 824        \\\\\n",
       "\t {[}246,252) & 249         & 3           &  75         &  900        & 825         & 899        \\\\\n",
       "\t {[}252,258{]} & 255           & 4             & 100           & 1000          & 900           & 999          \\\\\n",
       "\\end{tabular}\n"
      ],
      "text/markdown": [
       "\n",
       "| classes | PM | Freq | Freq.R.1000 | Freq.R.A | L.I.sorteio | L.S.sorteio |\n",
       "|---|---|---|---|---|---|---|\n",
       "| [204,210) | 207       | 1         |  25       |   25      |   0       |  24       |\n",
       "| [210,216) | 213       | 3         |  75       |  100      |  25       |  99       |\n",
       "| [216,222) | 219       | 6         | 150       |  250      | 100       | 249       |\n",
       "| [222,228) | 225       | 5         | 125       |  375      | 250       | 374       |\n",
       "| [228,234) | 231       | 6         | 150       |  525      | 375       | 524       |\n",
       "| [234,240) | 237       | 8         | 200       |  725      | 525       | 724       |\n",
       "| [240,246) | 243       | 4         | 100       |  825      | 725       | 824       |\n",
       "| [246,252) | 249       | 3         |  75       |  900      | 825       | 899       |\n",
       "| [252,258] | 255       | 4         | 100       | 1000      | 900       | 999       |\n",
       "\n"
      ],
      "text/plain": [
       "  classes   PM  Freq Freq.R.1000 Freq.R.A L.I.sorteio L.S.sorteio\n",
       "1 [204,210) 207 1     25           25       0          24        \n",
       "2 [210,216) 213 3     75          100      25          99        \n",
       "3 [216,222) 219 6    150          250     100         249        \n",
       "4 [222,228) 225 5    125          375     250         374        \n",
       "5 [228,234) 231 6    150          525     375         524        \n",
       "6 [234,240) 237 8    200          725     525         724        \n",
       "7 [240,246) 243 4    100          825     725         824        \n",
       "8 [246,252) 249 3     75          900     825         899        \n",
       "9 [252,258] 255 4    100         1000     900         999        "
      ]
     },
     "metadata": {},
     "output_type": "display_data"
    }
   ],
   "source": [
    "# CRIAR LIMITES INFERIORES E SUPERIORES PARA SORTEIO\n",
    "tabela_frequencia <- tabela_frequencia %>%\n",
    "mutate(LI_sorteio = freq_RA - freq_R.1000,\n",
    "       LS_sorteio = freq_RA - 1); tabela_frequencia"
   ]
  },
  {
   "cell_type": "code",
   "execution_count": 9,
   "metadata": {},
   "outputs": [],
   "source": [
    "# FUNÇÕES ESPECÍFICAS PARA ESTE PROBLEMA DE NEGÓCIO\n",
    "# CRIAR A FUNÇÃO VENDA - (DEMANDA E ESTOQUE INICIAL)\n",
    "funcao_venda = function(x,y){\n",
    "    if(x < y)\n",
    "        x \n",
    "    else\n",
    "        y \n",
    "}\n",
    "# CRIAR A FUNÇÃO DE ESTOQUE FINAL - (ESTOQUE INICIAL - VENDA)\n",
    "funcao_estoque_final = function(x,y){\n",
    "        z = x - y\n",
    "}\n",
    "# CRIAR A FUNÇÃO CUSTO DE FALTA - (DEMANDA - ESTOQUE INICIAL)*150.00\n",
    "funcao_custo_falta = function(x,y){\n",
    "    if(x > y)\n",
    "        x = (x - y) * 150.00\n",
    "    else\n",
    "        y = 0\n",
    "}\n",
    "# CRIAR FUNÇÃO CUSTO DE SOBRA - (ESTOQUE FINAL*400)\n",
    "funcao_custo_sobra = function(x){\n",
    "        y = x * 400\n",
    "}\n",
    "# CRIAR A FUNÇÃO CUSTO TOTAL - (CUSTO FALTA + CUSTO SOBRA)\n",
    "funcao_custo_total = function(x, y){\n",
    "        z = x + y\n",
    "}"
   ]
  },
  {
   "cell_type": "markdown",
   "metadata": {},
   "source": [
    "#### FUNÇÃO SIMULAÇÃO DE MONTE CARLO"
   ]
  },
  {
   "cell_type": "code",
   "execution_count": 10,
   "metadata": {},
   "outputs": [],
   "source": [
    "# FUNÇÃO SIMULAÇÃO DE MONTE CARLO\n",
    "SimulacaoMonteCarlo <- function(iteracoes,coluna_LI,coluna_LS,coluna_PM){\n",
    "    simulacao <- data.frame()\n",
    "    for (i in 1:iteracoes){\n",
    "        iteracao <- i\n",
    "        sorteio <- sample(0:999, 1)\n",
    "        contador = 0\n",
    "        repeat {\n",
    "        contador = contador + 1\n",
    "        if (sorteio >= coluna_LI[contador] & sorteio <= coluna_LS[contador]){\n",
    "            PM_classe <- coluna_PM[contador]\n",
    "            vetor = c(iteracao,sorteio,PM_classe)\n",
    "            simulacao = rbind(simulacao, vetor)\n",
    "            colnames(simulacao) <- c(\"iteracoes\",\"sorteio\",\"previsao\")\n",
    "            break()\n",
    "        \n",
    "    }\n",
    "    } \n",
    "}\n",
    "    return(simulacao)\n",
    "}"
   ]
  },
  {
   "cell_type": "markdown",
   "metadata": {},
   "source": [
    "#### TESTANDO A PRIMEIRA HIPÓTESE\n",
    "1. Comprar cada semana a demanda efetiva da semana anterior."
   ]
  },
  {
   "cell_type": "markdown",
   "metadata": {},
   "source": [
    "#### CRIANDO A TABELA DE CUSTOS\n",
    "<p>\n",
    "<div style=\"text-align: justify;\">A partir da tabela de frequência com os números aleatórios, levantamos uma sequência de vinte números de três algarismos, como já anteriormente descrito. Para iniciar o processo, vamos aceitar a demanda anterior à primeira semana igual à média ponderada do período anterior.</div>"
   ]
  },
  {
   "cell_type": "code",
   "execution_count": 11,
   "metadata": {},
   "outputs": [
    {
     "data": {
      "text/html": [
       "233"
      ],
      "text/latex": [
       "233"
      ],
      "text/markdown": [
       "233"
      ],
      "text/plain": [
       "[1] 233"
      ]
     },
     "metadata": {},
     "output_type": "display_data"
    }
   ],
   "source": [
    "# COMPRAR CADA SEMANA A DEMANDA EFETIVA DA SEMANA ANTERIOR - ESTOQUE INICIAL\n",
    "# MÉDIA PONDERADA DOS DADOS FOI COLOCADA NO ESTOQUE INICIAL DA PRIMEIRA SEMANA, POIS NÃO SE TEM A DEMANDA ANTERIOR, JÁ QUE \n",
    "# A SIMULAÇÃO COMEÇA NA PRIMEIRA ITERAÇÃO.\n",
    "media_ponderada <- round(weighted.mean(tabela_frequencia$PM, tabela_frequencia$Freq))\n",
    "estoque_inicial <- c(media_ponderada); estoque_inicial"
   ]
  },
  {
   "cell_type": "code",
   "execution_count": 12,
   "metadata": {},
   "outputs": [],
   "source": [
    "tabela_custos <- SimulacaoMonteCarlo(20, tabela_frequencia$LI_sorteio, tabela_frequencia$LS_sorteio, tabela_frequencia$PM)\n",
    "colnames(tabela_custos) <- c(\"semana\", \"sorteio\", \"demanda\")"
   ]
  },
  {
   "cell_type": "code",
   "execution_count": 13,
   "metadata": {},
   "outputs": [],
   "source": [
    "# CRIAR A COLUNA ESTOQUE INICIAL \n",
    "# A PARTIR DAS PREVISÕES DE DEMANDA DA PRIMEIRA SEMANA COLOCA-SE NO ESTOQUE INICIAL A DEMANDA DA SEMANA ANTERIOR.\n",
    "tabela_custos$estoque_inicial[1] <- estoque_inicial\n",
    "tabela_custos$estoque_inicial[2:20] <- tabela_custos$demanda[1:19]"
   ]
  },
  {
   "cell_type": "code",
   "execution_count": 14,
   "metadata": {},
   "outputs": [],
   "source": [
    "# CRIAR A COLUNA VENDA\n",
    "tabela_custos$venda <- mapply(funcao_venda, tabela_custos$demanda, tabela_custos$estoque_inicial)\n",
    "# CRIAR A COLUNA ESTOQUE FINAL\n",
    "tabela_custos$estoque_final <- mapply(funcao_estoque_final, tabela_custos$estoque_inicial, tabela_custos$venda)\n",
    "# CRIAR A COLUNA CUSTO DE FALTA\n",
    "tabela_custos$custo_falta <- mapply(funcao_custo_falta, \n",
    "                                          tabela_custos$demanda, tabela_custos$estoque_inicial)\n",
    "# CRIAR COLUNA CUSTO SOBRA \n",
    "tabela_custos$custo_sobra <- funcao_custo_sobra(tabela_custos$estoque_final)\n",
    "# CRIAR A COLUNA CUSTO TOTAL\n",
    "tabela_custos$custo_total <- funcao_custo_total(tabela_custos$custo_falta, tabela_custos$custo_sobra)"
   ]
  },
  {
   "cell_type": "code",
   "execution_count": 15,
   "metadata": {},
   "outputs": [
    {
     "data": {
      "text/html": [
       "<table>\n",
       "<thead><tr><th scope=col>Semana</th><th scope=col>Sorteio</th><th scope=col>Demanda</th><th scope=col>Estoque.Inicial</th><th scope=col>Venda</th><th scope=col>Estoque.Final</th><th scope=col>Custo.Falta</th><th scope=col>Custo.Sobra</th><th scope=col>Custo.Total</th></tr></thead>\n",
       "<tbody>\n",
       "\t<tr><td> 1  </td><td>426 </td><td>231 </td><td>233 </td><td>231 </td><td> 2  </td><td>   0</td><td> 800</td><td> 800</td></tr>\n",
       "\t<tr><td> 2  </td><td>513 </td><td>231 </td><td>231 </td><td>231 </td><td> 0  </td><td>   0</td><td>   0</td><td>   0</td></tr>\n",
       "\t<tr><td> 3  </td><td>887 </td><td>249 </td><td>231 </td><td>231 </td><td> 0  </td><td>2700</td><td>   0</td><td>2700</td></tr>\n",
       "\t<tr><td> 4  </td><td>506 </td><td>231 </td><td>249 </td><td>231 </td><td>18  </td><td>   0</td><td>7200</td><td>7200</td></tr>\n",
       "\t<tr><td> 5  </td><td>614 </td><td>237 </td><td>231 </td><td>231 </td><td> 0  </td><td> 900</td><td>   0</td><td> 900</td></tr>\n",
       "\t<tr><td> 6  </td><td>426 </td><td>231 </td><td>237 </td><td>231 </td><td> 6  </td><td>   0</td><td>2400</td><td>2400</td></tr>\n",
       "\t<tr><td> 7  </td><td>235 </td><td>219 </td><td>231 </td><td>219 </td><td>12  </td><td>   0</td><td>4800</td><td>4800</td></tr>\n",
       "\t<tr><td> 8  </td><td>715 </td><td>237 </td><td>219 </td><td>219 </td><td> 0  </td><td>2700</td><td>   0</td><td>2700</td></tr>\n",
       "\t<tr><td> 9  </td><td>198 </td><td>219 </td><td>237 </td><td>219 </td><td>18  </td><td>   0</td><td>7200</td><td>7200</td></tr>\n",
       "\t<tr><td>10  </td><td>888 </td><td>249 </td><td>219 </td><td>219 </td><td> 0  </td><td>4500</td><td>   0</td><td>4500</td></tr>\n",
       "\t<tr><td>11  </td><td>798 </td><td>243 </td><td>249 </td><td>243 </td><td> 6  </td><td>   0</td><td>2400</td><td>2400</td></tr>\n",
       "\t<tr><td>12  </td><td>440 </td><td>231 </td><td>243 </td><td>231 </td><td>12  </td><td>   0</td><td>4800</td><td>4800</td></tr>\n",
       "\t<tr><td>13  </td><td>512 </td><td>231 </td><td>231 </td><td>231 </td><td> 0  </td><td>   0</td><td>   0</td><td>   0</td></tr>\n",
       "\t<tr><td>14  </td><td>550 </td><td>237 </td><td>231 </td><td>231 </td><td> 0  </td><td> 900</td><td>   0</td><td> 900</td></tr>\n",
       "\t<tr><td>15  </td><td>805 </td><td>243 </td><td>237 </td><td>237 </td><td> 0  </td><td> 900</td><td>   0</td><td> 900</td></tr>\n",
       "\t<tr><td>16  </td><td>128 </td><td>219 </td><td>243 </td><td>219 </td><td>24  </td><td>   0</td><td>9600</td><td>9600</td></tr>\n",
       "\t<tr><td>17  </td><td>753 </td><td>243 </td><td>219 </td><td>219 </td><td> 0  </td><td>3600</td><td>   0</td><td>3600</td></tr>\n",
       "\t<tr><td>18  </td><td>186 </td><td>219 </td><td>243 </td><td>219 </td><td>24  </td><td>   0</td><td>9600</td><td>9600</td></tr>\n",
       "\t<tr><td>19  </td><td>869 </td><td>249 </td><td>219 </td><td>219 </td><td> 0  </td><td>4500</td><td>   0</td><td>4500</td></tr>\n",
       "\t<tr><td>20  </td><td>676 </td><td>237 </td><td>249 </td><td>237 </td><td>12  </td><td>   0</td><td>4800</td><td>4800</td></tr>\n",
       "</tbody>\n",
       "</table>\n"
      ],
      "text/latex": [
       "\\begin{tabular}{r|lllllllll}\n",
       " Semana & Sorteio & Demanda & Estoque.Inicial & Venda & Estoque.Final & Custo.Falta & Custo.Sobra & Custo.Total\\\\\n",
       "\\hline\n",
       "\t  1   & 426  & 231  & 233  & 231  &  2   &    0 &  800 &  800\\\\\n",
       "\t  2   & 513  & 231  & 231  & 231  &  0   &    0 &    0 &    0\\\\\n",
       "\t  3   & 887  & 249  & 231  & 231  &  0   & 2700 &    0 & 2700\\\\\n",
       "\t  4   & 506  & 231  & 249  & 231  & 18   &    0 & 7200 & 7200\\\\\n",
       "\t  5   & 614  & 237  & 231  & 231  &  0   &  900 &    0 &  900\\\\\n",
       "\t  6   & 426  & 231  & 237  & 231  &  6   &    0 & 2400 & 2400\\\\\n",
       "\t  7   & 235  & 219  & 231  & 219  & 12   &    0 & 4800 & 4800\\\\\n",
       "\t  8   & 715  & 237  & 219  & 219  &  0   & 2700 &    0 & 2700\\\\\n",
       "\t  9   & 198  & 219  & 237  & 219  & 18   &    0 & 7200 & 7200\\\\\n",
       "\t 10   & 888  & 249  & 219  & 219  &  0   & 4500 &    0 & 4500\\\\\n",
       "\t 11   & 798  & 243  & 249  & 243  &  6   &    0 & 2400 & 2400\\\\\n",
       "\t 12   & 440  & 231  & 243  & 231  & 12   &    0 & 4800 & 4800\\\\\n",
       "\t 13   & 512  & 231  & 231  & 231  &  0   &    0 &    0 &    0\\\\\n",
       "\t 14   & 550  & 237  & 231  & 231  &  0   &  900 &    0 &  900\\\\\n",
       "\t 15   & 805  & 243  & 237  & 237  &  0   &  900 &    0 &  900\\\\\n",
       "\t 16   & 128  & 219  & 243  & 219  & 24   &    0 & 9600 & 9600\\\\\n",
       "\t 17   & 753  & 243  & 219  & 219  &  0   & 3600 &    0 & 3600\\\\\n",
       "\t 18   & 186  & 219  & 243  & 219  & 24   &    0 & 9600 & 9600\\\\\n",
       "\t 19   & 869  & 249  & 219  & 219  &  0   & 4500 &    0 & 4500\\\\\n",
       "\t 20   & 676  & 237  & 249  & 237  & 12   &    0 & 4800 & 4800\\\\\n",
       "\\end{tabular}\n"
      ],
      "text/markdown": [
       "\n",
       "| Semana | Sorteio | Demanda | Estoque.Inicial | Venda | Estoque.Final | Custo.Falta | Custo.Sobra | Custo.Total |\n",
       "|---|---|---|---|---|---|---|---|---|\n",
       "|  1   | 426  | 231  | 233  | 231  |  2   |    0 |  800 |  800 |\n",
       "|  2   | 513  | 231  | 231  | 231  |  0   |    0 |    0 |    0 |\n",
       "|  3   | 887  | 249  | 231  | 231  |  0   | 2700 |    0 | 2700 |\n",
       "|  4   | 506  | 231  | 249  | 231  | 18   |    0 | 7200 | 7200 |\n",
       "|  5   | 614  | 237  | 231  | 231  |  0   |  900 |    0 |  900 |\n",
       "|  6   | 426  | 231  | 237  | 231  |  6   |    0 | 2400 | 2400 |\n",
       "|  7   | 235  | 219  | 231  | 219  | 12   |    0 | 4800 | 4800 |\n",
       "|  8   | 715  | 237  | 219  | 219  |  0   | 2700 |    0 | 2700 |\n",
       "|  9   | 198  | 219  | 237  | 219  | 18   |    0 | 7200 | 7200 |\n",
       "| 10   | 888  | 249  | 219  | 219  |  0   | 4500 |    0 | 4500 |\n",
       "| 11   | 798  | 243  | 249  | 243  |  6   |    0 | 2400 | 2400 |\n",
       "| 12   | 440  | 231  | 243  | 231  | 12   |    0 | 4800 | 4800 |\n",
       "| 13   | 512  | 231  | 231  | 231  |  0   |    0 |    0 |    0 |\n",
       "| 14   | 550  | 237  | 231  | 231  |  0   |  900 |    0 |  900 |\n",
       "| 15   | 805  | 243  | 237  | 237  |  0   |  900 |    0 |  900 |\n",
       "| 16   | 128  | 219  | 243  | 219  | 24   |    0 | 9600 | 9600 |\n",
       "| 17   | 753  | 243  | 219  | 219  |  0   | 3600 |    0 | 3600 |\n",
       "| 18   | 186  | 219  | 243  | 219  | 24   |    0 | 9600 | 9600 |\n",
       "| 19   | 869  | 249  | 219  | 219  |  0   | 4500 |    0 | 4500 |\n",
       "| 20   | 676  | 237  | 249  | 237  | 12   |    0 | 4800 | 4800 |\n",
       "\n"
      ],
      "text/plain": [
       "   Semana Sorteio Demanda Estoque.Inicial Venda Estoque.Final Custo.Falta\n",
       "1   1     426     231     233             231    2               0       \n",
       "2   2     513     231     231             231    0               0       \n",
       "3   3     887     249     231             231    0            2700       \n",
       "4   4     506     231     249             231   18               0       \n",
       "5   5     614     237     231             231    0             900       \n",
       "6   6     426     231     237             231    6               0       \n",
       "7   7     235     219     231             219   12               0       \n",
       "8   8     715     237     219             219    0            2700       \n",
       "9   9     198     219     237             219   18               0       \n",
       "10 10     888     249     219             219    0            4500       \n",
       "11 11     798     243     249             243    6               0       \n",
       "12 12     440     231     243             231   12               0       \n",
       "13 13     512     231     231             231    0               0       \n",
       "14 14     550     237     231             231    0             900       \n",
       "15 15     805     243     237             237    0             900       \n",
       "16 16     128     219     243             219   24               0       \n",
       "17 17     753     243     219             219    0            3600       \n",
       "18 18     186     219     243             219   24               0       \n",
       "19 19     869     249     219             219    0            4500       \n",
       "20 20     676     237     249             237   12               0       \n",
       "   Custo.Sobra Custo.Total\n",
       "1   800         800       \n",
       "2     0           0       \n",
       "3     0        2700       \n",
       "4  7200        7200       \n",
       "5     0         900       \n",
       "6  2400        2400       \n",
       "7  4800        4800       \n",
       "8     0        2700       \n",
       "9  7200        7200       \n",
       "10    0        4500       \n",
       "11 2400        2400       \n",
       "12 4800        4800       \n",
       "13    0           0       \n",
       "14    0         900       \n",
       "15    0         900       \n",
       "16 9600        9600       \n",
       "17    0        3600       \n",
       "18 9600        9600       \n",
       "19    0        4500       \n",
       "20 4800        4800       "
      ]
     },
     "metadata": {},
     "output_type": "display_data"
    }
   ],
   "source": [
    "tabela_custos"
   ]
  },
  {
   "cell_type": "code",
   "execution_count": 16,
   "metadata": {},
   "outputs": [
    {
     "name": "stdout",
     "output_type": "stream",
     "text": [
      "Custo Total: 74300 u.m"
     ]
    }
   ],
   "source": [
    "custo_total <- sum(tabela_custos$custo_total)\n",
    "cat(\"Custo Total:\", custo_total,\"u.m\")"
   ]
  },
  {
   "cell_type": "markdown",
   "metadata": {},
   "source": [
    "#### TESTANDO A SEGUNDA HIPÓTESE\n",
    "2. Comprar uma quantidade igual à média histórica anotada no período anterior de 40 semanas (média = valor inteiro mais próximo da média verificada)."
   ]
  },
  {
   "cell_type": "code",
   "execution_count": 17,
   "metadata": {},
   "outputs": [
    {
     "name": "stdout",
     "output_type": "stream",
     "text": [
      "Média Ponderada = 233 \n",
      "Comprar 233 toda semana"
     ]
    }
   ],
   "source": [
    "cat(\"Média Ponderada =\" ,media_ponderada, \"\\nComprar\", media_ponderada,\"toda semana\")"
   ]
  },
  {
   "cell_type": "code",
   "execution_count": 18,
   "metadata": {},
   "outputs": [],
   "source": [
    "# CRIAR A TABELA DE CUSTO DA SEGUNDA HIPÓTESE COM BASE NA PRIMEIRA TABELA GERADA\n",
    "tabela_custos2 = tabela_custos"
   ]
  },
  {
   "cell_type": "code",
   "execution_count": 19,
   "metadata": {},
   "outputs": [],
   "source": [
    "# CRIAR A COLUNA ESTOQUE INICIAL COM A MÉDIA PONDERADA\n",
    "tabela_custos2$estoque_inicial[1:20] <- estoque_inicial"
   ]
  },
  {
   "cell_type": "code",
   "execution_count": 20,
   "metadata": {},
   "outputs": [],
   "source": [
    "# CRIAR A COLUNA VENDA\n",
    "tabela_custos2$venda <- mapply(funcao_venda, tabela_custos2$demanda, tabela_custos2$estoque_inicial)\n",
    "# CRIAR A COLUNA ESTOQUE FINAL\n",
    "tabela_custos2$estoque_final <- mapply(funcao_estoque_final, tabela_custos2$estoque_inicial, tabela_custos2$venda)\n",
    "# CRIAR A COLUNA CUSTO DE FALTA\n",
    "Tabela_custos2$custo_falta <- mapply(funcao_custo_falta, \n",
    "                                          tabela_custos2$demanda, tabela_custos2$estoque_inicial)\n",
    "# CRIAR COLUNA CUSTO SOBRA \n",
    "tabela_custos2$custo_sobra <- funcao_custo_sobra(tabela_custos2$estoque_inicial)\n",
    "# CRIAR A COLUNA CUSTO TOTAL\n",
    "tabela_custos2$custo_total <- funcao_custo_total(tabela_custos2$custo_falta, tabela_custos2$custo_sobra)"
   ]
  },
  {
   "cell_type": "code",
   "execution_count": 21,
   "metadata": {},
   "outputs": [
    {
     "data": {
      "text/html": [
       "<table>\n",
       "<thead><tr><th scope=col>Semana</th><th scope=col>Sorteio</th><th scope=col>Demanda</th><th scope=col>Estoque.Inicial</th><th scope=col>Venda</th><th scope=col>Estoque.Final</th><th scope=col>Custo.Falta</th><th scope=col>Custo.Sobra</th><th scope=col>Custo.Total</th></tr></thead>\n",
       "<tbody>\n",
       "\t<tr><td> 1  </td><td>426 </td><td>231 </td><td>233 </td><td>231 </td><td> 2  </td><td>   0</td><td> 800</td><td> 800</td></tr>\n",
       "\t<tr><td> 2  </td><td>513 </td><td>231 </td><td>233 </td><td>231 </td><td> 2  </td><td>   0</td><td> 800</td><td> 800</td></tr>\n",
       "\t<tr><td> 3  </td><td>887 </td><td>249 </td><td>233 </td><td>233 </td><td> 0  </td><td>2400</td><td>   0</td><td>2400</td></tr>\n",
       "\t<tr><td> 4  </td><td>506 </td><td>231 </td><td>233 </td><td>231 </td><td> 2  </td><td>   0</td><td> 800</td><td> 800</td></tr>\n",
       "\t<tr><td> 5  </td><td>614 </td><td>237 </td><td>233 </td><td>233 </td><td> 0  </td><td> 600</td><td>   0</td><td> 600</td></tr>\n",
       "\t<tr><td> 6  </td><td>426 </td><td>231 </td><td>233 </td><td>231 </td><td> 2  </td><td>   0</td><td> 800</td><td> 800</td></tr>\n",
       "\t<tr><td> 7  </td><td>235 </td><td>219 </td><td>233 </td><td>219 </td><td>14  </td><td>   0</td><td>5600</td><td>5600</td></tr>\n",
       "\t<tr><td> 8  </td><td>715 </td><td>237 </td><td>233 </td><td>233 </td><td> 0  </td><td> 600</td><td>   0</td><td> 600</td></tr>\n",
       "\t<tr><td> 9  </td><td>198 </td><td>219 </td><td>233 </td><td>219 </td><td>14  </td><td>   0</td><td>5600</td><td>5600</td></tr>\n",
       "\t<tr><td>10  </td><td>888 </td><td>249 </td><td>233 </td><td>233 </td><td> 0  </td><td>2400</td><td>   0</td><td>2400</td></tr>\n",
       "\t<tr><td>11  </td><td>798 </td><td>243 </td><td>233 </td><td>233 </td><td> 0  </td><td>1500</td><td>   0</td><td>1500</td></tr>\n",
       "\t<tr><td>12  </td><td>440 </td><td>231 </td><td>233 </td><td>231 </td><td> 2  </td><td>   0</td><td> 800</td><td> 800</td></tr>\n",
       "\t<tr><td>13  </td><td>512 </td><td>231 </td><td>233 </td><td>231 </td><td> 2  </td><td>   0</td><td> 800</td><td> 800</td></tr>\n",
       "\t<tr><td>14  </td><td>550 </td><td>237 </td><td>233 </td><td>233 </td><td> 0  </td><td> 600</td><td>   0</td><td> 600</td></tr>\n",
       "\t<tr><td>15  </td><td>805 </td><td>243 </td><td>233 </td><td>233 </td><td> 0  </td><td>1500</td><td>   0</td><td>1500</td></tr>\n",
       "\t<tr><td>16  </td><td>128 </td><td>219 </td><td>233 </td><td>219 </td><td>14  </td><td>   0</td><td>5600</td><td>5600</td></tr>\n",
       "\t<tr><td>17  </td><td>753 </td><td>243 </td><td>233 </td><td>233 </td><td> 0  </td><td>1500</td><td>   0</td><td>1500</td></tr>\n",
       "\t<tr><td>18  </td><td>186 </td><td>219 </td><td>233 </td><td>219 </td><td>14  </td><td>   0</td><td>5600</td><td>5600</td></tr>\n",
       "\t<tr><td>19  </td><td>869 </td><td>249 </td><td>233 </td><td>233 </td><td> 0  </td><td>2400</td><td>   0</td><td>2400</td></tr>\n",
       "\t<tr><td>20  </td><td>676 </td><td>237 </td><td>233 </td><td>233 </td><td> 0  </td><td> 600</td><td>   0</td><td> 600</td></tr>\n",
       "</tbody>\n",
       "</table>\n"
      ],
      "text/latex": [
       "\\begin{tabular}{r|lllllllll}\n",
       " Semana & Sorteio & Demanda & Estoque.Inicial & Venda & Estoque.Final & Custo.Falta & Custo.Sobra & Custo.Total\\\\\n",
       "\\hline\n",
       "\t  1   & 426  & 231  & 233  & 231  &  2   &    0 &  800 &  800\\\\\n",
       "\t  2   & 513  & 231  & 233  & 231  &  2   &    0 &  800 &  800\\\\\n",
       "\t  3   & 887  & 249  & 233  & 233  &  0   & 2400 &    0 & 2400\\\\\n",
       "\t  4   & 506  & 231  & 233  & 231  &  2   &    0 &  800 &  800\\\\\n",
       "\t  5   & 614  & 237  & 233  & 233  &  0   &  600 &    0 &  600\\\\\n",
       "\t  6   & 426  & 231  & 233  & 231  &  2   &    0 &  800 &  800\\\\\n",
       "\t  7   & 235  & 219  & 233  & 219  & 14   &    0 & 5600 & 5600\\\\\n",
       "\t  8   & 715  & 237  & 233  & 233  &  0   &  600 &    0 &  600\\\\\n",
       "\t  9   & 198  & 219  & 233  & 219  & 14   &    0 & 5600 & 5600\\\\\n",
       "\t 10   & 888  & 249  & 233  & 233  &  0   & 2400 &    0 & 2400\\\\\n",
       "\t 11   & 798  & 243  & 233  & 233  &  0   & 1500 &    0 & 1500\\\\\n",
       "\t 12   & 440  & 231  & 233  & 231  &  2   &    0 &  800 &  800\\\\\n",
       "\t 13   & 512  & 231  & 233  & 231  &  2   &    0 &  800 &  800\\\\\n",
       "\t 14   & 550  & 237  & 233  & 233  &  0   &  600 &    0 &  600\\\\\n",
       "\t 15   & 805  & 243  & 233  & 233  &  0   & 1500 &    0 & 1500\\\\\n",
       "\t 16   & 128  & 219  & 233  & 219  & 14   &    0 & 5600 & 5600\\\\\n",
       "\t 17   & 753  & 243  & 233  & 233  &  0   & 1500 &    0 & 1500\\\\\n",
       "\t 18   & 186  & 219  & 233  & 219  & 14   &    0 & 5600 & 5600\\\\\n",
       "\t 19   & 869  & 249  & 233  & 233  &  0   & 2400 &    0 & 2400\\\\\n",
       "\t 20   & 676  & 237  & 233  & 233  &  0   &  600 &    0 &  600\\\\\n",
       "\\end{tabular}\n"
      ],
      "text/markdown": [
       "\n",
       "| Semana | Sorteio | Demanda | Estoque.Inicial | Venda | Estoque.Final | Custo.Falta | Custo.Sobra | Custo.Total |\n",
       "|---|---|---|---|---|---|---|---|---|\n",
       "|  1   | 426  | 231  | 233  | 231  |  2   |    0 |  800 |  800 |\n",
       "|  2   | 513  | 231  | 233  | 231  |  2   |    0 |  800 |  800 |\n",
       "|  3   | 887  | 249  | 233  | 233  |  0   | 2400 |    0 | 2400 |\n",
       "|  4   | 506  | 231  | 233  | 231  |  2   |    0 |  800 |  800 |\n",
       "|  5   | 614  | 237  | 233  | 233  |  0   |  600 |    0 |  600 |\n",
       "|  6   | 426  | 231  | 233  | 231  |  2   |    0 |  800 |  800 |\n",
       "|  7   | 235  | 219  | 233  | 219  | 14   |    0 | 5600 | 5600 |\n",
       "|  8   | 715  | 237  | 233  | 233  |  0   |  600 |    0 |  600 |\n",
       "|  9   | 198  | 219  | 233  | 219  | 14   |    0 | 5600 | 5600 |\n",
       "| 10   | 888  | 249  | 233  | 233  |  0   | 2400 |    0 | 2400 |\n",
       "| 11   | 798  | 243  | 233  | 233  |  0   | 1500 |    0 | 1500 |\n",
       "| 12   | 440  | 231  | 233  | 231  |  2   |    0 |  800 |  800 |\n",
       "| 13   | 512  | 231  | 233  | 231  |  2   |    0 |  800 |  800 |\n",
       "| 14   | 550  | 237  | 233  | 233  |  0   |  600 |    0 |  600 |\n",
       "| 15   | 805  | 243  | 233  | 233  |  0   | 1500 |    0 | 1500 |\n",
       "| 16   | 128  | 219  | 233  | 219  | 14   |    0 | 5600 | 5600 |\n",
       "| 17   | 753  | 243  | 233  | 233  |  0   | 1500 |    0 | 1500 |\n",
       "| 18   | 186  | 219  | 233  | 219  | 14   |    0 | 5600 | 5600 |\n",
       "| 19   | 869  | 249  | 233  | 233  |  0   | 2400 |    0 | 2400 |\n",
       "| 20   | 676  | 237  | 233  | 233  |  0   |  600 |    0 |  600 |\n",
       "\n"
      ],
      "text/plain": [
       "   Semana Sorteio Demanda Estoque.Inicial Venda Estoque.Final Custo.Falta\n",
       "1   1     426     231     233             231    2               0       \n",
       "2   2     513     231     233             231    2               0       \n",
       "3   3     887     249     233             233    0            2400       \n",
       "4   4     506     231     233             231    2               0       \n",
       "5   5     614     237     233             233    0             600       \n",
       "6   6     426     231     233             231    2               0       \n",
       "7   7     235     219     233             219   14               0       \n",
       "8   8     715     237     233             233    0             600       \n",
       "9   9     198     219     233             219   14               0       \n",
       "10 10     888     249     233             233    0            2400       \n",
       "11 11     798     243     233             233    0            1500       \n",
       "12 12     440     231     233             231    2               0       \n",
       "13 13     512     231     233             231    2               0       \n",
       "14 14     550     237     233             233    0             600       \n",
       "15 15     805     243     233             233    0            1500       \n",
       "16 16     128     219     233             219   14               0       \n",
       "17 17     753     243     233             233    0            1500       \n",
       "18 18     186     219     233             219   14               0       \n",
       "19 19     869     249     233             233    0            2400       \n",
       "20 20     676     237     233             233    0             600       \n",
       "   Custo.Sobra Custo.Total\n",
       "1   800         800       \n",
       "2   800         800       \n",
       "3     0        2400       \n",
       "4   800         800       \n",
       "5     0         600       \n",
       "6   800         800       \n",
       "7  5600        5600       \n",
       "8     0         600       \n",
       "9  5600        5600       \n",
       "10    0        2400       \n",
       "11    0        1500       \n",
       "12  800         800       \n",
       "13  800         800       \n",
       "14    0         600       \n",
       "15    0        1500       \n",
       "16 5600        5600       \n",
       "17    0        1500       \n",
       "18 5600        5600       \n",
       "19    0        2400       \n",
       "20    0         600       "
      ]
     },
     "metadata": {},
     "output_type": "display_data"
    }
   ],
   "source": [
    "tabela_custos2"
   ]
  },
  {
   "cell_type": "code",
   "execution_count": 22,
   "metadata": {},
   "outputs": [
    {
     "name": "stdout",
     "output_type": "stream",
     "text": [
      "Custo Total: 41300 u.m"
     ]
    }
   ],
   "source": [
    "custo_total2 <- sum(tabela_custos2$custo_total)\n",
    "cat(\"Custo Total:\", custo_total2,\"u.m\")"
   ]
  },
  {
   "cell_type": "markdown",
   "metadata": {},
   "source": [
    "<div style=\"text-align: justify;\">O segundo quadro foi, até agora, o mais favorável. Observando a distribuição dos custos parece razoável pensar na hipótese de uma compra menor que a média histórica.</div>"
   ]
  },
  {
   "cell_type": "markdown",
   "metadata": {},
   "source": [
    "#### TESTANDO A TERCEIRA HIPÓTESE\n",
    "3. O exame dos resultados sugere o teste de outra hipótese."
   ]
  },
  {
   "cell_type": "code",
   "execution_count": 23,
   "metadata": {},
   "outputs": [
    {
     "name": "stdout",
     "output_type": "stream",
     "text": [
      "Compra de 230 dúzias por semana"
     ]
    }
   ],
   "source": [
    "cat(\"Compra de 230 dúzias por semana\")"
   ]
  },
  {
   "cell_type": "code",
   "execution_count": 24,
   "metadata": {},
   "outputs": [],
   "source": [
    "# CRIAR A TABELA DE CUSTO DA TERCEIRA HIPÓTESE COM BASE NA PRIMEIRA TABELA GERADA\n",
    "tabela_custos3 = tabela_custos"
   ]
  },
  {
   "cell_type": "code",
   "execution_count": 25,
   "metadata": {},
   "outputs": [],
   "source": [
    "# CRIAR A COLUNA ESTOQUE INICIAL COM A QUANTIDADE DE 230 DÚZIAS\n",
    "tabela_custos3$estoque_inicial[1:20] <- 230"
   ]
  },
  {
   "cell_type": "code",
   "execution_count": 26,
   "metadata": {},
   "outputs": [],
   "source": [
    "# CRIAR A COLUNA VENDA\n",
    "tabela_custos3$venda <- mapply(funcao_venda, tabela_custos3$demanda, tabela_custos3$estoque_inicial)\n",
    "# CRIAR A COLUNA ESTOQUE FINAL\n",
    "tabela_custos3$estoque_final <- mapply(funcao_estoque_final, tabela_custos3$estoque_inicial, tabela_custos3$venda)\n",
    "# CRIAR A COLUNA CUSTO DE FALTA\n",
    "tabela_custos3$custo_falta <- mapply(funcao_custo_falta, \n",
    "                                          tabela_custos3$demanda, tabela_custos3$estoque_inicial)\n",
    "# CRIAR COLUNA CUSTO SOBRA \n",
    "tabela_custos3$custo_sobra <- funcao_custo_sobra(tabela_custos3$funcao_estoque_final)\n",
    "# CRIAR A COLUNA CUSTO TOTAL\n",
    "tabela_custos3$custo_total <- funcao_custo_total(tabela_custos3$custo_falta, tabela_custos3$custo_sobra)"
   ]
  },
  {
   "cell_type": "code",
   "execution_count": 27,
   "metadata": {},
   "outputs": [
    {
     "data": {
      "text/html": [
       "<table>\n",
       "<thead><tr><th scope=col>Semana</th><th scope=col>Sorteio</th><th scope=col>Demanda</th><th scope=col>Estoque.Inicial</th><th scope=col>Venda</th><th scope=col>Estoque.Final</th><th scope=col>Custo.Falta</th><th scope=col>Custo.Sobra</th><th scope=col>Custo.Total</th></tr></thead>\n",
       "<tbody>\n",
       "\t<tr><td> 1  </td><td>426 </td><td>231 </td><td>230 </td><td>230 </td><td> 0  </td><td> 150</td><td>   0</td><td> 150</td></tr>\n",
       "\t<tr><td> 2  </td><td>513 </td><td>231 </td><td>230 </td><td>230 </td><td> 0  </td><td> 150</td><td>   0</td><td> 150</td></tr>\n",
       "\t<tr><td> 3  </td><td>887 </td><td>249 </td><td>230 </td><td>230 </td><td> 0  </td><td>2850</td><td>   0</td><td>2850</td></tr>\n",
       "\t<tr><td> 4  </td><td>506 </td><td>231 </td><td>230 </td><td>230 </td><td> 0  </td><td> 150</td><td>   0</td><td> 150</td></tr>\n",
       "\t<tr><td> 5  </td><td>614 </td><td>237 </td><td>230 </td><td>230 </td><td> 0  </td><td>1050</td><td>   0</td><td>1050</td></tr>\n",
       "\t<tr><td> 6  </td><td>426 </td><td>231 </td><td>230 </td><td>230 </td><td> 0  </td><td> 150</td><td>   0</td><td> 150</td></tr>\n",
       "\t<tr><td> 7  </td><td>235 </td><td>219 </td><td>230 </td><td>219 </td><td>11  </td><td>   0</td><td>4400</td><td>4400</td></tr>\n",
       "\t<tr><td> 8  </td><td>715 </td><td>237 </td><td>230 </td><td>230 </td><td> 0  </td><td>1050</td><td>   0</td><td>1050</td></tr>\n",
       "\t<tr><td> 9  </td><td>198 </td><td>219 </td><td>230 </td><td>219 </td><td>11  </td><td>   0</td><td>4400</td><td>4400</td></tr>\n",
       "\t<tr><td>10  </td><td>888 </td><td>249 </td><td>230 </td><td>230 </td><td> 0  </td><td>2850</td><td>   0</td><td>2850</td></tr>\n",
       "\t<tr><td>11  </td><td>798 </td><td>243 </td><td>230 </td><td>230 </td><td> 0  </td><td>1950</td><td>   0</td><td>1950</td></tr>\n",
       "\t<tr><td>12  </td><td>440 </td><td>231 </td><td>230 </td><td>230 </td><td> 0  </td><td> 150</td><td>   0</td><td> 150</td></tr>\n",
       "\t<tr><td>13  </td><td>512 </td><td>231 </td><td>230 </td><td>230 </td><td> 0  </td><td> 150</td><td>   0</td><td> 150</td></tr>\n",
       "\t<tr><td>14  </td><td>550 </td><td>237 </td><td>230 </td><td>230 </td><td> 0  </td><td>1050</td><td>   0</td><td>1050</td></tr>\n",
       "\t<tr><td>15  </td><td>805 </td><td>243 </td><td>230 </td><td>230 </td><td> 0  </td><td>1950</td><td>   0</td><td>1950</td></tr>\n",
       "\t<tr><td>16  </td><td>128 </td><td>219 </td><td>230 </td><td>219 </td><td>11  </td><td>   0</td><td>4400</td><td>4400</td></tr>\n",
       "\t<tr><td>17  </td><td>753 </td><td>243 </td><td>230 </td><td>230 </td><td> 0  </td><td>1950</td><td>   0</td><td>1950</td></tr>\n",
       "\t<tr><td>18  </td><td>186 </td><td>219 </td><td>230 </td><td>219 </td><td>11  </td><td>   0</td><td>4400</td><td>4400</td></tr>\n",
       "\t<tr><td>19  </td><td>869 </td><td>249 </td><td>230 </td><td>230 </td><td> 0  </td><td>2850</td><td>   0</td><td>2850</td></tr>\n",
       "\t<tr><td>20  </td><td>676 </td><td>237 </td><td>230 </td><td>230 </td><td> 0  </td><td>1050</td><td>   0</td><td>1050</td></tr>\n",
       "</tbody>\n",
       "</table>\n"
      ],
      "text/latex": [
       "\\begin{tabular}{r|lllllllll}\n",
       " Semana & Sorteio & Demanda & Estoque.Inicial & Venda & Estoque.Final & Custo.Falta & Custo.Sobra & Custo.Total\\\\\n",
       "\\hline\n",
       "\t  1   & 426  & 231  & 230  & 230  &  0   &  150 &    0 &  150\\\\\n",
       "\t  2   & 513  & 231  & 230  & 230  &  0   &  150 &    0 &  150\\\\\n",
       "\t  3   & 887  & 249  & 230  & 230  &  0   & 2850 &    0 & 2850\\\\\n",
       "\t  4   & 506  & 231  & 230  & 230  &  0   &  150 &    0 &  150\\\\\n",
       "\t  5   & 614  & 237  & 230  & 230  &  0   & 1050 &    0 & 1050\\\\\n",
       "\t  6   & 426  & 231  & 230  & 230  &  0   &  150 &    0 &  150\\\\\n",
       "\t  7   & 235  & 219  & 230  & 219  & 11   &    0 & 4400 & 4400\\\\\n",
       "\t  8   & 715  & 237  & 230  & 230  &  0   & 1050 &    0 & 1050\\\\\n",
       "\t  9   & 198  & 219  & 230  & 219  & 11   &    0 & 4400 & 4400\\\\\n",
       "\t 10   & 888  & 249  & 230  & 230  &  0   & 2850 &    0 & 2850\\\\\n",
       "\t 11   & 798  & 243  & 230  & 230  &  0   & 1950 &    0 & 1950\\\\\n",
       "\t 12   & 440  & 231  & 230  & 230  &  0   &  150 &    0 &  150\\\\\n",
       "\t 13   & 512  & 231  & 230  & 230  &  0   &  150 &    0 &  150\\\\\n",
       "\t 14   & 550  & 237  & 230  & 230  &  0   & 1050 &    0 & 1050\\\\\n",
       "\t 15   & 805  & 243  & 230  & 230  &  0   & 1950 &    0 & 1950\\\\\n",
       "\t 16   & 128  & 219  & 230  & 219  & 11   &    0 & 4400 & 4400\\\\\n",
       "\t 17   & 753  & 243  & 230  & 230  &  0   & 1950 &    0 & 1950\\\\\n",
       "\t 18   & 186  & 219  & 230  & 219  & 11   &    0 & 4400 & 4400\\\\\n",
       "\t 19   & 869  & 249  & 230  & 230  &  0   & 2850 &    0 & 2850\\\\\n",
       "\t 20   & 676  & 237  & 230  & 230  &  0   & 1050 &    0 & 1050\\\\\n",
       "\\end{tabular}\n"
      ],
      "text/markdown": [
       "\n",
       "| Semana | Sorteio | Demanda | Estoque.Inicial | Venda | Estoque.Final | Custo.Falta | Custo.Sobra | Custo.Total |\n",
       "|---|---|---|---|---|---|---|---|---|\n",
       "|  1   | 426  | 231  | 230  | 230  |  0   |  150 |    0 |  150 |\n",
       "|  2   | 513  | 231  | 230  | 230  |  0   |  150 |    0 |  150 |\n",
       "|  3   | 887  | 249  | 230  | 230  |  0   | 2850 |    0 | 2850 |\n",
       "|  4   | 506  | 231  | 230  | 230  |  0   |  150 |    0 |  150 |\n",
       "|  5   | 614  | 237  | 230  | 230  |  0   | 1050 |    0 | 1050 |\n",
       "|  6   | 426  | 231  | 230  | 230  |  0   |  150 |    0 |  150 |\n",
       "|  7   | 235  | 219  | 230  | 219  | 11   |    0 | 4400 | 4400 |\n",
       "|  8   | 715  | 237  | 230  | 230  |  0   | 1050 |    0 | 1050 |\n",
       "|  9   | 198  | 219  | 230  | 219  | 11   |    0 | 4400 | 4400 |\n",
       "| 10   | 888  | 249  | 230  | 230  |  0   | 2850 |    0 | 2850 |\n",
       "| 11   | 798  | 243  | 230  | 230  |  0   | 1950 |    0 | 1950 |\n",
       "| 12   | 440  | 231  | 230  | 230  |  0   |  150 |    0 |  150 |\n",
       "| 13   | 512  | 231  | 230  | 230  |  0   |  150 |    0 |  150 |\n",
       "| 14   | 550  | 237  | 230  | 230  |  0   | 1050 |    0 | 1050 |\n",
       "| 15   | 805  | 243  | 230  | 230  |  0   | 1950 |    0 | 1950 |\n",
       "| 16   | 128  | 219  | 230  | 219  | 11   |    0 | 4400 | 4400 |\n",
       "| 17   | 753  | 243  | 230  | 230  |  0   | 1950 |    0 | 1950 |\n",
       "| 18   | 186  | 219  | 230  | 219  | 11   |    0 | 4400 | 4400 |\n",
       "| 19   | 869  | 249  | 230  | 230  |  0   | 2850 |    0 | 2850 |\n",
       "| 20   | 676  | 237  | 230  | 230  |  0   | 1050 |    0 | 1050 |\n",
       "\n"
      ],
      "text/plain": [
       "   Semana Sorteio Demanda Estoque.Inicial Venda Estoque.Final Custo.Falta\n",
       "1   1     426     231     230             230    0             150       \n",
       "2   2     513     231     230             230    0             150       \n",
       "3   3     887     249     230             230    0            2850       \n",
       "4   4     506     231     230             230    0             150       \n",
       "5   5     614     237     230             230    0            1050       \n",
       "6   6     426     231     230             230    0             150       \n",
       "7   7     235     219     230             219   11               0       \n",
       "8   8     715     237     230             230    0            1050       \n",
       "9   9     198     219     230             219   11               0       \n",
       "10 10     888     249     230             230    0            2850       \n",
       "11 11     798     243     230             230    0            1950       \n",
       "12 12     440     231     230             230    0             150       \n",
       "13 13     512     231     230             230    0             150       \n",
       "14 14     550     237     230             230    0            1050       \n",
       "15 15     805     243     230             230    0            1950       \n",
       "16 16     128     219     230             219   11               0       \n",
       "17 17     753     243     230             230    0            1950       \n",
       "18 18     186     219     230             219   11               0       \n",
       "19 19     869     249     230             230    0            2850       \n",
       "20 20     676     237     230             230    0            1050       \n",
       "   Custo.Sobra Custo.Total\n",
       "1     0         150       \n",
       "2     0         150       \n",
       "3     0        2850       \n",
       "4     0         150       \n",
       "5     0        1050       \n",
       "6     0         150       \n",
       "7  4400        4400       \n",
       "8     0        1050       \n",
       "9  4400        4400       \n",
       "10    0        2850       \n",
       "11    0        1950       \n",
       "12    0         150       \n",
       "13    0         150       \n",
       "14    0        1050       \n",
       "15    0        1950       \n",
       "16 4400        4400       \n",
       "17    0        1950       \n",
       "18 4400        4400       \n",
       "19    0        2850       \n",
       "20    0        1050       "
      ]
     },
     "metadata": {},
     "output_type": "display_data"
    }
   ],
   "source": [
    "tabela_custos3"
   ]
  },
  {
   "cell_type": "code",
   "execution_count": 28,
   "metadata": {},
   "outputs": [
    {
     "name": "stdout",
     "output_type": "stream",
     "text": [
      "Custo Total: 37100 u.m"
     ]
    }
   ],
   "source": [
    "custo_total3 <- sum(tabela_custos3$custo_total)\n",
    "cat(\"Custo Total:\", custo_total3,\"u.m\")"
   ]
  },
  {
   "cell_type": "markdown",
   "metadata": {},
   "source": [
    "Conclusão: das três hipóteses testadas, a terceira parece a mais favorável."
   ]
  }
 ],
 "metadata": {
  "kernelspec": {
   "display_name": "R",
   "language": "R",
   "name": "ir"
  },
  "language_info": {
   "codemirror_mode": "r",
   "file_extension": ".r",
   "mimetype": "text/x-r-source",
   "name": "R",
   "pygments_lexer": "r",
   "version": "3.6.1"
  }
 },
 "nbformat": 4,
 "nbformat_minor": 4
}
