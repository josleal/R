{
 "cells": [
  {
   "cell_type": "markdown",
   "id": "1d48a78a",
   "metadata": {},
   "source": [
    "### TESTES REPEATED-MEASURES ANOVA\n",
    "\n",
    "Conjunto de 3 testes: One-way repeated measures ANOVA, Two-way repeated measures ANOVA e Three-way repeated measures ANOVA. Compara dois ou mais grupos ou amostras emparelhadas.\n",
    "\n",
    "A ANOVA de medidas repetidas é um teste estatístico para a análise de dados longitudinais pareados. Isto significa que o mesmo conjunto de participantes foi acompanhado e avaliado no decorrer do tempo. Os pressupostos deste teste são:\n",
    "\n",
    "- Os dados são aleatórios e representativos da população\n",
    "- A variável dependente é contínua\n",
    "- Os resíduos do modelo são normalmente distribuídos\n",
    "- Há esfericidade dos grupos"
   ]
  },
  {
   "cell_type": "code",
   "execution_count": 2,
   "id": "78007d46",
   "metadata": {},
   "outputs": [],
   "source": [
    "# DESATIVA NOTAÇÃO CIENTÍFICA\n",
    "options(scipen = 999)"
   ]
  },
  {
   "cell_type": "code",
   "execution_count": 3,
   "id": "819b75a5",
   "metadata": {},
   "outputs": [],
   "source": [
    "# DESATIVAR MENSAGENS DE WARNINGS (warn = -1) E ATIVAR (warn = 0)\n",
    "options(warn = -1)"
   ]
  },
  {
   "cell_type": "code",
   "execution_count": 4,
   "id": "bdcbe7de",
   "metadata": {},
   "outputs": [],
   "source": [
    "# CARREGAR BIBLIOTECAS\n",
    "suppressPackageStartupMessages({\n",
    "library(dplyr)\n",
    "library(multcomp)\n",
    "library(RcmdrMisc)\n",
    "library(BSDA)\n",
    "library(ggpubr)\n",
    "library(tidyverse)\n",
    "library(rstatix)\n",
    "library(datarium)\n",
    "})"
   ]
  },
  {
   "cell_type": "markdown",
   "id": "e66a0de4",
   "metadata": {},
   "source": [
    "#### CARREGAR DATASET\n",
    "\n",
    "O dataset contém a pontuação de autoestima de 10 indivíduos em três pontos de tempo durante uma dieta específica para determinar se sua autoestima melhorou.\n",
    "\n",
    "A ANOVA de medidas repetidas unilaterais pode ser usada para determinar se as médias dos escores de autoestima são significativamente diferentes entre os três momentos."
   ]
  },
  {
   "cell_type": "markdown",
   "id": "2e530423",
   "metadata": {},
   "source": [
    "####  ONE-WAY REPEATED MEASURES ANOVA \n",
    "\n",
    "* Premissa 1: há outiliers extremos? Se houver **outiliers extremos** precisam ser deletados. \n",
    "Isso ocorre devido a erros de entrada de dados, erros de medição ou valores incomuns. O outlier pode ser incluído na análise se for percebido que o resultado não foi substancialmente alterado. Isso pode ser feito comparando o resultado ANOVA com e sem outilier. Também é possível manter os outiliers e realizar um teste ANPVA robusto usando o pacote WRS2.\n",
    "\n",
    "* Premissa 2: normalidade dos dados."
   ]
  },
  {
   "cell_type": "code",
   "execution_count": 7,
   "id": "e40b382d",
   "metadata": {},
   "outputs": [
    {
     "data": {
      "text/html": [
       "<table>\n",
       "<thead><tr><th scope=col>id</th><th scope=col>t1</th><th scope=col>t2</th><th scope=col>t3</th></tr></thead>\n",
       "<tbody>\n",
       "\t<tr><td>1       </td><td>4.005027</td><td>5.182286</td><td>7.107831</td></tr>\n",
       "\t<tr><td>2       </td><td>2.558124</td><td>6.912915</td><td>6.308434</td></tr>\n",
       "\t<tr><td>3       </td><td>3.244241</td><td>4.443434</td><td>9.778410</td></tr>\n",
       "</tbody>\n",
       "</table>\n"
      ],
      "text/latex": [
       "\\begin{tabular}{r|llll}\n",
       " id & t1 & t2 & t3\\\\\n",
       "\\hline\n",
       "\t 1        & 4.005027 & 5.182286 & 7.107831\\\\\n",
       "\t 2        & 2.558124 & 6.912915 & 6.308434\\\\\n",
       "\t 3        & 3.244241 & 4.443434 & 9.778410\\\\\n",
       "\\end{tabular}\n"
      ],
      "text/markdown": [
       "\n",
       "| id | t1 | t2 | t3 |\n",
       "|---|---|---|---|\n",
       "| 1        | 4.005027 | 5.182286 | 7.107831 |\n",
       "| 2        | 2.558124 | 6.912915 | 6.308434 |\n",
       "| 3        | 3.244241 | 4.443434 | 9.778410 |\n",
       "\n"
      ],
      "text/plain": [
       "  id t1       t2       t3      \n",
       "1 1  4.005027 5.182286 7.107831\n",
       "2 2  2.558124 6.912915 6.308434\n",
       "3 3  3.244241 4.443434 9.778410"
      ]
     },
     "metadata": {},
     "output_type": "display_data"
    }
   ],
   "source": [
    "data(\"selfesteem\", package = \"datarium\")\n",
    "head(selfesteem, 3)"
   ]
  },
  {
   "cell_type": "code",
   "execution_count": 8,
   "id": "6999ba3f",
   "metadata": {},
   "outputs": [
    {
     "data": {
      "text/html": [
       "<table>\n",
       "<thead><tr><th scope=col>id</th><th scope=col>time</th><th scope=col>score</th></tr></thead>\n",
       "<tbody>\n",
       "\t<tr><td>1       </td><td>t1      </td><td>4.005027</td></tr>\n",
       "\t<tr><td>2       </td><td>t1      </td><td>2.558124</td></tr>\n",
       "\t<tr><td>3       </td><td>t1      </td><td>3.244241</td></tr>\n",
       "</tbody>\n",
       "</table>\n"
      ],
      "text/latex": [
       "\\begin{tabular}{r|lll}\n",
       " id & time & score\\\\\n",
       "\\hline\n",
       "\t 1        & t1       & 4.005027\\\\\n",
       "\t 2        & t1       & 2.558124\\\\\n",
       "\t 3        & t1       & 3.244241\\\\\n",
       "\\end{tabular}\n"
      ],
      "text/markdown": [
       "\n",
       "| id | time | score |\n",
       "|---|---|---|\n",
       "| 1        | t1       | 4.005027 |\n",
       "| 2        | t1       | 2.558124 |\n",
       "| 3        | t1       | 3.244241 |\n",
       "\n"
      ],
      "text/plain": [
       "  id time score   \n",
       "1 1  t1   4.005027\n",
       "2 2  t1   2.558124\n",
       "3 3  t1   3.244241"
      ]
     },
     "metadata": {},
     "output_type": "display_data"
    },
    {
     "name": "stdout",
     "output_type": "stream",
     "text": [
      "Rows: 30\n",
      "Columns: 3\n",
      "$ id    <fct> 1, 2, 3, 4, 5, 6, 7, 8, 9, 10, 1, 2, 3, 4, 5, 6, 7, 8, 9, 10, 1,~\n",
      "$ time  <fct> t1, t1, t1, t1, t1, t1, t1, t1, t1, t1, t2, t2, t2, t2, t2, t2, ~\n",
      "$ score <dbl> 4.005027, 2.558124, 3.244241, 3.419538, 2.871243, 2.045868, 3.52~\n"
     ]
    }
   ],
   "source": [
    "# CONVERTER COLUNA TEMPO EM LINHA\n",
    "selfesteem <- selfesteem %>%\n",
    "  gather(key = \"time\", value = \"score\", t1, t2, t3) %>%\n",
    "  convert_as_factor(id, time)\n",
    "head(selfesteem, 3)\n",
    "\n",
    "glimpse(selfesteem)"
   ]
  },
  {
   "cell_type": "code",
   "execution_count": 9,
   "id": "1c4bd939",
   "metadata": {},
   "outputs": [
    {
     "data": {
      "text/html": [
       "<table>\n",
       "<thead><tr><th scope=col>time</th><th scope=col>variable</th><th scope=col>n</th><th scope=col>mean</th><th scope=col>sd</th></tr></thead>\n",
       "<tbody>\n",
       "\t<tr><td>t1   </td><td>score</td><td>10   </td><td>3.140</td><td>0.552</td></tr>\n",
       "\t<tr><td>t2   </td><td>score</td><td>10   </td><td>4.934</td><td>0.863</td></tr>\n",
       "\t<tr><td>t3   </td><td>score</td><td>10   </td><td>7.636</td><td>1.143</td></tr>\n",
       "</tbody>\n",
       "</table>\n"
      ],
      "text/latex": [
       "\\begin{tabular}{r|lllll}\n",
       " time & variable & n & mean & sd\\\\\n",
       "\\hline\n",
       "\t t1    & score & 10    & 3.140 & 0.552\\\\\n",
       "\t t2    & score & 10    & 4.934 & 0.863\\\\\n",
       "\t t3    & score & 10    & 7.636 & 1.143\\\\\n",
       "\\end{tabular}\n"
      ],
      "text/markdown": [
       "\n",
       "| time | variable | n | mean | sd |\n",
       "|---|---|---|---|---|\n",
       "| t1    | score | 10    | 3.140 | 0.552 |\n",
       "| t2    | score | 10    | 4.934 | 0.863 |\n",
       "| t3    | score | 10    | 7.636 | 1.143 |\n",
       "\n"
      ],
      "text/plain": [
       "  time variable n  mean  sd   \n",
       "1 t1   score    10 3.140 0.552\n",
       "2 t2   score    10 4.934 0.863\n",
       "3 t3   score    10 7.636 1.143"
      ]
     },
     "metadata": {},
     "output_type": "display_data"
    }
   ],
   "source": [
    "selfesteem %>%\n",
    "  group_by(time) %>%\n",
    "  get_summary_stats(score, type = \"mean_sd\")"
   ]
  },
  {
   "cell_type": "code",
   "execution_count": 10,
   "id": "ccea4f69",
   "metadata": {},
   "outputs": [
    {
     "data": {
      "image/png": "[encoded data removed]",
      "text/plain": [
       "plot without title"
      ]
     },
     "metadata": {},
     "output_type": "display_data"
    }
   ],
   "source": [
    "# GRÁFICO BOX PLOT\n",
    "options(repr.plot.width = 4.5, repr.plot.height = 3.5)\n",
    "ggboxplot(selfesteem, x = \"time\", y = \"score\", add = \"point\")"
   ]
  },
  {
   "cell_type": "markdown",
   "id": "3359c763",
   "metadata": {},
   "source": [
    "#### TESTE DE OUTILIERS"
   ]
  },
  {
   "cell_type": "code",
   "execution_count": 11,
   "id": "33ab8426",
   "metadata": {},
   "outputs": [
    {
     "data": {
      "text/html": [
       "<table>\n",
       "<thead><tr><th scope=col>time</th><th scope=col>id</th><th scope=col>score</th><th scope=col>is.outlier</th><th scope=col>is.extreme</th></tr></thead>\n",
       "<tbody>\n",
       "\t<tr><td>t1      </td><td>6       </td><td>2.045868</td><td>TRUE    </td><td>FALSE   </td></tr>\n",
       "\t<tr><td>t2      </td><td>2       </td><td>6.912915</td><td>TRUE    </td><td>FALSE   </td></tr>\n",
       "</tbody>\n",
       "</table>\n"
      ],
      "text/latex": [
       "\\begin{tabular}{r|lllll}\n",
       " time & id & score & is.outlier & is.extreme\\\\\n",
       "\\hline\n",
       "\t t1       & 6        & 2.045868 & TRUE     & FALSE   \\\\\n",
       "\t t2       & 2        & 6.912915 & TRUE     & FALSE   \\\\\n",
       "\\end{tabular}\n"
      ],
      "text/markdown": [
       "\n",
       "| time | id | score | is.outlier | is.extreme |\n",
       "|---|---|---|---|---|\n",
       "| t1       | 6        | 2.045868 | TRUE     | FALSE    |\n",
       "| t2       | 2        | 6.912915 | TRUE     | FALSE    |\n",
       "\n"
      ],
      "text/plain": [
       "  time id score    is.outlier is.extreme\n",
       "1 t1   6  2.045868 TRUE       FALSE     \n",
       "2 t2   2  6.912915 TRUE       FALSE     "
      ]
     },
     "metadata": {},
     "output_type": "display_data"
    }
   ],
   "source": [
    "selfesteem %>%\n",
    "  group_by(time) %>%\n",
    "  identify_outliers(score)"
   ]
  },
  {
   "cell_type": "markdown",
   "id": "54134733",
   "metadata": {},
   "source": [
    "Não existem outiliers extremos."
   ]
  },
  {
   "cell_type": "markdown",
   "id": "48e0cda0",
   "metadata": {},
   "source": [
    "#### TESTE DE NORMALIDADE"
   ]
  },
  {
   "cell_type": "markdown",
   "id": "86d94243",
   "metadata": {},
   "source": [
    "Hipóteses Teste de Shapiro-Wilk:\n",
    "\n",
    "- Ho: os dados são normalmente distribuídos\n",
    "- Ha: os dados não são normalmente distribuídos\n",
    "\n",
    "Critérios do Teste de Shapiro-Wilk:\n",
    "\n",
    "- Se p-value for menor que nível de significância, rejeita-se Ho."
   ]
  },
  {
   "cell_type": "code",
   "execution_count": 12,
   "id": "d0ab75dc",
   "metadata": {},
   "outputs": [
    {
     "data": {
      "text/html": [
       "<table>\n",
       "<thead><tr><th scope=col>time</th><th scope=col>variable</th><th scope=col>statistic</th><th scope=col>p</th></tr></thead>\n",
       "<tbody>\n",
       "\t<tr><td>t1       </td><td>score    </td><td>0.9666901</td><td>0.8585757</td></tr>\n",
       "\t<tr><td>t2       </td><td>score    </td><td>0.8758846</td><td>0.1169956</td></tr>\n",
       "\t<tr><td>t3       </td><td>score    </td><td>0.9227150</td><td>0.3801563</td></tr>\n",
       "</tbody>\n",
       "</table>\n"
      ],
      "text/latex": [
       "\\begin{tabular}{r|llll}\n",
       " time & variable & statistic & p\\\\\n",
       "\\hline\n",
       "\t t1        & score     & 0.9666901 & 0.8585757\\\\\n",
       "\t t2        & score     & 0.8758846 & 0.1169956\\\\\n",
       "\t t3        & score     & 0.9227150 & 0.3801563\\\\\n",
       "\\end{tabular}\n"
      ],
      "text/markdown": [
       "\n",
       "| time | variable | statistic | p |\n",
       "|---|---|---|---|\n",
       "| t1        | score     | 0.9666901 | 0.8585757 |\n",
       "| t2        | score     | 0.8758846 | 0.1169956 |\n",
       "| t3        | score     | 0.9227150 | 0.3801563 |\n",
       "\n"
      ],
      "text/plain": [
       "  time variable statistic p        \n",
       "1 t1   score    0.9666901 0.8585757\n",
       "2 t2   score    0.8758846 0.1169956\n",
       "3 t3   score    0.9227150 0.3801563"
      ]
     },
     "metadata": {},
     "output_type": "display_data"
    }
   ],
   "source": [
    "selfesteem %>%\n",
    "  group_by(time) %>%\n",
    "  shapiro_test(score)"
   ]
  },
  {
   "cell_type": "markdown",
   "id": "8806413d",
   "metadata": {},
   "source": [
    "Apresentou distribuição normal em cada tempo.\n",
    "\n",
    "Observe que, se o tamanho da sua amostra for maior que 50, o gráfico QQ normal é preferido porque em tamanhos de amostra maiores, o teste de Shapiro-Wilk se torna muito sensível até mesmo a um pequeno desvio da normalidade."
   ]
  },
  {
   "cell_type": "code",
   "execution_count": 13,
   "id": "273be721",
   "metadata": {},
   "outputs": [
    {
     "data": {
      "image/png": "[encoded data removed]",
      "text/plain": [
       "plot without title"
      ]
     },
     "metadata": {},
     "output_type": "display_data"
    }
   ],
   "source": [
    "# O GRÁFICO QQ DESENHA A CORRELAÇÃO ENTRE UM DADO E A DISTRIBUIÇÃO NORMAL QQ.\n",
    "# GRÁFICOS QQ PARA CADA PONTO DE TEMPO:\n",
    "options(repr.plot.width = 6.5, repr.plot.height = 3.5)\n",
    "ggqqplot(selfesteem, \"score\", facet.by = \"time\")"
   ]
  },
  {
   "cell_type": "markdown",
   "id": "e31e8a70",
   "metadata": {},
   "source": [
    "Conforme gráfico acima, como todos os pontos caem aproximadamente ao longo da linha de referência, pode-se assumir a normalidade."
   ]
  },
  {
   "cell_type": "markdown",
   "id": "c4514c46",
   "metadata": {},
   "source": [
    "#### SUPOSIÇÃO DE ESFERICIDADE\n",
    "\n",
    "A suposição de esfericidade será verificada automaticamente durante o cálculo do teste ANOVA usando a função anova_test() do pacote rstatix. O teste de Mauchly é usado internamente para avaliar a suposição de esfericidade. Usando a função get_anova_table() do rstatix para extrair a tabela ANOVA, a correção de esfericidade Greenhouse-Geisser é aplicada automaticamente aos fatores que violam a suposição de esfericidade."
   ]
  },
  {
   "cell_type": "markdown",
   "id": "1a5c7b59",
   "metadata": {},
   "source": [
    "#### TESTE ONE-WAY REPEATED MEASURES ANOVA"
   ]
  },
  {
   "cell_type": "code",
   "execution_count": 14,
   "id": "a1c22d76",
   "metadata": {},
   "outputs": [
    {
     "data": {
      "text/html": [
       "<dl>\n",
       "\t<dt>$ANOVA</dt>\n",
       "\t\t<dd><table>\n",
       "<thead><tr><th scope=col>Effect</th><th scope=col>DFn</th><th scope=col>DFd</th><th scope=col>F</th><th scope=col>p</th><th scope=col>p&lt;.05</th><th scope=col>ges</th></tr></thead>\n",
       "<tbody>\n",
       "\t<tr><td>time        </td><td>2           </td><td>18          </td><td>55.469      </td><td>0.0000000201</td><td>*           </td><td>0.829       </td></tr>\n",
       "</tbody>\n",
       "</table>\n",
       "</dd>\n",
       "\t<dt>$`Mauchly's Test for Sphericity`</dt>\n",
       "\t\t<dd><table>\n",
       "<thead><tr><th scope=col>Effect</th><th scope=col>W</th><th scope=col>p</th><th scope=col>p&lt;.05</th></tr></thead>\n",
       "<tbody>\n",
       "\t<tr><td>time </td><td>0.551</td><td>0.092</td><td>     </td></tr>\n",
       "</tbody>\n",
       "</table>\n",
       "</dd>\n",
       "\t<dt>$`Sphericity Corrections`</dt>\n",
       "\t\t<dd><table>\n",
       "<thead><tr><th scope=col>Effect</th><th scope=col>GGe</th><th scope=col>DF[GG]</th><th scope=col>p[GG]</th><th scope=col>p[GG]&lt;.05</th><th scope=col>HFe</th><th scope=col>DF[HF]</th><th scope=col>p[HF]</th><th scope=col>p[HF]&lt;.05</th></tr></thead>\n",
       "<tbody>\n",
       "\t<tr><td>time       </td><td>0.69       </td><td>1.38, 12.42</td><td>0.00000216 </td><td>*          </td><td>0.774      </td><td>1.55, 13.94</td><td>0.000000603</td><td>*          </td></tr>\n",
       "</tbody>\n",
       "</table>\n",
       "</dd>\n",
       "</dl>\n"
      ],
      "text/latex": [
       "\\begin{description}\n",
       "\\item[\\$ANOVA] \\begin{tabular}{r|lllllll}\n",
       " Effect & DFn & DFd & F & p & p<.05 & ges\\\\\n",
       "\\hline\n",
       "\t time         & 2            & 18           & 55.469       & 0.0000000201 & *            & 0.829       \\\\\n",
       "\\end{tabular}\n",
       "\n",
       "\\item[\\$`Mauchly's Test for Sphericity`] \\begin{tabular}{r|llll}\n",
       " Effect & W & p & p<.05\\\\\n",
       "\\hline\n",
       "\t time  & 0.551 & 0.092 &      \\\\\n",
       "\\end{tabular}\n",
       "\n",
       "\\item[\\$`Sphericity Corrections`] \\begin{tabular}{r|lllllllll}\n",
       " Effect & GGe & DF{[}GG{]} & p{[}GG{]} & p{[}GG{]}<.05 & HFe & DF{[}HF{]} & p{[}HF{]} & p{[}HF{]}<.05\\\\\n",
       "\\hline\n",
       "\t time        & 0.69        & 1.38, 12.42 & 0.00000216  & *           & 0.774       & 1.55, 13.94 & 0.000000603 & *          \\\\\n",
       "\\end{tabular}\n",
       "\n",
       "\\end{description}\n"
      ],
      "text/markdown": [
       "$ANOVA\n",
       ":   \n",
       "| Effect | DFn | DFd | F | p | p<.05 | ges |\n",
       "|---|---|---|---|---|---|---|\n",
       "| time         | 2            | 18           | 55.469       | 0.0000000201 | *            | 0.829        |\n",
       "\n",
       "\n",
       "$`Mauchly's Test for Sphericity`\n",
       ":   \n",
       "| Effect | W | p | p<.05 |\n",
       "|---|---|---|---|\n",
       "| time  | 0.551 | 0.092 |       |\n",
       "\n",
       "\n",
       "$`Sphericity Corrections`\n",
       ":   \n",
       "| Effect | GGe | DF[GG] | p[GG] | p[GG]<.05 | HFe | DF[HF] | p[HF] | p[HF]<.05 |\n",
       "|---|---|---|---|---|---|---|---|---|\n",
       "| time        | 0.69        | 1.38, 12.42 | 0.00000216  | *           | 0.774       | 1.55, 13.94 | 0.000000603 | *           |\n",
       "\n",
       "\n",
       "\n",
       "\n"
      ],
      "text/plain": [
       "ANOVA Table (type III tests)\n",
       "\n",
       "$ANOVA\n",
       "  Effect DFn DFd      F            p p<.05   ges\n",
       "1   time   2  18 55.469 0.0000000201     * 0.829\n",
       "\n",
       "$`Mauchly's Test for Sphericity`\n",
       "  Effect     W     p p<.05\n",
       "1   time 0.551 0.092      \n",
       "\n",
       "$`Sphericity Corrections`\n",
       "  Effect  GGe      DF[GG]      p[GG] p[GG]<.05   HFe      DF[HF]       p[HF]\n",
       "1   time 0.69 1.38, 12.42 0.00000216         * 0.774 1.55, 13.94 0.000000603\n",
       "  p[HF]<.05\n",
       "1         *\n"
      ]
     },
     "metadata": {},
     "output_type": "display_data"
    },
    {
     "data": {
      "text/html": [
       "<table>\n",
       "<thead><tr><th scope=col>Effect</th><th scope=col>DFn</th><th scope=col>DFd</th><th scope=col>F</th><th scope=col>p</th><th scope=col>p&lt;.05</th><th scope=col>ges</th></tr></thead>\n",
       "<tbody>\n",
       "\t<tr><td>time        </td><td>2           </td><td>18          </td><td>55.469      </td><td>0.0000000201</td><td>*           </td><td>0.829       </td></tr>\n",
       "</tbody>\n",
       "</table>\n"
      ],
      "text/latex": [
       "\\begin{tabular}{r|lllllll}\n",
       " Effect & DFn & DFd & F & p & p<.05 & ges\\\\\n",
       "\\hline\n",
       "\t time         & 2            & 18           & 55.469       & 0.0000000201 & *            & 0.829       \\\\\n",
       "\\end{tabular}\n"
      ],
      "text/markdown": [
       "\n",
       "| Effect | DFn | DFd | F | p | p<.05 | ges |\n",
       "|---|---|---|---|---|---|---|\n",
       "| time         | 2            | 18           | 55.469       | 0.0000000201 | *            | 0.829        |\n",
       "\n"
      ],
      "text/plain": [
       "  Effect DFn DFd F      p            p<.05 ges  \n",
       "1 time   2   18  55.469 0.0000000201 *     0.829"
      ]
     },
     "metadata": {},
     "output_type": "display_data"
    }
   ],
   "source": [
    "analise_variancia2 <- anova_test(data = selfesteem, dv = score, wid = id, within = time)\n",
    "analise_variancia2\n",
    "get_anova_table(analise_variancia2)"
   ]
  },
  {
   "cell_type": "markdown",
   "id": "51b1a689",
   "metadata": {},
   "source": [
    "O score de autoestima foi **estatisticamente significativo para diferença** nos diferentes momentos durante a dieta, F (2, 18) = 55,469, p <0,0001, eta2 [g] = 0,829. F Indica que estamos comparando a uma distribuição F(teste F); (2, 18) indica os graus de liberdade no numerador (DFn) e no denominador (DFd), respectivamente; 55,469 indica o valor obtido da estatística F, p especifica o p-value, \"ges\" é o tamanho do efeito generalizado (quantidade de variabilidade devido ao fator within-subjects).\n",
    "\n"
   ]
  },
  {
   "cell_type": "markdown",
   "id": "8afdadd0",
   "metadata": {},
   "source": [
    "#### TESTES POST-HOC\n",
    "\n",
    "Pode-se realizar vários testes t-student pareados por pares entre os níveis do fator within-subjects (time). Os valores P são ajustados usando o método de correção do teste múltiplo de Bonferroni."
   ]
  },
  {
   "cell_type": "code",
   "execution_count": 15,
   "id": "b19346b4",
   "metadata": {},
   "outputs": [
    {
     "data": {
      "text/html": [
       "<table>\n",
       "<thead><tr><th scope=col>.y.</th><th scope=col>group1</th><th scope=col>group2</th><th scope=col>n1</th><th scope=col>n2</th><th scope=col>statistic</th><th scope=col>df</th><th scope=col>p</th><th scope=col>p.adj</th><th scope=col>p.adj.signif</th></tr></thead>\n",
       "<tbody>\n",
       "\t<tr><td>score      </td><td>t1         </td><td>t2         </td><td>10         </td><td>10         </td><td> -4.967618 </td><td>9          </td><td>0.000772000</td><td>0.002000   </td><td>**         </td></tr>\n",
       "\t<tr><td>score      </td><td>t1         </td><td>t3         </td><td>10         </td><td>10         </td><td>-13.228148 </td><td>9          </td><td>0.000000334</td><td>0.000001   </td><td>****       </td></tr>\n",
       "\t<tr><td>score      </td><td>t2         </td><td>t3         </td><td>10         </td><td>10         </td><td> -4.867816 </td><td>9          </td><td>0.000886000</td><td>0.003000   </td><td>**         </td></tr>\n",
       "</tbody>\n",
       "</table>\n"
      ],
      "text/latex": [
       "\\begin{tabular}{r|llllllllll}\n",
       " .y. & group1 & group2 & n1 & n2 & statistic & df & p & p.adj & p.adj.signif\\\\\n",
       "\\hline\n",
       "\t score       & t1          & t2          & 10          & 10          &  -4.967618  & 9           & 0.000772000 & 0.002000    & **         \\\\\n",
       "\t score       & t1          & t3          & 10          & 10          & -13.228148  & 9           & 0.000000334 & 0.000001    & ****       \\\\\n",
       "\t score       & t2          & t3          & 10          & 10          &  -4.867816  & 9           & 0.000886000 & 0.003000    & **         \\\\\n",
       "\\end{tabular}\n"
      ],
      "text/markdown": [
       "\n",
       "| .y. | group1 | group2 | n1 | n2 | statistic | df | p | p.adj | p.adj.signif |\n",
       "|---|---|---|---|---|---|---|---|---|---|\n",
       "| score       | t1          | t2          | 10          | 10          |  -4.967618  | 9           | 0.000772000 | 0.002000    | **          |\n",
       "| score       | t1          | t3          | 10          | 10          | -13.228148  | 9           | 0.000000334 | 0.000001    | ****        |\n",
       "| score       | t2          | t3          | 10          | 10          |  -4.867816  | 9           | 0.000886000 | 0.003000    | **          |\n",
       "\n"
      ],
      "text/plain": [
       "  .y.   group1 group2 n1 n2 statistic  df p           p.adj    p.adj.signif\n",
       "1 score t1     t2     10 10  -4.967618 9  0.000772000 0.002000 **          \n",
       "2 score t1     t3     10 10 -13.228148 9  0.000000334 0.000001 ****        \n",
       "3 score t2     t3     10 10  -4.867816 9  0.000886000 0.003000 **          "
      ]
     },
     "metadata": {},
     "output_type": "display_data"
    }
   ],
   "source": [
    "# COMPARAÇÕES POR PARES\n",
    "pwc <- selfesteem %>%\n",
    "  pairwise_t_test(\n",
    "    score ~ time, paired = TRUE,\n",
    "    p.adjust.method = \"bonferroni\"\n",
    "  )\n",
    "pwc"
   ]
  },
  {
   "cell_type": "markdown",
   "id": "8fcdacba",
   "metadata": {},
   "source": [
    "Todas as diferenças entre pares são estatisticamente significativas.\n",
    "\n",
    "Resultados:\n",
    "\n",
    "O escore de autoestima foi diferente estatisticamente significativo nos diferentes tempos, F (2, 18) = 55,5, p <0,0001, (ges) eta generalizado ao quadrado = 0,82. As análises post-hoc com um ajuste de Bonferroni revelaram que todas as diferenças aos pares, entre os pontos de tempo, foram diferentes estatisticamente significativas (p <= 0,05)."
   ]
  },
  {
   "cell_type": "code",
   "execution_count": 17,
   "id": "84f9070d",
   "metadata": {},
   "outputs": [
    {
     "ename": "ERROR",
     "evalue": "Error in bxp + stat_pvalue_manual(pwc) + labs(subtitle = get_test_label(analise_variancia2, : argumento não-numérico para operador binário\n",
     "output_type": "error",
     "traceback": [
      "Error in bxp + stat_pvalue_manual(pwc) + labs(subtitle = get_test_label(analise_variancia2, : argumento não-numérico para operador binário\nTraceback:\n"
     ]
    }
   ],
   "source": [
    "# VISUALIZAÇÃO: BOX-PLOTS COM p-VALUES\n",
    "options(repr.plot.width = 5, repr.plot.height = 4)\n",
    "pwc <- pwc %>% add_xy_position(x = \"time\")\n",
    "bxp + \n",
    "stat_pvalue_manual(pwc) +\n",
    "labs(\n",
    "    subtitle = get_test_label(analise_variancia2, detailed = TRUE),\n",
    "    caption = get_pwc_label(pwc)\n",
    ")"
   ]
  },
  {
   "cell_type": "markdown",
   "id": "e486c419",
   "metadata": {},
   "source": [
    "-------------------------------------------------------------------------------------------------------------------------------"
   ]
  },
  {
   "cell_type": "markdown",
   "id": "cf6e410d",
   "metadata": {},
   "source": [
    "#### TWO-WAY REPEATED MEASURES ANOVA "
   ]
  },
  {
   "cell_type": "code",
   "execution_count": 18,
   "id": "d348ebd1",
   "metadata": {},
   "outputs": [
    {
     "data": {
      "text/html": [
       "<table>\n",
       "<thead><tr><th scope=col>id</th><th scope=col>treatment</th><th scope=col>t1</th><th scope=col>t2</th><th scope=col>t3</th></tr></thead>\n",
       "<tbody>\n",
       "\t<tr><td>3   </td><td>ctr </td><td>93  </td><td>92  </td><td>89  </td></tr>\n",
       "\t<tr><td>3   </td><td>Diet</td><td>91  </td><td>91  </td><td>92  </td></tr>\n",
       "</tbody>\n",
       "</table>\n"
      ],
      "text/latex": [
       "\\begin{tabular}{r|lllll}\n",
       " id & treatment & t1 & t2 & t3\\\\\n",
       "\\hline\n",
       "\t 3    & ctr  & 93   & 92   & 89  \\\\\n",
       "\t 3    & Diet & 91   & 91   & 92  \\\\\n",
       "\\end{tabular}\n"
      ],
      "text/markdown": [
       "\n",
       "| id | treatment | t1 | t2 | t3 |\n",
       "|---|---|---|---|---|\n",
       "| 3    | ctr  | 93   | 92   | 89   |\n",
       "| 3    | Diet | 91   | 91   | 92   |\n",
       "\n"
      ],
      "text/plain": [
       "  id treatment t1 t2 t3\n",
       "1 3  ctr       93 92 89\n",
       "2 3  Diet      91 91 92"
      ]
     },
     "metadata": {},
     "output_type": "display_data"
    }
   ],
   "source": [
    "set.seed(123)\n",
    "data(\"selfesteem2\", package = \"datarium\")\n",
    "selfesteem2 %>% \n",
    "sample_n_by(treatment, size = 1)"
   ]
  },
  {
   "cell_type": "code",
   "execution_count": 19,
   "id": "e99328d1",
   "metadata": {},
   "outputs": [
    {
     "name": "stdout",
     "output_type": "stream",
     "text": [
      "Rows: 72\n",
      "Columns: 4\n",
      "$ id        <fct> 1, 2, 3, 4, 5, 6, 7, 8, 9, 10, 11, 12, 1, 2, 3, 4, 5, 6, 7, ~\n",
      "$ treatment <fct> ctr, ctr, ctr, ctr, ctr, ctr, ctr, ctr, ctr, ctr, ctr, ctr, ~\n",
      "$ time      <fct> t1, t1, t1, t1, t1, t1, t1, t1, t1, t1, t1, t1, t1, t1, t1, ~\n",
      "$ score     <dbl> 83, 97, 93, 92, 77, 72, 92, 92, 95, 92, 92, 79, 84, 100, 91,~\n"
     ]
    }
   ],
   "source": [
    "# CONVERTER COLUNA t1, t2 e t3 EM LINHA\n",
    "selfesteem2 <- selfesteem2 %>%\n",
    "  gather(key = \"time\", value = \"score\", t1, t2, t3) %>%\n",
    "  convert_as_factor(id, time)\n",
    "glimpse(selfesteem2)"
   ]
  },
  {
   "cell_type": "code",
   "execution_count": 20,
   "id": "f75cb041",
   "metadata": {},
   "outputs": [
    {
     "data": {
      "text/html": [
       "<table>\n",
       "<thead><tr><th scope=col>id</th><th scope=col>treatment</th><th scope=col>time</th><th scope=col>score</th></tr></thead>\n",
       "<tbody>\n",
       "\t<tr><td>3   </td><td>ctr </td><td>t1  </td><td> 93 </td></tr>\n",
       "\t<tr><td>3   </td><td>ctr </td><td>t2  </td><td> 92 </td></tr>\n",
       "\t<tr><td>10  </td><td>ctr </td><td>t3  </td><td> 81 </td></tr>\n",
       "\t<tr><td>2   </td><td>Diet</td><td>t1  </td><td>100 </td></tr>\n",
       "\t<tr><td>6   </td><td>Diet</td><td>t2  </td><td> 75 </td></tr>\n",
       "\t<tr><td>11  </td><td>Diet</td><td>t3  </td><td> 91 </td></tr>\n",
       "</tbody>\n",
       "</table>\n"
      ],
      "text/latex": [
       "\\begin{tabular}{r|llll}\n",
       " id & treatment & time & score\\\\\n",
       "\\hline\n",
       "\t 3    & ctr  & t1   &  93 \\\\\n",
       "\t 3    & ctr  & t2   &  92 \\\\\n",
       "\t 10   & ctr  & t3   &  81 \\\\\n",
       "\t 2    & Diet & t1   & 100 \\\\\n",
       "\t 6    & Diet & t2   &  75 \\\\\n",
       "\t 11   & Diet & t3   &  91 \\\\\n",
       "\\end{tabular}\n"
      ],
      "text/markdown": [
       "\n",
       "| id | treatment | time | score |\n",
       "|---|---|---|---|\n",
       "| 3    | ctr  | t1   |  93  |\n",
       "| 3    | ctr  | t2   |  92  |\n",
       "| 10   | ctr  | t3   |  81  |\n",
       "| 2    | Diet | t1   | 100  |\n",
       "| 6    | Diet | t2   |  75  |\n",
       "| 11   | Diet | t3   |  91  |\n",
       "\n"
      ],
      "text/plain": [
       "  id treatment time score\n",
       "1 3  ctr       t1    93  \n",
       "2 3  ctr       t2    92  \n",
       "3 10 ctr       t3    81  \n",
       "4 2  Diet      t1   100  \n",
       "5 6  Diet      t2    75  \n",
       "6 11 Diet      t3    91  "
      ]
     },
     "metadata": {},
     "output_type": "display_data"
    }
   ],
   "source": [
    "# INSPECIONAR ALGUMAS ALEATÓRIAS DOS DADOS POR GRUPOS\n",
    "set.seed(123)\n",
    "selfesteem2 %>% \n",
    "sample_n_by(treatment, time, size = 1)"
   ]
  },
  {
   "cell_type": "markdown",
   "id": "9907a664",
   "metadata": {},
   "source": [
    "Neste exemplo, o efeito do \"tempo\" na pontuação da autoestima é nossa variável focal, essa é nossa principal preocupação. Porém, pensa-se que o \"tempo\" de efeito será diferente se o tratamento for realizado ou não. Nesse cenário, a variável \"tratamento\" é considerada variável moderadora."
   ]
  },
  {
   "cell_type": "code",
   "execution_count": null,
   "id": "b3bb59b0",
   "metadata": {},
   "outputs": [],
   "source": [
    "# AGRUPAR OS DADOS POR TRATAMENTO E TEMPO E CALCULANDO ALGUMAS ESTATÍSTICAS DA VARIÁVEL DE PONTUAÇÃO: MÉDIA E DESVIO PADRÃO\n",
    "selfesteem2 %>%\n",
    "  group_by(treatment, time) %>%\n",
    "  get_summary_stats(score, type = \"mean_sd\")"
   ]
  },
  {
   "cell_type": "code",
   "execution_count": null,
   "id": "c64402d4",
   "metadata": {},
   "outputs": [],
   "source": [
    "# BOX PLOT DO SCORE POR GRUPOS DE TRATAMENTO\n",
    "bxp <- ggboxplot(\n",
    "  selfesteem2, x = \"time\", y = \"score\",\n",
    "  color = \"treatment\", palette = \"jco\"\n",
    ")\n",
    "bxp"
   ]
  },
  {
   "cell_type": "markdown",
   "id": "d46ded83",
   "metadata": {},
   "source": [
    "#### TESTE DE OUTILIERS"
   ]
  },
  {
   "cell_type": "code",
   "execution_count": null,
   "id": "593116bd",
   "metadata": {},
   "outputs": [],
   "source": [
    "selfesteem2 %>%\n",
    "  group_by(treatment, time) %>%\n",
    "  identify_outliers(score)"
   ]
  },
  {
   "cell_type": "markdown",
   "id": "6253df54",
   "metadata": {},
   "source": [
    "Não há outliers extremos."
   ]
  },
  {
   "cell_type": "markdown",
   "id": "74dfba3c",
   "metadata": {},
   "source": [
    "#### TESTE DE NORMALIDADE"
   ]
  },
  {
   "cell_type": "markdown",
   "id": "6066fe59",
   "metadata": {},
   "source": [
    "Hipóteses Teste de Shapiro-Wilk:\n",
    "\n",
    "- Ho: os dados são normalmente distribuídos\n",
    "- Ha: os dados não são normalmente distribuídos\n",
    "\n",
    "Critérios do Teste de Shapiro-Wilk:\n",
    "\n",
    "- Se p-value for menor que nível de significância, rejeita-se Ho."
   ]
  },
  {
   "cell_type": "code",
   "execution_count": null,
   "id": "6836a682",
   "metadata": {},
   "outputs": [],
   "source": [
    "selfesteem2 %>%\n",
    "  group_by(treatment, time) %>%\n",
    "  shapiro_test(score)"
   ]
  },
  {
   "cell_type": "markdown",
   "id": "37adc4fa",
   "metadata": {},
   "source": [
    "O score de autoestima apresentou distribuição normal em cada momento (p> 0.05), exceto para o tratamento ctr em t1, avaliado pelo teste de Shapiro-Wilk."
   ]
  },
  {
   "cell_type": "code",
   "execution_count": null,
   "id": "097e0c77",
   "metadata": {},
   "outputs": [],
   "source": [
    "# O GRÁFICO QQ DESENHA A CORRELAÇÃO ENTRE UM DADO E A DISTRIBUIÇÃO NORMAL QQ.\n",
    "# GRÁFICOS QQ PARA CADA GRUPO:\n",
    "options(repr.plot.width = 6.5, repr.plot.height = 3.5)\n",
    "ggqqplot(selfesteem, \"score\", facet.by = \"time\")"
   ]
  },
  {
   "cell_type": "markdown",
   "id": "6d933b83",
   "metadata": {},
   "source": [
    "No gráfico, como todos os pontos caem aproximadamente ao longo da linha de referência, podemos assumir a normalidade."
   ]
  },
  {
   "cell_type": "markdown",
   "id": "65648c49",
   "metadata": {},
   "source": [
    "#### TESTE TWO-WAY REPEATED MEASURES ANOVA"
   ]
  },
  {
   "cell_type": "code",
   "execution_count": null,
   "id": "d099b3cd",
   "metadata": {},
   "outputs": [],
   "source": [
    "analise_variancia3 <- anova_test(\n",
    "  data = selfesteem2, dv = score, wid = id,\n",
    "  within = c(treatment, time)\n",
    ")\n",
    "analise_variancia3\n",
    "\n",
    "get_anova_table(analise_variancia3)"
   ]
  },
  {
   "cell_type": "markdown",
   "id": "8bc53036",
   "metadata": {},
   "source": [
    "Existe uma interação bidirecional estatisticamente significativa entre o tratamento e o tempo, F (2, 22) = 30.4, p < 0.0001."
   ]
  },
  {
   "cell_type": "markdown",
   "id": "5a87ae3e",
   "metadata": {},
   "source": [
    "#### TESTES POST-HOC"
   ]
  },
  {
   "cell_type": "markdown",
   "id": "eea472e6",
   "metadata": {},
   "source": [
    "Uma interação bidirecional significativa indica que o impacto que um fator (por exemplo, tratamento) tem sobre a variável de resultado (por exemplo, pontuação de autoestima) depende do n?vel do outro fator (por exemplo, tempo) (e vice-versa). Portanto, você pode decompor uma interação bidirecional significativa em:\n",
    "  \n",
    "* Efeito principal simples: execute o modelo unilateral da primeira variável (fator A) em cada nível da segunda variável (fator B),\n",
    "\n",
    "* Comparações de pares simples: se o efeito principal simples for significativo, execute várias comparações de pares para determinar quais grupos são diferentes.\n",
    "\n",
    "Para uma interação bidirecional não significativa, você precisa determinar se há algum efeito principal estatisticamente significativo no resultado da ANOVA.\n",
    "\n",
    "**Procedimento para uma interação bidirecional significativa**\n",
    "\n",
    "* Efeito do tratamento. Em nosso exemplo, analisaremos o efeito do tratamento na pontuação da autoestima em cada momento. \n",
    "Observe que a variável do fator de tratamento possui apenas dois níveis (\"ctr\" e \"Diet\"); assim, o teste ANOVA e o teste t pareado fornecerão os mesmos p-values.\n",
    "\n",
    "* Efeito do tempo. Observe que também é possível realizar a mesma análise para a variável de tempo em cada nível de tratamento. Você não precisa necessariamente fazer essa análise."
   ]
  },
  {
   "cell_type": "code",
   "execution_count": null,
   "id": "e9369e3f",
   "metadata": {},
   "outputs": [],
   "source": [
    "# EFEITO DO TRATAMENTO EM CADA PONTO NO TEMPO\n",
    "one.way <- selfesteem2 %>%\n",
    "  group_by(time) %>%\n",
    "  anova_test(dv = score, wid = id, within = treatment) %>%\n",
    "  get_anova_table() %>%\n",
    "  adjust_pvalue(method = \"bonferroni\")\n",
    "one.way"
   ]
  },
  {
   "cell_type": "code",
   "execution_count": null,
   "id": "73344d7a",
   "metadata": {},
   "outputs": [],
   "source": [
    "# COMPARAÇÕES DE PARES ENTRE GRUPOS DE TRATAMENTO\n",
    "pwc <- selfesteem2 %>%\n",
    "  group_by(time) %>%\n",
    "  pairwise_t_test(\n",
    "    score ~ treatment, paired = TRUE,\n",
    "    p.adjust.method = \"bonferroni\"\n",
    "  )\n",
    "pwc"
   ]
  },
  {
   "cell_type": "markdown",
   "id": "479df459",
   "metadata": {},
   "source": [
    "Considerando o p-value ajustado de Bonferroni (p.adj), verifica-se que o simples efeito principal do tratamento não foi significativo no momento t1 (p = 1). Torna-se significativo em t2 (p = 0.036) e t3 (p = 0.00051).\n",
    "\n",
    "As comparaçães pareadas mostram que a pontuação média de autoestima foi significativamente diferente entre ctr e o grupo Dieta em t2 (p = 0.12) e t3 (p = 0.00017), mas não em t1 (p = 0.55)."
   ]
  },
  {
   "cell_type": "code",
   "execution_count": null,
   "id": "2797f097",
   "metadata": {},
   "outputs": [],
   "source": [
    "# EFEITO DO TEMPO EM CADA NÍVEL DE TRATAMENTO\n",
    "one.way2 <- selfesteem2 %>%\n",
    "  group_by(treatment) %>%\n",
    "  anova_test(dv = score, wid = id, within = time) %>%\n",
    "  get_anova_table() %>%\n",
    "  adjust_pvalue(method = \"bonferroni\")\n",
    "one.way2"
   ]
  },
  {
   "cell_type": "code",
   "execution_count": null,
   "id": "65188d92",
   "metadata": {},
   "outputs": [],
   "source": [
    "# COMPARAÇÕES PAREADAS ENTRE PONTOS NO TEMPO\n",
    "pwc2 <- selfesteem2 %>%\n",
    "  group_by(treatment) %>%\n",
    "  pairwise_t_test(\n",
    "    score ~ time, paired = TRUE,\n",
    "    p.adjust.method = \"bonferroni\"\n",
    "  )\n",
    "pwc2"
   ]
  },
  {
   "cell_type": "markdown",
   "id": "b2f5fb76",
   "metadata": {},
   "source": [
    "Você pode ver que o efeito do tempo é significativo apenas para a tentativa de controle, F (2, 22) = 39.7, p < 0.0001. As comparações entre pares mostram que todas as comparações entre os pontos de tempo foram estatisticamente significativas para o ensaio de controle."
   ]
  },
  {
   "cell_type": "markdown",
   "id": "85562bce",
   "metadata": {},
   "source": [
    "#### PROCEDIMENTO PARA INTERAÇÃO BIDIRECIONAL NÃO SIGNIFICATIVA\n",
    "\n",
    "Se a interação não for significativa, você precisa interpretar os efeitos principais de cada uma das duas variáveis: tratamento e tempo. Um efeito principal significativo pode ser conseguido com comparaçães de pares."
   ]
  },
  {
   "cell_type": "markdown",
   "id": "baf1336e",
   "metadata": {},
   "source": [
    "#### COMPARAÇÕES TESTE T PAREADO"
   ]
  },
  {
   "cell_type": "code",
   "execution_count": null,
   "id": "f5c6b178",
   "metadata": {},
   "outputs": [],
   "source": [
    "# COMPARAÇÕES PARA A VARÍAVEL TRATAMENTO\n",
    "selfesteem2 %>%\n",
    "  pairwise_t_test(\n",
    "    score ~ treatment, paired = TRUE, \n",
    "    p.adjust.method = \"bonferroni\"\n",
    "  )"
   ]
  },
  {
   "cell_type": "code",
   "execution_count": null,
   "id": "f8ec295c",
   "metadata": {},
   "outputs": [],
   "source": [
    "# COMPARAÇÕES PARA A VARÍAVEL TEMPO\n",
    "selfesteem2 %>%\n",
    "  pairwise_t_test(\n",
    "    score ~ time, paired = TRUE, \n",
    "    p.adjust.method = \"bonferroni\"\n",
    "  )\n"
   ]
  },
  {
   "cell_type": "markdown",
   "id": "bfac8141",
   "metadata": {},
   "source": [
    "Todas as comparações pareadas são significantes."
   ]
  },
  {
   "cell_type": "markdown",
   "id": "bfaeab6b",
   "metadata": {},
   "source": [
    "Relatório de resultados:\n",
    "\n",
    "Podemos relatar o resultado da seguinte maneira:\n",
    "\n",
    "Uma ANOVA de medidas repetidas de duas vias foi realizada para avaliar o efeito de diferentes tratamentos de dieta ao longo do\n",
    "tempo no escore de autoestima.\n",
    "\n",
    "Houve uma interação estatisticamente significativa entre o tratamento e o tempo no score de autoestima, F (2, 22) = 30.4, p < 0.0001. Portanto, o efeito da variável de tratamento foi analisado em cada momento. Os p-values foram ajustados usando o método de correção pelo teste múltiplo de Bonferroni. O efeito do tratamento foi significativo em t2 (p = 0.036) e t3 (p = 0.00051), mas não no momento t1 (p = 1). As comparações pareadas, usando o teste t pareado, mostram que a pontuação média da autoestima foi significativamente diferente entre ctr e teste de dieta nos momentos t2 (p = 0.012) e t3 (p = 0.00017), mas não em t1 (p = 0.55)."
   ]
  },
  {
   "cell_type": "code",
   "execution_count": null,
   "id": "74dfdac6",
   "metadata": {},
   "outputs": [],
   "source": [
    "# VISUALIZAÇÃO - BOX PLOT COM p-VALUES\n",
    "options(repr.plot.width = 5, repr.plot.height = 4)\n",
    "pwc <- pwc %>% add_xy_position(x = \"time\")\n",
    "bxp + \n",
    "  stat_pvalue_manual(pwc, tip.length = 0, hide.ns = TRUE) +\n",
    "  labs(\n",
    "    subtitle = get_test_label(analise_variancia3, detailed = TRUE),\n",
    "    caption = get_pwc_label(pwc)\n",
    "  )\n"
   ]
  },
  {
   "cell_type": "markdown",
   "id": "4ff4027f",
   "metadata": {},
   "source": [
    "-------------------------------------------------------------------------------------------------------------------------------"
   ]
  },
  {
   "cell_type": "markdown",
   "id": "f3696103",
   "metadata": {},
   "source": [
    "#### TREE-WAY REPEATED MEASURES ANOVA "
   ]
  },
  {
   "cell_type": "markdown",
   "id": "33871683",
   "metadata": {},
   "source": [
    "#### CARREGANDO DATASET\n",
    "\n",
    "O dataset é um conjunto de dados de emagrecimento [pacote datarium]. Neste estudo, um pesquisador queria avaliar os efeitos da dieta e dos exercícios na perda de peso em 10 indivíduos sedentários. Os participantes foram incluídos em quatro ensaios: (1) sem dieta e sem exercícios; (2) dieta apenas; (3) exercícios apenas; e (4) dieta e exercícios combinados. Cada participante realizou todas as quatro tentativas. A ordem dos testes foi contrabalançada e foi concedido tempo suficiente entre os testes para permitir que quaisquer efeitos dos testes anteriores se dissipassem. Cada tentativa durou nove semanas e a pontuação da perda de peso foi medida no início (t1), no ponto médio (t2) e no final (t3) de cada tentativa. A ANOVA de três medidas repetidas pode ser realizada para determinar se há uma interação significativa entre dieta, exercícios e tempo no score de \n",
    "perda de peso."
   ]
  },
  {
   "cell_type": "code",
   "execution_count": null,
   "id": "c5d8d937",
   "metadata": {},
   "outputs": [],
   "source": [
    "set.seed(123)\n",
    "data(\"weightloss\", package = \"datarium\")\n",
    "weightloss %>% sample_n_by(diet, exercises, size = 1)"
   ]
  },
  {
   "cell_type": "code",
   "execution_count": null,
   "id": "d4418b0b",
   "metadata": {},
   "outputs": [],
   "source": [
    "# CONVERTER COLUNA t1, t2 e t3 EM LINHA\n",
    "weightloss <- weightloss %>%\n",
    "  gather(key = \"time\", value = \"score\", t1, t2, t3) %>%\n",
    "  convert_as_factor(id, time)"
   ]
  },
  {
   "cell_type": "code",
   "execution_count": null,
   "id": "42a789de",
   "metadata": {},
   "outputs": [],
   "source": [
    "# INSPECIONANDO ALGUMAS LINHAS DOS DADOS POR GRUPOS ALEATORIAMENTE\n",
    "set.seed(123)\n",
    "weightloss %>% sample_n_by(diet, exercises, time, size = 1)"
   ]
  },
  {
   "cell_type": "markdown",
   "id": "c35b7951",
   "metadata": {},
   "source": [
    "Neste exemplo, o efeito do \"tempo\" é nossa variável focal, essa é nossa principal preocupação. Pensa-se que o efeito do \"tempo\" no escore de perda de peso dependerá de dois outros fatores, \"dieta\" e \"exercícios\", chamados de variáveis moderadoras."
   ]
  },
  {
   "cell_type": "code",
   "execution_count": null,
   "id": "04bc86e4",
   "metadata": {},
   "outputs": [],
   "source": [
    "# AGRUPANDO DADOS POR DIETA, EXERCÍCIOS E TEMPO E CÁLCULO DE ALGUMAS ESTATÍSTICAS DE RESUMO DA VARIÁVEL PONTUAÇÃO: MÉDIA E \n",
    "# DESVIO PADRÃO\n",
    "weightloss %>%\n",
    "  group_by(diet, exercises, time) %>%\n",
    "  get_summary_stats(score, type = \"mean_sd\")"
   ]
  },
  {
   "cell_type": "code",
   "execution_count": null,
   "id": "2b2eebae",
   "metadata": {},
   "outputs": [],
   "source": [
    "# VISUALIZAÇÃO - BOX PLOTS\n",
    "options(repr.plot.width = 6, repr.plot.height = 5)\n",
    "bxp <- ggboxplot(\n",
    "  weightloss, x = \"exercises\", y = \"score\",\n",
    "  color = \"time\", palette = \"jco\",\n",
    "  facet.by = \"diet\", short.panel.labs = FALSE\n",
    ")\n",
    "bxp"
   ]
  },
  {
   "cell_type": "markdown",
   "id": "bee71fb9",
   "metadata": {},
   "source": [
    "#### TESTE DE OUTILIERS"
   ]
  },
  {
   "cell_type": "code",
   "execution_count": null,
   "id": "384c87d8",
   "metadata": {},
   "outputs": [],
   "source": [
    "# DETECTAR OUTLIERS EXTREMOS\n",
    "weightloss %>%\n",
    "  group_by(diet, exercises, time) %>%\n",
    "  identify_outliers(score)"
   ]
  },
  {
   "cell_type": "markdown",
   "id": "f709a281",
   "metadata": {},
   "source": [
    "Não existem outliers extremos."
   ]
  },
  {
   "cell_type": "markdown",
   "id": "7e0b1d80",
   "metadata": {},
   "source": [
    "#### TESTE DE NORMALIDADE"
   ]
  },
  {
   "cell_type": "markdown",
   "id": "b31419c9",
   "metadata": {},
   "source": [
    "Hipóteses Teste de Shapiro-Wilk:\n",
    "\n",
    "- Ho: os dados são normalmente distribuídos\n",
    "- Ha: os dados não são normalmente distribuídos\n",
    "\n",
    "Critérios do Teste de Shapiro-Wilk:\n",
    "\n",
    "- Se p-value for menor que nível de significância, rejeita-se Ho."
   ]
  },
  {
   "cell_type": "code",
   "execution_count": null,
   "id": "9a4d7bde",
   "metadata": {},
   "outputs": [],
   "source": [
    "# CHECAR NORMALIDADE - SHAPIRO-WILK PARA CADA COMBINAÇÃO DE NÍVEIS DE FATOR\n",
    "weightloss %>%\n",
    "  group_by(diet, exercises, time) %>%\n",
    "  shapiro_test(score)"
   ]
  },
  {
   "cell_type": "markdown",
   "id": "9b9da7dd",
   "metadata": {},
   "source": [
    "O score de perda de peso foi distribuído normalmente, conforme avaliado pelo teste de normalidade de Shapiro-Wilk (p> 0,05)."
   ]
  },
  {
   "cell_type": "code",
   "execution_count": null,
   "id": "91ce5610",
   "metadata": {},
   "outputs": [],
   "source": [
    "# O GRÁFICO QQ DESENHA A CORRELAÇÃO ENTRE UM DADO E A DISTRIBUIÇÃO NORMAL QQ.\n",
    "# GRÁFICOS QQ PARA CADA GRUPO:\n",
    "options(repr.plot.width = 6, repr.plot.height = 5.5)\n",
    "ggqqplot(weightloss, \"score\", ggtheme = theme_bw()) +\n",
    "  facet_grid(diet + exercises ~ time, labeller = \"label_both\")"
   ]
  },
  {
   "cell_type": "markdown",
   "id": "c56b7f3c",
   "metadata": {},
   "source": [
    " Do gráfico acima, como todos os pontos caem aproximadamente ao longo da linha de referência, podemos assumir a normalidade."
   ]
  },
  {
   "cell_type": "code",
   "execution_count": null,
   "id": "97fe5924",
   "metadata": {},
   "outputs": [],
   "source": [
    "# CÁLCULO TESTE\n",
    "analise_variancia4 <- anova_test(\n",
    "  data = weightloss, dv = score, wid = id,\n",
    "  within = c(diet, exercises, time)\n",
    ")\n",
    "analise_variancia4\n",
    "get_anova_table(analise_variancia4)"
   ]
  },
  {
   "cell_type": "markdown",
   "id": "b534ff49",
   "metadata": {},
   "source": [
    "A partir do resultado, pode-se ver que há interações tripartidas estatisticamente significativas entre dieta, exercícios e tempo, F (2, 22) = 14.24, p = 0.00011. Observe que, se a interação de três vias não for estatisticamente significativa, você precisa consultar o resultado das interaçães de duas vias.\n",
    "\n",
    "Em nosso exemplo, houve uma dieta bidirecional estatisticamente significativa: interação com exercícios (p < 0.0001) e exercícios bidirecionais: tempo (p < 0.0001). A interação dieta de duas vias: tempo não foi estatisticamente significativa (p = 0.5)."
   ]
  },
  {
   "cell_type": "markdown",
   "id": "faf4db9b",
   "metadata": {},
   "source": [
    "#### TESTES POST-HOC"
   ]
  },
  {
   "cell_type": "markdown",
   "id": "d9aa8c88",
   "metadata": {},
   "source": [
    "Se houver um efeito significativo de interação de três vias, você pode decompor em:\n",
    "\n",
    "1) Interação bidirecional simples: execute a interação bidirecional em cada nível da terceira variável,\n",
    "\n",
    "2) Efeito principal simples: execute o modelo unilateral em cada nível da segunda variável, e\n",
    "\n",
    "3) Comparações pareadas simples: execute comparaçõeses pareadas ou outras comparações post-hoc, se necessário."
   ]
  },
  {
   "cell_type": "markdown",
   "id": "f6d174a7",
   "metadata": {},
   "source": [
    "#### CÁLCULO DA INTERAÇÃO BIDIRECIONAL SIMPLES\n",
    "\n",
    "Você é livre para decidir quais duas variáveis formarão as interações bidirecionais simples e qual variável atuará como a terceira variável (moderadora). No código R a seguir, consideramos a interação simples de duas vias de exercícios * tempo em cada nível da dieta."
   ]
  },
  {
   "cell_type": "code",
   "execution_count": null,
   "id": "742b6fc9",
   "metadata": {},
   "outputs": [],
   "source": [
    "# AGRUPE OS DADOS POR DIETA E ANALISE A INTERAÇÃO SIMPLES DE DUAS VIAS ENTRE EXERCÍCIOS E TEMPO:\n",
    "# TWO-WAY ANOVA EM CADA NÍVEL DE DIETA\n",
    "two.way <- weightloss %>%\n",
    "  group_by(diet) %>%\n",
    "  anova_test(dv = score, wid = id, within = c(exercises, time))\n",
    "two.way"
   ]
  },
  {
   "cell_type": "code",
   "execution_count": null,
   "id": "8f66c7e5",
   "metadata": {},
   "outputs": [],
   "source": [
    "# EXTRAIR TABELA ANOVA\n",
    "get_anova_table(two.way)"
   ]
  },
  {
   "cell_type": "markdown",
   "id": "2f45a80a",
   "metadata": {},
   "source": [
    "Houve uma interação bidirecional simples estatisticamente significativa entre exercícios e tempo para o ensaio \"dieta não\", F (2, 22) = 28.9, p < 0.0001, mas não entre exercícios e tempo para o ensaio \"dieta sim\", F (2, 22) = 2.57, p = 0.099.\n",
    "\n",
    "Observe que é recomendado ajustar o p-value para vários testes. Uma abordagem comum é aplicar um ajuste de Bonferroni para diminuir o nível no qual você declara a significância estatística.\n",
    "\n",
    "Isso pode ser feito dividindo o nível atual em que você declara a significância estatística (ou seja, p < 0.05) pelo número de interações bidirecionais simples que você está computando (ou seja, 2).\n",
    "\n",
    "Assim, você só declara uma interação de duas vias como estatisticamente significativa quando p <0,025 (ou seja, p < 0.05 / 2). Aplicando isso ao nosso exemplo atual, ainda tiraríamos as mesmas conclusões."
   ]
  },
  {
   "cell_type": "markdown",
   "id": "f91c746b",
   "metadata": {},
   "source": [
    "#### CALCULAR EFEITO PRINCIPAL SIMPLES\n",
    "\n",
    "Uma interação bidirecional simples estatisticamente significativa pode ser seguida com efeitos principais simples. Em nosso exemplo, você poderia, portanto, investigar o efeito do tempo na pontuação de perda de peso em todos os níveis de exercícios ou investigar o efeito dos exercícios em todos os níveis de tempo.\n",
    "\n",
    "Você só precisará considerar o resultado das análises simples e simples do efeito principal para o estudo \"dieta não\", pois essa foi a única interação simples de duas vias que foi estatisticamente significativa.\n",
    "\n",
    "Agrupe os dados por dieta e exercícios e analise o efeito principal simples do tempo. O ajuste de Bonferroni será considerado levando à significância estatística sendo aceita no nível de p < 0.025 (ou seja, 0.05 dividido pelo número de testes (aqui 2) considerados para teste \"dieta: não\"."
   ]
  },
  {
   "cell_type": "code",
   "execution_count": null,
   "id": "9a6aa3b9",
   "metadata": {},
   "outputs": [],
   "source": [
    "# EFEITO DO TEMPO EM CADA GRUPO DIETA X EXERCÍCIOS\n",
    "time.effect <- weightloss %>%\n",
    "  group_by(diet, exercises) %>%\n",
    "  anova_test(dv = score, wid = id, within = time)\n",
    "time.effect"
   ]
  },
  {
   "cell_type": "code",
   "execution_count": null,
   "id": "1bd4dfac",
   "metadata": {},
   "outputs": [],
   "source": [
    "# EXTRAIR A TABELA ANOVA\n",
    "get_anova_table(time.effect) %>%\n",
    "  filter(diet == \"no\")"
   ]
  },
  {
   "cell_type": "markdown",
   "id": "b0caaaf7",
   "metadata": {},
   "source": [
    "Houve um efeito principal simples e estatisticamente significativo do tempo no escore de perda de peso para o grupo \"dieta: não, exercícios: sim\" (p < 0.0001), mas não para quando nem dieta nem exercícios foram realizados (p = 0.286)."
   ]
  },
  {
   "cell_type": "markdown",
   "id": "7478dbc5",
   "metadata": {},
   "source": [
    "#### CÁLCULO COMPARAÇÕES SIMPLES\n",
    "\n",
    "Um efeito principal simples estatisticamente significativo pode ser seguido por múltiplas comparações de pares para determinar quais médias de grupo são diferentes. \n",
    "\n",
    "Agrupe os dados por dieta e exercícios e faça comparações aos pares entre os pontos de tempo com o ajuste de Bonferroni:"
   ]
  },
  {
   "cell_type": "code",
   "execution_count": null,
   "id": "7d5d0cb8",
   "metadata": {},
   "outputs": [],
   "source": [
    "# COMPARAÇÕES POR PARES\n",
    "pwc <- weightloss %>%\n",
    "  group_by(diet, exercises) %>%\n",
    "  pairwise_t_test(score ~ time, paired = TRUE, p.adjust.method = \"bonferroni\") %>%\n",
    "  select(-df, -statistic)"
   ]
  },
  {
   "cell_type": "code",
   "execution_count": null,
   "id": "cac348f3",
   "metadata": {},
   "outputs": [],
   "source": [
    "# REMOVE DETAILS \n",
    "# MOSTRAR RESULTADOS DE COMPARAÇÃO PARA GRUPOS \"DIETA: NÃO, EXERCÍCIOS: SIM\"\n",
    "pwc %>% filter(diet == \"no\", exercises == \"yes\") %>%\n",
    "  select(-p)     # REMOVE p COLUMNS "
   ]
  },
  {
   "cell_type": "markdown",
   "id": "f397be1b",
   "metadata": {},
   "source": [
    "Na tabela de comparações de pares, estamos interessados apenas nas comparações simples para grupos \"dieta: não, exercícios: sim\". Em nosso exemplo, existem três combinações possíveis de diferenças de grupo. Poderíamos relatar os resultados da comparação entre pares como segue. Todas as comparações pareadas simples foram feitas entre os diferentes pontos de tempo para o ensaio \"dieta: não, exercícios: sim\". O ajuste de Bonferroni foi aplicado. A pontuação média de perda de peso foi \n",
    "significativamente diferente em todas as comparações de ponto de tempo quando os exercícios são realizados (p < 0.05)."
   ]
  },
  {
   "cell_type": "markdown",
   "id": "eaf458a3",
   "metadata": {},
   "source": [
    "Relatório do teste:\n",
    "\n",
    "Uma ANOVA de três medidas repetidas foi realizada para avaliar os efeitos da dieta, exercícios e tempo na perda de peso. Houve uma interação de três vias estatisticamente significativa entre dieta, exercícios e tempo, F (2, 22) = 14.2, p = 0.00011.\n",
    "\n",
    "Para as interações bidirecionais simples e análises de efeitos principais simples, um ajuste de Bonferroni foi aplicado levando a significância estatística aceita no nível de p < 0.025.\n",
    "\n",
    "Houve uma interação bidirecional simples estatisticamente significativa entre exercícios e tempo para o ensaio \"dieta não\", F (2, 22) = 28.9, p < 0.0001, mas não para o ensaio \"dieta sim\" \", F (2, 22) = 2.6, p = 0.099. Houve um efeito principal simples e estatisticamente significativo do tempo no escore de perda de peso para o ensaio \"dieta: não, exercícios: sim\" (p < 0.0001),\n",
    "mas não para quando nem dieta nem exercícios foram realizados (p = 0.286). Todas as comparações pareadas simples simples foram feitas entre os diferentes pontos de tempo para o ensaio \"dieta: não, exercícios: sim\" com um ajuste de Bonferroni aplicado. A pontuação média de perda de peso foi significativamente diferente em todas as comparações de ponto de tempo quando os exercícios são realizados (p < 0.05)."
   ]
  },
  {
   "cell_type": "code",
   "execution_count": null,
   "id": "a169f64b",
   "metadata": {},
   "outputs": [],
   "source": [
    "# VISUALIZAÇÃO: BOX PLOTS COM p-VALUES\n",
    "pwc <- pwc %>% add_xy_position(x = \"exercises\")\n",
    "pwc.filtered <- pwc %>% \n",
    "  filter(diet == \"no\", exercises == \"yes\")\n",
    "bxp + \n",
    "  stat_pvalue_manual(pwc.filtered, tip.length = 0, hide.ns = TRUE) +\n",
    "  labs(\n",
    "    subtitle = get_test_label(analise_variancia4, detailed = TRUE),\n",
    "    caption = get_pwc_label(pwc)\n",
    "  )\n"
   ]
  },
  {
   "cell_type": "markdown",
   "id": "365d2328",
   "metadata": {},
   "source": [
    "# TESTES PARAMÉTRICOS\n",
    "\n",
    "* Distribuição Necessária: Normal (t ou z)\n",
    "* Variância da Amostra: Constante\n",
    "* Tipos de Variáveis: Discreta ou Contínua\n",
    "* Relação entre as Observações da Amostra: Independentes\n",
    "* Medida de Tendência Central mais Usada: Média"
   ]
  }
 ],
 "metadata": {
  "kernelspec": {
   "display_name": "R",
   "language": "R",
   "name": "ir"
  },
  "language_info": {
   "codemirror_mode": "r",
   "file_extension": ".r",
   "mimetype": "text/x-r-source",
   "name": "R",
   "pygments_lexer": "r",
   "version": "3.6.1"
  }
 },
 "nbformat": 4,
 "nbformat_minor": 5
}
