{
 "cells": [
  {
   "cell_type": "markdown",
   "id": "ec8a10d4",
   "metadata": {},
   "source": [
    "### TESTES DE NORMALIDADE \n",
    "\n",
    "Verificar se os dados pertencem a uma distribuição normal ou não. Pode-se realizar os testes de normalidade de **Kolmogorov-Smirnov** para pequenas amostras ou **Shapiro-Wilk** para até 5000 observações."
   ]
  },
  {
   "cell_type": "markdown",
   "id": "1984e08a",
   "metadata": {},
   "source": [
    "#### HIPÓTESES:\n",
    "\n",
    "* Ho: a amostra provém de uma população normalmente distribuída\n",
    "* Ha: a amostra não provém de uma população normalmente distribuída\n",
    "\n",
    "\n",
    "#### CRITÉRIOS PARA TESTE:\n",
    "* Se p-value for maior que nível de significância, existe normalidade da amostra.\n",
    "* **Kolmogorov-Smirnov**: D calculado é maior que o valor D-crítico tabelado. Então não rejeita-se Ho. Caso contrário, rejeita-se a Ho.\n",
    "* **Shapiro-Wilk**: W calculado é maior que o valor W-crítico tabelado. Então não rejeita-se Ho. Caso contrário, rejeita-se a Ho."
   ]
  },
  {
   "cell_type": "code",
   "execution_count": 1,
   "id": "58028553",
   "metadata": {},
   "outputs": [],
   "source": [
    "# DESATIVA NOTAÇÃO CIENTÍFICA\n",
    "options(scipen = 999)"
   ]
  },
  {
   "cell_type": "code",
   "execution_count": 2,
   "id": "6cc175d8",
   "metadata": {},
   "outputs": [],
   "source": [
    "# DESATIVAR MENSAGENS DE WARNINGS (warn = -1) E ATIVAR (warn = 0)\n",
    "options(warn = -1)"
   ]
  },
  {
   "cell_type": "code",
   "execution_count": 3,
   "id": "d09b9222",
   "metadata": {},
   "outputs": [],
   "source": [
    "# CARREGAR PACOTES\n",
    "suppressPackageStartupMessages({\n",
    "library(dplyr)\n",
    "library(RcmdrMisc)\n",
    "})"
   ]
  },
  {
   "cell_type": "markdown",
   "id": "4df83a66",
   "metadata": {},
   "source": [
    "#### CARREGAR DATASET\n",
    "\n",
    "Dataset da distância percorrida das bolas de futebol com revestimento atual e novo durante um teste."
   ]
  },
  {
   "cell_type": "code",
   "execution_count": 70,
   "id": "d6b5ee1d",
   "metadata": {},
   "outputs": [
    {
     "name": "stdout",
     "output_type": "stream",
     "text": [
      "Rows: 129\n",
      "Columns: 3\n",
      "$ X     <int> 1, 2, 3, 4, 5, 6, 7, 8, 9, 10, 11, 12, 13, 14, 15, 16, 17, 18, 1~\n",
      "$ Atual <int> 270, 284, 272, 271, 275, 280, 282, 277, 272, 274, 284, 271, 275,~\n",
      "$ Novo  <int> 269, 270, 285, 278, 271, 288, 289, 265, 275, 272, 276, 289, 274,~\n"
     ]
    }
   ],
   "source": [
    "dados_bola <- read.csv(\"Bola_Futebol.csv\")\n",
    "dados_bola <- as.data.frame(dados_bola)\n",
    "glimpse(dados_bola)"
   ]
  },
  {
   "cell_type": "markdown",
   "id": "7b3d5d2b",
   "metadata": {},
   "source": [
    "#### TESTE DE NORMALIDADE KOLMOGOROV-SMIRNOV"
   ]
  },
  {
   "cell_type": "code",
   "execution_count": 71,
   "id": "df056beb",
   "metadata": {},
   "outputs": [
    {
     "data": {
      "text/plain": [
       "\n",
       "\tLilliefors (Kolmogorov-Smirnov) normality test\n",
       "\n",
       "data:  Atual\n",
       "D = 0.072236, p-value = 0.09544\n"
      ]
     },
     "metadata": {},
     "output_type": "display_data"
    }
   ],
   "source": [
    "normalityTest(~ Atual, test = \"lillie.test\", data = dados_bola)"
   ]
  },
  {
   "cell_type": "markdown",
   "id": "0f56f45e",
   "metadata": {},
   "source": [
    "#### TESTE DE NORMALIDADE SHAPIRO-WILK"
   ]
  },
  {
   "cell_type": "code",
   "execution_count": 72,
   "id": "eb99159b",
   "metadata": {},
   "outputs": [
    {
     "data": {
      "text/plain": [
       "\n",
       "\tShapiro-Wilk normality test\n",
       "\n",
       "data:  Atual\n",
       "W = 0.9872, p-value = 0.2722\n"
      ]
     },
     "metadata": {},
     "output_type": "display_data"
    }
   ],
   "source": [
    "normalityTest(~ Atual, test =\"shapiro.test\", data = dados_bola)\n",
    "# OU shapiro.test(dados$Atual)"
   ]
  },
  {
   "cell_type": "markdown",
   "id": "ac4b3d61",
   "metadata": {},
   "source": [
    "Conforme os testes, percebe-se que a amostra provém de uma população normalmente distribuída. Rejeita-se a hipótese alternativa."
   ]
  }
 ],
 "metadata": {
  "kernelspec": {
   "display_name": "Python 3 (ipykernel)",
   "language": "python",
   "name": "python3"
  },
  "language_info": {
   "codemirror_mode": {
    "name": "ipython",
    "version": 3
   },
   "file_extension": ".py",
   "mimetype": "text/x-python",
   "name": "python",
   "nbconvert_exporter": "python",
   "pygments_lexer": "ipython3",
   "version": "3.9.13"
  }
 },
 "nbformat": 4,
 "nbformat_minor": 5
}
